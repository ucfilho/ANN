{
  "nbformat": 4,
  "nbformat_minor": 0,
  "metadata": {
    "colab": {
      "name": "Travelling_Salesperson_Problems_version_12.ipynb",
      "provenance": [],
      "authorship_tag": "ABX9TyNkD+zEpH/1ENj2PrSYWRqa",
      "include_colab_link": true
    },
    "kernelspec": {
      "name": "python3",
      "display_name": "Python 3"
    },
    "language_info": {
      "name": "python"
    }
  },
  "cells": [
    {
      "cell_type": "markdown",
      "metadata": {
        "id": "view-in-github",
        "colab_type": "text"
      },
      "source": [
        "<a href=\"https://colab.research.google.com/github/ucfilho/ANN/blob/master/Chalange_Omega3/Travelling_Salesperson_Problems_version_12.ipynb\" target=\"_parent\"><img src=\"https://colab.research.google.com/assets/colab-badge.svg\" alt=\"Open In Colab\"/></a>"
      ]
    },
    {
      "cell_type": "markdown",
      "source": [
        "# Descrição do problema\n",
        "\n",
        "Este código faz uma formulação de TSP que identifiqua a rota mais curta para as capitais brasileiras, que vai a todas as cidades uma vez e retorna à cidade de origem.\n",
        "\n",
        "O Problema do Caixeiro Viajante (Traveling Salesperson - TSP) é um dos mais famosos problemas de otimização combinatória. Este problema é fácil de explicar, mas complicado de resolver - mesmo para casos com um pequeno número de cidades.\n",
        "\n",
        "-------------------------------------------------------\n",
        "\n",
        "O TSP pode ser definido da seguinte forma: para uma determinada lista de cidades e as distâncias entre cada par delas, queremos encontrar a rota mais curta possível, que vai a cada cidade uma vez e retorna à cidade de origem.\n",
        "\n",
        "Uma possível formulação para esse problema seria:\n",
        "\n",
        "* Indices: i, j = cidades\n",
        "* Parâmetros: Cij = Custo (distância) para ir da cidade i para a cidade j. \n",
        "* Variáveis: Xij = 1 se a pessoa se dirigir da cidade i para a cidade j;  0 caso contrário.\n",
        "* Função objetivo: Min Somatório em  ij de (Cij*Xij); que minimiza a distância total percorrida.\n",
        "* Restrições: \n",
        "\n",
        "   a) Somatório em j de Xij =1 para todo i (de uma cidade i pode-se ir apenas para uma única cidade j.\n",
        "\n",
        "   b) Somatório em i de Xij =1 para todo j (de uma cidade j pode-se ir apenas para uma única cidade i.\n",
        "\n",
        "* Hípoteses: Os dados usados consideram que, para todas as cidades, a distância para ir da cidade A até a cidade B é a mesma para ir da cidade B até a cidade A.\n",
        "\n",
        "\n",
        "--------------------------------------------------------------------\n",
        "\n",
        "\n",
        "O problem foi resolvido usando o OR-Tools, uma biblioteca de otimização open source desenvolvida pelo Google. Escolheu-se essa ferramenta pois a mesma foi criada para lidar com problemas difíceis de aplicação prática, entre eles o roteamento de veículos, problemas de programação linear e inteira, e programação com restrições. Os modelos podem ser escrito em diversas linguaguens e resolvidos através de vários solvers. Além disso, é possível usar a Google Maps Distance Matrix API, a qual possibilita criar dinamicamente uma matriz de distância para qualquer conjunto de locais definidos por endereços ou por latitudes e longitudes, podendo assim ser usada para solucionar vários problemas reais de roteamento. Essa biblioteca já contém o TSP formulado, então, a formulação sugeriada acima não precisou ser implementada.\n",
        "\n",
        "-------------------------\n",
        "Autor: Raiana Roland Seixas\n",
        "20/07/2022"
      ],
      "metadata": {
        "id": "YBJg13K_lyLi"
      }
    },
    {
      "cell_type": "markdown",
      "source": [
        "# Instalar e importar bibliotecas e carregar dados de entrada"
      ],
      "metadata": {
        "id": "AjTSAuETx6P1"
      }
    },
    {
      "cell_type": "code",
      "source": [
        "!pip install ortools"
      ],
      "metadata": {
        "colab": {
          "base_uri": "https://localhost:8080/"
        },
        "id": "3JegL5V2UjSJ",
        "outputId": "37693400-37a8-40ff-e222-f57ec259fe34"
      },
      "execution_count": 14,
      "outputs": [
        {
          "output_type": "stream",
          "name": "stdout",
          "text": [
            "Looking in indexes: https://pypi.org/simple, https://us-python.pkg.dev/colab-wheels/public/simple/\n",
            "Requirement already satisfied: ortools in /usr/local/lib/python3.7/dist-packages (9.3.10497)\n",
            "Requirement already satisfied: absl-py>=0.13 in /usr/local/lib/python3.7/dist-packages (from ortools) (1.2.0)\n",
            "Requirement already satisfied: protobuf>=3.19.4 in /usr/local/lib/python3.7/dist-packages (from ortools) (4.21.3)\n",
            "Requirement already satisfied: numpy>=1.13.3 in /usr/local/lib/python3.7/dist-packages (from ortools) (1.21.6)\n"
          ]
        }
      ]
    },
    {
      "cell_type": "code",
      "source": [
        "# Importar Bibliotecas\n",
        "import pandas as pd\n",
        "import plotly.express as px # plotar mapa com a rota \n",
        "import io\n",
        "\n",
        "''' Travelling Salesperson Problem (TSP) between cities.'''\n",
        "from ortools.constraint_solver import routing_enums_pb2\n",
        "from ortools.constraint_solver import pywrapcp"
      ],
      "metadata": {
        "id": "9Mg1lkpvXtqX"
      },
      "execution_count": 15,
      "outputs": []
    },
    {
      "cell_type": "code",
      "source": [
        "# Obter dados do Github\n",
        "!git clone https://github.com/RaianaSeixas/Data_Science_Otimization_OR.git\n",
        "%cd Data_Science_Otimization_OR/Data"
      ],
      "metadata": {
        "colab": {
          "base_uri": "https://localhost:8080/"
        },
        "id": "6onagGrHVgD2",
        "outputId": "d99ecb9e-1683-466a-9767-2f48f5566083"
      },
      "execution_count": 16,
      "outputs": [
        {
          "output_type": "stream",
          "name": "stdout",
          "text": [
            "fatal: destination path 'Data_Science_Otimization_OR' already exists and is not an empty directory.\n",
            "/content/Data_Science_Otimization_OR/Data/Data_Science_Otimization_OR/Data\n"
          ]
        }
      ]
    },
    {
      "cell_type": "code",
      "source": [
        "'''\n",
        "Foram disponibilizados 3 datasets para o problema em questão.  \n",
        "Nesta célula pode-se escolher com qual deles se deseja trabalhar.\n",
        "Meus comentários serão baseados nos resultados obtidos com o dataset states_line, porém pode-se rodar o problema com as 3 opções.\n",
        "Escolhi este dataset, pois  em todos conjuntos de dados, as distâncias entre as ciades são simétricas. \n",
        "Assim, este é o conjunto mais completo que considera o mesmo critério para medida de distância. \n",
        "'''\n",
        "#dataset_name ='states_gmaps.csv'  # distância em km entre as capitais brasileiras (informações do Google). Dados ausentes para Amapá e Acre\n",
        "dataset_name ='states_line.csv'  # distância em km de entre todas as capitais assumindo uma linha conectando-as\n",
        "#dataset_name ='states_merged.csv' # dataset artificial no qual os dados ausentes do Google para Amapá e Acre foram substituídos pela distância considerando uma linha "
      ],
      "metadata": {
        "id": "TYvu93vpEAqo"
      },
      "execution_count": 17,
      "outputs": []
    },
    {
      "cell_type": "code",
      "source": [
        "df = pd.DataFrame(pd.read_csv(dataset_name))\n",
        "df.head()"
      ],
      "metadata": {
        "colab": {
          "base_uri": "https://localhost:8080/",
          "height": 334
        },
        "id": "TLYATwiDVtxT",
        "outputId": "8ec1ae49-d7b6-405f-8b54-9729d5e5a020"
      },
      "execution_count": 18,
      "outputs": [
        {
          "output_type": "execute_result",
          "data": {
            "text/plain": [
              "     São Paulo  Rio de Janeiro  Minas Gerais  Rio Grande do Sul   Pernambuco  \\\n",
              "0     0.000000      354.557321    492.561745         852.763702  2126.951268   \n",
              "1   354.557321        0.000000    342.337926        1121.072276  1875.035468   \n",
              "2   492.561745      342.337926      0.000000        1344.567917  1635.086515   \n",
              "3   852.763702     1121.072276   1344.567917           0.000000  2975.531406   \n",
              "4  2126.951268     1875.035468   1635.086515        2975.531406     0.000000   \n",
              "\n",
              "         Ceará        Bahia       Paraná         Pará        Goiás  ...  \\\n",
              "0  2366.805644  1457.532585   342.443520  2467.265855   810.258174  ...   \n",
              "1  2190.647081  1215.465687   677.792623  2455.146750   938.003328  ...   \n",
              "2  1888.834505   965.600360   826.013748  2113.032483   670.440922  ...   \n",
              "3  3212.503748  2306.960107   547.212395  3194.128093  1495.239654  ...   \n",
              "4   629.108539   669.488856  2460.033424  1673.663528  1833.172567  ...   \n",
              "\n",
              "       Paraíba        Piauí  Mato Grosso  Mato Grosso do Sul      Sergipe  \\\n",
              "0  2219.374772  2094.675477  1330.507665          893.525598  1731.087701   \n",
              "1  1973.855227  1983.803733  1577.605256         1208.758382  1486.300610   \n",
              "2  1726.940870  1652.997918  1376.313628         1118.632967  1238.956225   \n",
              "3  3069.619614  2912.951307  1686.118439         1121.554669  2580.662593   \n",
              "4   108.480926   929.975492  2448.546265         2526.112206   396.445424   \n",
              "\n",
              "         Amapá     Rondônia         Acre    Tocantins      Roraima  \n",
              "0  2667.276248  2468.533941  2708.559270  1492.162778  3304.536603  \n",
              "1  2690.286145  2710.242987  2984.087454  1510.388182  3431.919571  \n",
              "2  2351.045347  2482.002571  2790.495163  1174.123563  3120.769148  \n",
              "3  3346.164787  2712.819615  2820.369451  2224.310608  3791.702726  \n",
              "4  2003.187408  3189.355451  3617.166405  1487.819797  3103.051463  \n",
              "\n",
              "[5 rows x 26 columns]"
            ],
            "text/html": [
              "\n",
              "  <div id=\"df-fc1b3f04-18df-4bb0-8b69-4fdc2d407653\">\n",
              "    <div class=\"colab-df-container\">\n",
              "      <div>\n",
              "<style scoped>\n",
              "    .dataframe tbody tr th:only-of-type {\n",
              "        vertical-align: middle;\n",
              "    }\n",
              "\n",
              "    .dataframe tbody tr th {\n",
              "        vertical-align: top;\n",
              "    }\n",
              "\n",
              "    .dataframe thead th {\n",
              "        text-align: right;\n",
              "    }\n",
              "</style>\n",
              "<table border=\"1\" class=\"dataframe\">\n",
              "  <thead>\n",
              "    <tr style=\"text-align: right;\">\n",
              "      <th></th>\n",
              "      <th>São Paulo</th>\n",
              "      <th>Rio de Janeiro</th>\n",
              "      <th>Minas Gerais</th>\n",
              "      <th>Rio Grande do Sul</th>\n",
              "      <th>Pernambuco</th>\n",
              "      <th>Ceará</th>\n",
              "      <th>Bahia</th>\n",
              "      <th>Paraná</th>\n",
              "      <th>Pará</th>\n",
              "      <th>Goiás</th>\n",
              "      <th>...</th>\n",
              "      <th>Paraíba</th>\n",
              "      <th>Piauí</th>\n",
              "      <th>Mato Grosso</th>\n",
              "      <th>Mato Grosso do Sul</th>\n",
              "      <th>Sergipe</th>\n",
              "      <th>Amapá</th>\n",
              "      <th>Rondônia</th>\n",
              "      <th>Acre</th>\n",
              "      <th>Tocantins</th>\n",
              "      <th>Roraima</th>\n",
              "    </tr>\n",
              "  </thead>\n",
              "  <tbody>\n",
              "    <tr>\n",
              "      <th>0</th>\n",
              "      <td>0.000000</td>\n",
              "      <td>354.557321</td>\n",
              "      <td>492.561745</td>\n",
              "      <td>852.763702</td>\n",
              "      <td>2126.951268</td>\n",
              "      <td>2366.805644</td>\n",
              "      <td>1457.532585</td>\n",
              "      <td>342.443520</td>\n",
              "      <td>2467.265855</td>\n",
              "      <td>810.258174</td>\n",
              "      <td>...</td>\n",
              "      <td>2219.374772</td>\n",
              "      <td>2094.675477</td>\n",
              "      <td>1330.507665</td>\n",
              "      <td>893.525598</td>\n",
              "      <td>1731.087701</td>\n",
              "      <td>2667.276248</td>\n",
              "      <td>2468.533941</td>\n",
              "      <td>2708.559270</td>\n",
              "      <td>1492.162778</td>\n",
              "      <td>3304.536603</td>\n",
              "    </tr>\n",
              "    <tr>\n",
              "      <th>1</th>\n",
              "      <td>354.557321</td>\n",
              "      <td>0.000000</td>\n",
              "      <td>342.337926</td>\n",
              "      <td>1121.072276</td>\n",
              "      <td>1875.035468</td>\n",
              "      <td>2190.647081</td>\n",
              "      <td>1215.465687</td>\n",
              "      <td>677.792623</td>\n",
              "      <td>2455.146750</td>\n",
              "      <td>938.003328</td>\n",
              "      <td>...</td>\n",
              "      <td>1973.855227</td>\n",
              "      <td>1983.803733</td>\n",
              "      <td>1577.605256</td>\n",
              "      <td>1208.758382</td>\n",
              "      <td>1486.300610</td>\n",
              "      <td>2690.286145</td>\n",
              "      <td>2710.242987</td>\n",
              "      <td>2984.087454</td>\n",
              "      <td>1510.388182</td>\n",
              "      <td>3431.919571</td>\n",
              "    </tr>\n",
              "    <tr>\n",
              "      <th>2</th>\n",
              "      <td>492.561745</td>\n",
              "      <td>342.337926</td>\n",
              "      <td>0.000000</td>\n",
              "      <td>1344.567917</td>\n",
              "      <td>1635.086515</td>\n",
              "      <td>1888.834505</td>\n",
              "      <td>965.600360</td>\n",
              "      <td>826.013748</td>\n",
              "      <td>2113.032483</td>\n",
              "      <td>670.440922</td>\n",
              "      <td>...</td>\n",
              "      <td>1726.940870</td>\n",
              "      <td>1652.997918</td>\n",
              "      <td>1376.313628</td>\n",
              "      <td>1118.632967</td>\n",
              "      <td>1238.956225</td>\n",
              "      <td>2351.045347</td>\n",
              "      <td>2482.002571</td>\n",
              "      <td>2790.495163</td>\n",
              "      <td>1174.123563</td>\n",
              "      <td>3120.769148</td>\n",
              "    </tr>\n",
              "    <tr>\n",
              "      <th>3</th>\n",
              "      <td>852.763702</td>\n",
              "      <td>1121.072276</td>\n",
              "      <td>1344.567917</td>\n",
              "      <td>0.000000</td>\n",
              "      <td>2975.531406</td>\n",
              "      <td>3212.503748</td>\n",
              "      <td>2306.960107</td>\n",
              "      <td>547.212395</td>\n",
              "      <td>3194.128093</td>\n",
              "      <td>1495.239654</td>\n",
              "      <td>...</td>\n",
              "      <td>3069.619614</td>\n",
              "      <td>2912.951307</td>\n",
              "      <td>1686.118439</td>\n",
              "      <td>1121.554669</td>\n",
              "      <td>2580.662593</td>\n",
              "      <td>3346.164787</td>\n",
              "      <td>2712.819615</td>\n",
              "      <td>2820.369451</td>\n",
              "      <td>2224.310608</td>\n",
              "      <td>3791.702726</td>\n",
              "    </tr>\n",
              "    <tr>\n",
              "      <th>4</th>\n",
              "      <td>2126.951268</td>\n",
              "      <td>1875.035468</td>\n",
              "      <td>1635.086515</td>\n",
              "      <td>2975.531406</td>\n",
              "      <td>0.000000</td>\n",
              "      <td>629.108539</td>\n",
              "      <td>669.488856</td>\n",
              "      <td>2460.033424</td>\n",
              "      <td>1673.663528</td>\n",
              "      <td>1833.172567</td>\n",
              "      <td>...</td>\n",
              "      <td>108.480926</td>\n",
              "      <td>929.975492</td>\n",
              "      <td>2448.546265</td>\n",
              "      <td>2526.112206</td>\n",
              "      <td>396.445424</td>\n",
              "      <td>2003.187408</td>\n",
              "      <td>3189.355451</td>\n",
              "      <td>3617.166405</td>\n",
              "      <td>1487.819797</td>\n",
              "      <td>3103.051463</td>\n",
              "    </tr>\n",
              "  </tbody>\n",
              "</table>\n",
              "<p>5 rows × 26 columns</p>\n",
              "</div>\n",
              "      <button class=\"colab-df-convert\" onclick=\"convertToInteractive('df-fc1b3f04-18df-4bb0-8b69-4fdc2d407653')\"\n",
              "              title=\"Convert this dataframe to an interactive table.\"\n",
              "              style=\"display:none;\">\n",
              "        \n",
              "  <svg xmlns=\"http://www.w3.org/2000/svg\" height=\"24px\"viewBox=\"0 0 24 24\"\n",
              "       width=\"24px\">\n",
              "    <path d=\"M0 0h24v24H0V0z\" fill=\"none\"/>\n",
              "    <path d=\"M18.56 5.44l.94 2.06.94-2.06 2.06-.94-2.06-.94-.94-2.06-.94 2.06-2.06.94zm-11 1L8.5 8.5l.94-2.06 2.06-.94-2.06-.94L8.5 2.5l-.94 2.06-2.06.94zm10 10l.94 2.06.94-2.06 2.06-.94-2.06-.94-.94-2.06-.94 2.06-2.06.94z\"/><path d=\"M17.41 7.96l-1.37-1.37c-.4-.4-.92-.59-1.43-.59-.52 0-1.04.2-1.43.59L10.3 9.45l-7.72 7.72c-.78.78-.78 2.05 0 2.83L4 21.41c.39.39.9.59 1.41.59.51 0 1.02-.2 1.41-.59l7.78-7.78 2.81-2.81c.8-.78.8-2.07 0-2.86zM5.41 20L4 18.59l7.72-7.72 1.47 1.35L5.41 20z\"/>\n",
              "  </svg>\n",
              "      </button>\n",
              "      \n",
              "  <style>\n",
              "    .colab-df-container {\n",
              "      display:flex;\n",
              "      flex-wrap:wrap;\n",
              "      gap: 12px;\n",
              "    }\n",
              "\n",
              "    .colab-df-convert {\n",
              "      background-color: #E8F0FE;\n",
              "      border: none;\n",
              "      border-radius: 50%;\n",
              "      cursor: pointer;\n",
              "      display: none;\n",
              "      fill: #1967D2;\n",
              "      height: 32px;\n",
              "      padding: 0 0 0 0;\n",
              "      width: 32px;\n",
              "    }\n",
              "\n",
              "    .colab-df-convert:hover {\n",
              "      background-color: #E2EBFA;\n",
              "      box-shadow: 0px 1px 2px rgba(60, 64, 67, 0.3), 0px 1px 3px 1px rgba(60, 64, 67, 0.15);\n",
              "      fill: #174EA6;\n",
              "    }\n",
              "\n",
              "    [theme=dark] .colab-df-convert {\n",
              "      background-color: #3B4455;\n",
              "      fill: #D2E3FC;\n",
              "    }\n",
              "\n",
              "    [theme=dark] .colab-df-convert:hover {\n",
              "      background-color: #434B5C;\n",
              "      box-shadow: 0px 1px 3px 1px rgba(0, 0, 0, 0.15);\n",
              "      filter: drop-shadow(0px 1px 2px rgba(0, 0, 0, 0.3));\n",
              "      fill: #FFFFFF;\n",
              "    }\n",
              "  </style>\n",
              "\n",
              "      <script>\n",
              "        const buttonEl =\n",
              "          document.querySelector('#df-fc1b3f04-18df-4bb0-8b69-4fdc2d407653 button.colab-df-convert');\n",
              "        buttonEl.style.display =\n",
              "          google.colab.kernel.accessAllowed ? 'block' : 'none';\n",
              "\n",
              "        async function convertToInteractive(key) {\n",
              "          const element = document.querySelector('#df-fc1b3f04-18df-4bb0-8b69-4fdc2d407653');\n",
              "          const dataTable =\n",
              "            await google.colab.kernel.invokeFunction('convertToInteractive',\n",
              "                                                     [key], {});\n",
              "          if (!dataTable) return;\n",
              "\n",
              "          const docLinkHtml = 'Like what you see? Visit the ' +\n",
              "            '<a target=\"_blank\" href=https://colab.research.google.com/notebooks/data_table.ipynb>data table notebook</a>'\n",
              "            + ' to learn more about interactive tables.';\n",
              "          element.innerHTML = '';\n",
              "          dataTable['output_type'] = 'display_data';\n",
              "          await google.colab.output.renderOutput(dataTable, element);\n",
              "          const docLink = document.createElement('div');\n",
              "          docLink.innerHTML = docLinkHtml;\n",
              "          element.appendChild(docLink);\n",
              "        }\n",
              "      </script>\n",
              "    </div>\n",
              "  </div>\n",
              "  "
            ]
          },
          "metadata": {},
          "execution_count": 18
        }
      ]
    },
    {
      "cell_type": "code",
      "source": [
        "  ''' Automatização de 1 único código, sendo possível escolher o dataset  '''\n",
        "  \n",
        "  # Ajustes foram feitos para  Dataset que considera as distâncias do Google. Esse dataset tem dados ausentes para 2 estados. \n",
        "  \n",
        "  maps_data = pd.DataFrame(pd.read_csv('states_coords.csv'))\n",
        "  if dataset_name =='states_gmaps.csv':\n",
        "    # Remover colunas que contém dados relativos ao Acre e Amapá da dataset states_merged\n",
        "    dataset_name ='states_merged.csv'\n",
        "    df = pd.DataFrame(pd.read_csv(dataset_name))\n",
        "    df.drop(['Amapá', 'Acre'], axis=1, inplace=True)\n",
        "    df.drop([21, 23], axis=0, inplace=True)\n",
        "    nomes = df.columns\n",
        "    maps_data.drop([21, 23], axis=0, inplace=True)\n",
        "    maps_data = maps_data.reset_index(drop=True)\n",
        "   \n",
        "  else:\n",
        "    df = pd.DataFrame(pd.read_csv(dataset_name))\n",
        "    nomes = df.columns\n",
        "\n",
        "  dataset=df"
      ],
      "metadata": {
        "id": "eK1d6Ad61vPn"
      },
      "execution_count": 19,
      "outputs": []
    },
    {
      "cell_type": "markdown",
      "source": [
        "# Modelo"
      ],
      "metadata": {
        "id": "-8u1Ia0Cyc7M"
      }
    },
    {
      "cell_type": "markdown",
      "source": [
        "### Código fonte\n",
        "\n",
        "\n",
        "*   Foi implementada uma adaptação do Problema de Roteamento de Veículos (VRP), cujo o código está descrito em:\n",
        "\n",
        " https://developers.google.com/optimization/routing/vrp\n",
        " \n",
        " No Problema de Roteamento de Veículos (VRP), o objetivo é encontrar rotas ideais para vários veículos que visitam um conjunto de locais. (Quando há apenas um veículo, reduz-se ao Problema do Caixeiro Viajante).\n"
      ],
      "metadata": {
        "id": "ANvc775Hzx-2"
      }
    },
    {
      "cell_type": "code",
      "source": [
        "# As funções abaixo foram copiadas das instuções para usar a biblioteca OR-Tools. Apenas ajustes menores foram realizados.\n",
        "\n",
        "def create_data_model(partida,dataset):\n",
        "  \"\"\"Stores the data for the problem.\"\"\"\n",
        "  df = dataset # conjunto de dados usado\n",
        "  vals = df.values.tolist() # converte os valores do dataframe para lista \n",
        "  data = {} # cria o dicionario que representa a entrada do método\n",
        "  data['distance_matrix'] = vals\n",
        "  data['num_vehicles'] = 1 # número de veículos em uso\n",
        "  data['depot'] = partida # ponto de partida\n",
        "  return data\n",
        "\n",
        "def distance_callback(from_index, to_index):\n",
        "    \"\"\"Returns the distance between the two nodes.\"\"\"\n",
        "    # Convert from routing variable Index to distance matrix NodeIndex.\n",
        "    from_node = manager.IndexToNode(from_index)\n",
        "    to_node = manager.IndexToNode(to_index)\n",
        "    \n",
        "    return data['distance_matrix'][from_node][to_node]\n",
        "\n",
        "def print_solution(manager, routing, solution):\n",
        "    \"\"\"Prints solution on console.\"\"\"\n",
        "    print('Função Objetivo: {} km'.format(solution.ObjectiveValue()))\n",
        "    index = routing.Start(0)\n",
        "    plan_output = 'Rota percorrida:\\n'\n",
        "    route_distance = 0\n",
        "    while not routing.IsEnd(index):\n",
        "        plan_output += ' {} ->'.format(manager.IndexToNode(index))\n",
        "        previous_index = index\n",
        "        index = solution.Value(routing.NextVar(index))\n",
        "        route_distance += routing.GetArcCostForVehicle(previous_index, index, 0)\n",
        "    plan_output += ' {}\\n'.format(manager.IndexToNode(index))\n",
        "    print(plan_output)\n",
        "    plan_output += 'Route distance: {} km\\n'.format(route_distance)\n"
      ],
      "metadata": {
        "id": "6W1U0mxg6Ng-"
      },
      "execution_count": 20,
      "outputs": []
    },
    {
      "cell_type": "code",
      "execution_count": 21,
      "metadata": {
        "colab": {
          "base_uri": "https://localhost:8080/"
        },
        "id": "2T-vVff1UYw1",
        "outputId": "7034a805-8f59-4745-a87c-98547441b6a7"
      },
      "outputs": [
        {
          "output_type": "stream",
          "name": "stdout",
          "text": [
            "Partindo de:  São Paulo    ->    Distância:  13706 km\n",
            "Partindo de:  Rio de Janeiro    ->    Distância:  13862 km\n",
            "Partindo de:  Minas Gerais    ->    Distância:  13862 km\n",
            "Partindo de:  Rio Grande do Sul    ->    Distância:  13862 km\n",
            "Partindo de:  Pernambuco    ->    Distância:  13862 km\n",
            "Partindo de:  Ceará    ->    Distância:  13862 km\n",
            "Partindo de:  Bahia    ->    Distância:  13706 km\n",
            "Partindo de:  Paraná    ->    Distância:  13862 km\n",
            "Partindo de:  Pará    ->    Distância:  13862 km\n",
            "Partindo de:  Goiás    ->    Distância:  13706 km\n",
            "Partindo de:  Amazonas    ->    Distância:  13862 km\n",
            "Partindo de:  Espírito Santo    ->    Distância:  13862 km\n",
            "Partindo de:  Alagoas    ->    Distância:  13862 km\n",
            "Partindo de:  Rio Grande do Norte    ->    Distância:  13862 km\n",
            "Partindo de:  Maranhão    ->    Distância:  13862 km\n",
            "Partindo de:  Santa Catarina    ->    Distância:  13862 km\n",
            "Partindo de:  Paraíba    ->    Distância:  13862 km\n",
            "Partindo de:  Piauí    ->    Distância:  13862 km\n",
            "Partindo de:  Mato Grosso    ->    Distância:  13862 km\n",
            "Partindo de:  Mato Grosso do Sul    ->    Distância:  13862 km\n",
            "Partindo de:  Sergipe    ->    Distância:  13706 km\n",
            "Partindo de:  Amapá    ->    Distância:  13862 km\n",
            "Partindo de:  Rondônia    ->    Distância:  13862 km\n",
            "Partindo de:  Acre    ->    Distância:  13862 km\n",
            "Partindo de:  Tocantins    ->    Distância:  13706 km\n",
            "Partindo de:  Roraima    ->    Distância:  13862 km\n"
          ]
        }
      ],
      "source": [
        "'''Resolução considerando cada 1 das cidades como ponto de origem '''\n",
        "\n",
        "# Notou-se que ao mudar o ponto de partida, os valores de função objetivo podiam mudar, \n",
        "# Assim, como o tempo de execução era pequeno, resolveu-se o problema considerando como início cada uma das cidades. \n",
        "\n",
        "Num = df.shape[1] # número de localidades\n",
        "best_distance = 1e99\n",
        "best_choice = 1e99\n",
        "best_object =[]\n",
        "\n",
        "for i in range(Num):\n",
        "  partida = i\n",
        "\n",
        "  \"\"\"Entry point of the program.\"\"\"\n",
        "  # Instantiate the data problem.\n",
        "  data = create_data_model(partida,dataset)\n",
        "\n",
        "  # Create the routing index manager.\n",
        "  manager = pywrapcp.RoutingIndexManager(len(data['distance_matrix']),\n",
        "                                            data['num_vehicles'], data['depot'])\n",
        "  # len(data['distance_matrix'])= number of locations\n",
        "\n",
        "  # Create Routing Model.\n",
        "  routing = pywrapcp.RoutingModel(manager)\n",
        "\n",
        "  transit_callback_index = routing.RegisterTransitCallback(distance_callback)\n",
        "\n",
        "  # Define cost of each arc.\n",
        "  routing.SetArcCostEvaluatorOfAllVehicles(transit_callback_index)\n",
        "\n",
        "  # Setting first solution heuristic.\n",
        "  search_parameters = pywrapcp.DefaultRoutingSearchParameters()\n",
        "  search_parameters.first_solution_strategy = (\n",
        "  routing_enums_pb2.FirstSolutionStrategy.PATH_CHEAPEST_ARC)\n",
        "\n",
        "  # Solve the problem.\n",
        "  solution = routing.SolveWithParameters(search_parameters)\n",
        "\n",
        "  # Print solution on console.\n",
        "  #if solution:\n",
        "  #  print_solution(manager, routing, solution)\n",
        "  distancia = solution.ObjectiveValue()\n",
        "  print('Partindo de: ',nomes[i],'   ->    Distância: ', distancia,'km')\n",
        "  if(i==0):\n",
        "    best_object.append(manager)\n",
        "    best_object.append(routing)\n",
        "    best_object.append(solution)\n",
        "  if(best_distance >= distancia):\n",
        "    best_distance = distancia\n",
        "    best_choice = i\n",
        "    best_object[0] = manager\n",
        "    best_object[1] = routing\n",
        "    best_object[2] = solution"
      ]
    },
    {
      "cell_type": "markdown",
      "source": [
        "## Resposta otimizada do modelo"
      ],
      "metadata": {
        "id": "pfYZKXJk1Xuo"
      }
    },
    {
      "cell_type": "code",
      "source": [
        "print('Melhor partida =',nomes[best_choice])\n",
        "print('Distância total percorrida =',best_distance,'km')"
      ],
      "metadata": {
        "id": "yxkD5WX9BlSR",
        "colab": {
          "base_uri": "https://localhost:8080/"
        },
        "outputId": "28eaf8b4-0db4-4917-8eb2-3a3b5eb26cc3"
      },
      "execution_count": 22,
      "outputs": [
        {
          "output_type": "stream",
          "name": "stdout",
          "text": [
            "Melhor partida = Tocantins\n",
            "Distância total percorrida = 13706 km\n"
          ]
        }
      ]
    },
    {
      "cell_type": "markdown",
      "source": [
        "Pode-se perceber que, há várias cidades que podem servir como melhor ponto de partida, retornando o mesmo valor de função objetivo."
      ],
      "metadata": {
        "id": "Ijbikt-o00S3"
      }
    },
    {
      "cell_type": "code",
      "source": [
        "''' Impressão da sequência de cidades percorridas '''\n",
        "\n",
        "manager = best_object[0] \n",
        "routing = best_object[1] \n",
        "solution = best_object[2] \n",
        "\n",
        "index = routing.Start(0)\n",
        "plan_output = []\n",
        "\n",
        "while not routing.IsEnd(index):\n",
        "  plan_output.append(manager.IndexToNode(index))\n",
        "  index = solution.Value(routing.NextVar(index))\n",
        "\n",
        "plan_output.append(best_choice)\n",
        "\n",
        "print_solution(manager, routing, solution)"
      ],
      "metadata": {
        "id": "uYWbK7i-eIZg",
        "colab": {
          "base_uri": "https://localhost:8080/"
        },
        "outputId": "ac804687-d18d-485d-b476-b0d6af2c66a5"
      },
      "execution_count": 23,
      "outputs": [
        {
          "output_type": "stream",
          "name": "stdout",
          "text": [
            "Função Objetivo: 13706 km\n",
            "Rota percorrida:\n",
            " 24 -> 9 -> 2 -> 11 -> 1 -> 0 -> 7 -> 15 -> 3 -> 19 -> 18 -> 23 -> 22 -> 10 -> 25 -> 21 -> 8 -> 14 -> 17 -> 5 -> 13 -> 16 -> 4 -> 12 -> 20 -> 6 -> 24\n",
            "\n"
          ]
        }
      ]
    },
    {
      "cell_type": "markdown",
      "source": [
        "## Mapa da solução"
      ],
      "metadata": {
        "id": "tZYrD1gayl-Q"
      }
    },
    {
      "cell_type": "code",
      "source": [
        "solution_map = plan_output"
      ],
      "metadata": {
        "id": "FuUUNjPNV2S0"
      },
      "execution_count": 24,
      "outputs": []
    },
    {
      "cell_type": "code",
      "source": [
        "#maps_data = pd.DataFrame(pd.read_csv('states_coords.csv'))\n",
        "coord = maps_data[['lat','lng']]\n",
        "#coord"
      ],
      "metadata": {
        "id": "LBb5BBfMaidQ"
      },
      "execution_count": 25,
      "outputs": []
    },
    {
      "cell_type": "code",
      "source": [
        "fig = px.scatter_mapbox(coord, lat=\"lat\", lon=\"lng\",\n",
        "                        hover_name=coord.index, zoom=3, height=500)\n",
        "fig.update_layout(mapbox_style=\"open-street-map\")\n",
        "fig.update_layout(margin={\"r\":0,\"t\":0,\"l\":0,\"b\":0})\n",
        "\n",
        "tsp =solution_map\n",
        "\n",
        "fig.add_traces(px.line_mapbox(coord.loc[tsp], lat=\"lat\", lon=\"lng\").data)"
      ],
      "metadata": {
        "id": "lkcmkve6bnME",
        "colab": {
          "base_uri": "https://localhost:8080/",
          "height": 517
        },
        "outputId": "30240113-09b6-4ab7-f589-41b94a34b144"
      },
      "execution_count": 26,
      "outputs": [
        {
          "output_type": "display_data",
          "data": {
            "text/html": [
              "<html>\n",
              "<head><meta charset=\"utf-8\" /></head>\n",
              "<body>\n",
              "    <div>            <script src=\"https://cdnjs.cloudflare.com/ajax/libs/mathjax/2.7.5/MathJax.js?config=TeX-AMS-MML_SVG\"></script><script type=\"text/javascript\">if (window.MathJax) {MathJax.Hub.Config({SVG: {font: \"STIX-Web\"}});}</script>                <script type=\"text/javascript\">window.PlotlyConfig = {MathJaxConfig: 'local'};</script>\n",
              "        <script src=\"https://cdn.plot.ly/plotly-2.8.3.min.js\"></script>                <div id=\"169fa69b-9410-4e11-9892-db5ff6744002\" class=\"plotly-graph-div\" style=\"height:500px; width:100%;\"></div>            <script type=\"text/javascript\">                                    window.PLOTLYENV=window.PLOTLYENV || {};                                    if (document.getElementById(\"169fa69b-9410-4e11-9892-db5ff6744002\")) {                    Plotly.newPlot(                        \"169fa69b-9410-4e11-9892-db5ff6744002\",                        [{\"hovertemplate\":\"<b>%{hovertext}</b><br><br>lat=%{lat}<br>lng=%{lon}<extra></extra>\",\"hovertext\":[0.0,1.0,2.0,3.0,4.0,5.0,6.0,7.0,8.0,9.0,10.0,11.0,12.0,13.0,14.0,15.0,16.0,17.0,18.0,19.0,20.0,21.0,22.0,23.0,24.0,25.0],\"lat\":[-23.5587,-22.925,-19.915,-30.05,-8.0756,-3.75,-12.97,-25.42,-1.45,-16.72,-3.1,-20.324,-9.62,-5.78,-2.516,-27.58,-7.1011,-5.095,-15.5696,-20.45,-10.9,0.033,-8.75,-9.9666,-10.2377,2.8161],\"legendgroup\":\"\",\"lon\":[-46.625,-43.225,-43.915,-51.2,-34.9156,-38.58,-38.48,-49.32,-48.48,-49.3,-60.0,-40.366,-35.73,-35.24,-44.266,-48.52,-34.8761,-42.78,-56.085,-54.6166,-37.12,-51.05,-63.9,-67.8,-48.2878,-60.666],\"marker\":{\"color\":\"#636efa\"},\"mode\":\"markers\",\"name\":\"\",\"showlegend\":false,\"subplot\":\"mapbox\",\"type\":\"scattermapbox\"},{\"hovertemplate\":\"lat=%{lat}<br>lng=%{lon}<extra></extra>\",\"lat\":[-10.2377,-16.72,-19.915,-20.324,-22.925,-23.5587,-25.42,-27.58,-30.05,-20.45,-15.5696,-9.9666,-8.75,-3.1,2.8161,0.033,-1.45,-2.516,-5.095,-3.75,-5.78,-7.1011,-8.0756,-9.62,-10.9,-12.97,-10.2377],\"legendgroup\":\"\",\"line\":{\"color\":\"#636efa\"},\"lon\":[-48.2878,-49.3,-43.915,-40.366,-43.225,-46.625,-49.32,-48.52,-51.2,-54.6166,-56.085,-67.8,-63.9,-60.0,-60.666,-51.05,-48.48,-44.266,-42.78,-38.58,-35.24,-34.8761,-34.9156,-35.73,-37.12,-38.48,-48.2878],\"mode\":\"lines\",\"name\":\"\",\"showlegend\":false,\"subplot\":\"mapbox\",\"type\":\"scattermapbox\"}],                        {\"template\":{\"data\":{\"bar\":[{\"error_x\":{\"color\":\"#2a3f5f\"},\"error_y\":{\"color\":\"#2a3f5f\"},\"marker\":{\"line\":{\"color\":\"#E5ECF6\",\"width\":0.5},\"pattern\":{\"fillmode\":\"overlay\",\"size\":10,\"solidity\":0.2}},\"type\":\"bar\"}],\"barpolar\":[{\"marker\":{\"line\":{\"color\":\"#E5ECF6\",\"width\":0.5},\"pattern\":{\"fillmode\":\"overlay\",\"size\":10,\"solidity\":0.2}},\"type\":\"barpolar\"}],\"carpet\":[{\"aaxis\":{\"endlinecolor\":\"#2a3f5f\",\"gridcolor\":\"white\",\"linecolor\":\"white\",\"minorgridcolor\":\"white\",\"startlinecolor\":\"#2a3f5f\"},\"baxis\":{\"endlinecolor\":\"#2a3f5f\",\"gridcolor\":\"white\",\"linecolor\":\"white\",\"minorgridcolor\":\"white\",\"startlinecolor\":\"#2a3f5f\"},\"type\":\"carpet\"}],\"choropleth\":[{\"colorbar\":{\"outlinewidth\":0,\"ticks\":\"\"},\"type\":\"choropleth\"}],\"contour\":[{\"colorbar\":{\"outlinewidth\":0,\"ticks\":\"\"},\"colorscale\":[[0.0,\"#0d0887\"],[0.1111111111111111,\"#46039f\"],[0.2222222222222222,\"#7201a8\"],[0.3333333333333333,\"#9c179e\"],[0.4444444444444444,\"#bd3786\"],[0.5555555555555556,\"#d8576b\"],[0.6666666666666666,\"#ed7953\"],[0.7777777777777778,\"#fb9f3a\"],[0.8888888888888888,\"#fdca26\"],[1.0,\"#f0f921\"]],\"type\":\"contour\"}],\"contourcarpet\":[{\"colorbar\":{\"outlinewidth\":0,\"ticks\":\"\"},\"type\":\"contourcarpet\"}],\"heatmap\":[{\"colorbar\":{\"outlinewidth\":0,\"ticks\":\"\"},\"colorscale\":[[0.0,\"#0d0887\"],[0.1111111111111111,\"#46039f\"],[0.2222222222222222,\"#7201a8\"],[0.3333333333333333,\"#9c179e\"],[0.4444444444444444,\"#bd3786\"],[0.5555555555555556,\"#d8576b\"],[0.6666666666666666,\"#ed7953\"],[0.7777777777777778,\"#fb9f3a\"],[0.8888888888888888,\"#fdca26\"],[1.0,\"#f0f921\"]],\"type\":\"heatmap\"}],\"heatmapgl\":[{\"colorbar\":{\"outlinewidth\":0,\"ticks\":\"\"},\"colorscale\":[[0.0,\"#0d0887\"],[0.1111111111111111,\"#46039f\"],[0.2222222222222222,\"#7201a8\"],[0.3333333333333333,\"#9c179e\"],[0.4444444444444444,\"#bd3786\"],[0.5555555555555556,\"#d8576b\"],[0.6666666666666666,\"#ed7953\"],[0.7777777777777778,\"#fb9f3a\"],[0.8888888888888888,\"#fdca26\"],[1.0,\"#f0f921\"]],\"type\":\"heatmapgl\"}],\"histogram\":[{\"marker\":{\"pattern\":{\"fillmode\":\"overlay\",\"size\":10,\"solidity\":0.2}},\"type\":\"histogram\"}],\"histogram2d\":[{\"colorbar\":{\"outlinewidth\":0,\"ticks\":\"\"},\"colorscale\":[[0.0,\"#0d0887\"],[0.1111111111111111,\"#46039f\"],[0.2222222222222222,\"#7201a8\"],[0.3333333333333333,\"#9c179e\"],[0.4444444444444444,\"#bd3786\"],[0.5555555555555556,\"#d8576b\"],[0.6666666666666666,\"#ed7953\"],[0.7777777777777778,\"#fb9f3a\"],[0.8888888888888888,\"#fdca26\"],[1.0,\"#f0f921\"]],\"type\":\"histogram2d\"}],\"histogram2dcontour\":[{\"colorbar\":{\"outlinewidth\":0,\"ticks\":\"\"},\"colorscale\":[[0.0,\"#0d0887\"],[0.1111111111111111,\"#46039f\"],[0.2222222222222222,\"#7201a8\"],[0.3333333333333333,\"#9c179e\"],[0.4444444444444444,\"#bd3786\"],[0.5555555555555556,\"#d8576b\"],[0.6666666666666666,\"#ed7953\"],[0.7777777777777778,\"#fb9f3a\"],[0.8888888888888888,\"#fdca26\"],[1.0,\"#f0f921\"]],\"type\":\"histogram2dcontour\"}],\"mesh3d\":[{\"colorbar\":{\"outlinewidth\":0,\"ticks\":\"\"},\"type\":\"mesh3d\"}],\"parcoords\":[{\"line\":{\"colorbar\":{\"outlinewidth\":0,\"ticks\":\"\"}},\"type\":\"parcoords\"}],\"pie\":[{\"automargin\":true,\"type\":\"pie\"}],\"scatter\":[{\"marker\":{\"colorbar\":{\"outlinewidth\":0,\"ticks\":\"\"}},\"type\":\"scatter\"}],\"scatter3d\":[{\"line\":{\"colorbar\":{\"outlinewidth\":0,\"ticks\":\"\"}},\"marker\":{\"colorbar\":{\"outlinewidth\":0,\"ticks\":\"\"}},\"type\":\"scatter3d\"}],\"scattercarpet\":[{\"marker\":{\"colorbar\":{\"outlinewidth\":0,\"ticks\":\"\"}},\"type\":\"scattercarpet\"}],\"scattergeo\":[{\"marker\":{\"colorbar\":{\"outlinewidth\":0,\"ticks\":\"\"}},\"type\":\"scattergeo\"}],\"scattergl\":[{\"marker\":{\"colorbar\":{\"outlinewidth\":0,\"ticks\":\"\"}},\"type\":\"scattergl\"}],\"scattermapbox\":[{\"marker\":{\"colorbar\":{\"outlinewidth\":0,\"ticks\":\"\"}},\"type\":\"scattermapbox\"}],\"scatterpolar\":[{\"marker\":{\"colorbar\":{\"outlinewidth\":0,\"ticks\":\"\"}},\"type\":\"scatterpolar\"}],\"scatterpolargl\":[{\"marker\":{\"colorbar\":{\"outlinewidth\":0,\"ticks\":\"\"}},\"type\":\"scatterpolargl\"}],\"scatterternary\":[{\"marker\":{\"colorbar\":{\"outlinewidth\":0,\"ticks\":\"\"}},\"type\":\"scatterternary\"}],\"surface\":[{\"colorbar\":{\"outlinewidth\":0,\"ticks\":\"\"},\"colorscale\":[[0.0,\"#0d0887\"],[0.1111111111111111,\"#46039f\"],[0.2222222222222222,\"#7201a8\"],[0.3333333333333333,\"#9c179e\"],[0.4444444444444444,\"#bd3786\"],[0.5555555555555556,\"#d8576b\"],[0.6666666666666666,\"#ed7953\"],[0.7777777777777778,\"#fb9f3a\"],[0.8888888888888888,\"#fdca26\"],[1.0,\"#f0f921\"]],\"type\":\"surface\"}],\"table\":[{\"cells\":{\"fill\":{\"color\":\"#EBF0F8\"},\"line\":{\"color\":\"white\"}},\"header\":{\"fill\":{\"color\":\"#C8D4E3\"},\"line\":{\"color\":\"white\"}},\"type\":\"table\"}]},\"layout\":{\"annotationdefaults\":{\"arrowcolor\":\"#2a3f5f\",\"arrowhead\":0,\"arrowwidth\":1},\"autotypenumbers\":\"strict\",\"coloraxis\":{\"colorbar\":{\"outlinewidth\":0,\"ticks\":\"\"}},\"colorscale\":{\"diverging\":[[0,\"#8e0152\"],[0.1,\"#c51b7d\"],[0.2,\"#de77ae\"],[0.3,\"#f1b6da\"],[0.4,\"#fde0ef\"],[0.5,\"#f7f7f7\"],[0.6,\"#e6f5d0\"],[0.7,\"#b8e186\"],[0.8,\"#7fbc41\"],[0.9,\"#4d9221\"],[1,\"#276419\"]],\"sequential\":[[0.0,\"#0d0887\"],[0.1111111111111111,\"#46039f\"],[0.2222222222222222,\"#7201a8\"],[0.3333333333333333,\"#9c179e\"],[0.4444444444444444,\"#bd3786\"],[0.5555555555555556,\"#d8576b\"],[0.6666666666666666,\"#ed7953\"],[0.7777777777777778,\"#fb9f3a\"],[0.8888888888888888,\"#fdca26\"],[1.0,\"#f0f921\"]],\"sequentialminus\":[[0.0,\"#0d0887\"],[0.1111111111111111,\"#46039f\"],[0.2222222222222222,\"#7201a8\"],[0.3333333333333333,\"#9c179e\"],[0.4444444444444444,\"#bd3786\"],[0.5555555555555556,\"#d8576b\"],[0.6666666666666666,\"#ed7953\"],[0.7777777777777778,\"#fb9f3a\"],[0.8888888888888888,\"#fdca26\"],[1.0,\"#f0f921\"]]},\"colorway\":[\"#636efa\",\"#EF553B\",\"#00cc96\",\"#ab63fa\",\"#FFA15A\",\"#19d3f3\",\"#FF6692\",\"#B6E880\",\"#FF97FF\",\"#FECB52\"],\"font\":{\"color\":\"#2a3f5f\"},\"geo\":{\"bgcolor\":\"white\",\"lakecolor\":\"white\",\"landcolor\":\"#E5ECF6\",\"showlakes\":true,\"showland\":true,\"subunitcolor\":\"white\"},\"hoverlabel\":{\"align\":\"left\"},\"hovermode\":\"closest\",\"mapbox\":{\"style\":\"light\"},\"paper_bgcolor\":\"white\",\"plot_bgcolor\":\"#E5ECF6\",\"polar\":{\"angularaxis\":{\"gridcolor\":\"white\",\"linecolor\":\"white\",\"ticks\":\"\"},\"bgcolor\":\"#E5ECF6\",\"radialaxis\":{\"gridcolor\":\"white\",\"linecolor\":\"white\",\"ticks\":\"\"}},\"scene\":{\"xaxis\":{\"backgroundcolor\":\"#E5ECF6\",\"gridcolor\":\"white\",\"gridwidth\":2,\"linecolor\":\"white\",\"showbackground\":true,\"ticks\":\"\",\"zerolinecolor\":\"white\"},\"yaxis\":{\"backgroundcolor\":\"#E5ECF6\",\"gridcolor\":\"white\",\"gridwidth\":2,\"linecolor\":\"white\",\"showbackground\":true,\"ticks\":\"\",\"zerolinecolor\":\"white\"},\"zaxis\":{\"backgroundcolor\":\"#E5ECF6\",\"gridcolor\":\"white\",\"gridwidth\":2,\"linecolor\":\"white\",\"showbackground\":true,\"ticks\":\"\",\"zerolinecolor\":\"white\"}},\"shapedefaults\":{\"line\":{\"color\":\"#2a3f5f\"}},\"ternary\":{\"aaxis\":{\"gridcolor\":\"white\",\"linecolor\":\"white\",\"ticks\":\"\"},\"baxis\":{\"gridcolor\":\"white\",\"linecolor\":\"white\",\"ticks\":\"\"},\"bgcolor\":\"#E5ECF6\",\"caxis\":{\"gridcolor\":\"white\",\"linecolor\":\"white\",\"ticks\":\"\"}},\"title\":{\"x\":0.05},\"xaxis\":{\"automargin\":true,\"gridcolor\":\"white\",\"linecolor\":\"white\",\"ticks\":\"\",\"title\":{\"standoff\":15},\"zerolinecolor\":\"white\",\"zerolinewidth\":2},\"yaxis\":{\"automargin\":true,\"gridcolor\":\"white\",\"linecolor\":\"white\",\"ticks\":\"\",\"title\":{\"standoff\":15},\"zerolinecolor\":\"white\",\"zerolinewidth\":2}}},\"mapbox\":{\"domain\":{\"x\":[0.0,1.0],\"y\":[0.0,1.0]},\"center\":{\"lat\":-12.268276923076922,\"lon\":-47.12861923076923},\"zoom\":3,\"style\":\"open-street-map\"},\"legend\":{\"tracegroupgap\":0},\"margin\":{\"t\":0,\"r\":0,\"l\":0,\"b\":0},\"height\":500},                        {\"responsive\": true}                    ).then(function(){\n",
              "                            \n",
              "var gd = document.getElementById('169fa69b-9410-4e11-9892-db5ff6744002');\n",
              "var x = new MutationObserver(function (mutations, observer) {{\n",
              "        var display = window.getComputedStyle(gd).display;\n",
              "        if (!display || display === 'none') {{\n",
              "            console.log([gd, 'removed!']);\n",
              "            Plotly.purge(gd);\n",
              "            observer.disconnect();\n",
              "        }}\n",
              "}});\n",
              "\n",
              "// Listen for the removal of the full notebook cells\n",
              "var notebookContainer = gd.closest('#notebook-container');\n",
              "if (notebookContainer) {{\n",
              "    x.observe(notebookContainer, {childList: true});\n",
              "}}\n",
              "\n",
              "// Listen for the clearing of the current output cell\n",
              "var outputEl = gd.closest('.output');\n",
              "if (outputEl) {{\n",
              "    x.observe(outputEl, {childList: true});\n",
              "}}\n",
              "\n",
              "                        })                };                            </script>        </div>\n",
              "</body>\n",
              "</html>"
            ]
          },
          "metadata": {}
        }
      ]
    },
    {
      "cell_type": "markdown",
      "source": [
        "# Sugestão trabalhos futuros\n",
        "\n",
        "* O solver foi definido de modo automático, esse é o parâmetro padrão do método, o qual escolhe o solve de acordo com as características do problema. Seria interessante testar os diferentes solvers disponíveis. Há outros parâmetros que poderiam ter sido explorados, como por exemplo, em termos da definição do nó inicial (usei força bruta resolvendo o problema considerando cada um dos nós, o que não seria viável em um problema maior). Mais informações sobre definição de parâmetros em : https://developers.google.com/optimization/routing/routing_options\n",
        "\n",
        "* Seria interessante tentar resolver esse problema usando os dados reais atualizados de distância através da Google Maps Distance Matrix API. Mais informações em: https://developers.google.com/optimization/routing/google_direction\n",
        "\n",
        "* Também seria interessante resolver problemas de roteamento de veículos para estas cidades, considerando vários veículos, restrições de capacidade, de coleta e entrega, e de janelas temporais. Essa biblioteca tem módulos para incluir esses tipos de restrições.\n",
        "\n"
      ],
      "metadata": {
        "id": "67Gd739lNKAa"
      }
    }
  ]
}