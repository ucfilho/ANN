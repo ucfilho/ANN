{
  "nbformat": 4,
  "nbformat_minor": 0,
  "metadata": {
    "colab": {
      "provenance": [],
      "authorship_tag": "ABX9TyO9YnCPKFB6WBCeSrlMz8aB",
      "include_colab_link": true
    },
    "kernelspec": {
      "name": "python3",
      "display_name": "Python 3"
    },
    "language_info": {
      "name": "python"
    },
    "accelerator": "GPU"
  },
  "cells": [
    {
      "cell_type": "markdown",
      "metadata": {
        "id": "view-in-github",
        "colab_type": "text"
      },
      "source": [
        "<a href=\"https://colab.research.google.com/github/ucfilho/ANN/blob/master/ANN_2022/RNN/LSTM_aviation_Recorrent_Neural_Network_different_optimizers_keras.ipynb\" target=\"_parent\"><img src=\"https://colab.research.google.com/assets/colab-badge.svg\" alt=\"Open In Colab\"/></a>"
      ]
    },
    {
      "cell_type": "code",
      "metadata": {
        "id": "K_jJAZ_6N936"
      },
      "source": [
        "import numpy as np\n",
        "import pandas as pd\n",
        "import matplotlib.pyplot as plt"
      ],
      "execution_count": null,
      "outputs": []
    },
    {
      "cell_type": "code",
      "metadata": {
        "id": "EzQewWOyVj3Y"
      },
      "source": [
        "from keras.layers import Input, SimpleRNN, Dense, Flatten, LSTM\n",
        "from keras.models import Sequential\n",
        "from keras.optimizers import SGD, Adam, RMSprop\n",
        "from sklearn import preprocessing"
      ],
      "execution_count": null,
      "outputs": []
    },
    {
      "cell_type": "code",
      "metadata": {
        "id": "64w5FYLaObl1",
        "colab": {
          "base_uri": "https://localhost:8080/"
        },
        "outputId": "6688b1d0-51ce-44c3-8fb0-4a1b5585f1ea"
      },
      "source": [
        "!git clone https://github.com/ucfilho/Machine_Learning_DataSet\n",
        "%cd Machine_Learning_DataSet"
      ],
      "execution_count": null,
      "outputs": [
        {
          "output_type": "stream",
          "text": [
            "fatal: destination path 'Machine_Learning_DataSet' already exists and is not an empty directory.\n",
            "/content/Machine_Learning_DataSet\n"
          ],
          "name": "stdout"
        }
      ]
    },
    {
      "cell_type": "code",
      "metadata": {
        "id": "GJzTMuujNlQ0"
      },
      "source": [
        "df=pd.read_csv(\"airline-passengers.csv\")"
      ],
      "execution_count": null,
      "outputs": []
    },
    {
      "cell_type": "code",
      "metadata": {
        "id": "Td-D5xE3Nv0D"
      },
      "source": [
        "series = np.array(df['Passengers'])"
      ],
      "execution_count": null,
      "outputs": []
    },
    {
      "cell_type": "code",
      "metadata": {
        "colab": {
          "base_uri": "https://localhost:8080/",
          "height": 282
        },
        "id": "ZB2PKKK4OvMp",
        "outputId": "358e3ab1-dd6a-45b0-c2c6-ec938d11119b"
      },
      "source": [
        "plt.plot(series)"
      ],
      "execution_count": null,
      "outputs": [
        {
          "output_type": "execute_result",
          "data": {
            "text/plain": [
              "[<matplotlib.lines.Line2D at 0x7f2d290c0a90>]"
            ]
          },
          "metadata": {
            "tags": []
          },
          "execution_count": 6
        },
        {
          "output_type": "display_data",
          "data": {
            "image/png": "[encoded data removed]",
            "text/plain": [
              "<Figure size 432x288 with 1 Axes>"
            ]
          },
          "metadata": {
            "tags": [],
            "needs_background": "light"
          }
        }
      ]
    },
    {
      "cell_type": "code",
      "metadata": {
        "id": "fsanZVedQqjj"
      },
      "source": [
        "series = series.reshape(-1, 1)\n",
        "scaler_X = preprocessing.MinMaxScaler((-1,1)).fit(series)\n",
        "series =  scaler_X.transform(series)"
      ],
      "execution_count": null,
      "outputs": []
    },
    {
      "cell_type": "code",
      "metadata": {
        "colab": {
          "base_uri": "https://localhost:8080/"
        },
        "id": "0ZhEvmnDQAPn",
        "outputId": "9aaef3ba-58b9-46ed-ff92-b24c4cdad30b"
      },
      "source": [
        "P = 8 # period\n",
        "D = 1\n",
        "X = []\n",
        "Y = []\n",
        "num,col = df.shape\n",
        "\n",
        "for t in range(num-P):\n",
        "  t_next = t+ P\n",
        "  xx = series[t:t_next]\n",
        "  X.append(xx)\n",
        "  yy = series[t_next]\n",
        "  Y.append(yy)\n",
        "\n",
        "X = np.array(X).reshape(-1,P,1) # data NxDxP\n",
        "Y = np.array(Y)\n",
        "print('input shape',X.shape,'output shape',Y.shape )"
      ],
      "execution_count": null,
      "outputs": [
        {
          "output_type": "stream",
          "text": [
            "input shape (136, 8, 1) output shape (136, 1)\n"
          ],
          "name": "stdout"
        }
      ]
    },
    {
      "cell_type": "code",
      "metadata": {
        "id": "92S4mjUNWnlR"
      },
      "source": [
        "N, cols, other = X.shape\n",
        "N1 = int(0.8*N)\n",
        "X_train = X[:N1]\n",
        "Y_train = Y[:N1]\n",
        "X_test = X[N1:]\n",
        "Y_test = Y[N1:]"
      ],
      "execution_count": null,
      "outputs": []
    },
    {
      "cell_type": "code",
      "metadata": {
        "colab": {
          "base_uri": "https://localhost:8080/"
        },
        "id": "GdQFgpMET0O6",
        "outputId": "083d7ae8-4539-4159-8ef7-4593e96fe581"
      },
      "source": [
        "X_test.shape"
      ],
      "execution_count": null,
      "outputs": [
        {
          "output_type": "execute_result",
          "data": {
            "text/plain": [
              "(28, 8, 1)"
            ]
          },
          "metadata": {
            "tags": []
          },
          "execution_count": 10
        }
      ]
    },
    {
      "cell_type": "code",
      "metadata": {
        "colab": {
          "base_uri": "https://localhost:8080/"
        },
        "id": "aCVh4_ozTvga",
        "outputId": "7ff7b610-c978-490b-e8cc-be0cec4550ad"
      },
      "source": [
        "model = Sequential()\n",
        "# Add an Embedding layer expecting input vocab of size 1000, and\n",
        "# output embedding dimension of size 64.\n",
        "model.add(Input(shape=(P,1)))\n",
        "\n",
        "# Add a simpleRNN layer with 5 internal units.\n",
        "model.add(LSTM(30,'tanh'))\n",
        "# Add a Dense layer with 1 units.\n",
        "model.add(Dense(1))\n",
        "# \n",
        "model.summary()"
      ],
      "execution_count": null,
      "outputs": [
        {
          "output_type": "stream",
          "text": [
            "WARNING:tensorflow:Please add `keras.layers.InputLayer` instead of `keras.Input` to Sequential model. `keras.Input` is intended to be used by Functional model.\n",
            "Model: \"sequential\"\n",
            "_________________________________________________________________\n",
            "Layer (type)                 Output Shape              Param #   \n",
            "=================================================================\n",
            "lstm (LSTM)                  (None, 30)                3840      \n",
            "_________________________________________________________________\n",
            "dense (Dense)                (None, 1)                 31        \n",
            "=================================================================\n",
            "Total params: 3,871\n",
            "Trainable params: 3,871\n",
            "Non-trainable params: 0\n",
            "_________________________________________________________________\n"
          ],
          "name": "stdout"
        }
      ]
    },
    {
      "cell_type": "code",
      "metadata": {
        "id": "1FJ_6l9kEu8b"
      },
      "source": [],
      "execution_count": null,
      "outputs": []
    },
    {
      "cell_type": "code",
      "metadata": {
        "id": "VXMKsjrbXJCe"
      },
      "source": [
        "# model.compile(loss='mse',optimizer=Adam(lr=0.1))\n",
        "# model.compile(loss='mse',optimizer=SGD(0.05,0.9))\n",
        "model.compile(loss='mse',optimizer=RMSprop(0.05,0.9))\n"
      ],
      "execution_count": null,
      "outputs": []
    },
    {
      "cell_type": "code",
      "metadata": {
        "colab": {
          "base_uri": "https://localhost:8080/"
        },
        "id": "8fmK2AJFWixM",
        "outputId": "6853dbc6-627b-403a-c343-9de56a0f6aad"
      },
      "source": [
        "r = model.fit(X_train,Y_train,\n",
        "              epochs=50, \n",
        "              validation_data = ( X_test ,Y_test ) )"
      ],
      "execution_count": null,
      "outputs": [
        {
          "output_type": "stream",
          "text": [
            "Epoch 1/50\n",
            "4/4 [==============================] - 20s 284ms/step - loss: 7.1554 - val_loss: 0.2881\n",
            "Epoch 2/50\n",
            "4/4 [==============================] - 0s 11ms/step - loss: 0.0702 - val_loss: 0.1169\n",
            "Epoch 3/50\n",
            "4/4 [==============================] - 0s 12ms/step - loss: 0.0674 - val_loss: 0.1312\n",
            "Epoch 4/50\n",
            "4/4 [==============================] - 0s 12ms/step - loss: 0.0313 - val_loss: 0.0825\n",
            "Epoch 5/50\n",
            "4/4 [==============================] - 0s 13ms/step - loss: 0.0238 - val_loss: 0.0687\n",
            "Epoch 6/50\n",
            "4/4 [==============================] - 0s 12ms/step - loss: 0.0229 - val_loss: 0.0645\n",
            "Epoch 7/50\n",
            "4/4 [==============================] - 0s 13ms/step - loss: 0.0269 - val_loss: 0.0558\n",
            "Epoch 8/50\n",
            "4/4 [==============================] - 0s 12ms/step - loss: 0.0554 - val_loss: 0.0574\n",
            "Epoch 9/50\n",
            "4/4 [==============================] - 0s 14ms/step - loss: 0.0182 - val_loss: 0.0492\n",
            "Epoch 10/50\n",
            "4/4 [==============================] - 0s 14ms/step - loss: 0.0454 - val_loss: 0.0547\n",
            "Epoch 11/50\n",
            "4/4 [==============================] - 0s 11ms/step - loss: 0.0344 - val_loss: 0.0543\n",
            "Epoch 12/50\n",
            "4/4 [==============================] - 0s 13ms/step - loss: 0.0414 - val_loss: 0.0451\n",
            "Epoch 13/50\n",
            "4/4 [==============================] - 0s 13ms/step - loss: 0.0158 - val_loss: 0.0494\n",
            "Epoch 14/50\n",
            "4/4 [==============================] - 0s 13ms/step - loss: 0.0284 - val_loss: 0.0347\n",
            "Epoch 15/50\n",
            "4/4 [==============================] - 0s 13ms/step - loss: 0.0451 - val_loss: 0.0449\n",
            "Epoch 16/50\n",
            "4/4 [==============================] - 0s 12ms/step - loss: 0.0145 - val_loss: 0.0338\n",
            "Epoch 17/50\n",
            "4/4 [==============================] - 0s 11ms/step - loss: 0.0128 - val_loss: 0.0387\n",
            "Epoch 18/50\n",
            "4/4 [==============================] - 0s 12ms/step - loss: 0.0434 - val_loss: 0.0288\n",
            "Epoch 19/50\n",
            "4/4 [==============================] - 0s 13ms/step - loss: 0.0142 - val_loss: 0.0496\n",
            "Epoch 20/50\n",
            "4/4 [==============================] - 0s 14ms/step - loss: 0.0255 - val_loss: 0.0602\n",
            "Epoch 21/50\n",
            "4/4 [==============================] - 0s 13ms/step - loss: 0.0307 - val_loss: 0.0458\n",
            "Epoch 22/50\n",
            "4/4 [==============================] - 0s 12ms/step - loss: 0.0271 - val_loss: 0.0461\n",
            "Epoch 23/50\n",
            "4/4 [==============================] - 0s 11ms/step - loss: 0.0204 - val_loss: 0.0417\n",
            "Epoch 24/50\n",
            "4/4 [==============================] - 0s 12ms/step - loss: 0.0087 - val_loss: 0.1112\n",
            "Epoch 25/50\n",
            "4/4 [==============================] - 0s 12ms/step - loss: 0.0492 - val_loss: 0.0667\n",
            "Epoch 26/50\n",
            "4/4 [==============================] - 0s 14ms/step - loss: 0.0287 - val_loss: 0.0442\n",
            "Epoch 27/50\n",
            "4/4 [==============================] - 0s 13ms/step - loss: 0.0112 - val_loss: 0.0642\n",
            "Epoch 28/50\n",
            "4/4 [==============================] - 0s 13ms/step - loss: 0.0124 - val_loss: 0.0330\n",
            "Epoch 29/50\n",
            "4/4 [==============================] - 0s 13ms/step - loss: 0.0130 - val_loss: 0.0255\n",
            "Epoch 30/50\n",
            "4/4 [==============================] - 0s 15ms/step - loss: 0.0233 - val_loss: 0.0589\n",
            "Epoch 31/50\n",
            "4/4 [==============================] - 0s 11ms/step - loss: 0.0192 - val_loss: 0.0437\n",
            "Epoch 32/50\n",
            "4/4 [==============================] - 0s 12ms/step - loss: 0.0223 - val_loss: 0.0391\n",
            "Epoch 33/50\n",
            "4/4 [==============================] - 0s 14ms/step - loss: 0.0116 - val_loss: 0.0332\n",
            "Epoch 34/50\n",
            "4/4 [==============================] - 0s 14ms/step - loss: 0.0195 - val_loss: 0.0313\n",
            "Epoch 35/50\n",
            "4/4 [==============================] - 0s 14ms/step - loss: 0.0097 - val_loss: 0.0444\n",
            "Epoch 36/50\n",
            "4/4 [==============================] - 0s 13ms/step - loss: 0.0210 - val_loss: 0.0442\n",
            "Epoch 37/50\n",
            "4/4 [==============================] - 0s 12ms/step - loss: 0.0204 - val_loss: 0.0430\n",
            "Epoch 38/50\n",
            "4/4 [==============================] - 0s 13ms/step - loss: 0.0085 - val_loss: 0.3792\n",
            "Epoch 39/50\n",
            "4/4 [==============================] - 0s 11ms/step - loss: 0.0259 - val_loss: 0.0550\n",
            "Epoch 40/50\n",
            "4/4 [==============================] - 0s 12ms/step - loss: 0.0190 - val_loss: 0.0717\n",
            "Epoch 41/50\n",
            "4/4 [==============================] - 0s 12ms/step - loss: 0.0111 - val_loss: 0.0404\n",
            "Epoch 42/50\n",
            "4/4 [==============================] - 0s 12ms/step - loss: 0.0220 - val_loss: 0.0403\n",
            "Epoch 43/50\n",
            "4/4 [==============================] - 0s 13ms/step - loss: 0.0114 - val_loss: 0.0393\n",
            "Epoch 44/50\n",
            "4/4 [==============================] - 0s 13ms/step - loss: 0.0150 - val_loss: 0.1392\n",
            "Epoch 45/50\n",
            "4/4 [==============================] - 0s 15ms/step - loss: 0.0111 - val_loss: 0.0271\n",
            "Epoch 46/50\n",
            "4/4 [==============================] - 0s 12ms/step - loss: 0.0074 - val_loss: 0.0692\n",
            "Epoch 47/50\n",
            "4/4 [==============================] - 0s 13ms/step - loss: 0.0147 - val_loss: 0.0335\n",
            "Epoch 48/50\n",
            "4/4 [==============================] - 0s 11ms/step - loss: 0.0278 - val_loss: 0.0395\n",
            "Epoch 49/50\n",
            "4/4 [==============================] - 0s 12ms/step - loss: 0.0180 - val_loss: 0.0392\n",
            "Epoch 50/50\n",
            "4/4 [==============================] - 0s 15ms/step - loss: 0.0137 - val_loss: 0.0275\n"
          ],
          "name": "stdout"
        }
      ]
    },
    {
      "cell_type": "code",
      "metadata": {
        "colab": {
          "base_uri": "https://localhost:8080/",
          "height": 282
        },
        "id": "U2SXEV-5Z7Sq",
        "outputId": "46c66882-4230-4c32-c362-791876deffb7"
      },
      "source": [
        "plt.plot(r.history['loss'],label='loss')\n",
        "plt.plot(r.history['val_loss'],label='val_loss')\n",
        "plt.legend()"
      ],
      "execution_count": null,
      "outputs": [
        {
          "output_type": "execute_result",
          "data": {
            "text/plain": [
              "<matplotlib.legend.Legend at 0x7f2ce027b850>"
            ]
          },
          "metadata": {
            "tags": []
          },
          "execution_count": 14
        },
        {
          "output_type": "display_data",
          "data": {
            "image/png": "[encoded data removed]",
            "text/plain": [
              "<Figure size 432x288 with 1 Axes>"
            ]
          },
          "metadata": {
            "tags": [],
            "needs_background": "light"
          }
        }
      ]
    },
    {
      "cell_type": "code",
      "metadata": {
        "id": "6V7BLapGU_JK"
      },
      "source": [
        "pred_Y = model.predict(X_test)\n",
        "\n",
        "pred_Y  = scaler_X.inverse_transform(np.array(pred_Y ).reshape(-1,1))\n",
        "Y_test = scaler_X.inverse_transform(np.array(Y_test).reshape(-1,1))"
      ],
      "execution_count": null,
      "outputs": []
    },
    {
      "cell_type": "code",
      "metadata": {
        "id": "2gHp7iLwa0lG",
        "colab": {
          "base_uri": "https://localhost:8080/",
          "height": 282
        },
        "outputId": "6dbb6fbf-60bb-4c73-d55c-c61ba701f705"
      },
      "source": [
        "# this is a wrong way to do....\n",
        "\n",
        "plt.plot(Y_test, label='prediction target')\n",
        "plt.plot(pred_Y, label='prediction forecast')"
      ],
      "execution_count": null,
      "outputs": [
        {
          "output_type": "execute_result",
          "data": {
            "text/plain": [
              "[<matplotlib.lines.Line2D at 0x7f2cc2116750>]"
            ]
          },
          "metadata": {
            "tags": []
          },
          "execution_count": 16
        },
        {
          "output_type": "display_data",
          "data": {
            "image/png": "[encoded data removed]",
            "text/plain": [
              "<Figure size 432x288 with 1 Axes>"
            ]
          },
          "metadata": {
            "tags": [],
            "needs_background": "light"
          }
        }
      ]
    },
    {
      "cell_type": "code",
      "metadata": {
        "id": "IQHyC5xnbKHn"
      },
      "source": [
        "pred_test = []\n",
        "for xi in X_test:\n",
        "  yi = model.predict(xi.reshape(1,-1,1))[0,0]\n",
        "  pred_test.append(yi)\n",
        "\n",
        "pred_test  = scaler_X.inverse_transform(np.array(pred_test).reshape(-1,1))"
      ],
      "execution_count": null,
      "outputs": []
    },
    {
      "cell_type": "code",
      "metadata": {
        "colab": {
          "base_uri": "https://localhost:8080/",
          "height": 282
        },
        "id": "1BAOvmGnpStZ",
        "outputId": "746ee916-6372-4ef6-ff66-a3346a03a138"
      },
      "source": [
        "plt.plot(Y_test, label='prediction target')\n",
        "plt.plot(pred_test, label='prediction forecast')"
      ],
      "execution_count": null,
      "outputs": [
        {
          "output_type": "execute_result",
          "data": {
            "text/plain": [
              "[<matplotlib.lines.Line2D at 0x7f2cc1f55c90>]"
            ]
          },
          "metadata": {
            "tags": []
          },
          "execution_count": 18
        },
        {
          "output_type": "display_data",
          "data": {
            "image/png": "[encoded data removed]",
            "text/plain": [
              "<Figure size 432x288 with 1 Axes>"
            ]
          },
          "metadata": {
            "tags": [],
            "needs_background": "light"
          }
        }
      ]
    },
    {
      "cell_type": "code",
      "metadata": {
        "colab": {
          "base_uri": "https://localhost:8080/"
        },
        "id": "kXE6DUg5Tmj5",
        "outputId": "adf03ade-24a0-4b01-be08-a8e73cb0a91d"
      },
      "source": [
        "X_train.shape"
      ],
      "execution_count": null,
      "outputs": [
        {
          "output_type": "execute_result",
          "data": {
            "text/plain": [
              "(108, 8, 1)"
            ]
          },
          "metadata": {
            "tags": []
          },
          "execution_count": 19
        }
      ]
    },
    {
      "cell_type": "code",
      "metadata": {
        "colab": {
          "base_uri": "https://localhost:8080/"
        },
        "id": "LGF6pviMTp-g",
        "outputId": "557ed672-6574-4863-8858-31ced558c66c"
      },
      "source": [
        "X_test.shape"
      ],
      "execution_count": null,
      "outputs": [
        {
          "output_type": "execute_result",
          "data": {
            "text/plain": [
              "(28, 8, 1)"
            ]
          },
          "metadata": {
            "tags": []
          },
          "execution_count": 20
        }
      ]
    }
  ]
}