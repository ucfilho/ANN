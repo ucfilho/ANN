{
  "nbformat": 4,
  "nbformat_minor": 0,
  "metadata": {
    "colab": {
      "provenance": [],
      "include_colab_link": true
    },
    "kernelspec": {
      "name": "python3",
      "display_name": "Python 3"
    },
    "language_info": {
      "name": "python"
    }
  },
  "cells": [
    {
      "cell_type": "markdown",
      "metadata": {
        "id": "view-in-github",
        "colab_type": "text"
      },
      "source": [
        "<a href=\"https://colab.research.google.com/github/ucfilho/ANN/blob/master/ANN_2022/RNN/ANN_LSTM_Temporal_Series_Furniture_sales_predictions_April_2021.ipynb\" target=\"_parent\"><img src=\"https://colab.research.google.com/assets/colab-badge.svg\" alt=\"Open In Colab\"/></a>"
      ]
    },
    {
      "cell_type": "code",
      "metadata": {
        "id": "G6_52vHnr34h"
      },
      "source": [
        "import pandas as pd\n",
        "import numpy as np\n",
        "from google.colab import files\n",
        "import matplotlib.pyplot as plt\n",
        "from sklearn.model_selection import train_test_split\n",
        "from sklearn.preprocessing import MinMaxScaler\n",
        "from sklearn.metrics import mean_squared_error\n",
        "from sklearn.metrics import r2_score"
      ],
      "execution_count": null,
      "outputs": []
    },
    {
      "cell_type": "code",
      "metadata": {
        "id": "d7MsJQI2mdaz"
      },
      "source": [
        "from keras.models import Sequential\n",
        "from keras.layers import Dense\n",
        "from keras.layers import LSTM"
      ],
      "execution_count": null,
      "outputs": []
    },
    {
      "cell_type": "code",
      "metadata": {
        "colab": {
          "base_uri": "https://localhost:8080/"
        },
        "id": "HOWF51hxrhhP",
        "outputId": "97cc7dab-8467-42e5-b6c8-056bf7b4ad4b"
      },
      "source": [
        "!git clone https://github.com/ucfilho/Machine_Learning_DataSet\n",
        "%cd Machine_Learning_DataSet"
      ],
      "execution_count": null,
      "outputs": [
        {
          "output_type": "stream",
          "name": "stdout",
          "text": [
            "Cloning into 'Machine_Learning_DataSet'...\n",
            "remote: Enumerating objects: 178, done.\u001b[K\n",
            "remote: Counting objects: 100% (103/103), done.\u001b[K\n",
            "remote: Compressing objects: 100% (79/79), done.\u001b[K\n",
            "remote: Total 178 (delta 34), reused 56 (delta 20), pack-reused 75\u001b[K\n",
            "Receiving objects: 100% (178/178), 59.22 MiB | 30.49 MiB/s, done.\n",
            "Resolving deltas: 100% (57/57), done.\n",
            "/content/Machine_Learning_DataSet\n"
          ]
        }
      ]
    },
    {
      "cell_type": "code",
      "metadata": {
        "colab": {
          "base_uri": "https://localhost:8080/"
        },
        "id": "j6Lc6V7EroT-",
        "outputId": "fe9db12e-4bcc-47a7-8de3-28680ace6c68"
      },
      "source": [
        "# df = pd.read_csv(\"Superstore.csv\", encoding='windows-1252')\n",
        "df = pd.read_excel(\"Superstore.xlsx\")\n",
        "print(df.head(3)) # shows headers with top 3 rows"
      ],
      "execution_count": null,
      "outputs": [
        {
          "output_type": "stream",
          "name": "stdout",
          "text": [
            "   Row ID        Order ID Order Date  Ship Date     Ship Mode Customer ID  \\\n",
            "0       1  CA-2016-152156 2016-11-08 2016-11-11  Second Class    CG-12520   \n",
            "1       2  CA-2016-152156 2016-11-08 2016-11-11  Second Class    CG-12520   \n",
            "2       3  CA-2016-138688 2016-06-12 2016-06-16  Second Class    DV-13045   \n",
            "\n",
            "     Customer Name    Segment        Country         City  ... Postal Code  \\\n",
            "0      Claire Gute   Consumer  United States    Henderson  ...       42420   \n",
            "1      Claire Gute   Consumer  United States    Henderson  ...       42420   \n",
            "2  Darrin Van Huff  Corporate  United States  Los Angeles  ...       90036   \n",
            "\n",
            "   Region       Product ID         Category Sub-Category  \\\n",
            "0   South  FUR-BO-10001798        Furniture    Bookcases   \n",
            "1   South  FUR-CH-10000454        Furniture       Chairs   \n",
            "2    West  OFF-LA-10000240  Office Supplies       Labels   \n",
            "\n",
            "                                        Product Name   Sales  Quantity  \\\n",
            "0                  Bush Somerset Collection Bookcase  261.96         2   \n",
            "1  Hon Deluxe Fabric Upholstered Stacking Chairs,...  731.94         3   \n",
            "2  Self-Adhesive Address Labels for Typewriters b...   14.62         2   \n",
            "\n",
            "   Discount    Profit  \n",
            "0       0.0   41.9136  \n",
            "1       0.0  219.5820  \n",
            "2       0.0    6.8714  \n",
            "\n",
            "[3 rows x 21 columns]\n"
          ]
        }
      ]
    },
    {
      "cell_type": "code",
      "source": [
        "!ls"
      ],
      "metadata": {
        "id": "a5bXWRhGP_8G",
        "outputId": "3f26adc8-5754-42d1-83c8-1dcb5d705116",
        "colab": {
          "base_uri": "https://localhost:8080/"
        }
      },
      "execution_count": null,
      "outputs": [
        {
          "output_type": "stream",
          "name": "stdout",
          "text": [
            " airline-passengers.csv         PG_2007_2017.csv\n",
            " AirlineSentimentTweets.csv     Pima_diabetes.txt\n",
            " AraxÃ¡.pdf\t\t        Polution_India_Kaggle.zip\n",
            " bbc_text_cls.csv\t        README.md\n",
            " boston_housing.data\t        spam.csv\n",
            " car_count.png\t\t        states_coords.csv\n",
            " cardio_alco.csv\t        states_coords.xlsx\n",
            " cardio_base.csv\t        states_gmaps.csv\n",
            " cats.zip\t\t        states_gmaps.json\n",
            " Churn_Modelling.csv\t        states_line.csv\n",
            " Climate_delhi.csv\t        states_line.json\n",
            " covid_data.csv\t\t        states_merged.csv\n",
            " Customers_in_a_Shop.csv        states_merged.json\n",
            " data.json\t\t        Superstore.csv\n",
            " datasets_894_813759_2019.csv   Superstore.xls\n",
            " diabetes.csv\t\t        Superstore.xlsx\n",
            " ecoli.csv\t\t        suporte_pedra.png\n",
            " ecoli.data\t\t        tampered.jpg\n",
            " Einstein2.jpg\t\t        test_place\n",
            " Einstein.jpg\t\t       'The Solvay Conference.jpg'\n",
            " logistic_regression.h5         trash_features.zip\n",
            " Margaridas.zip\t\t        trash.zip\n",
            " moore_clean.csv\t        Tweets.csv\n",
            " moore.csv\t\t        WaldoBeach.jpg\n",
            " occupation_pictures.csv        waldo.jpg\n",
            " original.jpg\t\t       \"Where's Waldo_0.jpg\"\n"
          ]
        }
      ]
    },
    {
      "cell_type": "code",
      "metadata": {
        "id": "RUhuWR_Ltcmd",
        "colab": {
          "base_uri": "https://localhost:8080/"
        },
        "outputId": "45108467-d71a-4037-e94d-d6773271dccd"
      },
      "source": [
        "Names =df['Category'].drop_duplicates()\n",
        "print(Names)"
      ],
      "execution_count": null,
      "outputs": [
        {
          "output_type": "stream",
          "name": "stdout",
          "text": [
            "0          Furniture\n",
            "2    Office Supplies\n",
            "7         Technology\n",
            "Name: Category, dtype: object\n"
          ]
        }
      ]
    },
    {
      "cell_type": "code",
      "metadata": {
        "colab": {
          "base_uri": "https://localhost:8080/"
        },
        "id": "ZKiAEGAN1pjb",
        "outputId": "b7d1860f-6448-46ea-e5a5-aed29a815b6e"
      },
      "source": [
        "Stuff =df['Sub-Category'].drop_duplicates()\n",
        "print(Stuff)"
      ],
      "execution_count": null,
      "outputs": [
        {
          "output_type": "stream",
          "name": "stdout",
          "text": [
            "0        Bookcases\n",
            "1           Chairs\n",
            "2           Labels\n",
            "3           Tables\n",
            "4          Storage\n",
            "5      Furnishings\n",
            "6              Art\n",
            "7           Phones\n",
            "8          Binders\n",
            "9       Appliances\n",
            "12           Paper\n",
            "26     Accessories\n",
            "30       Envelopes\n",
            "53       Fasteners\n",
            "138       Supplies\n",
            "165       Machines\n",
            "335        Copiers\n",
            "Name: Sub-Category, dtype: object\n"
          ]
        }
      ]
    },
    {
      "cell_type": "code",
      "metadata": {
        "id": "PsiQSIt-8Mbo"
      },
      "source": [
        "furniture = df.loc[df['Category'] == 'Furniture']\n",
        "furniture = furniture.groupby('Order Date')['Sales'].sum().reset_index()\n",
        "furniture = furniture.set_index('Order Date')\n",
        "\n",
        "y = furniture['Sales'].resample('MS').mean()\n",
        "y = y.reset_index()"
      ],
      "execution_count": null,
      "outputs": []
    },
    {
      "cell_type": "code",
      "metadata": {
        "id": "CPI16Jdj7h_E"
      },
      "source": [
        "chairs = df.loc[df['Sub-Category'] == 'Chairs']\n",
        "chairs = chairs.groupby('Order Date')['Sales'].sum().reset_index()\n",
        "chairs = chairs.set_index('Order Date')\n",
        "w = chairs['Sales'].resample('MS').mean()\n",
        "w=w.fillna(0)"
      ],
      "execution_count": null,
      "outputs": []
    },
    {
      "cell_type": "code",
      "source": [],
      "metadata": {
        "id": "iWa3iYPnfV_z"
      },
      "execution_count": null,
      "outputs": []
    },
    {
      "cell_type": "code",
      "metadata": {
        "id": "eYLU1Pk284fs"
      },
      "source": [
        "machines = df.loc[df['Sub-Category'] == 'Machines']\n",
        "machines = machines.groupby('Order Date')['Sales'].sum().reset_index()\n",
        "machines = machines.set_index('Order Date')\n",
        "m = machines['Sales'].resample('MS').mean()\n",
        "m=m.fillna(0) "
      ],
      "execution_count": null,
      "outputs": []
    },
    {
      "cell_type": "code",
      "metadata": {
        "id": "-PaVYyU28p8o"
      },
      "source": [
        "tables = df.loc[df['Sub-Category'] == 'Tables']\n",
        "tables = tables.groupby('Order Date')['Sales'].sum().reset_index()\n",
        "tables = tables.set_index('Order Date')\n",
        "t = tables['Sales'].resample('MS').mean()\n",
        "t=t.fillna(0) "
      ],
      "execution_count": null,
      "outputs": []
    },
    {
      "cell_type": "code",
      "metadata": {
        "id": "PObQVjSb0ia9",
        "colab": {
          "base_uri": "https://localhost:8080/"
        },
        "outputId": "2a611882-ada2-4f69-f26e-2621a4a66d73"
      },
      "source": [
        "names = t.index; print(names)"
      ],
      "execution_count": null,
      "outputs": [
        {
          "output_type": "stream",
          "name": "stdout",
          "text": [
            "DatetimeIndex(['2014-01-01', '2014-02-01', '2014-03-01', '2014-04-01',\n",
            "               '2014-05-01', '2014-06-01', '2014-07-01', '2014-08-01',\n",
            "               '2014-09-01', '2014-10-01', '2014-11-01', '2014-12-01',\n",
            "               '2015-01-01', '2015-02-01', '2015-03-01', '2015-04-01',\n",
            "               '2015-05-01', '2015-06-01', '2015-07-01', '2015-08-01',\n",
            "               '2015-09-01', '2015-10-01', '2015-11-01', '2015-12-01',\n",
            "               '2016-01-01', '2016-02-01', '2016-03-01', '2016-04-01',\n",
            "               '2016-05-01', '2016-06-01', '2016-07-01', '2016-08-01',\n",
            "               '2016-09-01', '2016-10-01', '2016-11-01', '2016-12-01',\n",
            "               '2017-01-01', '2017-02-01', '2017-03-01', '2017-04-01',\n",
            "               '2017-05-01', '2017-06-01', '2017-07-01', '2017-08-01',\n",
            "               '2017-09-01', '2017-10-01', '2017-11-01', '2017-12-01'],\n",
            "              dtype='datetime64[ns]', name='Order Date', freq='MS')\n"
          ]
        }
      ]
    },
    {
      "cell_type": "code",
      "metadata": {
        "id": "Ji1RGaij2Wpi"
      },
      "source": [
        "import datetime\n",
        "months = []\n",
        "for i in names:\n",
        "  months.append(i.month)\n",
        "#months =pd.Series(months).reset_index()"
      ],
      "execution_count": null,
      "outputs": []
    },
    {
      "cell_type": "code",
      "metadata": {
        "id": "kT2TQuap-Pdw",
        "colab": {
          "base_uri": "https://localhost:8080/"
        },
        "outputId": "7876e216-c471-41a1-e03d-3405dc5dfe7f"
      },
      "source": [
        "len(y)"
      ],
      "execution_count": null,
      "outputs": [
        {
          "output_type": "execute_result",
          "data": {
            "text/plain": [
              "48"
            ]
          },
          "metadata": {},
          "execution_count": 14
        }
      ]
    },
    {
      "cell_type": "code",
      "metadata": {
        "id": "-4Ge4lcx_Kw1"
      },
      "source": [
        "y1 = y.shift(1).values[:,1]\n",
        "y2 = y.shift(2).values[:,1]\n",
        "y3 = y.shift(3).values[:,1]\n",
        "y4 = y.shift(4).values[:,1]\n",
        "y = y.values[:,1]"
      ],
      "execution_count": null,
      "outputs": []
    },
    {
      "cell_type": "code",
      "metadata": {
        "id": "suYwM6Ux-DC4"
      },
      "source": [
        "dataframe = pd.DataFrame({'mo':months,'t-1':y1,'t-2':y2,'t-3':y3,'y':y})\n",
        "dataframe = dataframe.dropna()"
      ],
      "execution_count": null,
      "outputs": []
    },
    {
      "cell_type": "code",
      "metadata": {
        "id": "zaOzv0Tp46Tr",
        "colab": {
          "base_uri": "https://localhost:8080/",
          "height": 143
        },
        "outputId": "37cb2741-ffba-4b61-b2a6-1f175e829ccb"
      },
      "source": [
        "pd.set_option(\"max_columns\", None)\n",
        "pd.set_option(\"max_rows\", None)\n",
        "dataframe.head(3)"
      ],
      "execution_count": null,
      "outputs": [
        {
          "output_type": "execute_result",
          "data": {
            "text/plain": [
              "   mo         t-1         t-2         t-3           y\n",
              "3   4  857.291529    367.9316  480.194231  567.488357\n",
              "4   5  567.488357  857.291529    367.9316  432.049188\n",
              "5   6  432.049188  567.488357  857.291529  695.059242"
            ],
            "text/html": [
              "\n",
              "  <div id=\"df-cc1b63f8-f838-47df-87ee-3bc721c63828\">\n",
              "    <div class=\"colab-df-container\">\n",
              "      <div>\n",
              "<style scoped>\n",
              "    .dataframe tbody tr th:only-of-type {\n",
              "        vertical-align: middle;\n",
              "    }\n",
              "\n",
              "    .dataframe tbody tr th {\n",
              "        vertical-align: top;\n",
              "    }\n",
              "\n",
              "    .dataframe thead th {\n",
              "        text-align: right;\n",
              "    }\n",
              "</style>\n",
              "<table border=\"1\" class=\"dataframe\">\n",
              "  <thead>\n",
              "    <tr style=\"text-align: right;\">\n",
              "      <th></th>\n",
              "      <th>mo</th>\n",
              "      <th>t-1</th>\n",
              "      <th>t-2</th>\n",
              "      <th>t-3</th>\n",
              "      <th>y</th>\n",
              "    </tr>\n",
              "  </thead>\n",
              "  <tbody>\n",
              "    <tr>\n",
              "      <th>3</th>\n",
              "      <td>4</td>\n",
              "      <td>857.291529</td>\n",
              "      <td>367.9316</td>\n",
              "      <td>480.194231</td>\n",
              "      <td>567.488357</td>\n",
              "    </tr>\n",
              "    <tr>\n",
              "      <th>4</th>\n",
              "      <td>5</td>\n",
              "      <td>567.488357</td>\n",
              "      <td>857.291529</td>\n",
              "      <td>367.9316</td>\n",
              "      <td>432.049188</td>\n",
              "    </tr>\n",
              "    <tr>\n",
              "      <th>5</th>\n",
              "      <td>6</td>\n",
              "      <td>432.049188</td>\n",
              "      <td>567.488357</td>\n",
              "      <td>857.291529</td>\n",
              "      <td>695.059242</td>\n",
              "    </tr>\n",
              "  </tbody>\n",
              "</table>\n",
              "</div>\n",
              "      <button class=\"colab-df-convert\" onclick=\"convertToInteractive('df-cc1b63f8-f838-47df-87ee-3bc721c63828')\"\n",
              "              title=\"Convert this dataframe to an interactive table.\"\n",
              "              style=\"display:none;\">\n",
              "        \n",
              "  <svg xmlns=\"http://www.w3.org/2000/svg\" height=\"24px\"viewBox=\"0 0 24 24\"\n",
              "       width=\"24px\">\n",
              "    <path d=\"M0 0h24v24H0V0z\" fill=\"none\"/>\n",
              "    <path d=\"M18.56 5.44l.94 2.06.94-2.06 2.06-.94-2.06-.94-.94-2.06-.94 2.06-2.06.94zm-11 1L8.5 8.5l.94-2.06 2.06-.94-2.06-.94L8.5 2.5l-.94 2.06-2.06.94zm10 10l.94 2.06.94-2.06 2.06-.94-2.06-.94-.94-2.06-.94 2.06-2.06.94z\"/><path d=\"M17.41 7.96l-1.37-1.37c-.4-.4-.92-.59-1.43-.59-.52 0-1.04.2-1.43.59L10.3 9.45l-7.72 7.72c-.78.78-.78 2.05 0 2.83L4 21.41c.39.39.9.59 1.41.59.51 0 1.02-.2 1.41-.59l7.78-7.78 2.81-2.81c.8-.78.8-2.07 0-2.86zM5.41 20L4 18.59l7.72-7.72 1.47 1.35L5.41 20z\"/>\n",
              "  </svg>\n",
              "      </button>\n",
              "      \n",
              "  <style>\n",
              "    .colab-df-container {\n",
              "      display:flex;\n",
              "      flex-wrap:wrap;\n",
              "      gap: 12px;\n",
              "    }\n",
              "\n",
              "    .colab-df-convert {\n",
              "      background-color: #E8F0FE;\n",
              "      border: none;\n",
              "      border-radius: 50%;\n",
              "      cursor: pointer;\n",
              "      display: none;\n",
              "      fill: #1967D2;\n",
              "      height: 32px;\n",
              "      padding: 0 0 0 0;\n",
              "      width: 32px;\n",
              "    }\n",
              "\n",
              "    .colab-df-convert:hover {\n",
              "      background-color: #E2EBFA;\n",
              "      box-shadow: 0px 1px 2px rgba(60, 64, 67, 0.3), 0px 1px 3px 1px rgba(60, 64, 67, 0.15);\n",
              "      fill: #174EA6;\n",
              "    }\n",
              "\n",
              "    [theme=dark] .colab-df-convert {\n",
              "      background-color: #3B4455;\n",
              "      fill: #D2E3FC;\n",
              "    }\n",
              "\n",
              "    [theme=dark] .colab-df-convert:hover {\n",
              "      background-color: #434B5C;\n",
              "      box-shadow: 0px 1px 3px 1px rgba(0, 0, 0, 0.15);\n",
              "      filter: drop-shadow(0px 1px 2px rgba(0, 0, 0, 0.3));\n",
              "      fill: #FFFFFF;\n",
              "    }\n",
              "  </style>\n",
              "\n",
              "      <script>\n",
              "        const buttonEl =\n",
              "          document.querySelector('#df-cc1b63f8-f838-47df-87ee-3bc721c63828 button.colab-df-convert');\n",
              "        buttonEl.style.display =\n",
              "          google.colab.kernel.accessAllowed ? 'block' : 'none';\n",
              "\n",
              "        async function convertToInteractive(key) {\n",
              "          const element = document.querySelector('#df-cc1b63f8-f838-47df-87ee-3bc721c63828');\n",
              "          const dataTable =\n",
              "            await google.colab.kernel.invokeFunction('convertToInteractive',\n",
              "                                                     [key], {});\n",
              "          if (!dataTable) return;\n",
              "\n",
              "          const docLinkHtml = 'Like what you see? Visit the ' +\n",
              "            '<a target=\"_blank\" href=https://colab.research.google.com/notebooks/data_table.ipynb>data table notebook</a>'\n",
              "            + ' to learn more about interactive tables.';\n",
              "          element.innerHTML = '';\n",
              "          dataTable['output_type'] = 'display_data';\n",
              "          await google.colab.output.renderOutput(dataTable, element);\n",
              "          const docLink = document.createElement('div');\n",
              "          docLink.innerHTML = docLinkHtml;\n",
              "          element.appendChild(docLink);\n",
              "        }\n",
              "      </script>\n",
              "    </div>\n",
              "  </div>\n",
              "  "
            ]
          },
          "metadata": {},
          "execution_count": 17
        }
      ]
    },
    {
      "cell_type": "code",
      "metadata": {
        "id": "YcpfdGu2Dbzo"
      },
      "source": [
        "X=dataframe.iloc[:,:-1]\n",
        "y=np.array(dataframe.iloc[:,-1]).reshape(-1, 1)"
      ],
      "execution_count": null,
      "outputs": []
    },
    {
      "cell_type": "code",
      "metadata": {
        "id": "mbvaQKvuEWTQ"
      },
      "source": [
        "rows, cols = X.shape\n",
        "ntrain = int(rows*0.8)\n",
        "X_train=X.iloc[0:ntrain,:].copy()\n",
        "y_train= y[0:ntrain,:].copy()\n",
        "X_test=X.drop(X_train.index)\n",
        "y_test=np.delete(y,range(ntrain))\n",
        "y_train = y_train.reshape(-1, 1)\n",
        "y_test = y_test.reshape(-1, 1)"
      ],
      "execution_count": null,
      "outputs": []
    },
    {
      "cell_type": "code",
      "metadata": {
        "id": "B6N5k_BVCdri"
      },
      "source": [
        "#, X_test, y_train, y_test = train_test_split(X, y, test_size=0.2, random_state=101)\n",
        "#X_train\n",
        "scalerX = MinMaxScaler() \n",
        "scalerY = MinMaxScaler() \n",
        "scalerX.fit(X_train) \n",
        "scalerY.fit(y_train) \n",
        "X_train = scalerX.transform(X_train)\n",
        "X_test = scalerX.transform(X_test)\n",
        "y_train= scalerY.transform(y_train) \n",
        "y_test= scalerY.transform(y_test)"
      ],
      "execution_count": null,
      "outputs": []
    },
    {
      "cell_type": "code",
      "metadata": {
        "id": "weovYXt-CipU",
        "outputId": "3725f0fa-b642-43a2-d213-93868bb37af6",
        "colab": {
          "base_uri": "https://localhost:8080/"
        }
      },
      "source": [
        "\n",
        "for i in range(1):\n",
        "  '''\n",
        "  model = Sequential()\n",
        "  model.add(LSTM(units=32, activation='tanh',input_shape=(X_train.shape[1], 4)))\n",
        "  # units=32 \n",
        "  model.add(Dense(1))\n",
        "  '''\n",
        "  # model = keras.Sequential()\n",
        "  model = Sequential()\n",
        "  # Add an Embedding layer expecting input vocab of size 1000, and\n",
        "  # output embedding dimension of size 64.\n",
        "  #model.add(layers.Embedding(input_dim=1000, output_dim=64))\n",
        "\n",
        "  # Add a LSTM layer with 128 internal units.\n",
        "  model.add(LSTM(128))\n",
        "\n",
        "  # Add a Dense layer with 10 units.\n",
        "  model.add(Dense(1))\n",
        "\n",
        "  #model.summary()\n",
        "  model.compile(loss='mean_squared_error', optimizer='adam')\n",
        "  X_train = np.reshape(X_train, (X_train.shape[0], 1, X_train.shape[1]))\n",
        "  X_test = np.reshape(X_test, (X_test.shape[0], 1, X_test.shape[1]))\n",
        "  # reshape input to be [samples, time steps, features]\n",
        "  # reshape input to be [samples, time steps, features]\n",
        "  #trainX = numpy.reshape(trainX, (trainX.shape[0], 1, trainX.shape[1]))\n",
        "  #testX = numpy.reshape(testX, (testX.shape[0], 1, testX.shape[1]))\n",
        "  model.fit(X_train, y_train, epochs=200, batch_size=1, verbose=0)\n",
        "  y_calc_train=model.predict(X_train)\n",
        "  y_calc_test=model.predict(X_test)\n",
        "  mse_test=mean_squared_error(y_test,y_calc_test)\n",
        "  R2_test=r2_score(y_test,y_calc_test)\n",
        "  mse_train=mean_squared_error(y_train,y_calc_train)\n",
        "  R2_train=r2_score(y_train,y_calc_train)"
      ],
      "execution_count": null,
      "outputs": [
        {
          "output_type": "stream",
          "name": "stdout",
          "text": [
            "2/2 [==============================] - 1s 7ms/step\n",
            "1/1 [==============================] - 0s 15ms/step\n"
          ]
        }
      ]
    },
    {
      "cell_type": "code",
      "source": [
        "X_test.shape"
      ],
      "metadata": {
        "id": "Sf8l3K3WZFA6",
        "outputId": "a3919428-03f6-4227-a2ca-66a02c715e2c",
        "colab": {
          "base_uri": "https://localhost:8080/"
        }
      },
      "execution_count": null,
      "outputs": [
        {
          "output_type": "execute_result",
          "data": {
            "text/plain": [
              "(9, 1, 4)"
            ]
          },
          "metadata": {},
          "execution_count": 22
        }
      ]
    },
    {
      "cell_type": "code",
      "metadata": {
        "id": "Z_V3ASfyCvfa",
        "colab": {
          "base_uri": "https://localhost:8080/",
          "height": 283
        },
        "outputId": "179d6262-db4b-4991-cbee-8aa2d38706ed"
      },
      "source": [
        "# expressa os dois dados em figura\n",
        "fig = plt.figure()\n",
        "ax1 = fig.add_subplot(111)\n",
        "\n",
        "ax1.scatter(y_test,y_calc_test, s=10, c='b', marker=\"s\", label='teste')\n",
        "ax1.scatter(y_train,y_calc_train, s=10, c='r', marker=\"o\", label='treino')\n",
        "ax1.set_xlim([0, 1])\n",
        "ax1.set_ylim([0, 1])\n",
        "plt.legend(loc='upper left')\n",
        "plt.ylabel('Y Calc')\n",
        "plt.xlabel('Y Obs')\n",
        "plt.show()"
      ],
      "execution_count": null,
      "outputs": [
        {
          "output_type": "display_data",
          "data": {
            "text/plain": [
              "<Figure size 432x288 with 1 Axes>"
            ],
            "image/png": "[encoded data removed]"
          },
          "metadata": {
            "needs_background": "light"
          }
        }
      ]
    },
    {
      "cell_type": "code",
      "metadata": {
        "id": "LYFWNxeDXxyA",
        "colab": {
          "base_uri": "https://localhost:8080/"
        },
        "outputId": "0428c840-caaf-4acb-af87-e925427eaaad"
      },
      "source": [
        "mse=mean_squared_error(y_test,y_calc_test)\n",
        "print(\"MSE teste=\",mse)\n",
        "R2=r2_score(y_test,y_calc_test)\n",
        "print(\"R^2 teste=\",R2)"
      ],
      "execution_count": null,
      "outputs": [
        {
          "output_type": "stream",
          "name": "stdout",
          "text": [
            "MSE teste= 0.015259373497899124\n",
            "R^2 teste= 0.7417343073744889\n"
          ]
        }
      ]
    },
    {
      "cell_type": "code",
      "metadata": {
        "colab": {
          "base_uri": "https://localhost:8080/"
        },
        "id": "owr88npGaV73",
        "outputId": "7183c9cf-0bb1-474e-bf04-546039483a0d"
      },
      "source": [
        "mse=mean_squared_error(y_train,y_calc_train)\n",
        "print(\"MSE train=\",mse)\n",
        "R2=r2_score(y_train,y_calc_train)\n",
        "print(\"R^2 train=\",R2)"
      ],
      "execution_count": null,
      "outputs": [
        {
          "output_type": "stream",
          "name": "stdout",
          "text": [
            "MSE train= 0.023964371271588004\n",
            "R^2 train= 0.6409469558104361\n"
          ]
        }
      ]
    },
    {
      "cell_type": "code",
      "metadata": {
        "id": "BA8zj-jY2EZu"
      },
      "source": [
        "y_calc = y_calc_train.tolist()"
      ],
      "execution_count": null,
      "outputs": []
    },
    {
      "cell_type": "code",
      "metadata": {
        "id": "pth2NdH124As"
      },
      "source": [
        "for yi in y_calc_test:\n",
        "  y_calc.append(yi)"
      ],
      "execution_count": null,
      "outputs": []
    },
    {
      "cell_type": "code",
      "metadata": {
        "id": "KczspclD30Q1"
      },
      "source": [
        "y_calc = np.array(y_calc).reshape(1,-1)\n",
        "y_calc = scalerY.inverse_transform(y_calc)"
      ],
      "execution_count": null,
      "outputs": []
    },
    {
      "cell_type": "code",
      "metadata": {
        "colab": {
          "base_uri": "https://localhost:8080/",
          "height": 279
        },
        "id": "XqBi0bYl3D0C",
        "outputId": "260f2850-641f-4f1a-b11b-f1e0df583451"
      },
      "source": [
        "line1, =plt.plot(range(len(y)),y,c='r')\n",
        "line2, =plt.plot(range(len(y)),y_calc[0], c='b')\n",
        "plt.legend([line1,line2],['true','ANN'],loc='upper right')\n",
        "plt.xlabel('Semanas')\n",
        "plt.ylabel('Vendas em milhões/semana')\n",
        "plt.show()"
      ],
      "execution_count": null,
      "outputs": [
        {
          "output_type": "display_data",
          "data": {
            "text/plain": [
              "<Figure size 432x288 with 1 Axes>"
            ],
            "image/png": "[encoded data removed]"
          },
          "metadata": {
            "needs_background": "light"
          }
        }
      ]
    },
    {
      "cell_type": "code",
      "metadata": {
        "colab": {
          "base_uri": "https://localhost:8080/"
        },
        "id": "CxGHy5WY5mJH",
        "outputId": "81e30e0e-893e-451c-f0e1-2f667925453c"
      },
      "source": [
        "df['Product ID'].shape"
      ],
      "execution_count": null,
      "outputs": [
        {
          "output_type": "execute_result",
          "data": {
            "text/plain": [
              "(9994,)"
            ]
          },
          "metadata": {},
          "execution_count": 30
        }
      ]
    },
    {
      "cell_type": "code",
      "metadata": {
        "colab": {
          "base_uri": "https://localhost:8080/"
        },
        "id": "S3DzHc5i4swC",
        "outputId": "b05c1b31-18b4-4f95-993d-d81219ab397d"
      },
      "source": [
        "y_calc"
      ],
      "execution_count": null,
      "outputs": [
        {
          "output_type": "execute_result",
          "data": {
            "text/plain": [
              "array([[ 502.61922351,  537.80759023,  733.21851646,  666.17684856,\n",
              "         759.86740832,  957.86856313,  802.28946882, 1055.71560219,\n",
              "        1205.62629887,  708.53021416,  494.89321921,  644.27715282,\n",
              "         630.97174599,  569.06380452,  710.52401268,  812.62579171,\n",
              "         742.49702198,  849.34291771,  780.48996044, 1252.35480443,\n",
              "        1195.81788629,  459.25952668,  508.62164615,  558.84133089,\n",
              "         498.13611065,  518.01098832,  649.29650451,  723.20023588,\n",
              "         820.15672842,  947.12161218,  891.53058883, 1249.1234468 ,\n",
              "        1101.01205906,  596.86569175,  414.64103347,  659.49102376,\n",
              "         477.27228565,  570.14947118,  607.06299593,  648.45783823,\n",
              "         866.03710944,  873.52401275,  827.79275676, 1212.06239091,\n",
              "        1207.14788564]])"
            ]
          },
          "metadata": {},
          "execution_count": 31
        }
      ]
    },
    {
      "cell_type": "code",
      "metadata": {
        "colab": {
          "base_uri": "https://localhost:8080/"
        },
        "id": "XHzDUqM74zAs",
        "outputId": "da1eedbd-10cf-48bb-b496-b34d60d7caf9"
      },
      "source": [
        "y"
      ],
      "execution_count": null,
      "outputs": [
        {
          "output_type": "execute_result",
          "data": {
            "text/plain": [
              "array([[567.4883571428571],\n",
              "       [432.0491875],\n",
              "       [695.0592421052631],\n",
              "       [601.1695],\n",
              "       [457.52165625],\n",
              "       [992.3533666666667],\n",
              "       [769.0154375],\n",
              "       [980.2214863636364],\n",
              "       [1532.2983250000002],\n",
              "       [978.3284666666667],\n",
              "       [522.3956666666667],\n",
              "       [781.2364375],\n",
              "       [805.8229615384615],\n",
              "       [624.9966999999999],\n",
              "       [428.5655],\n",
              "       [719.7063157894737],\n",
              "       [602.4120125],\n",
              "       [1382.7906842105265],\n",
              "       [632.9801842105263],\n",
              "       [1286.7013541666668],\n",
              "       [1049.3554181818183],\n",
              "       [508.1828666666667],\n",
              "       [356.8682727272727],\n",
              "       [609.5758095238094],\n",
              "       [695.3731578947369],\n",
              "       [687.2652272727273],\n",
              "       [816.91075],\n",
              "       [768.7364117647058],\n",
              "       [734.3077823529411],\n",
              "       [1135.9533708333333],\n",
              "       [624.8724736842106],\n",
              "       [1271.345152],\n",
              "       [1410.7198076923078],\n",
              "       [397.60213333333337],\n",
              "       [528.1798],\n",
              "       [544.67224],\n",
              "       [453.297905],\n",
              "       [678.302328],\n",
              "       [826.4602913043478],\n",
              "       [562.5248571428571],\n",
              "       [857.8818888888889],\n",
              "       [1209.5085833333335],\n",
              "       [875.3627280000001],\n",
              "       [1277.8177586206896],\n",
              "       [1256.298672]], dtype=object)"
            ]
          },
          "metadata": {},
          "execution_count": 32
        }
      ]
    },
    {
      "cell_type": "code",
      "metadata": {
        "id": "ag2HzmFAUJzH",
        "outputId": "4e3d3da1-1123-4f62-d6fb-4cf3ce6dfdff",
        "colab": {
          "base_uri": "https://localhost:8080/",
          "height": 309
        }
      },
      "source": [
        "plt.plot(furniture)\n",
        "plt.xticks(rotation=45)\n",
        "plt.ylabel('Vendas em milhões')"
      ],
      "execution_count": null,
      "outputs": [
        {
          "output_type": "execute_result",
          "data": {
            "text/plain": [
              "Text(0, 0.5, 'Vendas em milhões')"
            ]
          },
          "metadata": {},
          "execution_count": 33
        },
        {
          "output_type": "display_data",
          "data": {
            "text/plain": [
              "<Figure size 432x288 with 1 Axes>"
            ],
            "image/png": "[encoded data removed]"
          },
          "metadata": {
            "needs_background": "light"
          }
        }
      ]
    },
    {
      "cell_type": "code",
      "metadata": {
        "id": "bL6Ly_IzUzOK",
        "outputId": "d40fdd51-c011-4507-b850-d0d6cf57d4be",
        "colab": {
          "base_uri": "https://localhost:8080/"
        }
      },
      "source": [
        "sum(df['Profit'].values)"
      ],
      "execution_count": null,
      "outputs": [
        {
          "output_type": "execute_result",
          "data": {
            "text/plain": [
              "286397.02170000126"
            ]
          },
          "metadata": {},
          "execution_count": 34
        }
      ]
    }
  ]
}