{
  "nbformat": 4,
  "nbformat_minor": 0,
  "metadata": {
    "colab": {
      "provenance": [],
      "authorship_tag": "ABX9TyOVg1V4uUoVVicw0cpdHVrW",
      "include_colab_link": true
    },
    "kernelspec": {
      "name": "python3",
      "display_name": "Python 3"
    },
    "language_info": {
      "name": "python"
    }
  },
  "cells": [
    {
      "cell_type": "markdown",
      "metadata": {
        "id": "view-in-github",
        "colab_type": "text"
      },
      "source": [
        "<a href=\"https://colab.research.google.com/github/ucfilho/ANN/blob/master/ANN_2022/Image/class_001_image_processing_smart_trash_bin_001.ipynb\" target=\"_parent\"><img src=\"https://colab.research.google.com/assets/colab-badge.svg\" alt=\"Open In Colab\"/></a>"
      ]
    },
    {
      "cell_type": "code",
      "source": [
        "!wget http://ftp.feq.ufu.br/ubirajara/trash_nov_22_2018.zip\n",
        "!ls -l trash_nov_22_2018.zip"
      ],
      "metadata": {
        "colab": {
          "base_uri": "https://localhost:8080/"
        },
        "id": "Ea3bxyjq-kcq",
        "outputId": "9ab7ca8c-e683-4df0-a589-0996a15bfc21"
      },
      "execution_count": null,
      "outputs": [
        {
          "metadata": {
            "tags": null
          },
          "name": "stdout",
          "output_type": "stream",
          "text": [
            "--2022-09-13 22:41:35--  http://ftp.feq.ufu.br/ubirajara/trash_nov_22_2018.zip\n",
            "Resolving ftp.feq.ufu.br (ftp.feq.ufu.br)... 200.19.144.11\n",
            "Connecting to ftp.feq.ufu.br (ftp.feq.ufu.br)|200.19.144.11|:80... failed: Connection timed out.\n",
            "Retrying.\n",
            "\n",
            "--2022-09-13 22:43:45--  (try: 2)  http://ftp.feq.ufu.br/ubirajara/trash_nov_22_2018.zip\n",
            "Connecting to ftp.feq.ufu.br (ftp.feq.ufu.br)|200.19.144.11|:80... failed: Connection timed out.\n",
            "Retrying.\n",
            "\n",
            "--2022-09-13 22:45:58--  (try: 3)  http://ftp.feq.ufu.br/ubirajara/trash_nov_22_2018.zip\n",
            "Connecting to ftp.feq.ufu.br (ftp.feq.ufu.br)|200.19.144.11|:80... failed: Connection timed out.\n",
            "Retrying.\n",
            "\n",
            "--2022-09-13 22:48:10--  (try: 4)  http://ftp.feq.ufu.br/ubirajara/trash_nov_22_2018.zip\n",
            "Connecting to ftp.feq.ufu.br (ftp.feq.ufu.br)|200.19.144.11|:80... failed: Connection timed out.\n",
            "Retrying.\n",
            "\n",
            "--2022-09-13 22:50:26--  (try: 5)  http://ftp.feq.ufu.br/ubirajara/trash_nov_22_2018.zip\n",
            "Connecting to ftp.feq.ufu.br (ftp.feq.ufu.br)|200.19.144.11|:80... failed: Connection timed out.\n",
            "Retrying.\n",
            "\n",
            "--2022-09-13 22:52:42--  (try: 6)  http://ftp.feq.ufu.br/ubirajara/trash_nov_22_2018.zip\n",
            "Connecting to ftp.feq.ufu.br (ftp.feq.ufu.br)|200.19.144.11|:80... failed: Connection timed out.\n",
            "Retrying.\n",
            "\n",
            "--2022-09-13 22:54:58--  (try: 7)  http://ftp.feq.ufu.br/ubirajara/trash_nov_22_2018.zip\n",
            "Connecting to ftp.feq.ufu.br (ftp.feq.ufu.br)|200.19.144.11|:80... failed: Connection timed out.\n",
            "Retrying.\n",
            "\n",
            "--2022-09-13 22:57:14--  (try: 8)  http://ftp.feq.ufu.br/ubirajara/trash_nov_22_2018.zip\n",
            "Connecting to ftp.feq.ufu.br (ftp.feq.ufu.br)|200.19.144.11|:80... failed: Connection timed out.\n",
            "Retrying.\n",
            "\n",
            "--2022-09-13 22:59:35--  (try: 9)  http://ftp.feq.ufu.br/ubirajara/trash_nov_22_2018.zip\n",
            "Connecting to ftp.feq.ufu.br (ftp.feq.ufu.br)|200.19.144.11|:80... failed: Connection timed out.\n",
            "Retrying.\n",
            "\n",
            "--2022-09-13 23:01:55--  (try:10)  http://ftp.feq.ufu.br/ubirajara/trash_nov_22_2018.zip\n",
            "Connecting to ftp.feq.ufu.br (ftp.feq.ufu.br)|200.19.144.11|:80... failed: Connection timed out.\n",
            "Retrying.\n",
            "\n",
            "--2022-09-13 23:04:15--  (try:11)  http://ftp.feq.ufu.br/ubirajara/trash_nov_22_2018.zip\n",
            "Connecting to ftp.feq.ufu.br (ftp.feq.ufu.br)|200.19.144.11|:80... failed: Connection timed out.\n",
            "Retrying.\n",
            "\n",
            "--2022-09-13 23:06:34--  (try:12)  http://ftp.feq.ufu.br/ubirajara/trash_nov_22_2018.zip\n",
            "Connecting to ftp.feq.ufu.br (ftp.feq.ufu.br)|200.19.144.11|:80... "
          ]
        }
      ]
    },
    {
      "cell_type": "code",
      "source": [
        "FILE='trash_nov_22_2018.zip'"
      ],
      "metadata": {
        "id": "oyLilZ2l-loH"
      },
      "execution_count": null,
      "outputs": []
    },
    {
      "cell_type": "code",
      "source": [
        "import zipfile\n",
        "archive = zipfile.ZipFile('trash_nov_22_2018.zip', 'r')"
      ],
      "metadata": {
        "id": "XwXGEOlF_K1c"
      },
      "execution_count": null,
      "outputs": []
    },
    {
      "cell_type": "code",
      "source": [
        "img_name=[]\n",
        "with zipfile.ZipFile(FILE, \"r\") as f:\n",
        "    for name in f.namelist():\n",
        "        img_name.append(name)"
      ],
      "metadata": {
        "id": "cs5xKcmpAgOA"
      },
      "execution_count": null,
      "outputs": []
    },
    {
      "cell_type": "code",
      "source": [
        "print(img_name[0])\n",
        "print(img_name[2526])"
      ],
      "metadata": {
        "id": "PVPFW06o_kw8"
      },
      "execution_count": null,
      "outputs": []
    }
  ]
}