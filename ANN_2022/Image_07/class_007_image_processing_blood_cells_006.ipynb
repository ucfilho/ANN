{
  "nbformat": 4,
  "nbformat_minor": 0,
  "metadata": {
    "colab": {
      "provenance": [],
      "authorship_tag": "ABX9TyPNfgOylO39WM/Ubi6RBGwU",
      "include_colab_link": true
    },
    "kernelspec": {
      "name": "python3",
      "display_name": "Python 3"
    },
    "language_info": {
      "name": "python"
    },
    "accelerator": "GPU"
  },
  "cells": [
    {
      "cell_type": "markdown",
      "metadata": {
        "id": "view-in-github",
        "colab_type": "text"
      },
      "source": [
        "<a href=\"https://colab.research.google.com/github/ucfilho/ANN/blob/master/ANN_2022/Image_07/class_007_image_processing_blood_cells_006.ipynb\" target=\"_parent\"><img src=\"https://colab.research.google.com/assets/colab-badge.svg\" alt=\"Open In Colab\"/></a>"
      ]
    },
    {
      "cell_type": "code",
      "source": [
        "import tensorflow as tf\n",
        "tf.__version__"
      ],
      "metadata": {
        "colab": {
          "base_uri": "https://localhost:8080/",
          "height": 37
        },
        "id": "k5IJzJf5b8rp",
        "outputId": "b1b47d47-5161-4c12-e918-6f2095ca973d"
      },
      "execution_count": 1,
      "outputs": [
        {
          "output_type": "execute_result",
          "data": {
            "text/plain": [
              "'2.9.2'"
            ],
            "application/vnd.google.colaboratory.intrinsic+json": {
              "type": "string"
            }
          },
          "metadata": {},
          "execution_count": 1
        }
      ]
    },
    {
      "cell_type": "code",
      "source": [
        "from tensorflow.keras.layers import Input, Lambda, Dense, Flatten, Conv2D, BatchNormalization, ZeroPadding2D, MaxPool2D, Activation, add\n",
        "from tensorflow.keras.models import Model\n",
        "from tensorflow.keras.preprocessing import image\n",
        "from tensorflow.keras.preprocessing.image import ImageDataGenerator\n",
        "from tensorflow.keras.optimizers import Adam\n",
        "from tensorflow.keras.applications.mobilenet_v2 import preprocess_input\n",
        "\n",
        "import cv2\n",
        "import numpy as np\n",
        "\n",
        "from sklearn.metrics import confusion_matrix\n",
        "import numpy as np\n",
        "import matplotlib.pyplot as plt\n",
        "\n",
        "from glob import glob\n",
        "\n",
        "import zipfile\n",
        "import pandas as pd\n",
        "\n",
        "\n",
        "from sklearn.metrics import classification_report, confusion_matrix"
      ],
      "metadata": {
        "id": "vBV4maM5dj4Z"
      },
      "execution_count": 2,
      "outputs": []
    },
    {
      "cell_type": "code",
      "source": [
        "IMAGE_SIZE = [224,224]\n",
        "ImgSize = IMAGE_SIZE[0]\n",
        "epochs = 16\n",
        "batch_size = 128"
      ],
      "metadata": {
        "id": "joGhrFvxf0SZ"
      },
      "execution_count": 3,
      "outputs": []
    },
    {
      "cell_type": "code",
      "execution_count": 4,
      "metadata": {
        "colab": {
          "base_uri": "https://localhost:8080/"
        },
        "id": "uqYS3HOybl-j",
        "outputId": "e3a88bff-278a-47d5-d373-b4b7d6d17d07"
      },
      "outputs": [
        {
          "output_type": "stream",
          "name": "stdout",
          "text": [
            "Downloading...\n",
            "From: https://drive.google.com/uc?id=1CU4UkqJae07u1tKfp2rajWwwZA0SKiIm\n",
            "To: /content/blood_cell_images.zip\n",
            "100% 110M/110M [00:03<00:00, 35.6MB/s]\n"
          ]
        }
      ],
      "source": [
        "!gdown 1CU4UkqJae07u1tKfp2rajWwwZA0SKiIm"
      ]
    },
    {
      "cell_type": "code",
      "source": [
        "FILE='blood_cell_images.zip'"
      ],
      "metadata": {
        "id": "oA9vdFhEcBjR"
      },
      "execution_count": 5,
      "outputs": []
    },
    {
      "cell_type": "code",
      "source": [
        "archive = zipfile.ZipFile(FILE, 'r')\n",
        "archive.extractall()"
      ],
      "metadata": {
        "id": "PDaUD1YFhapi"
      },
      "execution_count": 6,
      "outputs": []
    },
    {
      "cell_type": "code",
      "source": [],
      "metadata": {
        "id": "71nT-kBylbsC"
      },
      "execution_count": 6,
      "outputs": []
    },
    {
      "cell_type": "code",
      "source": [
        "!ls"
      ],
      "metadata": {
        "colab": {
          "base_uri": "https://localhost:8080/"
        },
        "id": "XkzcOpuIg-4y",
        "outputId": "9d97e96f-2038-4280-d743-f709688a2c76"
      },
      "execution_count": 7,
      "outputs": [
        {
          "output_type": "stream",
          "name": "stdout",
          "text": [
            "blood_cell_images  blood_cell_images.zip  __MACOSX  sample_data\n"
          ]
        }
      ]
    },
    {
      "cell_type": "code",
      "source": [
        "train_path = 'blood_cell_images/TRAIN'\n",
        "test_path = 'blood_cell_images/TEST'\n",
        "images_test = glob(test_path + '/*/*.jp*g')\n",
        "images_train = glob(train_path + '/*/*.jp*g')"
      ],
      "metadata": {
        "id": "dZNvCnEvfywC"
      },
      "execution_count": 8,
      "outputs": []
    },
    {
      "cell_type": "code",
      "source": [
        "folders_train = glob(train_path + '/*')\n",
        "folders_test = glob(test_path + '/*')"
      ],
      "metadata": {
        "id": "gkRGu5GTj146"
      },
      "execution_count": 9,
      "outputs": []
    },
    {
      "cell_type": "code",
      "source": [
        "folders_train"
      ],
      "metadata": {
        "colab": {
          "base_uri": "https://localhost:8080/"
        },
        "id": "SMnhssdIJNmg",
        "outputId": "6b4217e3-5883-432d-a7f3-ae62a3d0403f"
      },
      "execution_count": 10,
      "outputs": [
        {
          "output_type": "execute_result",
          "data": {
            "text/plain": [
              "['blood_cell_images/TRAIN/NEUTROPHIL',\n",
              " 'blood_cell_images/TRAIN/MONOCYTE',\n",
              " 'blood_cell_images/TRAIN/LYMPHOCYTE',\n",
              " 'blood_cell_images/TRAIN/EOSINOPHIL']"
            ]
          },
          "metadata": {},
          "execution_count": 10
        }
      ]
    },
    {
      "cell_type": "code",
      "source": [
        "folders_test"
      ],
      "metadata": {
        "colab": {
          "base_uri": "https://localhost:8080/"
        },
        "id": "GA4YzlX_LMyA",
        "outputId": "784ef4a8-1378-4ec8-ecad-1f7a45f87704"
      },
      "execution_count": 11,
      "outputs": [
        {
          "output_type": "execute_result",
          "data": {
            "text/plain": [
              "['blood_cell_images/TEST/NEUTROPHIL',\n",
              " 'blood_cell_images/TEST/MONOCYTE',\n",
              " 'blood_cell_images/TEST/LYMPHOCYTE',\n",
              " 'blood_cell_images/TEST/EOSINOPHIL']"
            ]
          },
          "metadata": {},
          "execution_count": 11
        }
      ]
    },
    {
      "cell_type": "code",
      "source": [
        "ntrain, ntest = len(images_train),len(images_test)\n",
        "ntrain,ntest"
      ],
      "metadata": {
        "colab": {
          "base_uri": "https://localhost:8080/"
        },
        "id": "db3UWPUCJbvQ",
        "outputId": "ee8790c0-44da-4e2e-c548-044dd9813cb7"
      },
      "execution_count": 12,
      "outputs": [
        {
          "output_type": "execute_result",
          "data": {
            "text/plain": [
              "(9957, 2487)"
            ]
          },
          "metadata": {},
          "execution_count": 12
        }
      ]
    },
    {
      "cell_type": "code",
      "source": [
        "images_train[:4]"
      ],
      "metadata": {
        "colab": {
          "base_uri": "https://localhost:8080/"
        },
        "id": "zf5rRd3dJweu",
        "outputId": "ad074124-2b02-4030-c17f-e098f67255d9"
      },
      "execution_count": 13,
      "outputs": [
        {
          "output_type": "execute_result",
          "data": {
            "text/plain": [
              "['blood_cell_images/TRAIN/NEUTROPHIL/_154_2539.jpeg',\n",
              " 'blood_cell_images/TRAIN/NEUTROPHIL/_36_7046.jpeg',\n",
              " 'blood_cell_images/TRAIN/NEUTROPHIL/_9_5125.jpeg',\n",
              " 'blood_cell_images/TRAIN/NEUTROPHIL/_75_7354.jpeg']"
            ]
          },
          "metadata": {},
          "execution_count": 13
        }
      ]
    },
    {
      "cell_type": "code",
      "source": [
        "types = ['NEUTROPHIL', 'EOSINOPHIL', 'MONOCYTE', 'LYMPHOCYTE']"
      ],
      "metadata": {
        "id": "TgEH-NHPWLCy"
      },
      "execution_count": 14,
      "outputs": []
    },
    {
      "cell_type": "code",
      "source": [
        "\n",
        "def load_images(images,types=types):\n",
        "\n",
        "  nsize = len(images)\n",
        "  X =[]\n",
        "  y =[]\n",
        "  names =[]\n",
        "  k = 0\n",
        "\n",
        "  for i in range(nsize): \n",
        "    img = image.load_img(images[i])\n",
        "    im = cv2.resize(np.array(img), (224, 224))\n",
        "    im = preprocess_input(im)\n",
        "    k += 1\n",
        "    if( k % 3 == 0):\n",
        "      X.append(im)\n",
        "\n",
        "      if(types[0] in images[i]):\n",
        "        names.append(types[0])\n",
        "        y.append(0)\n",
        "      elif(types[1] in images[i]):\n",
        "        names.append(types[1])\n",
        "        y.append(1)\n",
        "      elif(types[2] in images[i]):\n",
        "        names.append(types[2])\n",
        "        y.append(2)\n",
        "      else:\n",
        "        names.append(types[3])\n",
        "        y.append(3)\n",
        "\n",
        "  X =np.array(X)\n",
        "  return X,y,names"
      ],
      "metadata": {
        "id": "zzt1zfddkCSC"
      },
      "execution_count": 15,
      "outputs": []
    },
    {
      "cell_type": "code",
      "source": [
        "\n",
        "X_train, y_train, names_train = load_images(images_train)\n",
        "X_test, y_test, names_test = load_images(images_test)"
      ],
      "metadata": {
        "id": "eoaiNXxgcOkT"
      },
      "execution_count": 16,
      "outputs": []
    },
    {
      "cell_type": "code",
      "source": [
        "X_train[0].shape"
      ],
      "metadata": {
        "colab": {
          "base_uri": "https://localhost:8080/"
        },
        "id": "vhBa4_9Ec21T",
        "outputId": "237d192f-4bdd-4b97-9218-3ecf000f41d0"
      },
      "execution_count": 17,
      "outputs": [
        {
          "output_type": "execute_result",
          "data": {
            "text/plain": [
              "(224, 224, 3)"
            ]
          },
          "metadata": {},
          "execution_count": 17
        }
      ]
    },
    {
      "cell_type": "code",
      "source": [
        "df = pd.DataFrame({'name':names_train,'class':y_train})\n",
        "y_train = pd.get_dummies(df['class'])\n",
        "y_train"
      ],
      "metadata": {
        "colab": {
          "base_uri": "https://localhost:8080/",
          "height": 424
        },
        "id": "3LBDuJfBgLcz",
        "outputId": "b14daecf-91ff-4cd9-954c-b5d6e61cedc2"
      },
      "execution_count": 18,
      "outputs": [
        {
          "output_type": "execute_result",
          "data": {
            "text/plain": [
              "      0  1  2  3\n",
              "0     1  0  0  0\n",
              "1     1  0  0  0\n",
              "2     1  0  0  0\n",
              "3     1  0  0  0\n",
              "4     1  0  0  0\n",
              "...  .. .. .. ..\n",
              "3314  0  1  0  0\n",
              "3315  0  1  0  0\n",
              "3316  0  1  0  0\n",
              "3317  0  1  0  0\n",
              "3318  0  1  0  0\n",
              "\n",
              "[3319 rows x 4 columns]"
            ],
            "text/html": [
              "\n",
              "  <div id=\"df-12261acb-44c9-4120-b3af-41c2817846a4\">\n",
              "    <div class=\"colab-df-container\">\n",
              "      <div>\n",
              "<style scoped>\n",
              "    .dataframe tbody tr th:only-of-type {\n",
              "        vertical-align: middle;\n",
              "    }\n",
              "\n",
              "    .dataframe tbody tr th {\n",
              "        vertical-align: top;\n",
              "    }\n",
              "\n",
              "    .dataframe thead th {\n",
              "        text-align: right;\n",
              "    }\n",
              "</style>\n",
              "<table border=\"1\" class=\"dataframe\">\n",
              "  <thead>\n",
              "    <tr style=\"text-align: right;\">\n",
              "      <th></th>\n",
              "      <th>0</th>\n",
              "      <th>1</th>\n",
              "      <th>2</th>\n",
              "      <th>3</th>\n",
              "    </tr>\n",
              "  </thead>\n",
              "  <tbody>\n",
              "    <tr>\n",
              "      <th>0</th>\n",
              "      <td>1</td>\n",
              "      <td>0</td>\n",
              "      <td>0</td>\n",
              "      <td>0</td>\n",
              "    </tr>\n",
              "    <tr>\n",
              "      <th>1</th>\n",
              "      <td>1</td>\n",
              "      <td>0</td>\n",
              "      <td>0</td>\n",
              "      <td>0</td>\n",
              "    </tr>\n",
              "    <tr>\n",
              "      <th>2</th>\n",
              "      <td>1</td>\n",
              "      <td>0</td>\n",
              "      <td>0</td>\n",
              "      <td>0</td>\n",
              "    </tr>\n",
              "    <tr>\n",
              "      <th>3</th>\n",
              "      <td>1</td>\n",
              "      <td>0</td>\n",
              "      <td>0</td>\n",
              "      <td>0</td>\n",
              "    </tr>\n",
              "    <tr>\n",
              "      <th>4</th>\n",
              "      <td>1</td>\n",
              "      <td>0</td>\n",
              "      <td>0</td>\n",
              "      <td>0</td>\n",
              "    </tr>\n",
              "    <tr>\n",
              "      <th>...</th>\n",
              "      <td>...</td>\n",
              "      <td>...</td>\n",
              "      <td>...</td>\n",
              "      <td>...</td>\n",
              "    </tr>\n",
              "    <tr>\n",
              "      <th>3314</th>\n",
              "      <td>0</td>\n",
              "      <td>1</td>\n",
              "      <td>0</td>\n",
              "      <td>0</td>\n",
              "    </tr>\n",
              "    <tr>\n",
              "      <th>3315</th>\n",
              "      <td>0</td>\n",
              "      <td>1</td>\n",
              "      <td>0</td>\n",
              "      <td>0</td>\n",
              "    </tr>\n",
              "    <tr>\n",
              "      <th>3316</th>\n",
              "      <td>0</td>\n",
              "      <td>1</td>\n",
              "      <td>0</td>\n",
              "      <td>0</td>\n",
              "    </tr>\n",
              "    <tr>\n",
              "      <th>3317</th>\n",
              "      <td>0</td>\n",
              "      <td>1</td>\n",
              "      <td>0</td>\n",
              "      <td>0</td>\n",
              "    </tr>\n",
              "    <tr>\n",
              "      <th>3318</th>\n",
              "      <td>0</td>\n",
              "      <td>1</td>\n",
              "      <td>0</td>\n",
              "      <td>0</td>\n",
              "    </tr>\n",
              "  </tbody>\n",
              "</table>\n",
              "<p>3319 rows × 4 columns</p>\n",
              "</div>\n",
              "      <button class=\"colab-df-convert\" onclick=\"convertToInteractive('df-12261acb-44c9-4120-b3af-41c2817846a4')\"\n",
              "              title=\"Convert this dataframe to an interactive table.\"\n",
              "              style=\"display:none;\">\n",
              "        \n",
              "  <svg xmlns=\"http://www.w3.org/2000/svg\" height=\"24px\"viewBox=\"0 0 24 24\"\n",
              "       width=\"24px\">\n",
              "    <path d=\"M0 0h24v24H0V0z\" fill=\"none\"/>\n",
              "    <path d=\"M18.56 5.44l.94 2.06.94-2.06 2.06-.94-2.06-.94-.94-2.06-.94 2.06-2.06.94zm-11 1L8.5 8.5l.94-2.06 2.06-.94-2.06-.94L8.5 2.5l-.94 2.06-2.06.94zm10 10l.94 2.06.94-2.06 2.06-.94-2.06-.94-.94-2.06-.94 2.06-2.06.94z\"/><path d=\"M17.41 7.96l-1.37-1.37c-.4-.4-.92-.59-1.43-.59-.52 0-1.04.2-1.43.59L10.3 9.45l-7.72 7.72c-.78.78-.78 2.05 0 2.83L4 21.41c.39.39.9.59 1.41.59.51 0 1.02-.2 1.41-.59l7.78-7.78 2.81-2.81c.8-.78.8-2.07 0-2.86zM5.41 20L4 18.59l7.72-7.72 1.47 1.35L5.41 20z\"/>\n",
              "  </svg>\n",
              "      </button>\n",
              "      \n",
              "  <style>\n",
              "    .colab-df-container {\n",
              "      display:flex;\n",
              "      flex-wrap:wrap;\n",
              "      gap: 12px;\n",
              "    }\n",
              "\n",
              "    .colab-df-convert {\n",
              "      background-color: #E8F0FE;\n",
              "      border: none;\n",
              "      border-radius: 50%;\n",
              "      cursor: pointer;\n",
              "      display: none;\n",
              "      fill: #1967D2;\n",
              "      height: 32px;\n",
              "      padding: 0 0 0 0;\n",
              "      width: 32px;\n",
              "    }\n",
              "\n",
              "    .colab-df-convert:hover {\n",
              "      background-color: #E2EBFA;\n",
              "      box-shadow: 0px 1px 2px rgba(60, 64, 67, 0.3), 0px 1px 3px 1px rgba(60, 64, 67, 0.15);\n",
              "      fill: #174EA6;\n",
              "    }\n",
              "\n",
              "    [theme=dark] .colab-df-convert {\n",
              "      background-color: #3B4455;\n",
              "      fill: #D2E3FC;\n",
              "    }\n",
              "\n",
              "    [theme=dark] .colab-df-convert:hover {\n",
              "      background-color: #434B5C;\n",
              "      box-shadow: 0px 1px 3px 1px rgba(0, 0, 0, 0.15);\n",
              "      filter: drop-shadow(0px 1px 2px rgba(0, 0, 0, 0.3));\n",
              "      fill: #FFFFFF;\n",
              "    }\n",
              "  </style>\n",
              "\n",
              "      <script>\n",
              "        const buttonEl =\n",
              "          document.querySelector('#df-12261acb-44c9-4120-b3af-41c2817846a4 button.colab-df-convert');\n",
              "        buttonEl.style.display =\n",
              "          google.colab.kernel.accessAllowed ? 'block' : 'none';\n",
              "\n",
              "        async function convertToInteractive(key) {\n",
              "          const element = document.querySelector('#df-12261acb-44c9-4120-b3af-41c2817846a4');\n",
              "          const dataTable =\n",
              "            await google.colab.kernel.invokeFunction('convertToInteractive',\n",
              "                                                     [key], {});\n",
              "          if (!dataTable) return;\n",
              "\n",
              "          const docLinkHtml = 'Like what you see? Visit the ' +\n",
              "            '<a target=\"_blank\" href=https://colab.research.google.com/notebooks/data_table.ipynb>data table notebook</a>'\n",
              "            + ' to learn more about interactive tables.';\n",
              "          element.innerHTML = '';\n",
              "          dataTable['output_type'] = 'display_data';\n",
              "          await google.colab.output.renderOutput(dataTable, element);\n",
              "          const docLink = document.createElement('div');\n",
              "          docLink.innerHTML = docLinkHtml;\n",
              "          element.appendChild(docLink);\n",
              "        }\n",
              "      </script>\n",
              "    </div>\n",
              "  </div>\n",
              "  "
            ]
          },
          "metadata": {},
          "execution_count": 18
        }
      ]
    },
    {
      "cell_type": "code",
      "source": [
        "for i in range(4): \n",
        "  df_plot= df[(df[\"class\"] == i)]\n",
        "  n= df_plot.shape[0]\n",
        "  print(types[i],n)"
      ],
      "metadata": {
        "colab": {
          "base_uri": "https://localhost:8080/"
        },
        "id": "riQc8fXFglFT",
        "outputId": "55580772-2c19-4aac-9f2e-78f07e6cc0a7"
      },
      "execution_count": 19,
      "outputs": [
        {
          "output_type": "stream",
          "name": "stdout",
          "text": [
            "NEUTROPHIL 833\n",
            "EOSINOPHIL 833\n",
            "MONOCYTE 826\n",
            "LYMPHOCYTE 827\n"
          ]
        }
      ]
    },
    {
      "cell_type": "code",
      "source": [
        "df = pd.DataFrame({'name':names_test,'class':y_test})\n",
        "y_test = pd.get_dummies(df['class'])\n",
        "y_test"
      ],
      "metadata": {
        "colab": {
          "base_uri": "https://localhost:8080/",
          "height": 424
        },
        "id": "wt92shXjg9ol",
        "outputId": "31558ae7-353f-49e6-8699-953fa24701d7"
      },
      "execution_count": 20,
      "outputs": [
        {
          "output_type": "execute_result",
          "data": {
            "text/plain": [
              "     0  1  2  3\n",
              "0    1  0  0  0\n",
              "1    1  0  0  0\n",
              "2    1  0  0  0\n",
              "3    1  0  0  0\n",
              "4    1  0  0  0\n",
              "..  .. .. .. ..\n",
              "824  0  1  0  0\n",
              "825  0  1  0  0\n",
              "826  0  1  0  0\n",
              "827  0  1  0  0\n",
              "828  0  1  0  0\n",
              "\n",
              "[829 rows x 4 columns]"
            ],
            "text/html": [
              "\n",
              "  <div id=\"df-5d2efd4f-a31d-4a32-a0fd-40dc0b01c2cb\">\n",
              "    <div class=\"colab-df-container\">\n",
              "      <div>\n",
              "<style scoped>\n",
              "    .dataframe tbody tr th:only-of-type {\n",
              "        vertical-align: middle;\n",
              "    }\n",
              "\n",
              "    .dataframe tbody tr th {\n",
              "        vertical-align: top;\n",
              "    }\n",
              "\n",
              "    .dataframe thead th {\n",
              "        text-align: right;\n",
              "    }\n",
              "</style>\n",
              "<table border=\"1\" class=\"dataframe\">\n",
              "  <thead>\n",
              "    <tr style=\"text-align: right;\">\n",
              "      <th></th>\n",
              "      <th>0</th>\n",
              "      <th>1</th>\n",
              "      <th>2</th>\n",
              "      <th>3</th>\n",
              "    </tr>\n",
              "  </thead>\n",
              "  <tbody>\n",
              "    <tr>\n",
              "      <th>0</th>\n",
              "      <td>1</td>\n",
              "      <td>0</td>\n",
              "      <td>0</td>\n",
              "      <td>0</td>\n",
              "    </tr>\n",
              "    <tr>\n",
              "      <th>1</th>\n",
              "      <td>1</td>\n",
              "      <td>0</td>\n",
              "      <td>0</td>\n",
              "      <td>0</td>\n",
              "    </tr>\n",
              "    <tr>\n",
              "      <th>2</th>\n",
              "      <td>1</td>\n",
              "      <td>0</td>\n",
              "      <td>0</td>\n",
              "      <td>0</td>\n",
              "    </tr>\n",
              "    <tr>\n",
              "      <th>3</th>\n",
              "      <td>1</td>\n",
              "      <td>0</td>\n",
              "      <td>0</td>\n",
              "      <td>0</td>\n",
              "    </tr>\n",
              "    <tr>\n",
              "      <th>4</th>\n",
              "      <td>1</td>\n",
              "      <td>0</td>\n",
              "      <td>0</td>\n",
              "      <td>0</td>\n",
              "    </tr>\n",
              "    <tr>\n",
              "      <th>...</th>\n",
              "      <td>...</td>\n",
              "      <td>...</td>\n",
              "      <td>...</td>\n",
              "      <td>...</td>\n",
              "    </tr>\n",
              "    <tr>\n",
              "      <th>824</th>\n",
              "      <td>0</td>\n",
              "      <td>1</td>\n",
              "      <td>0</td>\n",
              "      <td>0</td>\n",
              "    </tr>\n",
              "    <tr>\n",
              "      <th>825</th>\n",
              "      <td>0</td>\n",
              "      <td>1</td>\n",
              "      <td>0</td>\n",
              "      <td>0</td>\n",
              "    </tr>\n",
              "    <tr>\n",
              "      <th>826</th>\n",
              "      <td>0</td>\n",
              "      <td>1</td>\n",
              "      <td>0</td>\n",
              "      <td>0</td>\n",
              "    </tr>\n",
              "    <tr>\n",
              "      <th>827</th>\n",
              "      <td>0</td>\n",
              "      <td>1</td>\n",
              "      <td>0</td>\n",
              "      <td>0</td>\n",
              "    </tr>\n",
              "    <tr>\n",
              "      <th>828</th>\n",
              "      <td>0</td>\n",
              "      <td>1</td>\n",
              "      <td>0</td>\n",
              "      <td>0</td>\n",
              "    </tr>\n",
              "  </tbody>\n",
              "</table>\n",
              "<p>829 rows × 4 columns</p>\n",
              "</div>\n",
              "      <button class=\"colab-df-convert\" onclick=\"convertToInteractive('df-5d2efd4f-a31d-4a32-a0fd-40dc0b01c2cb')\"\n",
              "              title=\"Convert this dataframe to an interactive table.\"\n",
              "              style=\"display:none;\">\n",
              "        \n",
              "  <svg xmlns=\"http://www.w3.org/2000/svg\" height=\"24px\"viewBox=\"0 0 24 24\"\n",
              "       width=\"24px\">\n",
              "    <path d=\"M0 0h24v24H0V0z\" fill=\"none\"/>\n",
              "    <path d=\"M18.56 5.44l.94 2.06.94-2.06 2.06-.94-2.06-.94-.94-2.06-.94 2.06-2.06.94zm-11 1L8.5 8.5l.94-2.06 2.06-.94-2.06-.94L8.5 2.5l-.94 2.06-2.06.94zm10 10l.94 2.06.94-2.06 2.06-.94-2.06-.94-.94-2.06-.94 2.06-2.06.94z\"/><path d=\"M17.41 7.96l-1.37-1.37c-.4-.4-.92-.59-1.43-.59-.52 0-1.04.2-1.43.59L10.3 9.45l-7.72 7.72c-.78.78-.78 2.05 0 2.83L4 21.41c.39.39.9.59 1.41.59.51 0 1.02-.2 1.41-.59l7.78-7.78 2.81-2.81c.8-.78.8-2.07 0-2.86zM5.41 20L4 18.59l7.72-7.72 1.47 1.35L5.41 20z\"/>\n",
              "  </svg>\n",
              "      </button>\n",
              "      \n",
              "  <style>\n",
              "    .colab-df-container {\n",
              "      display:flex;\n",
              "      flex-wrap:wrap;\n",
              "      gap: 12px;\n",
              "    }\n",
              "\n",
              "    .colab-df-convert {\n",
              "      background-color: #E8F0FE;\n",
              "      border: none;\n",
              "      border-radius: 50%;\n",
              "      cursor: pointer;\n",
              "      display: none;\n",
              "      fill: #1967D2;\n",
              "      height: 32px;\n",
              "      padding: 0 0 0 0;\n",
              "      width: 32px;\n",
              "    }\n",
              "\n",
              "    .colab-df-convert:hover {\n",
              "      background-color: #E2EBFA;\n",
              "      box-shadow: 0px 1px 2px rgba(60, 64, 67, 0.3), 0px 1px 3px 1px rgba(60, 64, 67, 0.15);\n",
              "      fill: #174EA6;\n",
              "    }\n",
              "\n",
              "    [theme=dark] .colab-df-convert {\n",
              "      background-color: #3B4455;\n",
              "      fill: #D2E3FC;\n",
              "    }\n",
              "\n",
              "    [theme=dark] .colab-df-convert:hover {\n",
              "      background-color: #434B5C;\n",
              "      box-shadow: 0px 1px 3px 1px rgba(0, 0, 0, 0.15);\n",
              "      filter: drop-shadow(0px 1px 2px rgba(0, 0, 0, 0.3));\n",
              "      fill: #FFFFFF;\n",
              "    }\n",
              "  </style>\n",
              "\n",
              "      <script>\n",
              "        const buttonEl =\n",
              "          document.querySelector('#df-5d2efd4f-a31d-4a32-a0fd-40dc0b01c2cb button.colab-df-convert');\n",
              "        buttonEl.style.display =\n",
              "          google.colab.kernel.accessAllowed ? 'block' : 'none';\n",
              "\n",
              "        async function convertToInteractive(key) {\n",
              "          const element = document.querySelector('#df-5d2efd4f-a31d-4a32-a0fd-40dc0b01c2cb');\n",
              "          const dataTable =\n",
              "            await google.colab.kernel.invokeFunction('convertToInteractive',\n",
              "                                                     [key], {});\n",
              "          if (!dataTable) return;\n",
              "\n",
              "          const docLinkHtml = 'Like what you see? Visit the ' +\n",
              "            '<a target=\"_blank\" href=https://colab.research.google.com/notebooks/data_table.ipynb>data table notebook</a>'\n",
              "            + ' to learn more about interactive tables.';\n",
              "          element.innerHTML = '';\n",
              "          dataTable['output_type'] = 'display_data';\n",
              "          await google.colab.output.renderOutput(dataTable, element);\n",
              "          const docLink = document.createElement('div');\n",
              "          docLink.innerHTML = docLinkHtml;\n",
              "          element.appendChild(docLink);\n",
              "        }\n",
              "      </script>\n",
              "    </div>\n",
              "  </div>\n",
              "  "
            ]
          },
          "metadata": {},
          "execution_count": 20
        }
      ]
    },
    {
      "cell_type": "code",
      "source": [
        "from tensorflow.keras.models import Sequential\n",
        "from tensorflow.keras.layers import Dense,  Flatten, Dropout\n",
        "from tensorflow.keras import Model\n",
        "from keras.applications.mobilenet_v2 import MobileNetV2\n",
        "model = MobileNetV2(weights='imagenet')\n",
        "\n",
        "D = len(types)\n",
        "model_output = Dense(D, activation='softmax')\n",
        "model_output = model_output(model.layers[-2].output)\n",
        "\n",
        "model_input = model.input\n",
        "model_build = Model(inputs=model_input, outputs=model_output)\n",
        "\n",
        "# Freeze all the layers\n",
        "for layer in model_build.layers[:-1]:\n",
        "    layer.trainable = False\n",
        "\n",
        "\n"
      ],
      "metadata": {
        "id": "q5TUGKzS0Qe-"
      },
      "execution_count": 22,
      "outputs": []
    },
    {
      "cell_type": "code",
      "source": [
        "base_learning_rate = 0.0001\n",
        "model_build.compile(optimizer=tf.keras.optimizers.RMSprop(learning_rate=base_learning_rate),\n",
        "              loss=tf.keras.losses.CategoricalCrossentropy(from_logits=False),\n",
        "              metrics=['accuracy'])"
      ],
      "metadata": {
        "id": "XC-XgKUm6MPk"
      },
      "execution_count": 23,
      "outputs": []
    },
    {
      "cell_type": "code",
      "source": [
        "X_train = np.array(X_train)\n",
        "X_test = np.array(X_test)\n",
        "r = model_build.fit(x=X_train, \n",
        "              y=y_train, \n",
        "              validation_data=(X_test,y_test),\n",
        "              epochs=10, \n",
        "              verbose=2)\n",
        "print(\"Returned:\", r)"
      ],
      "metadata": {
        "colab": {
          "base_uri": "https://localhost:8080/"
        },
        "id": "2pVFmq90kvUF",
        "outputId": "9d0afa3f-1a5b-45e7-a87b-fd0883a533cd"
      },
      "execution_count": 24,
      "outputs": [
        {
          "output_type": "stream",
          "name": "stdout",
          "text": [
            "Epoch 1/10\n",
            "104/104 - 17s - loss: 1.4112 - accuracy: 0.3269 - val_loss: 1.4415 - val_accuracy: 0.2642 - 17s/epoch - 164ms/step\n",
            "Epoch 2/10\n",
            "104/104 - 5s - loss: 1.2764 - accuracy: 0.4194 - val_loss: 1.3781 - val_accuracy: 0.2871 - 5s/epoch - 53ms/step\n",
            "Epoch 3/10\n",
            "104/104 - 6s - loss: 1.1868 - accuracy: 0.4815 - val_loss: 1.3394 - val_accuracy: 0.3438 - 6s/epoch - 54ms/step\n",
            "Epoch 4/10\n",
            "104/104 - 5s - loss: 1.1191 - accuracy: 0.5285 - val_loss: 1.3263 - val_accuracy: 0.3607 - 5s/epoch - 53ms/step\n",
            "Epoch 5/10\n",
            "104/104 - 6s - loss: 1.0658 - accuracy: 0.5598 - val_loss: 1.2842 - val_accuracy: 0.3969 - 6s/epoch - 53ms/step\n",
            "Epoch 6/10\n",
            "104/104 - 6s - loss: 1.0219 - accuracy: 0.5884 - val_loss: 1.2756 - val_accuracy: 0.4089 - 6s/epoch - 53ms/step\n",
            "Epoch 7/10\n",
            "104/104 - 6s - loss: 0.9816 - accuracy: 0.6174 - val_loss: 1.2642 - val_accuracy: 0.4198 - 6s/epoch - 53ms/step\n",
            "Epoch 8/10\n",
            "104/104 - 6s - loss: 0.9505 - accuracy: 0.6276 - val_loss: 1.2476 - val_accuracy: 0.4355 - 6s/epoch - 55ms/step\n",
            "Epoch 9/10\n",
            "104/104 - 6s - loss: 0.9213 - accuracy: 0.6451 - val_loss: 1.2407 - val_accuracy: 0.4427 - 6s/epoch - 55ms/step\n",
            "Epoch 10/10\n",
            "104/104 - 6s - loss: 0.8952 - accuracy: 0.6577 - val_loss: 1.2309 - val_accuracy: 0.4524 - 6s/epoch - 54ms/step\n",
            "Returned: <keras.callbacks.History object at 0x7ff960389710>\n"
          ]
        }
      ]
    },
    {
      "cell_type": "code",
      "source": [
        "def retorna(y):\n",
        "  resp = []\n",
        "  for yi in y:\n",
        "    vmax =max(yi)\n",
        "    for idx, x in enumerate(yi):\n",
        "      if(x == vmax):\n",
        "        resp.append(idx)\n",
        "  return resp"
      ],
      "metadata": {
        "id": "YruypCY0kE3j"
      },
      "execution_count": 25,
      "outputs": []
    },
    {
      "cell_type": "code",
      "source": [
        "plt.plot(r.history['accuracy'],label='accuracy')\n",
        "#plt.plot(r.history['val_accuracy'],label='val_accuracy')\n",
        "#plt.legend()"
      ],
      "metadata": {
        "id": "BR_3_jyIfwGT",
        "colab": {
          "base_uri": "https://localhost:8080/",
          "height": 282
        },
        "outputId": "4cd24723-682a-4044-f86c-d046fdbc8e12"
      },
      "execution_count": 26,
      "outputs": [
        {
          "output_type": "execute_result",
          "data": {
            "text/plain": [
              "[<matplotlib.lines.Line2D at 0x7ff90d6b1510>]"
            ]
          },
          "metadata": {},
          "execution_count": 26
        },
        {
          "output_type": "display_data",
          "data": {
            "text/plain": [
              "<Figure size 432x288 with 1 Axes>"
            ],
            "image/png": "[encoded data removed]"
          },
          "metadata": {
            "needs_background": "light"
          }
        }
      ]
    },
    {
      "cell_type": "code",
      "source": [
        "predict=model.predict(X_test)"
      ],
      "metadata": {
        "id": "J2fpetDjjZdN",
        "colab": {
          "base_uri": "https://localhost:8080/"
        },
        "outputId": "45ae6326-586a-4018-9864-7b5d0fb425d3"
      },
      "execution_count": 27,
      "outputs": [
        {
          "output_type": "stream",
          "name": "stdout",
          "text": [
            "26/26 [==============================] - 2s 36ms/step\n"
          ]
        }
      ]
    },
    {
      "cell_type": "code",
      "source": [
        "y_calc = retorna(predict)\n",
        "y_test = retorna(np.array(y_test))"
      ],
      "metadata": {
        "id": "g7K0QCCxkQ7c"
      },
      "execution_count": 28,
      "outputs": []
    },
    {
      "cell_type": "code",
      "source": [
        "print(y_test)\n",
        "print(y_calc)"
      ],
      "metadata": {
        "colab": {
          "base_uri": "https://localhost:8080/"
        },
        "id": "EPrPWOJpCVGh",
        "outputId": "e4853b38-055b-48b6-9593-8d722c938c13"
      },
      "execution_count": 29,
      "outputs": [
        {
          "output_type": "stream",
          "name": "stdout",
          "text": [
            "[0, 0, 0, 0, 0, 0, 0, 0, 0, 0, 0, 0, 0, 0, 0, 0, 0, 0, 0, 0, 0, 0, 0, 0, 0, 0, 0, 0, 0, 0, 0, 0, 0, 0, 0, 0, 0, 0, 0, 0, 0, 0, 0, 0, 0, 0, 0, 0, 0, 0, 0, 0, 0, 0, 0, 0, 0, 0, 0, 0, 0, 0, 0, 0, 0, 0, 0, 0, 0, 0, 0, 0, 0, 0, 0, 0, 0, 0, 0, 0, 0, 0, 0, 0, 0, 0, 0, 0, 0, 0, 0, 0, 0, 0, 0, 0, 0, 0, 0, 0, 0, 0, 0, 0, 0, 0, 0, 0, 0, 0, 0, 0, 0, 0, 0, 0, 0, 0, 0, 0, 0, 0, 0, 0, 0, 0, 0, 0, 0, 0, 0, 0, 0, 0, 0, 0, 0, 0, 0, 0, 0, 0, 0, 0, 0, 0, 0, 0, 0, 0, 0, 0, 0, 0, 0, 0, 0, 0, 0, 0, 0, 0, 0, 0, 0, 0, 0, 0, 0, 0, 0, 0, 0, 0, 0, 0, 0, 0, 0, 0, 0, 0, 0, 0, 0, 0, 0, 0, 0, 0, 0, 0, 0, 0, 0, 0, 0, 0, 0, 0, 0, 0, 0, 0, 0, 0, 0, 0, 2, 2, 2, 2, 2, 2, 2, 2, 2, 2, 2, 2, 2, 2, 2, 2, 2, 2, 2, 2, 2, 2, 2, 2, 2, 2, 2, 2, 2, 2, 2, 2, 2, 2, 2, 2, 2, 2, 2, 2, 2, 2, 2, 2, 2, 2, 2, 2, 2, 2, 2, 2, 2, 2, 2, 2, 2, 2, 2, 2, 2, 2, 2, 2, 2, 2, 2, 2, 2, 2, 2, 2, 2, 2, 2, 2, 2, 2, 2, 2, 2, 2, 2, 2, 2, 2, 2, 2, 2, 2, 2, 2, 2, 2, 2, 2, 2, 2, 2, 2, 2, 2, 2, 2, 2, 2, 2, 2, 2, 2, 2, 2, 2, 2, 2, 2, 2, 2, 2, 2, 2, 2, 2, 2, 2, 2, 2, 2, 2, 2, 2, 2, 2, 2, 2, 2, 2, 2, 2, 2, 2, 2, 2, 2, 2, 2, 2, 2, 2, 2, 2, 2, 2, 2, 2, 2, 2, 2, 2, 2, 2, 2, 2, 2, 2, 2, 2, 2, 2, 2, 2, 2, 2, 2, 2, 2, 2, 2, 2, 2, 2, 2, 2, 2, 2, 2, 2, 2, 2, 2, 2, 2, 2, 2, 2, 2, 2, 2, 2, 2, 2, 2, 2, 2, 2, 2, 3, 3, 3, 3, 3, 3, 3, 3, 3, 3, 3, 3, 3, 3, 3, 3, 3, 3, 3, 3, 3, 3, 3, 3, 3, 3, 3, 3, 3, 3, 3, 3, 3, 3, 3, 3, 3, 3, 3, 3, 3, 3, 3, 3, 3, 3, 3, 3, 3, 3, 3, 3, 3, 3, 3, 3, 3, 3, 3, 3, 3, 3, 3, 3, 3, 3, 3, 3, 3, 3, 3, 3, 3, 3, 3, 3, 3, 3, 3, 3, 3, 3, 3, 3, 3, 3, 3, 3, 3, 3, 3, 3, 3, 3, 3, 3, 3, 3, 3, 3, 3, 3, 3, 3, 3, 3, 3, 3, 3, 3, 3, 3, 3, 3, 3, 3, 3, 3, 3, 3, 3, 3, 3, 3, 3, 3, 3, 3, 3, 3, 3, 3, 3, 3, 3, 3, 3, 3, 3, 3, 3, 3, 3, 3, 3, 3, 3, 3, 3, 3, 3, 3, 3, 3, 3, 3, 3, 3, 3, 3, 3, 3, 3, 3, 3, 3, 3, 3, 3, 3, 3, 3, 3, 3, 3, 3, 3, 3, 3, 3, 3, 3, 3, 3, 3, 3, 3, 3, 3, 3, 3, 3, 3, 3, 3, 3, 3, 3, 3, 3, 3, 3, 3, 3, 3, 3, 3, 1, 1, 1, 1, 1, 1, 1, 1, 1, 1, 1, 1, 1, 1, 1, 1, 1, 1, 1, 1, 1, 1, 1, 1, 1, 1, 1, 1, 1, 1, 1, 1, 1, 1, 1, 1, 1, 1, 1, 1, 1, 1, 1, 1, 1, 1, 1, 1, 1, 1, 1, 1, 1, 1, 1, 1, 1, 1, 1, 1, 1, 1, 1, 1, 1, 1, 1, 1, 1, 1, 1, 1, 1, 1, 1, 1, 1, 1, 1, 1, 1, 1, 1, 1, 1, 1, 1, 1, 1, 1, 1, 1, 1, 1, 1, 1, 1, 1, 1, 1, 1, 1, 1, 1, 1, 1, 1, 1, 1, 1, 1, 1, 1, 1, 1, 1, 1, 1, 1, 1, 1, 1, 1, 1, 1, 1, 1, 1, 1, 1, 1, 1, 1, 1, 1, 1, 1, 1, 1, 1, 1, 1, 1, 1, 1, 1, 1, 1, 1, 1, 1, 1, 1, 1, 1, 1, 1, 1, 1, 1, 1, 1, 1, 1, 1, 1, 1, 1, 1, 1, 1, 1, 1, 1, 1, 1, 1, 1, 1, 1, 1, 1, 1, 1, 1, 1, 1, 1, 1, 1, 1, 1, 1, 1, 1, 1, 1, 1, 1, 1, 1, 1, 1, 1, 1, 1, 1, 1]\n",
            "[893, 107, 107, 584, 107, 714, 929, 107, 107, 107, 929, 893, 893, 584, 584, 107, 929, 107, 470, 107, 584, 838, 107, 893, 107, 584, 700, 767, 591, 107, 107, 107, 107, 893, 929, 885, 107, 584, 107, 822, 767, 929, 584, 767, 549, 584, 107, 549, 584, 584, 885, 107, 584, 443, 929, 929, 107, 767, 584, 929, 107, 584, 107, 107, 584, 767, 714, 714, 107, 891, 885, 107, 107, 107, 584, 584, 574, 584, 767, 893, 584, 584, 929, 107, 107, 929, 929, 885, 107, 584, 107, 107, 446, 893, 549, 929, 599, 107, 107, 107, 107, 767, 748, 584, 584, 767, 107, 584, 929, 107, 893, 767, 549, 107, 893, 885, 927, 107, 584, 584, 584, 748, 584, 574, 929, 107, 107, 107, 107, 107, 929, 107, 107, 929, 893, 929, 885, 584, 584, 107, 584, 714, 929, 107, 443, 107, 584, 107, 584, 107, 885, 954, 107, 714, 107, 107, 893, 591, 107, 107, 929, 107, 935, 971, 549, 584, 107, 929, 929, 107, 893, 767, 107, 107, 935, 574, 584, 822, 584, 584, 107, 885, 584, 107, 107, 107, 584, 107, 584, 767, 549, 107, 591, 584, 584, 584, 929, 584, 599, 107, 969, 551, 929, 551, 584, 599, 549, 107, 107, 107, 107, 714, 549, 107, 107, 885, 107, 107, 714, 107, 107, 885, 107, 885, 714, 584, 793, 885, 107, 107, 549, 107, 443, 107, 107, 107, 107, 107, 591, 549, 885, 549, 549, 107, 107, 107, 107, 574, 549, 700, 885, 107, 885, 549, 107, 107, 107, 793, 885, 107, 885, 107, 549, 107, 549, 629, 107, 107, 107, 549, 767, 549, 885, 885, 107, 107, 107, 549, 929, 107, 885, 748, 107, 885, 893, 893, 893, 107, 107, 885, 107, 714, 107, 885, 574, 885, 549, 549, 107, 107, 885, 107, 107, 107, 885, 107, 767, 549, 714, 107, 107, 767, 107, 885, 929, 885, 107, 107, 107, 885, 549, 748, 443, 767, 549, 885, 107, 929, 107, 599, 107, 107, 549, 929, 893, 929, 107, 107, 107, 748, 885, 549, 885, 107, 107, 893, 885, 107, 107, 107, 107, 107, 107, 893, 107, 885, 549, 605, 107, 107, 885, 767, 748, 107, 748, 584, 549, 885, 767, 584, 584, 885, 885, 107, 107, 714, 107, 107, 549, 107, 584, 885, 107, 885, 107, 107, 885, 107, 885, 107, 107, 107, 748, 107, 748, 549, 107, 107, 107, 107, 107, 107, 107, 107, 107, 700, 767, 107, 107, 107, 107, 714, 107, 107, 107, 107, 574, 107, 767, 107, 885, 574, 929, 929, 107, 748, 107, 574, 107, 107, 748, 443, 107, 107, 107, 107, 574, 885, 767, 549, 748, 748, 107, 107, 929, 107, 107, 107, 107, 107, 929, 107, 885, 107, 107, 885, 574, 929, 929, 107, 107, 794, 107, 107, 885, 885, 107, 107, 107, 885, 115, 107, 107, 107, 929, 929, 885, 767, 929, 929, 107, 885, 885, 107, 107, 893, 107, 107, 574, 107, 929, 929, 714, 115, 929, 793, 748, 584, 107, 107, 599, 885, 107, 885, 599, 714, 107, 107, 107, 107, 893, 929, 107, 885, 574, 574, 885, 893, 107, 107, 115, 107, 893, 549, 929, 885, 115, 574, 419, 885, 748, 700, 929, 107, 929, 885, 885, 107, 574, 107, 929, 885, 107, 929, 549, 107, 929, 929, 107, 929, 748, 885, 107, 893, 549, 5, 714, 929, 885, 929, 885, 107, 885, 107, 574, 107, 107, 574, 748, 549, 885, 929, 885, 885, 107, 631, 107, 574, 107, 107, 107, 107, 107, 584, 107, 885, 714, 885, 107, 115, 885, 574, 107, 574, 107, 584, 107, 107, 107, 107, 419, 107, 748, 574, 885, 107, 574, 574, 107, 107, 107, 107, 115, 107, 107, 107, 107, 885, 107, 107, 929, 107, 584, 893, 584, 107, 549, 893, 929, 107, 5, 584, 893, 584, 929, 107, 107, 107, 893, 893, 584, 107, 107, 107, 107, 584, 107, 107, 584, 107, 107, 107, 584, 584, 107, 107, 767, 107, 107, 893, 929, 115, 107, 107, 599, 700, 599, 107, 107, 107, 107, 107, 107, 767, 893, 107, 107, 107, 107, 107, 107, 885, 107, 885, 107, 107, 551, 107, 584, 551, 893, 885, 584, 107, 107, 767, 107, 599, 107, 893, 885, 584, 893, 584, 767, 107, 885, 584, 885, 964, 838, 107, 885, 885, 107, 107, 107, 107, 885, 126, 584, 767, 968, 893, 714, 893, 584, 584, 107, 549, 584, 107, 969, 549, 584, 599, 893, 107, 929, 107, 107, 893, 885, 107, 599, 767, 929, 107, 107, 885, 107, 584, 107, 885, 599, 115, 107, 714, 107, 549, 551, 107, 107, 107, 107, 107, 107, 115, 584, 5, 107, 584, 107, 969, 767, 107, 584, 107, 107, 549, 629, 599, 107, 584, 107, 107, 584, 107, 5, 584, 893, 885, 107, 767, 5, 107, 893, 551, 107, 893, 107, 107, 107, 714, 107, 107, 107, 107, 893, 107, 111, 107, 893, 893, 107, 574, 893, 893, 767, 107, 551, 885, 107, 584, 107, 549, 107, 107, 107]\n"
          ]
        }
      ]
    },
    {
      "cell_type": "code",
      "source": [
        "predict[0]"
      ],
      "metadata": {
        "id": "A-87CnxpWzY7"
      },
      "execution_count": null,
      "outputs": []
    },
    {
      "cell_type": "code",
      "source": [
        "confusion_matrix(y_test, y_calc)"
      ],
      "metadata": {
        "id": "2I2vU9vfkW98"
      },
      "execution_count": null,
      "outputs": []
    },
    {
      "cell_type": "code",
      "source": [
        "# Classification Report\n",
        "print('\\n\\n', classification_report(y_test, y_calc, target_names=types))"
      ],
      "metadata": {
        "id": "h4vXHExikZv8"
      },
      "execution_count": null,
      "outputs": []
    }
  ]
}