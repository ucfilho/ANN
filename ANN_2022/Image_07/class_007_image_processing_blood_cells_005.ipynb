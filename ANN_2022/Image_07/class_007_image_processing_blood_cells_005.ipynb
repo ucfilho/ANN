{
  "nbformat": 4,
  "nbformat_minor": 0,
  "metadata": {
    "colab": {
      "provenance": [],
      "authorship_tag": "ABX9TyOr4qJ6JxEl//teLHDK3wV5",
      "include_colab_link": true
    },
    "kernelspec": {
      "name": "python3",
      "display_name": "Python 3"
    },
    "language_info": {
      "name": "python"
    },
    "accelerator": "GPU",
    "gpuClass": "standard"
  },
  "cells": [
    {
      "cell_type": "markdown",
      "metadata": {
        "id": "view-in-github",
        "colab_type": "text"
      },
      "source": [
        "<a href=\"https://colab.research.google.com/github/ucfilho/ANN/blob/master/ANN_2022/Image_07/class_007_image_processing_blood_cells_005.ipynb\" target=\"_parent\"><img src=\"https://colab.research.google.com/assets/colab-badge.svg\" alt=\"Open In Colab\"/></a>"
      ]
    },
    {
      "cell_type": "code",
      "source": [
        "import tensorflow as tf\n",
        "tf.__version__"
      ],
      "metadata": {
        "colab": {
          "base_uri": "https://localhost:8080/",
          "height": 37
        },
        "id": "k5IJzJf5b8rp",
        "outputId": "d8e5641b-dcd6-4f25-e30b-1bb434dda4bc"
      },
      "execution_count": 1,
      "outputs": [
        {
          "output_type": "execute_result",
          "data": {
            "text/plain": [
              "'2.9.2'"
            ],
            "application/vnd.google.colaboratory.intrinsic+json": {
              "type": "string"
            }
          },
          "metadata": {},
          "execution_count": 1
        }
      ]
    },
    {
      "cell_type": "code",
      "source": [
        "from tensorflow.keras.layers import Input, Lambda, Dense, Flatten, Conv2D, BatchNormalization, ZeroPadding2D, MaxPool2D, Activation, add\n",
        "from tensorflow.keras.models import Model\n",
        "from tensorflow.keras.preprocessing import image\n",
        "from tensorflow.keras.preprocessing.image import ImageDataGenerator\n",
        "from tensorflow.keras.optimizers import Adam\n",
        "from tensorflow.keras.applications.mobilenet_v2 import preprocess_input\n",
        "\n",
        "import cv2\n",
        "import numpy as np\n",
        "\n",
        "from sklearn.metrics import confusion_matrix\n",
        "import numpy as np\n",
        "import matplotlib.pyplot as plt\n",
        "\n",
        "from glob import glob\n",
        "\n",
        "import zipfile\n",
        "import pandas as pd\n",
        "\n",
        "\n",
        "from sklearn.metrics import classification_report, confusion_matrix"
      ],
      "metadata": {
        "id": "vBV4maM5dj4Z"
      },
      "execution_count": 2,
      "outputs": []
    },
    {
      "cell_type": "code",
      "source": [
        "IMAGE_SIZE = [224,224]\n",
        "ImgSize = IMAGE_SIZE[0]\n",
        "epochs = 16\n",
        "batch_size = 128"
      ],
      "metadata": {
        "id": "joGhrFvxf0SZ"
      },
      "execution_count": 3,
      "outputs": []
    },
    {
      "cell_type": "code",
      "execution_count": 4,
      "metadata": {
        "colab": {
          "base_uri": "https://localhost:8080/"
        },
        "id": "uqYS3HOybl-j",
        "outputId": "3c852104-4403-4342-d8c7-b3acff0a13b4"
      },
      "outputs": [
        {
          "output_type": "stream",
          "name": "stdout",
          "text": [
            "Downloading...\n",
            "From: https://drive.google.com/uc?id=1CU4UkqJae07u1tKfp2rajWwwZA0SKiIm\n",
            "To: /content/blood_cell_images.zip\n",
            "100% 110M/110M [00:00<00:00, 370MB/s] \n"
          ]
        }
      ],
      "source": [
        "!gdown 1CU4UkqJae07u1tKfp2rajWwwZA0SKiIm"
      ]
    },
    {
      "cell_type": "code",
      "source": [
        "FILE='blood_cell_images.zip'"
      ],
      "metadata": {
        "id": "oA9vdFhEcBjR"
      },
      "execution_count": 5,
      "outputs": []
    },
    {
      "cell_type": "code",
      "source": [
        "archive = zipfile.ZipFile(FILE, 'r')\n",
        "archive.extractall()"
      ],
      "metadata": {
        "id": "PDaUD1YFhapi"
      },
      "execution_count": 6,
      "outputs": []
    },
    {
      "cell_type": "code",
      "source": [],
      "metadata": {
        "id": "71nT-kBylbsC"
      },
      "execution_count": 6,
      "outputs": []
    },
    {
      "cell_type": "code",
      "source": [
        "!ls"
      ],
      "metadata": {
        "colab": {
          "base_uri": "https://localhost:8080/"
        },
        "id": "XkzcOpuIg-4y",
        "outputId": "70cdd6d7-bb6e-4a51-87c3-1dc7588a3763"
      },
      "execution_count": 7,
      "outputs": [
        {
          "output_type": "stream",
          "name": "stdout",
          "text": [
            "blood_cell_images  blood_cell_images.zip  __MACOSX  sample_data\n"
          ]
        }
      ]
    },
    {
      "cell_type": "code",
      "source": [
        "train_path = 'blood_cell_images/TRAIN'\n",
        "test_path = 'blood_cell_images/TEST'\n",
        "images_test = glob(test_path + '/*/*.jp*g')\n",
        "images_train = glob(train_path + '/*/*.jp*g')"
      ],
      "metadata": {
        "id": "dZNvCnEvfywC"
      },
      "execution_count": 8,
      "outputs": []
    },
    {
      "cell_type": "code",
      "source": [
        "folders_train = glob(train_path + '/*')\n",
        "folders_test = glob(test_path + '/*')"
      ],
      "metadata": {
        "id": "gkRGu5GTj146"
      },
      "execution_count": 9,
      "outputs": []
    },
    {
      "cell_type": "code",
      "source": [
        "folders_train"
      ],
      "metadata": {
        "colab": {
          "base_uri": "https://localhost:8080/"
        },
        "id": "SMnhssdIJNmg",
        "outputId": "9da5ad69-3aa6-4796-ca61-158f80a002ca"
      },
      "execution_count": 10,
      "outputs": [
        {
          "output_type": "execute_result",
          "data": {
            "text/plain": [
              "['blood_cell_images/TRAIN/LYMPHOCYTE',\n",
              " 'blood_cell_images/TRAIN/MONOCYTE',\n",
              " 'blood_cell_images/TRAIN/EOSINOPHIL',\n",
              " 'blood_cell_images/TRAIN/NEUTROPHIL']"
            ]
          },
          "metadata": {},
          "execution_count": 10
        }
      ]
    },
    {
      "cell_type": "code",
      "source": [
        "folders_test"
      ],
      "metadata": {
        "colab": {
          "base_uri": "https://localhost:8080/"
        },
        "id": "GA4YzlX_LMyA",
        "outputId": "3ac1e1f4-1a70-473d-c2d5-54187f50c1a0"
      },
      "execution_count": 11,
      "outputs": [
        {
          "output_type": "execute_result",
          "data": {
            "text/plain": [
              "['blood_cell_images/TEST/LYMPHOCYTE',\n",
              " 'blood_cell_images/TEST/MONOCYTE',\n",
              " 'blood_cell_images/TEST/EOSINOPHIL',\n",
              " 'blood_cell_images/TEST/NEUTROPHIL']"
            ]
          },
          "metadata": {},
          "execution_count": 11
        }
      ]
    },
    {
      "cell_type": "code",
      "source": [
        "ntrain, ntest = len(images_train),len(images_test)\n",
        "ntrain,ntest"
      ],
      "metadata": {
        "colab": {
          "base_uri": "https://localhost:8080/"
        },
        "id": "db3UWPUCJbvQ",
        "outputId": "129900fd-da3c-48dd-bedb-4d2f83564bf0"
      },
      "execution_count": 12,
      "outputs": [
        {
          "output_type": "execute_result",
          "data": {
            "text/plain": [
              "(9957, 2487)"
            ]
          },
          "metadata": {},
          "execution_count": 12
        }
      ]
    },
    {
      "cell_type": "code",
      "source": [
        "images_train[:4]"
      ],
      "metadata": {
        "colab": {
          "base_uri": "https://localhost:8080/"
        },
        "id": "zf5rRd3dJweu",
        "outputId": "b9886806-8dbc-4aa0-aa0b-5065de79e5f5"
      },
      "execution_count": 13,
      "outputs": [
        {
          "output_type": "execute_result",
          "data": {
            "text/plain": [
              "['blood_cell_images/TRAIN/LYMPHOCYTE/_16_9693.jpeg',\n",
              " 'blood_cell_images/TRAIN/LYMPHOCYTE/_9_3547.jpeg',\n",
              " 'blood_cell_images/TRAIN/LYMPHOCYTE/_18_293.jpeg',\n",
              " 'blood_cell_images/TRAIN/LYMPHOCYTE/_11_2363.jpeg']"
            ]
          },
          "metadata": {},
          "execution_count": 13
        }
      ]
    },
    {
      "cell_type": "code",
      "source": [
        "types = ['NEUTROPHIL', 'EOSINOPHIL', 'MONOCYTE', 'LYMPHOCYTE']"
      ],
      "metadata": {
        "id": "TgEH-NHPWLCy"
      },
      "execution_count": 14,
      "outputs": []
    },
    {
      "cell_type": "code",
      "source": [
        "\n",
        "def load_images(images,types=types):\n",
        "\n",
        "  nsize = len(images)\n",
        "  X =[]\n",
        "  y =[]\n",
        "  names =[]\n",
        "  k = 0\n",
        "\n",
        "  for i in range(nsize): \n",
        "    img = image.load_img(images[i])\n",
        "    im = cv2.resize(np.array(img), (224, 224))\n",
        "    im = preprocess_input(im)\n",
        "    k += 1\n",
        "    if( k % 3 == 0):\n",
        "      X.append(im)\n",
        "\n",
        "      if(types[0] in images[i]):\n",
        "        names.append(types[0])\n",
        "        y.append(0)\n",
        "      elif(types[1] in images[i]):\n",
        "        names.append(types[1])\n",
        "        y.append(1)\n",
        "      elif(types[2] in images[i]):\n",
        "        names.append(types[2])\n",
        "        y.append(2)\n",
        "      else:\n",
        "        names.append(types[3])\n",
        "        y.append(3)\n",
        "\n",
        "  X =np.array(X)\n",
        "  return X,y,names"
      ],
      "metadata": {
        "id": "zzt1zfddkCSC"
      },
      "execution_count": 15,
      "outputs": []
    },
    {
      "cell_type": "code",
      "source": [
        "\n",
        "X_train, y_train, names_train = load_images(images_train)\n",
        "X_test, y_test, names_test = load_images(images_test)"
      ],
      "metadata": {
        "id": "eoaiNXxgcOkT"
      },
      "execution_count": 16,
      "outputs": []
    },
    {
      "cell_type": "code",
      "source": [
        "X_train[0].shape"
      ],
      "metadata": {
        "colab": {
          "base_uri": "https://localhost:8080/"
        },
        "id": "vhBa4_9Ec21T",
        "outputId": "1b15ff9f-7d70-45f3-fbab-2734c88217f3"
      },
      "execution_count": 17,
      "outputs": [
        {
          "output_type": "execute_result",
          "data": {
            "text/plain": [
              "(224, 224, 3)"
            ]
          },
          "metadata": {},
          "execution_count": 17
        }
      ]
    },
    {
      "cell_type": "code",
      "source": [
        "df = pd.DataFrame({'name':names_train,'class':y_train})\n",
        "y_train = pd.get_dummies(df['class'])\n",
        "y_train"
      ],
      "metadata": {
        "colab": {
          "base_uri": "https://localhost:8080/",
          "height": 424
        },
        "id": "3LBDuJfBgLcz",
        "outputId": "db818e52-c2f0-46de-8426-0104671ddc9a"
      },
      "execution_count": 18,
      "outputs": [
        {
          "output_type": "execute_result",
          "data": {
            "text/plain": [
              "      0  1  2  3\n",
              "0     0  0  0  1\n",
              "1     0  0  0  1\n",
              "2     0  0  0  1\n",
              "3     0  0  0  1\n",
              "4     0  0  0  1\n",
              "...  .. .. .. ..\n",
              "3314  1  0  0  0\n",
              "3315  1  0  0  0\n",
              "3316  1  0  0  0\n",
              "3317  1  0  0  0\n",
              "3318  1  0  0  0\n",
              "\n",
              "[3319 rows x 4 columns]"
            ],
            "text/html": [
              "\n",
              "  <div id=\"df-8f6ded38-125d-4023-9457-f287a952135c\">\n",
              "    <div class=\"colab-df-container\">\n",
              "      <div>\n",
              "<style scoped>\n",
              "    .dataframe tbody tr th:only-of-type {\n",
              "        vertical-align: middle;\n",
              "    }\n",
              "\n",
              "    .dataframe tbody tr th {\n",
              "        vertical-align: top;\n",
              "    }\n",
              "\n",
              "    .dataframe thead th {\n",
              "        text-align: right;\n",
              "    }\n",
              "</style>\n",
              "<table border=\"1\" class=\"dataframe\">\n",
              "  <thead>\n",
              "    <tr style=\"text-align: right;\">\n",
              "      <th></th>\n",
              "      <th>0</th>\n",
              "      <th>1</th>\n",
              "      <th>2</th>\n",
              "      <th>3</th>\n",
              "    </tr>\n",
              "  </thead>\n",
              "  <tbody>\n",
              "    <tr>\n",
              "      <th>0</th>\n",
              "      <td>0</td>\n",
              "      <td>0</td>\n",
              "      <td>0</td>\n",
              "      <td>1</td>\n",
              "    </tr>\n",
              "    <tr>\n",
              "      <th>1</th>\n",
              "      <td>0</td>\n",
              "      <td>0</td>\n",
              "      <td>0</td>\n",
              "      <td>1</td>\n",
              "    </tr>\n",
              "    <tr>\n",
              "      <th>2</th>\n",
              "      <td>0</td>\n",
              "      <td>0</td>\n",
              "      <td>0</td>\n",
              "      <td>1</td>\n",
              "    </tr>\n",
              "    <tr>\n",
              "      <th>3</th>\n",
              "      <td>0</td>\n",
              "      <td>0</td>\n",
              "      <td>0</td>\n",
              "      <td>1</td>\n",
              "    </tr>\n",
              "    <tr>\n",
              "      <th>4</th>\n",
              "      <td>0</td>\n",
              "      <td>0</td>\n",
              "      <td>0</td>\n",
              "      <td>1</td>\n",
              "    </tr>\n",
              "    <tr>\n",
              "      <th>...</th>\n",
              "      <td>...</td>\n",
              "      <td>...</td>\n",
              "      <td>...</td>\n",
              "      <td>...</td>\n",
              "    </tr>\n",
              "    <tr>\n",
              "      <th>3314</th>\n",
              "      <td>1</td>\n",
              "      <td>0</td>\n",
              "      <td>0</td>\n",
              "      <td>0</td>\n",
              "    </tr>\n",
              "    <tr>\n",
              "      <th>3315</th>\n",
              "      <td>1</td>\n",
              "      <td>0</td>\n",
              "      <td>0</td>\n",
              "      <td>0</td>\n",
              "    </tr>\n",
              "    <tr>\n",
              "      <th>3316</th>\n",
              "      <td>1</td>\n",
              "      <td>0</td>\n",
              "      <td>0</td>\n",
              "      <td>0</td>\n",
              "    </tr>\n",
              "    <tr>\n",
              "      <th>3317</th>\n",
              "      <td>1</td>\n",
              "      <td>0</td>\n",
              "      <td>0</td>\n",
              "      <td>0</td>\n",
              "    </tr>\n",
              "    <tr>\n",
              "      <th>3318</th>\n",
              "      <td>1</td>\n",
              "      <td>0</td>\n",
              "      <td>0</td>\n",
              "      <td>0</td>\n",
              "    </tr>\n",
              "  </tbody>\n",
              "</table>\n",
              "<p>3319 rows × 4 columns</p>\n",
              "</div>\n",
              "      <button class=\"colab-df-convert\" onclick=\"convertToInteractive('df-8f6ded38-125d-4023-9457-f287a952135c')\"\n",
              "              title=\"Convert this dataframe to an interactive table.\"\n",
              "              style=\"display:none;\">\n",
              "        \n",
              "  <svg xmlns=\"http://www.w3.org/2000/svg\" height=\"24px\"viewBox=\"0 0 24 24\"\n",
              "       width=\"24px\">\n",
              "    <path d=\"M0 0h24v24H0V0z\" fill=\"none\"/>\n",
              "    <path d=\"M18.56 5.44l.94 2.06.94-2.06 2.06-.94-2.06-.94-.94-2.06-.94 2.06-2.06.94zm-11 1L8.5 8.5l.94-2.06 2.06-.94-2.06-.94L8.5 2.5l-.94 2.06-2.06.94zm10 10l.94 2.06.94-2.06 2.06-.94-2.06-.94-.94-2.06-.94 2.06-2.06.94z\"/><path d=\"M17.41 7.96l-1.37-1.37c-.4-.4-.92-.59-1.43-.59-.52 0-1.04.2-1.43.59L10.3 9.45l-7.72 7.72c-.78.78-.78 2.05 0 2.83L4 21.41c.39.39.9.59 1.41.59.51 0 1.02-.2 1.41-.59l7.78-7.78 2.81-2.81c.8-.78.8-2.07 0-2.86zM5.41 20L4 18.59l7.72-7.72 1.47 1.35L5.41 20z\"/>\n",
              "  </svg>\n",
              "      </button>\n",
              "      \n",
              "  <style>\n",
              "    .colab-df-container {\n",
              "      display:flex;\n",
              "      flex-wrap:wrap;\n",
              "      gap: 12px;\n",
              "    }\n",
              "\n",
              "    .colab-df-convert {\n",
              "      background-color: #E8F0FE;\n",
              "      border: none;\n",
              "      border-radius: 50%;\n",
              "      cursor: pointer;\n",
              "      display: none;\n",
              "      fill: #1967D2;\n",
              "      height: 32px;\n",
              "      padding: 0 0 0 0;\n",
              "      width: 32px;\n",
              "    }\n",
              "\n",
              "    .colab-df-convert:hover {\n",
              "      background-color: #E2EBFA;\n",
              "      box-shadow: 0px 1px 2px rgba(60, 64, 67, 0.3), 0px 1px 3px 1px rgba(60, 64, 67, 0.15);\n",
              "      fill: #174EA6;\n",
              "    }\n",
              "\n",
              "    [theme=dark] .colab-df-convert {\n",
              "      background-color: #3B4455;\n",
              "      fill: #D2E3FC;\n",
              "    }\n",
              "\n",
              "    [theme=dark] .colab-df-convert:hover {\n",
              "      background-color: #434B5C;\n",
              "      box-shadow: 0px 1px 3px 1px rgba(0, 0, 0, 0.15);\n",
              "      filter: drop-shadow(0px 1px 2px rgba(0, 0, 0, 0.3));\n",
              "      fill: #FFFFFF;\n",
              "    }\n",
              "  </style>\n",
              "\n",
              "      <script>\n",
              "        const buttonEl =\n",
              "          document.querySelector('#df-8f6ded38-125d-4023-9457-f287a952135c button.colab-df-convert');\n",
              "        buttonEl.style.display =\n",
              "          google.colab.kernel.accessAllowed ? 'block' : 'none';\n",
              "\n",
              "        async function convertToInteractive(key) {\n",
              "          const element = document.querySelector('#df-8f6ded38-125d-4023-9457-f287a952135c');\n",
              "          const dataTable =\n",
              "            await google.colab.kernel.invokeFunction('convertToInteractive',\n",
              "                                                     [key], {});\n",
              "          if (!dataTable) return;\n",
              "\n",
              "          const docLinkHtml = 'Like what you see? Visit the ' +\n",
              "            '<a target=\"_blank\" href=https://colab.research.google.com/notebooks/data_table.ipynb>data table notebook</a>'\n",
              "            + ' to learn more about interactive tables.';\n",
              "          element.innerHTML = '';\n",
              "          dataTable['output_type'] = 'display_data';\n",
              "          await google.colab.output.renderOutput(dataTable, element);\n",
              "          const docLink = document.createElement('div');\n",
              "          docLink.innerHTML = docLinkHtml;\n",
              "          element.appendChild(docLink);\n",
              "        }\n",
              "      </script>\n",
              "    </div>\n",
              "  </div>\n",
              "  "
            ]
          },
          "metadata": {},
          "execution_count": 18
        }
      ]
    },
    {
      "cell_type": "code",
      "source": [
        "for i in range(4): \n",
        "  df_plot= df[(df[\"class\"] == i)]\n",
        "  n= df_plot.shape[0]\n",
        "  print(types[i],n)"
      ],
      "metadata": {
        "colab": {
          "base_uri": "https://localhost:8080/"
        },
        "id": "riQc8fXFglFT",
        "outputId": "eea65308-1940-4769-f5fd-4d7208225d13"
      },
      "execution_count": 19,
      "outputs": [
        {
          "output_type": "stream",
          "name": "stdout",
          "text": [
            "NEUTROPHIL 833\n",
            "EOSINOPHIL 833\n",
            "MONOCYTE 826\n",
            "LYMPHOCYTE 827\n"
          ]
        }
      ]
    },
    {
      "cell_type": "code",
      "source": [
        "df = pd.DataFrame({'name':names_test,'class':y_test})\n",
        "y_test = pd.get_dummies(df['class'])\n",
        "y_test"
      ],
      "metadata": {
        "colab": {
          "base_uri": "https://localhost:8080/",
          "height": 424
        },
        "id": "wt92shXjg9ol",
        "outputId": "20943a04-0c95-4a8e-d69f-5368f536e124"
      },
      "execution_count": 20,
      "outputs": [
        {
          "output_type": "execute_result",
          "data": {
            "text/plain": [
              "     0  1  2  3\n",
              "0    0  0  0  1\n",
              "1    0  0  0  1\n",
              "2    0  0  0  1\n",
              "3    0  0  0  1\n",
              "4    0  0  0  1\n",
              "..  .. .. .. ..\n",
              "824  1  0  0  0\n",
              "825  1  0  0  0\n",
              "826  1  0  0  0\n",
              "827  1  0  0  0\n",
              "828  1  0  0  0\n",
              "\n",
              "[829 rows x 4 columns]"
            ],
            "text/html": [
              "\n",
              "  <div id=\"df-ce62dd5c-026d-4b98-8daa-4381e8a29255\">\n",
              "    <div class=\"colab-df-container\">\n",
              "      <div>\n",
              "<style scoped>\n",
              "    .dataframe tbody tr th:only-of-type {\n",
              "        vertical-align: middle;\n",
              "    }\n",
              "\n",
              "    .dataframe tbody tr th {\n",
              "        vertical-align: top;\n",
              "    }\n",
              "\n",
              "    .dataframe thead th {\n",
              "        text-align: right;\n",
              "    }\n",
              "</style>\n",
              "<table border=\"1\" class=\"dataframe\">\n",
              "  <thead>\n",
              "    <tr style=\"text-align: right;\">\n",
              "      <th></th>\n",
              "      <th>0</th>\n",
              "      <th>1</th>\n",
              "      <th>2</th>\n",
              "      <th>3</th>\n",
              "    </tr>\n",
              "  </thead>\n",
              "  <tbody>\n",
              "    <tr>\n",
              "      <th>0</th>\n",
              "      <td>0</td>\n",
              "      <td>0</td>\n",
              "      <td>0</td>\n",
              "      <td>1</td>\n",
              "    </tr>\n",
              "    <tr>\n",
              "      <th>1</th>\n",
              "      <td>0</td>\n",
              "      <td>0</td>\n",
              "      <td>0</td>\n",
              "      <td>1</td>\n",
              "    </tr>\n",
              "    <tr>\n",
              "      <th>2</th>\n",
              "      <td>0</td>\n",
              "      <td>0</td>\n",
              "      <td>0</td>\n",
              "      <td>1</td>\n",
              "    </tr>\n",
              "    <tr>\n",
              "      <th>3</th>\n",
              "      <td>0</td>\n",
              "      <td>0</td>\n",
              "      <td>0</td>\n",
              "      <td>1</td>\n",
              "    </tr>\n",
              "    <tr>\n",
              "      <th>4</th>\n",
              "      <td>0</td>\n",
              "      <td>0</td>\n",
              "      <td>0</td>\n",
              "      <td>1</td>\n",
              "    </tr>\n",
              "    <tr>\n",
              "      <th>...</th>\n",
              "      <td>...</td>\n",
              "      <td>...</td>\n",
              "      <td>...</td>\n",
              "      <td>...</td>\n",
              "    </tr>\n",
              "    <tr>\n",
              "      <th>824</th>\n",
              "      <td>1</td>\n",
              "      <td>0</td>\n",
              "      <td>0</td>\n",
              "      <td>0</td>\n",
              "    </tr>\n",
              "    <tr>\n",
              "      <th>825</th>\n",
              "      <td>1</td>\n",
              "      <td>0</td>\n",
              "      <td>0</td>\n",
              "      <td>0</td>\n",
              "    </tr>\n",
              "    <tr>\n",
              "      <th>826</th>\n",
              "      <td>1</td>\n",
              "      <td>0</td>\n",
              "      <td>0</td>\n",
              "      <td>0</td>\n",
              "    </tr>\n",
              "    <tr>\n",
              "      <th>827</th>\n",
              "      <td>1</td>\n",
              "      <td>0</td>\n",
              "      <td>0</td>\n",
              "      <td>0</td>\n",
              "    </tr>\n",
              "    <tr>\n",
              "      <th>828</th>\n",
              "      <td>1</td>\n",
              "      <td>0</td>\n",
              "      <td>0</td>\n",
              "      <td>0</td>\n",
              "    </tr>\n",
              "  </tbody>\n",
              "</table>\n",
              "<p>829 rows × 4 columns</p>\n",
              "</div>\n",
              "      <button class=\"colab-df-convert\" onclick=\"convertToInteractive('df-ce62dd5c-026d-4b98-8daa-4381e8a29255')\"\n",
              "              title=\"Convert this dataframe to an interactive table.\"\n",
              "              style=\"display:none;\">\n",
              "        \n",
              "  <svg xmlns=\"http://www.w3.org/2000/svg\" height=\"24px\"viewBox=\"0 0 24 24\"\n",
              "       width=\"24px\">\n",
              "    <path d=\"M0 0h24v24H0V0z\" fill=\"none\"/>\n",
              "    <path d=\"M18.56 5.44l.94 2.06.94-2.06 2.06-.94-2.06-.94-.94-2.06-.94 2.06-2.06.94zm-11 1L8.5 8.5l.94-2.06 2.06-.94-2.06-.94L8.5 2.5l-.94 2.06-2.06.94zm10 10l.94 2.06.94-2.06 2.06-.94-2.06-.94-.94-2.06-.94 2.06-2.06.94z\"/><path d=\"M17.41 7.96l-1.37-1.37c-.4-.4-.92-.59-1.43-.59-.52 0-1.04.2-1.43.59L10.3 9.45l-7.72 7.72c-.78.78-.78 2.05 0 2.83L4 21.41c.39.39.9.59 1.41.59.51 0 1.02-.2 1.41-.59l7.78-7.78 2.81-2.81c.8-.78.8-2.07 0-2.86zM5.41 20L4 18.59l7.72-7.72 1.47 1.35L5.41 20z\"/>\n",
              "  </svg>\n",
              "      </button>\n",
              "      \n",
              "  <style>\n",
              "    .colab-df-container {\n",
              "      display:flex;\n",
              "      flex-wrap:wrap;\n",
              "      gap: 12px;\n",
              "    }\n",
              "\n",
              "    .colab-df-convert {\n",
              "      background-color: #E8F0FE;\n",
              "      border: none;\n",
              "      border-radius: 50%;\n",
              "      cursor: pointer;\n",
              "      display: none;\n",
              "      fill: #1967D2;\n",
              "      height: 32px;\n",
              "      padding: 0 0 0 0;\n",
              "      width: 32px;\n",
              "    }\n",
              "\n",
              "    .colab-df-convert:hover {\n",
              "      background-color: #E2EBFA;\n",
              "      box-shadow: 0px 1px 2px rgba(60, 64, 67, 0.3), 0px 1px 3px 1px rgba(60, 64, 67, 0.15);\n",
              "      fill: #174EA6;\n",
              "    }\n",
              "\n",
              "    [theme=dark] .colab-df-convert {\n",
              "      background-color: #3B4455;\n",
              "      fill: #D2E3FC;\n",
              "    }\n",
              "\n",
              "    [theme=dark] .colab-df-convert:hover {\n",
              "      background-color: #434B5C;\n",
              "      box-shadow: 0px 1px 3px 1px rgba(0, 0, 0, 0.15);\n",
              "      filter: drop-shadow(0px 1px 2px rgba(0, 0, 0, 0.3));\n",
              "      fill: #FFFFFF;\n",
              "    }\n",
              "  </style>\n",
              "\n",
              "      <script>\n",
              "        const buttonEl =\n",
              "          document.querySelector('#df-ce62dd5c-026d-4b98-8daa-4381e8a29255 button.colab-df-convert');\n",
              "        buttonEl.style.display =\n",
              "          google.colab.kernel.accessAllowed ? 'block' : 'none';\n",
              "\n",
              "        async function convertToInteractive(key) {\n",
              "          const element = document.querySelector('#df-ce62dd5c-026d-4b98-8daa-4381e8a29255');\n",
              "          const dataTable =\n",
              "            await google.colab.kernel.invokeFunction('convertToInteractive',\n",
              "                                                     [key], {});\n",
              "          if (!dataTable) return;\n",
              "\n",
              "          const docLinkHtml = 'Like what you see? Visit the ' +\n",
              "            '<a target=\"_blank\" href=https://colab.research.google.com/notebooks/data_table.ipynb>data table notebook</a>'\n",
              "            + ' to learn more about interactive tables.';\n",
              "          element.innerHTML = '';\n",
              "          dataTable['output_type'] = 'display_data';\n",
              "          await google.colab.output.renderOutput(dataTable, element);\n",
              "          const docLink = document.createElement('div');\n",
              "          docLink.innerHTML = docLinkHtml;\n",
              "          element.appendChild(docLink);\n",
              "        }\n",
              "      </script>\n",
              "    </div>\n",
              "  </div>\n",
              "  "
            ]
          },
          "metadata": {},
          "execution_count": 20
        }
      ]
    },
    {
      "cell_type": "code",
      "source": [
        "from keras.applications.mobilenet_v2 import MobileNetV2\n",
        "model = MobileNetV2(weights='imagenet')"
      ],
      "metadata": {
        "id": "1jQtzeWfhmxe"
      },
      "execution_count": 21,
      "outputs": []
    },
    {
      "cell_type": "code",
      "source": [
        "# Let's take a look to see how many layers are in the base model\n",
        "print(\"Number of layers in the base model: \", len(model.layers))\n",
        "\n",
        "# Fine-tune from this layer onwards\n",
        "fine_tune_at = 30\n",
        "\n",
        "# Freeze all the layers before the `fine_tune_at` layer\n",
        "# check https://www.tensorflow.org/tutorials/images/transfer_learning\n",
        "for layer in model.layers[:fine_tune_at]:\n",
        "  layer.trainable = False"
      ],
      "metadata": {
        "colab": {
          "base_uri": "https://localhost:8080/"
        },
        "id": "yfQIQy12pIuH",
        "outputId": "c3ad55c8-d5de-467b-e9b5-50cf32764027"
      },
      "execution_count": 22,
      "outputs": [
        {
          "output_type": "stream",
          "name": "stdout",
          "text": [
            "Number of layers in the base model:  156\n"
          ]
        }
      ]
    },
    {
      "cell_type": "code",
      "source": [
        "D =len(types)\n",
        "model_output = Dense(D, activation= 'softmax') #'relu')\n",
        "model_output = model_output(model.layers[-2].output)\n",
        "model_input = model.input\n",
        "model_new = Model(inputs=model_input, outputs=model_output)\n",
        "#for layer in model_new.layers[:-1]:\n",
        "#    layer.trainable = False"
      ],
      "metadata": {
        "id": "2oLTZ3y9h3MM"
      },
      "execution_count": 23,
      "outputs": []
    },
    {
      "cell_type": "code",
      "source": [],
      "metadata": {
        "id": "iwdrhtrIpH8l"
      },
      "execution_count": 23,
      "outputs": []
    },
    {
      "cell_type": "code",
      "source": [
        "base_learning_rate = 0.0001\n",
        "model_new.compile(optimizer=tf.keras.optimizers.RMSprop(learning_rate=base_learning_rate/10),\n",
        "              loss=tf.keras.losses.CategoricalCrossentropy(from_logits=False),\n",
        "              metrics=['accuracy'])"
      ],
      "metadata": {
        "id": "suAFxJ8jh7sU"
      },
      "execution_count": 24,
      "outputs": []
    },
    {
      "cell_type": "code",
      "source": [
        "r = model_new.fit(\n",
        "    x=X_train,\n",
        "    y=y_train,\n",
        "    validation_data=(X_test, y_test),\n",
        "    epochs=30,\n",
        "    verbose=2\n",
        ")"
      ],
      "metadata": {
        "id": "lBwZKcBNh7vd",
        "colab": {
          "base_uri": "https://localhost:8080/"
        },
        "outputId": "c60dc3db-bd75-48a1-ee1b-217dc877d4b7"
      },
      "execution_count": 25,
      "outputs": [
        {
          "output_type": "stream",
          "name": "stdout",
          "text": [
            "Epoch 1/30\n",
            "104/104 - 22s - loss: 1.2404 - accuracy: 0.4384 - val_loss: 1.7171 - val_accuracy: 0.3076 - 22s/epoch - 207ms/step\n",
            "Epoch 2/30\n",
            "104/104 - 10s - loss: 0.7911 - accuracy: 0.7409 - val_loss: 1.8554 - val_accuracy: 0.3052 - 10s/epoch - 96ms/step\n",
            "Epoch 3/30\n",
            "104/104 - 10s - loss: 0.4747 - accuracy: 0.8729 - val_loss: 1.8952 - val_accuracy: 0.3583 - 10s/epoch - 97ms/step\n",
            "Epoch 4/30\n",
            "104/104 - 10s - loss: 0.2919 - accuracy: 0.9274 - val_loss: 1.8027 - val_accuracy: 0.4138 - 10s/epoch - 99ms/step\n",
            "Epoch 5/30\n",
            "104/104 - 10s - loss: 0.1876 - accuracy: 0.9590 - val_loss: 1.7057 - val_accuracy: 0.4644 - 10s/epoch - 97ms/step\n",
            "Epoch 6/30\n",
            "104/104 - 11s - loss: 0.1162 - accuracy: 0.9813 - val_loss: 1.5702 - val_accuracy: 0.5163 - 11s/epoch - 102ms/step\n",
            "Epoch 7/30\n",
            "104/104 - 10s - loss: 0.0773 - accuracy: 0.9861 - val_loss: 1.4160 - val_accuracy: 0.5766 - 10s/epoch - 100ms/step\n",
            "Epoch 8/30\n",
            "104/104 - 10s - loss: 0.0494 - accuracy: 0.9940 - val_loss: 1.2867 - val_accuracy: 0.6224 - 10s/epoch - 96ms/step\n",
            "Epoch 9/30\n",
            "104/104 - 10s - loss: 0.0316 - accuracy: 0.9976 - val_loss: 1.2373 - val_accuracy: 0.6490 - 10s/epoch - 96ms/step\n",
            "Epoch 10/30\n",
            "104/104 - 10s - loss: 0.0195 - accuracy: 0.9988 - val_loss: 1.2006 - val_accuracy: 0.6731 - 10s/epoch - 96ms/step\n",
            "Epoch 11/30\n",
            "104/104 - 10s - loss: 0.0123 - accuracy: 0.9994 - val_loss: 1.1508 - val_accuracy: 0.6876 - 10s/epoch - 97ms/step\n",
            "Epoch 12/30\n",
            "104/104 - 10s - loss: 0.0092 - accuracy: 0.9991 - val_loss: 1.0696 - val_accuracy: 0.7129 - 10s/epoch - 98ms/step\n",
            "Epoch 13/30\n",
            "104/104 - 10s - loss: 0.0069 - accuracy: 0.9991 - val_loss: 1.0469 - val_accuracy: 0.7358 - 10s/epoch - 96ms/step\n",
            "Epoch 14/30\n",
            "104/104 - 10s - loss: 0.0041 - accuracy: 1.0000 - val_loss: 1.0408 - val_accuracy: 0.7443 - 10s/epoch - 98ms/step\n",
            "Epoch 15/30\n",
            "104/104 - 10s - loss: 0.0030 - accuracy: 1.0000 - val_loss: 1.0194 - val_accuracy: 0.7587 - 10s/epoch - 97ms/step\n",
            "Epoch 16/30\n",
            "104/104 - 10s - loss: 0.0016 - accuracy: 1.0000 - val_loss: 1.0429 - val_accuracy: 0.7672 - 10s/epoch - 98ms/step\n",
            "Epoch 17/30\n",
            "104/104 - 10s - loss: 0.0013 - accuracy: 1.0000 - val_loss: 1.0346 - val_accuracy: 0.7720 - 10s/epoch - 96ms/step\n",
            "Epoch 18/30\n",
            "104/104 - 10s - loss: 0.0016 - accuracy: 0.9997 - val_loss: 1.0249 - val_accuracy: 0.7817 - 10s/epoch - 96ms/step\n",
            "Epoch 19/30\n",
            "104/104 - 10s - loss: 7.6336e-04 - accuracy: 1.0000 - val_loss: 1.0257 - val_accuracy: 0.7780 - 10s/epoch - 96ms/step\n",
            "Epoch 20/30\n",
            "104/104 - 10s - loss: 4.1739e-04 - accuracy: 1.0000 - val_loss: 0.9942 - val_accuracy: 0.7877 - 10s/epoch - 96ms/step\n",
            "Epoch 21/30\n",
            "104/104 - 10s - loss: 0.0011 - accuracy: 0.9997 - val_loss: 1.0043 - val_accuracy: 0.7925 - 10s/epoch - 96ms/step\n",
            "Epoch 22/30\n",
            "104/104 - 10s - loss: 3.8386e-04 - accuracy: 1.0000 - val_loss: 1.0048 - val_accuracy: 0.7925 - 10s/epoch - 96ms/step\n",
            "Epoch 23/30\n",
            "104/104 - 10s - loss: 1.7070e-04 - accuracy: 1.0000 - val_loss: 0.9612 - val_accuracy: 0.8034 - 10s/epoch - 96ms/step\n",
            "Epoch 24/30\n",
            "104/104 - 10s - loss: 2.4924e-04 - accuracy: 1.0000 - val_loss: 1.0578 - val_accuracy: 0.7937 - 10s/epoch - 96ms/step\n",
            "Epoch 25/30\n",
            "104/104 - 10s - loss: 3.7813e-04 - accuracy: 1.0000 - val_loss: 1.0455 - val_accuracy: 0.7973 - 10s/epoch - 96ms/step\n",
            "Epoch 26/30\n",
            "104/104 - 10s - loss: 1.5295e-04 - accuracy: 1.0000 - val_loss: 1.0340 - val_accuracy: 0.7961 - 10s/epoch - 96ms/step\n",
            "Epoch 27/30\n",
            "104/104 - 10s - loss: 1.0962e-04 - accuracy: 1.0000 - val_loss: 0.9798 - val_accuracy: 0.8058 - 10s/epoch - 96ms/step\n",
            "Epoch 28/30\n",
            "104/104 - 10s - loss: 1.7140e-04 - accuracy: 1.0000 - val_loss: 1.0521 - val_accuracy: 0.8046 - 10s/epoch - 96ms/step\n",
            "Epoch 29/30\n",
            "104/104 - 10s - loss: 1.3257e-04 - accuracy: 1.0000 - val_loss: 1.0863 - val_accuracy: 0.8022 - 10s/epoch - 96ms/step\n",
            "Epoch 30/30\n",
            "104/104 - 10s - loss: 5.3981e-05 - accuracy: 1.0000 - val_loss: 1.0679 - val_accuracy: 0.8070 - 10s/epoch - 96ms/step\n"
          ]
        }
      ]
    },
    {
      "cell_type": "code",
      "source": [
        "plt.plot(r.history['accuracy'],label='accuracy')\n",
        "plt.plot(r.history['val_accuracy'],label='val_accuracy')\n",
        "plt.legend()"
      ],
      "metadata": {
        "id": "q1ky-EElh7yM",
        "colab": {
          "base_uri": "https://localhost:8080/",
          "height": 282
        },
        "outputId": "f60175c2-fb20-4982-cf9f-8e40df2d8b29"
      },
      "execution_count": 26,
      "outputs": [
        {
          "output_type": "execute_result",
          "data": {
            "text/plain": [
              "<matplotlib.legend.Legend at 0x7f6efd7ce4d0>"
            ]
          },
          "metadata": {},
          "execution_count": 26
        },
        {
          "output_type": "display_data",
          "data": {
            "text/plain": [
              "<Figure size 432x288 with 1 Axes>"
            ],
            "image/png": "[encoded data removed]"
          },
          "metadata": {
            "needs_background": "light"
          }
        }
      ]
    },
    {
      "cell_type": "code",
      "source": [
        "plt.plot(r.history['loss'],label='loss')\n",
        "plt.plot(r.history['val_loss'],label='val_loss')\n",
        "plt.legend()"
      ],
      "metadata": {
        "id": "k-8VDyHih71N",
        "colab": {
          "base_uri": "https://localhost:8080/",
          "height": 282
        },
        "outputId": "f13265fc-4448-48d1-e33c-2545fde48bf2"
      },
      "execution_count": 27,
      "outputs": [
        {
          "output_type": "execute_result",
          "data": {
            "text/plain": [
              "<matplotlib.legend.Legend at 0x7f6efd2caa90>"
            ]
          },
          "metadata": {},
          "execution_count": 27
        },
        {
          "output_type": "display_data",
          "data": {
            "text/plain": [
              "<Figure size 432x288 with 1 Axes>"
            ],
            "image/png": "[encoded data removed]"
          },
          "metadata": {
            "needs_background": "light"
          }
        }
      ]
    },
    {
      "cell_type": "code",
      "source": [],
      "metadata": {
        "id": "VzuVeHe4h39J"
      },
      "execution_count": 27,
      "outputs": []
    },
    {
      "cell_type": "code",
      "source": [],
      "metadata": {
        "id": "_N1RxrkMh3_1"
      },
      "execution_count": 27,
      "outputs": []
    }
  ]
}