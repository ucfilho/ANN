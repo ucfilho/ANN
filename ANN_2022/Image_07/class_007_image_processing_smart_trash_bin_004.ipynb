{
  "nbformat": 4,
  "nbformat_minor": 0,
  "metadata": {
    "colab": {
      "provenance": [],
      "authorship_tag": "ABX9TyNdp3l7fwHI1eObvvUTxqRd",
      "include_colab_link": true
    },
    "kernelspec": {
      "name": "python3",
      "display_name": "Python 3"
    },
    "language_info": {
      "name": "python"
    },
    "accelerator": "GPU"
  },
  "cells": [
    {
      "cell_type": "markdown",
      "metadata": {
        "id": "view-in-github",
        "colab_type": "text"
      },
      "source": [
        "<a href=\"https://colab.research.google.com/github/ucfilho/ANN/blob/master/ANN_2022/Image_07/class_007_image_processing_smart_trash_bin_004.ipynb\" target=\"_parent\"><img src=\"https://colab.research.google.com/assets/colab-badge.svg\" alt=\"Open In Colab\"/></a>"
      ]
    },
    {
      "cell_type": "code",
      "source": [
        "import cv2\n",
        "import numpy as np\n",
        "import pandas as pd\n",
        "import random\n",
        "import zipfile\n",
        "from matplotlib import pyplot as plt\n",
        "import skimage.feature\n",
        "from string import digits\n",
        "import seaborn as sns\n",
        "import skimage\n",
        "import tensorflow as tf\n",
        "from tensorflow.keras.models import Sequential\n",
        "from tensorflow.keras.models import Model\n",
        "from tensorflow.keras.layers import Dense, Activation, Conv2D, MaxPooling2D, Flatten, Dropout, BatchNormalization"
      ],
      "metadata": {
        "id": "7wNxYQBaKVJQ"
      },
      "execution_count": 1,
      "outputs": []
    },
    {
      "cell_type": "code",
      "source": [
        "from sklearn.neural_network import MLPClassifier\n",
        "from sklearn.model_selection import train_test_split\n",
        "from sklearn.preprocessing import StandardScaler\n",
        "from sklearn.metrics import classification_report, confusion_matrix"
      ],
      "metadata": {
        "id": "JNNoeVHgb9WL"
      },
      "execution_count": 2,
      "outputs": []
    },
    {
      "cell_type": "code",
      "source": [
        "!gdown 1L4mdCDBgybKqr5Wo-kqT8HXcBJ9HXqSX"
      ],
      "metadata": {
        "colab": {
          "base_uri": "https://localhost:8080/"
        },
        "id": "Ea3bxyjq-kcq",
        "outputId": "0065d710-348a-4903-8143-704afac15d61"
      },
      "execution_count": 3,
      "outputs": [
        {
          "output_type": "stream",
          "name": "stdout",
          "text": [
            "Downloading...\n",
            "From: https://drive.google.com/uc?id=1L4mdCDBgybKqr5Wo-kqT8HXcBJ9HXqSX\n",
            "To: /content/trash_nov_22_2018.zip\n",
            "100% 42.8M/42.8M [00:00<00:00, 223MB/s]\n"
          ]
        }
      ]
    },
    {
      "cell_type": "code",
      "source": [
        "FILE='trash_nov_22_2018.zip'"
      ],
      "metadata": {
        "id": "oyLilZ2l-loH"
      },
      "execution_count": 4,
      "outputs": []
    },
    {
      "cell_type": "code",
      "source": [
        "archive = zipfile.ZipFile('trash_nov_22_2018.zip', 'r')\n",
        "archive.extractall()"
      ],
      "metadata": {
        "id": "XwXGEOlF_K1c"
      },
      "execution_count": 5,
      "outputs": []
    },
    {
      "cell_type": "code",
      "source": [
        "img_name=[]\n",
        "with zipfile.ZipFile(FILE, \"r\") as f:\n",
        "    for name in f.namelist():\n",
        "        img_name.append(name)"
      ],
      "metadata": {
        "id": "cs5xKcmpAgOA"
      },
      "execution_count": 6,
      "outputs": []
    },
    {
      "cell_type": "code",
      "source": [
        "Img_Size = 224\n",
        "ref = 'jpg'\n",
        "notref = 'met'"
      ],
      "metadata": {
        "id": "PVPFW06o_kw8"
      },
      "execution_count": 7,
      "outputs": []
    },
    {
      "cell_type": "code",
      "source": [
        "X= []  \n",
        "Y =[]\n",
        "n = len(img_name)\n",
        "i = 0\n",
        "for i in range(n):\n",
        "  name = img_name[i]\n",
        "  if(ref in name):\n",
        "    Y.append(name)\n",
        "    img = cv2.imread(name)\n",
        "    resized = cv2.resize(img, (Img_Size,Img_Size))\n",
        "    X.append(resized)\n",
        "m = len(Y)\n",
        "print(n,m)"
      ],
      "metadata": {
        "id": "lAOB3uC3JG2V",
        "colab": {
          "base_uri": "https://localhost:8080/"
        },
        "outputId": "742ea914-3d9e-4750-fde4-360f2960c6d0"
      },
      "execution_count": 8,
      "outputs": [
        {
          "output_type": "stream",
          "name": "stdout",
          "text": [
            "2527 2527\n"
          ]
        }
      ]
    },
    {
      "cell_type": "code",
      "source": [
        "n =len(img_name)\n",
        "tipos = []\n",
        "selected = 'find'\n",
        "for x in img_name:\n",
        "  result =''.join([i for i in x[:-4] if not i.isdigit()])\n",
        "  if(result != selected):\n",
        "    selected = result\n",
        "    tipos.append(selected)\n"
      ],
      "metadata": {
        "id": "5Kh0R80ndBQ0"
      },
      "execution_count": 9,
      "outputs": []
    },
    {
      "cell_type": "code",
      "source": [
        "label =[]\n",
        "for name in img_name:\n",
        "  for idx, x in enumerate(tipos):\n",
        "    if(x in name):\n",
        "      label.append(idx)"
      ],
      "metadata": {
        "id": "MejkwNSX1kOi"
      },
      "execution_count": 10,
      "outputs": []
    },
    {
      "cell_type": "code",
      "source": [
        "df=pd.DataFrame(label,columns=['target'])"
      ],
      "metadata": {
        "id": "GyKMP7gCScy4"
      },
      "execution_count": 11,
      "outputs": []
    },
    {
      "cell_type": "code",
      "source": [
        "y = pd.get_dummies(df['target'])"
      ],
      "metadata": {
        "id": "YGlSEZ5O3pkf"
      },
      "execution_count": 12,
      "outputs": []
    },
    {
      "cell_type": "code",
      "source": [
        "for i in range(6): \n",
        "  n= df[(df[\"target\"] == i)].shape[0]\n",
        "  print(tipos[i],n)"
      ],
      "metadata": {
        "colab": {
          "base_uri": "https://localhost:8080/"
        },
        "id": "W6CDIVizOZXv",
        "outputId": "6557b94c-4840-4e91-a907-7d308bd6f3ff"
      },
      "execution_count": 13,
      "outputs": [
        {
          "output_type": "stream",
          "name": "stdout",
          "text": [
            "cardboard 403\n",
            "glass 501\n",
            "metal 410\n",
            "paper 594\n",
            "plastic 482\n",
            "trash 137\n"
          ]
        }
      ]
    },
    {
      "cell_type": "code",
      "source": [
        "#label"
      ],
      "metadata": {
        "id": "nZ_iIcFRNue7"
      },
      "execution_count": 14,
      "outputs": []
    },
    {
      "cell_type": "code",
      "source": [
        "n =len(img_name)\n",
        "data = np.empty((n, 224, 224, 3))"
      ],
      "metadata": {
        "id": "Y0IiAVMPNZF9"
      },
      "execution_count": 15,
      "outputs": []
    },
    {
      "cell_type": "code",
      "source": [
        "# https://pythontutorials.eu/deep-learning/transfer-learning/"
      ],
      "metadata": {
        "id": "g5xlAJuoOle1"
      },
      "execution_count": 16,
      "outputs": []
    },
    {
      "cell_type": "code",
      "source": [
        "DATASET_SIZE = len(img_name)\n",
        "Ind = range(DATASET_SIZE)\n",
        "Ind_train, Ind_test= train_test_split(Ind,test_size=0.20,stratify=label, shuffle=True, random_state=3)\n",
        "X = np.array(X)\n",
        "X_train=X[Ind_train]\n",
        "X_test = X[Ind_test]\n",
        "y_train=y.iloc[Ind_train,:]\n",
        "y_test = y.iloc[Ind_test,:]"
      ],
      "metadata": {
        "id": "xJyag03ml4jj"
      },
      "execution_count": 17,
      "outputs": []
    },
    {
      "cell_type": "code",
      "source": [
        "from keras.applications.mobilenet_v2 import preprocess_input\n",
        "from skimage.transform import resize\n",
        "i = 0\n",
        "for im in X:\n",
        "    im = preprocess_input(im)\n",
        "    im = resize(im, output_shape=(224, 224))\n",
        "    data[i] = im\n",
        "    i += 1"
      ],
      "metadata": {
        "id": "VVRS0r0UNzw8"
      },
      "execution_count": 18,
      "outputs": []
    },
    {
      "cell_type": "code",
      "source": [
        "n"
      ],
      "metadata": {
        "colab": {
          "base_uri": "https://localhost:8080/"
        },
        "id": "9N7fPiisPnkF",
        "outputId": "1964d940-3ca1-485c-b398-88aba96e92bd"
      },
      "execution_count": 19,
      "outputs": [
        {
          "output_type": "execute_result",
          "data": {
            "text/plain": [
              "2527"
            ]
          },
          "metadata": {},
          "execution_count": 19
        }
      ]
    },
    {
      "cell_type": "code",
      "source": [
        "n =len(img_name)\n",
        "m = len(tipos)\n",
        "\n",
        "'''\n",
        "labels_tf = np.empty(n, dtype=int)\n",
        "for idx, yi in enumerate(label):\n",
        "  labels_tf[idx] = yi\n",
        "'''\n",
        "idx = 0\n",
        "labels_tf = np.empty([n,m], dtype=int)\n",
        "for yi in y.values:\n",
        "  labels_tf[idx] = yi\n",
        "  idx = idx + 1\n",
        "\n"
      ],
      "metadata": {
        "id": "rcgv-joQO61M"
      },
      "execution_count": 20,
      "outputs": []
    },
    {
      "cell_type": "code",
      "source": [
        "import tensorflow as tf\n",
        "#from tensorflow.keras.applications.mobilenet_v2 import MobileNetV2\n",
        "from tensorflow.keras.applications.resnet50 import ResNet50\n",
        "# check https://keras.io/api/applications/\n",
        "#model = MobileNetV2(weights='imagenet')\n",
        "model = ResNet50(weights='imagenet')"
      ],
      "metadata": {
        "id": "EwENgCGxQVS8"
      },
      "execution_count": 21,
      "outputs": []
    },
    {
      "cell_type": "code",
      "source": [
        "from keras.applications.mobilenet_v2 import decode_predictions\n",
        "\n",
        "predictions = model.predict(data)\n",
        "k = 0\n",
        "for decoded_prediction in decode_predictions(predictions, top=1):\n",
        "  \n",
        "  for name, desc, score in decoded_prediction:\n",
        "      if(k % 200 ==0):\n",
        "        print('- {} ({:.2f}%%) {}'.format(desc, 100 * score,img_name[k]))\n",
        "  k = k +1"
      ],
      "metadata": {
        "colab": {
          "base_uri": "https://localhost:8080/"
        },
        "id": "ooc62gF9QWUE",
        "outputId": "0f9c370a-2f0e-4c67-bed1-fcd3b75fb769"
      },
      "execution_count": 22,
      "outputs": [
        {
          "output_type": "stream",
          "name": "stdout",
          "text": [
            "79/79 [==============================] - 12s 102ms/step\n",
            "- nematode (13.97%%) cardboard1.jpg\n",
            "- nematode (11.66%%) cardboard201.jpg\n",
            "- nematode (15.76%%) cardboard401.jpg\n",
            "- nematode (16.52%%) glass198.jpg\n",
            "- nematode (15.65%%) glass398.jpg\n",
            "- nematode (9.65%%) metal97.jpg\n",
            "- nematode (12.90%%) metal297.jpg\n",
            "- nematode (14.93%%) paper87.jpg\n",
            "- nematode (13.22%%) paper287.jpg\n",
            "- matchstick (7.24%%) paper487.jpg\n",
            "- nematode (11.52%%) plastic93.jpg\n",
            "- nematode (10.52%%) plastic293.jpg\n",
            "- nematode (12.50%%) trash11.jpg\n"
          ]
        }
      ]
    },
    {
      "cell_type": "code",
      "source": [
        "# Let's take a look to see how many layers are in the base model\n",
        "print(\"Number of layers in the base model: \", len(model.layers))\n",
        "\n",
        "# Fine-tune from this layer onwards\n",
        "fine_tune_at = 160\n",
        "\n",
        "# Freeze all the layers before the `fine_tune_at` layer\n",
        "# check https://www.tensorflow.org/tutorials/images/transfer_learning\n",
        "for layer in model.layers[:fine_tune_at]:\n",
        "  layer.trainable = False"
      ],
      "metadata": {
        "colab": {
          "base_uri": "https://localhost:8080/"
        },
        "id": "BoWVRnZ-E2s6",
        "outputId": "4c630131-3fa0-4015-b81d-2d60eb5782db"
      },
      "execution_count": 23,
      "outputs": [
        {
          "output_type": "stream",
          "name": "stdout",
          "text": [
            "Number of layers in the base model:  177\n"
          ]
        }
      ]
    },
    {
      "cell_type": "code",
      "source": [
        "#from keras.layers import Dense\n",
        "#D = len(tipos)\n",
        "#model_output = Dense(D, activation='softmax')"
      ],
      "metadata": {
        "id": "j3I5nZ8dRYKd"
      },
      "execution_count": 24,
      "outputs": []
    },
    {
      "cell_type": "code",
      "source": [
        "#model_output = model_output(model.layers[-2].output)"
      ],
      "metadata": {
        "id": "bz08xnbiTn7e"
      },
      "execution_count": 25,
      "outputs": []
    },
    {
      "cell_type": "code",
      "source": [
        "D =len(tipos)\n",
        "model_output = Dense(D, activation= 'softmax') #'relu')\n",
        "model_output = model_output(model.layers[-2].output)\n",
        "model_input = model.input\n",
        "model_new = Model(inputs=model_input, outputs=model_output)"
      ],
      "metadata": {
        "id": "iCvwlrUtITKz"
      },
      "execution_count": 26,
      "outputs": []
    },
    {
      "cell_type": "code",
      "source": [
        "#from keras import Model\n",
        "#from sklearn.metrics import classification_report, confusion_matrix\n",
        "#model_input = model.input\n",
        "#model_model = Model(inputs=model_input, outputs=model_output)"
      ],
      "metadata": {
        "id": "IqaB8H5ETs0W"
      },
      "execution_count": 27,
      "outputs": []
    },
    {
      "cell_type": "code",
      "source": [
        "model_new.compile(\n",
        "    optimizer='adam',\n",
        "    loss='categorical_crossentropy',\n",
        "    metrics=['accuracy']\n",
        ")"
      ],
      "metadata": {
        "id": "mZ2SZgLgTzq9"
      },
      "execution_count": 28,
      "outputs": []
    },
    {
      "cell_type": "code",
      "source": [
        "r = model_new.fit(\n",
        "    x=X_train,\n",
        "    y=y_train,\n",
        "    validation_data=(X_test, y_test),\n",
        "    epochs=40,\n",
        "    verbose=2\n",
        ")"
      ],
      "metadata": {
        "colab": {
          "base_uri": "https://localhost:8080/"
        },
        "id": "e2-bCh20FVqT",
        "outputId": "7243a203-0413-4e99-b5de-c8cb3ba15ea1"
      },
      "execution_count": 29,
      "outputs": [
        {
          "output_type": "stream",
          "name": "stdout",
          "text": [
            "Epoch 1/40\n",
            "64/64 - 15s - loss: 0.7037 - accuracy: 0.7590 - val_loss: 3.1592 - val_accuracy: 0.6877 - 15s/epoch - 241ms/step\n",
            "Epoch 2/40\n",
            "64/64 - 9s - loss: 0.2298 - accuracy: 0.9218 - val_loss: 1.1272 - val_accuracy: 0.8004 - 9s/epoch - 140ms/step\n",
            "Epoch 3/40\n",
            "64/64 - 9s - loss: 0.1282 - accuracy: 0.9634 - val_loss: 0.5649 - val_accuracy: 0.8755 - 9s/epoch - 138ms/step\n",
            "Epoch 4/40\n",
            "64/64 - 9s - loss: 0.0931 - accuracy: 0.9723 - val_loss: 0.5667 - val_accuracy: 0.8656 - 9s/epoch - 133ms/step\n",
            "Epoch 5/40\n",
            "64/64 - 8s - loss: 0.0543 - accuracy: 0.9866 - val_loss: 0.4505 - val_accuracy: 0.8953 - 8s/epoch - 131ms/step\n",
            "Epoch 6/40\n",
            "64/64 - 8s - loss: 0.0527 - accuracy: 0.9857 - val_loss: 0.4348 - val_accuracy: 0.8893 - 8s/epoch - 129ms/step\n",
            "Epoch 7/40\n",
            "64/64 - 8s - loss: 0.0472 - accuracy: 0.9876 - val_loss: 0.5327 - val_accuracy: 0.8617 - 8s/epoch - 128ms/step\n",
            "Epoch 8/40\n",
            "64/64 - 9s - loss: 0.0579 - accuracy: 0.9866 - val_loss: 0.4178 - val_accuracy: 0.8755 - 9s/epoch - 145ms/step\n",
            "Epoch 9/40\n",
            "64/64 - 8s - loss: 0.0278 - accuracy: 0.9931 - val_loss: 0.3243 - val_accuracy: 0.8933 - 8s/epoch - 129ms/step\n",
            "Epoch 10/40\n",
            "64/64 - 8s - loss: 0.0620 - accuracy: 0.9802 - val_loss: 0.3379 - val_accuracy: 0.8933 - 8s/epoch - 130ms/step\n",
            "Epoch 11/40\n",
            "64/64 - 8s - loss: 0.0315 - accuracy: 0.9906 - val_loss: 0.3162 - val_accuracy: 0.9032 - 8s/epoch - 131ms/step\n",
            "Epoch 12/40\n",
            "64/64 - 8s - loss: 0.0215 - accuracy: 0.9931 - val_loss: 0.2793 - val_accuracy: 0.9051 - 8s/epoch - 133ms/step\n",
            "Epoch 13/40\n",
            "64/64 - 9s - loss: 0.0118 - accuracy: 0.9970 - val_loss: 0.3211 - val_accuracy: 0.9071 - 9s/epoch - 133ms/step\n",
            "Epoch 14/40\n",
            "64/64 - 8s - loss: 0.0074 - accuracy: 0.9980 - val_loss: 0.3914 - val_accuracy: 0.8953 - 8s/epoch - 132ms/step\n",
            "Epoch 15/40\n",
            "64/64 - 8s - loss: 0.0105 - accuracy: 0.9960 - val_loss: 0.2810 - val_accuracy: 0.9190 - 8s/epoch - 132ms/step\n",
            "Epoch 16/40\n",
            "64/64 - 8s - loss: 0.0237 - accuracy: 0.9936 - val_loss: 0.4171 - val_accuracy: 0.9051 - 8s/epoch - 131ms/step\n",
            "Epoch 17/40\n",
            "64/64 - 8s - loss: 0.0203 - accuracy: 0.9951 - val_loss: 0.3642 - val_accuracy: 0.9051 - 8s/epoch - 130ms/step\n",
            "Epoch 18/40\n",
            "64/64 - 8s - loss: 0.0093 - accuracy: 0.9970 - val_loss: 0.3058 - val_accuracy: 0.9190 - 8s/epoch - 130ms/step\n",
            "Epoch 19/40\n",
            "64/64 - 8s - loss: 0.0088 - accuracy: 0.9970 - val_loss: 0.3256 - val_accuracy: 0.9190 - 8s/epoch - 130ms/step\n",
            "Epoch 20/40\n",
            "64/64 - 8s - loss: 0.0375 - accuracy: 0.9896 - val_loss: 0.6476 - val_accuracy: 0.8735 - 8s/epoch - 130ms/step\n",
            "Epoch 21/40\n",
            "64/64 - 8s - loss: 0.0235 - accuracy: 0.9931 - val_loss: 0.5140 - val_accuracy: 0.9012 - 8s/epoch - 131ms/step\n",
            "Epoch 22/40\n",
            "64/64 - 8s - loss: 0.0495 - accuracy: 0.9857 - val_loss: 1.5014 - val_accuracy: 0.7964 - 8s/epoch - 132ms/step\n",
            "Epoch 23/40\n",
            "64/64 - 8s - loss: 0.0325 - accuracy: 0.9931 - val_loss: 0.3969 - val_accuracy: 0.8953 - 8s/epoch - 132ms/step\n",
            "Epoch 24/40\n",
            "64/64 - 8s - loss: 0.0287 - accuracy: 0.9936 - val_loss: 0.3664 - val_accuracy: 0.8992 - 8s/epoch - 131ms/step\n",
            "Epoch 25/40\n",
            "64/64 - 8s - loss: 0.0703 - accuracy: 0.9832 - val_loss: 0.6341 - val_accuracy: 0.8439 - 8s/epoch - 131ms/step\n",
            "Epoch 26/40\n",
            "64/64 - 8s - loss: 0.0862 - accuracy: 0.9708 - val_loss: 0.3493 - val_accuracy: 0.9071 - 8s/epoch - 131ms/step\n",
            "Epoch 27/40\n",
            "64/64 - 8s - loss: 0.0142 - accuracy: 0.9970 - val_loss: 0.2811 - val_accuracy: 0.9150 - 8s/epoch - 131ms/step\n",
            "Epoch 28/40\n",
            "64/64 - 8s - loss: 0.0089 - accuracy: 0.9980 - val_loss: 0.2748 - val_accuracy: 0.9111 - 8s/epoch - 131ms/step\n",
            "Epoch 29/40\n",
            "64/64 - 8s - loss: 0.0091 - accuracy: 0.9970 - val_loss: 0.3008 - val_accuracy: 0.9209 - 8s/epoch - 130ms/step\n",
            "Epoch 30/40\n",
            "64/64 - 8s - loss: 0.0071 - accuracy: 0.9975 - val_loss: 0.3389 - val_accuracy: 0.9190 - 8s/epoch - 130ms/step\n",
            "Epoch 31/40\n",
            "64/64 - 8s - loss: 0.0053 - accuracy: 0.9980 - val_loss: 0.3032 - val_accuracy: 0.9130 - 8s/epoch - 131ms/step\n",
            "Epoch 32/40\n",
            "64/64 - 8s - loss: 0.0058 - accuracy: 0.9970 - val_loss: 0.3027 - val_accuracy: 0.9229 - 8s/epoch - 131ms/step\n",
            "Epoch 33/40\n",
            "64/64 - 8s - loss: 0.0043 - accuracy: 0.9980 - val_loss: 0.3231 - val_accuracy: 0.9190 - 8s/epoch - 131ms/step\n",
            "Epoch 34/40\n",
            "64/64 - 8s - loss: 0.0047 - accuracy: 0.9980 - val_loss: 0.3143 - val_accuracy: 0.9249 - 8s/epoch - 131ms/step\n",
            "Epoch 35/40\n",
            "64/64 - 8s - loss: 0.0049 - accuracy: 0.9985 - val_loss: 0.3191 - val_accuracy: 0.9111 - 8s/epoch - 131ms/step\n",
            "Epoch 36/40\n",
            "64/64 - 8s - loss: 0.0054 - accuracy: 0.9970 - val_loss: 0.3359 - val_accuracy: 0.9249 - 8s/epoch - 131ms/step\n",
            "Epoch 37/40\n",
            "64/64 - 8s - loss: 0.0044 - accuracy: 0.9975 - val_loss: 0.3239 - val_accuracy: 0.9249 - 8s/epoch - 131ms/step\n",
            "Epoch 38/40\n",
            "64/64 - 8s - loss: 0.0036 - accuracy: 0.9975 - val_loss: 0.3439 - val_accuracy: 0.9249 - 8s/epoch - 132ms/step\n",
            "Epoch 39/40\n",
            "64/64 - 8s - loss: 0.0043 - accuracy: 0.9975 - val_loss: 0.3416 - val_accuracy: 0.9289 - 8s/epoch - 131ms/step\n",
            "Epoch 40/40\n",
            "64/64 - 8s - loss: 0.0046 - accuracy: 0.9980 - val_loss: 0.3750 - val_accuracy: 0.9150 - 8s/epoch - 131ms/step\n"
          ]
        }
      ]
    },
    {
      "cell_type": "code",
      "source": [
        "def retorna(y):\n",
        "  resp = []\n",
        "  for yi in y:\n",
        "    vmax =max(yi)\n",
        "    for idx, x in enumerate(yi):\n",
        "      if(x == vmax):\n",
        "        resp.append(idx)\n",
        "  return resp"
      ],
      "metadata": {
        "id": "oZpcAHqAcc2P"
      },
      "execution_count": 30,
      "outputs": []
    },
    {
      "cell_type": "code",
      "source": [
        "test_loss, test_acc = model_new.evaluate(X_test,  y_test, verbose=2)"
      ],
      "metadata": {
        "colab": {
          "base_uri": "https://localhost:8080/"
        },
        "id": "X1WjQJzCoJbp",
        "outputId": "2ed47df1-70a6-4fe8-da6a-633cee384756"
      },
      "execution_count": 31,
      "outputs": [
        {
          "output_type": "stream",
          "name": "stdout",
          "text": [
            "16/16 - 2s - loss: 0.3750 - accuracy: 0.9150 - 2s/epoch - 95ms/step\n"
          ]
        }
      ]
    },
    {
      "cell_type": "code",
      "source": [
        "predict=model_new.predict(X_test)"
      ],
      "metadata": {
        "colab": {
          "base_uri": "https://localhost:8080/"
        },
        "id": "xy_bi00toakb",
        "outputId": "d6680829-607b-4a44-aa6d-a3d59b184c60"
      },
      "execution_count": 32,
      "outputs": [
        {
          "output_type": "stream",
          "name": "stdout",
          "text": [
            "16/16 [==============================] - 2s 97ms/step\n"
          ]
        }
      ]
    },
    {
      "cell_type": "code",
      "source": [
        "predict[0].shape"
      ],
      "metadata": {
        "colab": {
          "base_uri": "https://localhost:8080/"
        },
        "id": "IpzdBCZUp2wj",
        "outputId": "1a9ac491-0e4b-4e3c-ac76-add0259fbba0"
      },
      "execution_count": 33,
      "outputs": [
        {
          "output_type": "execute_result",
          "data": {
            "text/plain": [
              "(6,)"
            ]
          },
          "metadata": {},
          "execution_count": 33
        }
      ]
    },
    {
      "cell_type": "code",
      "source": [
        "y_calc = retorna(predict)\n",
        "y_test = retorna(np.array(y_test))"
      ],
      "metadata": {
        "id": "WlB25NH9obtJ"
      },
      "execution_count": 34,
      "outputs": []
    },
    {
      "cell_type": "code",
      "source": [
        "confusion_matrix(y_test, y_calc)"
      ],
      "metadata": {
        "colab": {
          "base_uri": "https://localhost:8080/"
        },
        "id": "TEDV8C1Qoe2q",
        "outputId": "fa23f324-0433-4ae5-d800-c47955263046"
      },
      "execution_count": 35,
      "outputs": [
        {
          "output_type": "execute_result",
          "data": {
            "text/plain": [
              "array([[ 77,   0,   1,   3,   0,   0],\n",
              "       [  0,  92,   5,   0,   3,   0],\n",
              "       [  0,   0,  79,   0,   3,   0],\n",
              "       [  0,   0,   1, 117,   1,   0],\n",
              "       [  0,  12,   2,   3,  79,   1],\n",
              "       [  1,   0,   5,   2,   0,  19]])"
            ]
          },
          "metadata": {},
          "execution_count": 35
        }
      ]
    },
    {
      "cell_type": "code",
      "source": [
        "# Classification Report\n",
        "print('\\n\\n', classification_report(y_test, y_calc, target_names=tipos))"
      ],
      "metadata": {
        "colab": {
          "base_uri": "https://localhost:8080/"
        },
        "id": "TpUUMcTpolUA",
        "outputId": "018ed26e-ea4a-4679-d189-0126309ee413"
      },
      "execution_count": 36,
      "outputs": [
        {
          "output_type": "stream",
          "name": "stdout",
          "text": [
            "\n",
            "\n",
            "               precision    recall  f1-score   support\n",
            "\n",
            "   cardboard       0.99      0.95      0.97        81\n",
            "       glass       0.88      0.92      0.90       100\n",
            "       metal       0.85      0.96      0.90        82\n",
            "       paper       0.94      0.98      0.96       119\n",
            "     plastic       0.92      0.81      0.86        97\n",
            "       trash       0.95      0.70      0.81        27\n",
            "\n",
            "    accuracy                           0.92       506\n",
            "   macro avg       0.92      0.89      0.90       506\n",
            "weighted avg       0.92      0.92      0.91       506\n",
            "\n"
          ]
        }
      ]
    },
    {
      "cell_type": "code",
      "source": [
        "plt.plot(r.history['accuracy'],label='accuracy')\n",
        "plt.plot(r.history['val_accuracy'],label='val_accuracy')\n",
        "plt.legend()"
      ],
      "metadata": {
        "colab": {
          "base_uri": "https://localhost:8080/",
          "height": 282
        },
        "id": "0vOvYfUrFejh",
        "outputId": "7bd0a40b-90af-4268-99aa-99d457b187e6"
      },
      "execution_count": 37,
      "outputs": [
        {
          "output_type": "execute_result",
          "data": {
            "text/plain": [
              "<matplotlib.legend.Legend at 0x7fcf905d9450>"
            ]
          },
          "metadata": {},
          "execution_count": 37
        },
        {
          "output_type": "display_data",
          "data": {
            "text/plain": [
              "<Figure size 432x288 with 1 Axes>"
            ],
            "image/png": "[encoded data removed]"
          },
          "metadata": {
            "needs_background": "light"
          }
        }
      ]
    },
    {
      "cell_type": "code",
      "source": [
        "plt.plot(r.history['loss'],label='loss')\n",
        "plt.plot(r.history['val_loss'],label='val_loss')\n",
        "plt.legend()"
      ],
      "metadata": {
        "colab": {
          "base_uri": "https://localhost:8080/",
          "height": 282
        },
        "id": "Ss8jajE3Fh_u",
        "outputId": "a323f05b-383d-447d-d5cf-5fdb875db3d6"
      },
      "execution_count": 38,
      "outputs": [
        {
          "output_type": "execute_result",
          "data": {
            "text/plain": [
              "<matplotlib.legend.Legend at 0x7fcf900c2b10>"
            ]
          },
          "metadata": {},
          "execution_count": 38
        },
        {
          "output_type": "display_data",
          "data": {
            "text/plain": [
              "<Figure size 432x288 with 1 Axes>"
            ],
            "image/png": "[encoded data removed]"
          },
          "metadata": {
            "needs_background": "light"
          }
        }
      ]
    }
  ]
}