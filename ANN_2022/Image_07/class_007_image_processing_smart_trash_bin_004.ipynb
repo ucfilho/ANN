{
  "nbformat": 4,
  "nbformat_minor": 0,
  "metadata": {
    "colab": {
      "provenance": [],
      "authorship_tag": "ABX9TyNXORm4RCy+iKJ8ZGpRPg/K",
      "include_colab_link": true
    },
    "kernelspec": {
      "name": "python3",
      "display_name": "Python 3"
    },
    "language_info": {
      "name": "python"
    },
    "accelerator": "GPU"
  },
  "cells": [
    {
      "cell_type": "markdown",
      "metadata": {
        "id": "view-in-github",
        "colab_type": "text"
      },
      "source": [
        "<a href=\"https://colab.research.google.com/github/ucfilho/ANN/blob/master/ANN_2022/Image_07/class_007_image_processing_smart_trash_bin_004.ipynb\" target=\"_parent\"><img src=\"https://colab.research.google.com/assets/colab-badge.svg\" alt=\"Open In Colab\"/></a>"
      ]
    },
    {
      "cell_type": "code",
      "source": [
        "import cv2\n",
        "import numpy as np\n",
        "import pandas as pd\n",
        "import random\n",
        "import zipfile\n",
        "from matplotlib import pyplot as plt\n",
        "import skimage.feature\n",
        "from string import digits\n",
        "import seaborn as sns\n",
        "import skimage\n",
        "import tensorflow as tf\n",
        "from tensorflow.keras.models import Sequential\n",
        "from tensorflow.keras.models import Model\n",
        "from tensorflow.keras.layers import Dense, Activation, Conv2D, MaxPooling2D, Flatten, Dropout, BatchNormalization"
      ],
      "metadata": {
        "id": "7wNxYQBaKVJQ"
      },
      "execution_count": 1,
      "outputs": []
    },
    {
      "cell_type": "code",
      "source": [
        "from sklearn.neural_network import MLPClassifier\n",
        "from sklearn.model_selection import train_test_split\n",
        "from sklearn.preprocessing import StandardScaler\n",
        "from sklearn.metrics import classification_report, confusion_matrix"
      ],
      "metadata": {
        "id": "JNNoeVHgb9WL"
      },
      "execution_count": 2,
      "outputs": []
    },
    {
      "cell_type": "code",
      "source": [
        "!gdown 1L4mdCDBgybKqr5Wo-kqT8HXcBJ9HXqSX"
      ],
      "metadata": {
        "colab": {
          "base_uri": "https://localhost:8080/"
        },
        "id": "Ea3bxyjq-kcq",
        "outputId": "21afd3bc-4ede-418c-c3f4-7de2abfa6bb0"
      },
      "execution_count": 3,
      "outputs": [
        {
          "output_type": "stream",
          "name": "stdout",
          "text": [
            "Downloading...\n",
            "From: https://drive.google.com/uc?id=1L4mdCDBgybKqr5Wo-kqT8HXcBJ9HXqSX\n",
            "To: /content/trash_nov_22_2018.zip\n",
            "100% 42.8M/42.8M [00:00<00:00, 200MB/s]\n"
          ]
        }
      ]
    },
    {
      "cell_type": "code",
      "source": [
        "FILE='trash_nov_22_2018.zip'"
      ],
      "metadata": {
        "id": "oyLilZ2l-loH"
      },
      "execution_count": 4,
      "outputs": []
    },
    {
      "cell_type": "code",
      "source": [
        "archive = zipfile.ZipFile('trash_nov_22_2018.zip', 'r')\n",
        "archive.extractall()"
      ],
      "metadata": {
        "id": "XwXGEOlF_K1c"
      },
      "execution_count": 5,
      "outputs": []
    },
    {
      "cell_type": "code",
      "source": [
        "img_name=[]\n",
        "with zipfile.ZipFile(FILE, \"r\") as f:\n",
        "    for name in f.namelist():\n",
        "        img_name.append(name)"
      ],
      "metadata": {
        "id": "cs5xKcmpAgOA"
      },
      "execution_count": 6,
      "outputs": []
    },
    {
      "cell_type": "code",
      "source": [
        "Img_Size = 224\n",
        "ref = 'jpg'\n",
        "notref = 'met'"
      ],
      "metadata": {
        "id": "PVPFW06o_kw8"
      },
      "execution_count": 7,
      "outputs": []
    },
    {
      "cell_type": "code",
      "source": [
        "X= []  \n",
        "Y =[]\n",
        "n = len(img_name)\n",
        "i = 0\n",
        "for i in range(n):\n",
        "  name = img_name[i]\n",
        "  if(ref in name):\n",
        "    Y.append(name)\n",
        "    img = cv2.imread(name)\n",
        "    resized = cv2.resize(img, (Img_Size,Img_Size))\n",
        "    X.append(resized)\n",
        "m = len(Y)\n",
        "print(n,m)"
      ],
      "metadata": {
        "id": "lAOB3uC3JG2V",
        "colab": {
          "base_uri": "https://localhost:8080/"
        },
        "outputId": "56fe13dc-8007-4c4c-e9ad-35b7fb42cd49"
      },
      "execution_count": 8,
      "outputs": [
        {
          "output_type": "stream",
          "name": "stdout",
          "text": [
            "2527 2527\n"
          ]
        }
      ]
    },
    {
      "cell_type": "code",
      "source": [
        "n =len(img_name)\n",
        "tipos = []\n",
        "selected = 'find'\n",
        "for x in img_name:\n",
        "  result =''.join([i for i in x[:-4] if not i.isdigit()])\n",
        "  if(result != selected):\n",
        "    selected = result\n",
        "    tipos.append(selected)\n"
      ],
      "metadata": {
        "id": "5Kh0R80ndBQ0"
      },
      "execution_count": 9,
      "outputs": []
    },
    {
      "cell_type": "code",
      "source": [
        "label =[]\n",
        "for name in img_name:\n",
        "  for idx, x in enumerate(tipos):\n",
        "    if(x in name):\n",
        "      label.append(idx)"
      ],
      "metadata": {
        "id": "MejkwNSX1kOi"
      },
      "execution_count": 10,
      "outputs": []
    },
    {
      "cell_type": "code",
      "source": [
        "df=pd.DataFrame(label,columns=['target'])"
      ],
      "metadata": {
        "id": "GyKMP7gCScy4"
      },
      "execution_count": 11,
      "outputs": []
    },
    {
      "cell_type": "code",
      "source": [
        "y = pd.get_dummies(df['target'])"
      ],
      "metadata": {
        "id": "YGlSEZ5O3pkf"
      },
      "execution_count": 12,
      "outputs": []
    },
    {
      "cell_type": "code",
      "source": [
        "for i in range(6): \n",
        "  n= df[(df[\"target\"] == i)].shape[0]\n",
        "  print(tipos[i],n)"
      ],
      "metadata": {
        "colab": {
          "base_uri": "https://localhost:8080/"
        },
        "id": "W6CDIVizOZXv",
        "outputId": "5772718a-2670-4f99-d549-3a443c335780"
      },
      "execution_count": 13,
      "outputs": [
        {
          "output_type": "stream",
          "name": "stdout",
          "text": [
            "cardboard 403\n",
            "glass 501\n",
            "metal 410\n",
            "paper 594\n",
            "plastic 482\n",
            "trash 137\n"
          ]
        }
      ]
    },
    {
      "cell_type": "code",
      "source": [
        "#label"
      ],
      "metadata": {
        "id": "nZ_iIcFRNue7"
      },
      "execution_count": 14,
      "outputs": []
    },
    {
      "cell_type": "code",
      "source": [
        "n =len(img_name)\n",
        "data = np.empty((n, 224, 224, 3))"
      ],
      "metadata": {
        "id": "Y0IiAVMPNZF9"
      },
      "execution_count": 15,
      "outputs": []
    },
    {
      "cell_type": "code",
      "source": [
        "# https://pythontutorials.eu/deep-learning/transfer-learning/"
      ],
      "metadata": {
        "id": "g5xlAJuoOle1"
      },
      "execution_count": 16,
      "outputs": []
    },
    {
      "cell_type": "code",
      "source": [
        "DATASET_SIZE = len(img_name)\n",
        "Ind = range(DATASET_SIZE)\n",
        "Ind_train, Ind_test= train_test_split(Ind,test_size=0.20,stratify=label, shuffle=True, random_state=3)\n",
        "X = np.array(X)\n",
        "X_train=X[Ind_train]\n",
        "X_test = X[Ind_test]\n",
        "y_train=y.iloc[Ind_train,:]\n",
        "y_test = y.iloc[Ind_test,:]"
      ],
      "metadata": {
        "id": "xJyag03ml4jj"
      },
      "execution_count": 17,
      "outputs": []
    },
    {
      "cell_type": "code",
      "source": [
        "from keras.applications.mobilenet_v2 import preprocess_input\n",
        "from skimage.transform import resize\n",
        "i = 0\n",
        "for im in X:\n",
        "    im = preprocess_input(im)\n",
        "    im = resize(im, output_shape=(224, 224))\n",
        "    data[i] = im\n",
        "    i += 1"
      ],
      "metadata": {
        "id": "VVRS0r0UNzw8"
      },
      "execution_count": 18,
      "outputs": []
    },
    {
      "cell_type": "code",
      "source": [
        "n"
      ],
      "metadata": {
        "colab": {
          "base_uri": "https://localhost:8080/"
        },
        "id": "9N7fPiisPnkF",
        "outputId": "9fa473cf-2385-45ee-e475-d3c11d5634fe"
      },
      "execution_count": 19,
      "outputs": [
        {
          "output_type": "execute_result",
          "data": {
            "text/plain": [
              "2527"
            ]
          },
          "metadata": {},
          "execution_count": 19
        }
      ]
    },
    {
      "cell_type": "code",
      "source": [
        "n =len(img_name)\n",
        "m = len(tipos)\n",
        "\n",
        "'''\n",
        "labels_tf = np.empty(n, dtype=int)\n",
        "for idx, yi in enumerate(label):\n",
        "  labels_tf[idx] = yi\n",
        "'''\n",
        "idx = 0\n",
        "labels_tf = np.empty([n,m], dtype=int)\n",
        "for yi in y.values:\n",
        "  labels_tf[idx] = yi\n",
        "  idx = idx + 1\n",
        "\n"
      ],
      "metadata": {
        "id": "rcgv-joQO61M"
      },
      "execution_count": 20,
      "outputs": []
    },
    {
      "cell_type": "code",
      "source": [
        "import tensorflow as tf\n",
        "#from tensorflow.keras.applications.mobilenet_v2 import MobileNetV2\n",
        "from tensorflow.keras.applications.resnet50 import ResNet50\n",
        "# check https://keras.io/api/applications/\n",
        "#model = MobileNetV2(weights='imagenet')\n",
        "model = ResNet50(weights='imagenet')"
      ],
      "metadata": {
        "id": "EwENgCGxQVS8"
      },
      "execution_count": 21,
      "outputs": []
    },
    {
      "cell_type": "code",
      "source": [
        "from keras.applications.mobilenet_v2 import decode_predictions\n",
        "\n",
        "predictions = model.predict(data)\n",
        "k = 0\n",
        "for decoded_prediction in decode_predictions(predictions, top=1):\n",
        "  \n",
        "  for name, desc, score in decoded_prediction:\n",
        "      if(k % 200 ==0):\n",
        "        print('- {} ({:.2f}%%) {}'.format(desc, 100 * score,img_name[k]))\n",
        "  k = k +1"
      ],
      "metadata": {
        "colab": {
          "base_uri": "https://localhost:8080/"
        },
        "id": "ooc62gF9QWUE",
        "outputId": "3ae96735-bcc9-4d4c-c17a-1cbf56b4b02a"
      },
      "execution_count": 22,
      "outputs": [
        {
          "output_type": "stream",
          "name": "stdout",
          "text": [
            "79/79 [==============================] - 11s 99ms/step\n",
            "- nematode (13.97%%) cardboard1.jpg\n",
            "- nematode (11.66%%) cardboard201.jpg\n",
            "- nematode (15.76%%) cardboard401.jpg\n",
            "- nematode (16.52%%) glass198.jpg\n",
            "- nematode (15.65%%) glass398.jpg\n",
            "- nematode (9.65%%) metal97.jpg\n",
            "- nematode (12.90%%) metal297.jpg\n",
            "- nematode (14.93%%) paper87.jpg\n",
            "- nematode (13.22%%) paper287.jpg\n",
            "- matchstick (7.24%%) paper487.jpg\n",
            "- nematode (11.52%%) plastic93.jpg\n",
            "- nematode (10.52%%) plastic293.jpg\n",
            "- nematode (12.50%%) trash11.jpg\n"
          ]
        }
      ]
    },
    {
      "cell_type": "code",
      "source": [
        "# Let's take a look to see how many layers are in the base model\n",
        "print(\"Number of layers in the base model: \", len(model.layers))\n",
        "\n",
        "# Fine-tune from this layer onwards\n",
        "fine_tune_at = 170\n",
        "\n",
        "# Freeze all the layers before the `fine_tune_at` layer\n",
        "# check https://www.tensorflow.org/tutorials/images/transfer_learning\n",
        "for layer in model.layers[:fine_tune_at]:\n",
        "  layer.trainable = False"
      ],
      "metadata": {
        "colab": {
          "base_uri": "https://localhost:8080/"
        },
        "id": "BoWVRnZ-E2s6",
        "outputId": "680d340a-61fe-452e-95a4-169fad3c1cdd"
      },
      "execution_count": 23,
      "outputs": [
        {
          "output_type": "stream",
          "name": "stdout",
          "text": [
            "Number of layers in the base model:  177\n"
          ]
        }
      ]
    },
    {
      "cell_type": "code",
      "source": [
        "#from keras.layers import Dense\n",
        "#D = len(tipos)\n",
        "#model_output = Dense(D, activation='softmax')"
      ],
      "metadata": {
        "id": "j3I5nZ8dRYKd"
      },
      "execution_count": 24,
      "outputs": []
    },
    {
      "cell_type": "code",
      "source": [
        "#model_output = model_output(model.layers[-2].output)"
      ],
      "metadata": {
        "id": "bz08xnbiTn7e"
      },
      "execution_count": 25,
      "outputs": []
    },
    {
      "cell_type": "code",
      "source": [
        "D =len(tipos)\n",
        "model_output = Dense(D, activation= 'softmax') #'relu')\n",
        "model_output = model_output(model.layers[-2].output)\n",
        "model_input = model.input\n",
        "model_new = Model(inputs=model_input, outputs=model_output)"
      ],
      "metadata": {
        "id": "iCvwlrUtITKz"
      },
      "execution_count": 26,
      "outputs": []
    },
    {
      "cell_type": "code",
      "source": [
        "#from keras import Model\n",
        "#from sklearn.metrics import classification_report, confusion_matrix\n",
        "#model_input = model.input\n",
        "#model_model = Model(inputs=model_input, outputs=model_output)"
      ],
      "metadata": {
        "id": "IqaB8H5ETs0W"
      },
      "execution_count": 27,
      "outputs": []
    },
    {
      "cell_type": "code",
      "source": [
        "model_new.compile(\n",
        "    optimizer='adam',\n",
        "    loss='categorical_crossentropy',\n",
        "    metrics=['accuracy']\n",
        ")"
      ],
      "metadata": {
        "id": "mZ2SZgLgTzq9"
      },
      "execution_count": 28,
      "outputs": []
    },
    {
      "cell_type": "code",
      "source": [
        "r = model_new.fit(\n",
        "    x=X_train,\n",
        "    y=y_train,\n",
        "    validation_data=(X_test, y_test),\n",
        "    epochs=40,\n",
        "    verbose=2\n",
        ")"
      ],
      "metadata": {
        "colab": {
          "base_uri": "https://localhost:8080/"
        },
        "id": "e2-bCh20FVqT",
        "outputId": "10f32cc5-bb9c-446e-d094-ee0b32870e2a"
      },
      "execution_count": 29,
      "outputs": [
        {
          "output_type": "stream",
          "name": "stdout",
          "text": [
            "Epoch 1/40\n",
            "64/64 - 14s - loss: 0.7664 - accuracy: 0.7516 - val_loss: 0.5668 - val_accuracy: 0.8379 - 14s/epoch - 212ms/step\n",
            "Epoch 2/40\n",
            "64/64 - 9s - loss: 0.2120 - accuracy: 0.9273 - val_loss: 0.4785 - val_accuracy: 0.8439 - 9s/epoch - 138ms/step\n",
            "Epoch 3/40\n",
            "64/64 - 8s - loss: 0.0779 - accuracy: 0.9857 - val_loss: 0.4204 - val_accuracy: 0.8735 - 8s/epoch - 125ms/step\n",
            "Epoch 4/40\n",
            "64/64 - 8s - loss: 0.0400 - accuracy: 0.9965 - val_loss: 0.3800 - val_accuracy: 0.8775 - 8s/epoch - 127ms/step\n",
            "Epoch 5/40\n",
            "64/64 - 8s - loss: 0.0354 - accuracy: 0.9941 - val_loss: 0.4207 - val_accuracy: 0.8755 - 8s/epoch - 126ms/step\n",
            "Epoch 6/40\n",
            "64/64 - 8s - loss: 0.0403 - accuracy: 0.9941 - val_loss: 0.4907 - val_accuracy: 0.8696 - 8s/epoch - 124ms/step\n",
            "Epoch 7/40\n",
            "64/64 - 8s - loss: 0.0267 - accuracy: 0.9970 - val_loss: 0.4608 - val_accuracy: 0.8755 - 8s/epoch - 122ms/step\n",
            "Epoch 8/40\n",
            "64/64 - 8s - loss: 0.0320 - accuracy: 0.9946 - val_loss: 0.4384 - val_accuracy: 0.8676 - 8s/epoch - 120ms/step\n",
            "Epoch 9/40\n",
            "64/64 - 8s - loss: 0.0213 - accuracy: 0.9960 - val_loss: 0.4603 - val_accuracy: 0.8715 - 8s/epoch - 119ms/step\n",
            "Epoch 10/40\n",
            "64/64 - 8s - loss: 0.0146 - accuracy: 0.9975 - val_loss: 0.4588 - val_accuracy: 0.8775 - 8s/epoch - 119ms/step\n",
            "Epoch 11/40\n",
            "64/64 - 8s - loss: 0.0161 - accuracy: 0.9975 - val_loss: 0.4684 - val_accuracy: 0.8854 - 8s/epoch - 120ms/step\n",
            "Epoch 12/40\n",
            "64/64 - 8s - loss: 0.0148 - accuracy: 0.9975 - val_loss: 0.4630 - val_accuracy: 0.8814 - 8s/epoch - 121ms/step\n",
            "Epoch 13/40\n",
            "64/64 - 8s - loss: 0.0128 - accuracy: 0.9975 - val_loss: 0.4232 - val_accuracy: 0.8755 - 8s/epoch - 122ms/step\n",
            "Epoch 14/40\n",
            "64/64 - 9s - loss: 0.0068 - accuracy: 0.9980 - val_loss: 0.4555 - val_accuracy: 0.8735 - 9s/epoch - 138ms/step\n",
            "Epoch 15/40\n",
            "64/64 - 8s - loss: 0.0104 - accuracy: 0.9975 - val_loss: 0.4409 - val_accuracy: 0.8775 - 8s/epoch - 123ms/step\n",
            "Epoch 16/40\n",
            "64/64 - 8s - loss: 0.0085 - accuracy: 0.9975 - val_loss: 0.4474 - val_accuracy: 0.8794 - 8s/epoch - 124ms/step\n",
            "Epoch 17/40\n",
            "64/64 - 8s - loss: 0.0083 - accuracy: 0.9975 - val_loss: 0.4597 - val_accuracy: 0.8854 - 8s/epoch - 123ms/step\n",
            "Epoch 18/40\n",
            "64/64 - 8s - loss: 0.0065 - accuracy: 0.9975 - val_loss: 0.4400 - val_accuracy: 0.8775 - 8s/epoch - 122ms/step\n",
            "Epoch 19/40\n",
            "64/64 - 8s - loss: 0.0081 - accuracy: 0.9980 - val_loss: 0.4555 - val_accuracy: 0.8775 - 8s/epoch - 122ms/step\n",
            "Epoch 20/40\n",
            "64/64 - 8s - loss: 0.0087 - accuracy: 0.9975 - val_loss: 0.4635 - val_accuracy: 0.8775 - 8s/epoch - 121ms/step\n",
            "Epoch 21/40\n",
            "64/64 - 8s - loss: 0.0058 - accuracy: 0.9985 - val_loss: 0.4486 - val_accuracy: 0.8834 - 8s/epoch - 121ms/step\n",
            "Epoch 22/40\n",
            "64/64 - 8s - loss: 0.0073 - accuracy: 0.9980 - val_loss: 0.4708 - val_accuracy: 0.8755 - 8s/epoch - 122ms/step\n",
            "Epoch 23/40\n",
            "64/64 - 8s - loss: 0.0064 - accuracy: 0.9975 - val_loss: 0.4648 - val_accuracy: 0.8794 - 8s/epoch - 122ms/step\n",
            "Epoch 24/40\n",
            "64/64 - 8s - loss: 0.0326 - accuracy: 0.9906 - val_loss: 0.9055 - val_accuracy: 0.8162 - 8s/epoch - 122ms/step\n",
            "Epoch 25/40\n",
            "64/64 - 8s - loss: 0.1071 - accuracy: 0.9683 - val_loss: 1.7535 - val_accuracy: 0.7431 - 8s/epoch - 122ms/step\n",
            "Epoch 26/40\n",
            "64/64 - 8s - loss: 0.1181 - accuracy: 0.9589 - val_loss: 0.6582 - val_accuracy: 0.8281 - 8s/epoch - 122ms/step\n",
            "Epoch 27/40\n",
            "64/64 - 8s - loss: 0.0453 - accuracy: 0.9847 - val_loss: 0.4783 - val_accuracy: 0.8755 - 8s/epoch - 122ms/step\n",
            "Epoch 28/40\n",
            "64/64 - 8s - loss: 0.0210 - accuracy: 0.9946 - val_loss: 0.4328 - val_accuracy: 0.8953 - 8s/epoch - 122ms/step\n",
            "Epoch 29/40\n",
            "64/64 - 8s - loss: 0.0097 - accuracy: 0.9980 - val_loss: 0.4068 - val_accuracy: 0.9012 - 8s/epoch - 122ms/step\n",
            "Epoch 30/40\n",
            "64/64 - 8s - loss: 0.0091 - accuracy: 0.9980 - val_loss: 0.4394 - val_accuracy: 0.9032 - 8s/epoch - 122ms/step\n",
            "Epoch 31/40\n",
            "64/64 - 8s - loss: 0.0063 - accuracy: 0.9975 - val_loss: 0.4141 - val_accuracy: 0.8992 - 8s/epoch - 121ms/step\n",
            "Epoch 32/40\n",
            "64/64 - 8s - loss: 0.0085 - accuracy: 0.9980 - val_loss: 0.4376 - val_accuracy: 0.9012 - 8s/epoch - 122ms/step\n",
            "Epoch 33/40\n",
            "64/64 - 8s - loss: 0.0078 - accuracy: 0.9980 - val_loss: 0.4352 - val_accuracy: 0.9051 - 8s/epoch - 122ms/step\n",
            "Epoch 34/40\n",
            "64/64 - 8s - loss: 0.0070 - accuracy: 0.9975 - val_loss: 0.4319 - val_accuracy: 0.9032 - 8s/epoch - 122ms/step\n",
            "Epoch 35/40\n",
            "64/64 - 8s - loss: 0.0060 - accuracy: 0.9985 - val_loss: 0.4114 - val_accuracy: 0.9071 - 8s/epoch - 122ms/step\n",
            "Epoch 36/40\n",
            "64/64 - 8s - loss: 0.0058 - accuracy: 0.9980 - val_loss: 0.4374 - val_accuracy: 0.9051 - 8s/epoch - 122ms/step\n",
            "Epoch 37/40\n",
            "64/64 - 8s - loss: 0.0043 - accuracy: 0.9980 - val_loss: 0.4343 - val_accuracy: 0.9051 - 8s/epoch - 122ms/step\n",
            "Epoch 38/40\n",
            "64/64 - 8s - loss: 0.0057 - accuracy: 0.9975 - val_loss: 0.4377 - val_accuracy: 0.9091 - 8s/epoch - 122ms/step\n",
            "Epoch 39/40\n",
            "64/64 - 8s - loss: 0.0057 - accuracy: 0.9975 - val_loss: 0.4492 - val_accuracy: 0.9012 - 8s/epoch - 122ms/step\n",
            "Epoch 40/40\n",
            "64/64 - 8s - loss: 0.0128 - accuracy: 0.9970 - val_loss: 0.4477 - val_accuracy: 0.9051 - 8s/epoch - 123ms/step\n"
          ]
        }
      ]
    },
    {
      "cell_type": "code",
      "source": [
        "def retorna(y):\n",
        "  resp = []\n",
        "  for yi in y:\n",
        "    vmax =max(yi)\n",
        "    for idx, x in enumerate(yi):\n",
        "      if(x == vmax):\n",
        "        resp.append(idx)\n",
        "  return resp"
      ],
      "metadata": {
        "id": "oZpcAHqAcc2P"
      },
      "execution_count": 30,
      "outputs": []
    },
    {
      "cell_type": "code",
      "source": [
        "test_loss, test_acc = model_new.evaluate(X_test,  y_test, verbose=2)"
      ],
      "metadata": {
        "colab": {
          "base_uri": "https://localhost:8080/"
        },
        "id": "X1WjQJzCoJbp",
        "outputId": "337be0d6-5e08-4178-cece-541a8559c148"
      },
      "execution_count": 31,
      "outputs": [
        {
          "output_type": "stream",
          "name": "stdout",
          "text": [
            "16/16 - 2s - loss: 0.4477 - accuracy: 0.9051 - 2s/epoch - 99ms/step\n"
          ]
        }
      ]
    },
    {
      "cell_type": "code",
      "source": [
        "predict=model_new.predict(X_test)"
      ],
      "metadata": {
        "colab": {
          "base_uri": "https://localhost:8080/"
        },
        "id": "xy_bi00toakb",
        "outputId": "c26a2765-15fe-4406-ba02-08e8c9ad818f"
      },
      "execution_count": 32,
      "outputs": [
        {
          "output_type": "stream",
          "name": "stdout",
          "text": [
            "16/16 [==============================] - 2s 97ms/step\n"
          ]
        }
      ]
    },
    {
      "cell_type": "code",
      "source": [
        "predict[0].shape"
      ],
      "metadata": {
        "colab": {
          "base_uri": "https://localhost:8080/"
        },
        "id": "IpzdBCZUp2wj",
        "outputId": "41aa3dbe-3ab9-4104-d328-d8c6ecd39834"
      },
      "execution_count": 33,
      "outputs": [
        {
          "output_type": "execute_result",
          "data": {
            "text/plain": [
              "(6,)"
            ]
          },
          "metadata": {},
          "execution_count": 33
        }
      ]
    },
    {
      "cell_type": "code",
      "source": [
        "y_calc = retorna(predict)\n",
        "y_test = retorna(np.array(y_test))"
      ],
      "metadata": {
        "id": "WlB25NH9obtJ"
      },
      "execution_count": 34,
      "outputs": []
    },
    {
      "cell_type": "code",
      "source": [
        "confusion_matrix(y_test, y_calc)"
      ],
      "metadata": {
        "colab": {
          "base_uri": "https://localhost:8080/"
        },
        "id": "TEDV8C1Qoe2q",
        "outputId": "b3bc7166-92c4-4927-fb18-366c5646b668"
      },
      "execution_count": 35,
      "outputs": [
        {
          "output_type": "execute_result",
          "data": {
            "text/plain": [
              "array([[ 73,   1,   1,   5,   1,   0],\n",
              "       [  0,  91,   4,   1,   4,   0],\n",
              "       [  0,   1,  78,   1,   1,   1],\n",
              "       [  2,   1,   1, 112,   1,   2],\n",
              "       [  0,  10,   1,   1,  84,   1],\n",
              "       [  1,   0,   5,   1,   0,  20]])"
            ]
          },
          "metadata": {},
          "execution_count": 35
        }
      ]
    },
    {
      "cell_type": "code",
      "source": [
        "# Classification Report\n",
        "print('\\n\\n', classification_report(y_test, y_calc, target_names=tipos))"
      ],
      "metadata": {
        "colab": {
          "base_uri": "https://localhost:8080/"
        },
        "id": "TpUUMcTpolUA",
        "outputId": "a5992d80-a92d-475a-8558-958a5262cbad"
      },
      "execution_count": 36,
      "outputs": [
        {
          "output_type": "stream",
          "name": "stdout",
          "text": [
            "\n",
            "\n",
            "               precision    recall  f1-score   support\n",
            "\n",
            "   cardboard       0.96      0.90      0.93        81\n",
            "       glass       0.88      0.91      0.89       100\n",
            "       metal       0.87      0.95      0.91        82\n",
            "       paper       0.93      0.94      0.93       119\n",
            "     plastic       0.92      0.87      0.89        97\n",
            "       trash       0.83      0.74      0.78        27\n",
            "\n",
            "    accuracy                           0.91       506\n",
            "   macro avg       0.90      0.89      0.89       506\n",
            "weighted avg       0.91      0.91      0.90       506\n",
            "\n"
          ]
        }
      ]
    },
    {
      "cell_type": "code",
      "source": [
        "plt.plot(r.history['accuracy'],label='accuracy')\n",
        "plt.plot(r.history['val_accuracy'],label='val_accuracy')\n",
        "plt.legend()"
      ],
      "metadata": {
        "colab": {
          "base_uri": "https://localhost:8080/",
          "height": 282
        },
        "id": "0vOvYfUrFejh",
        "outputId": "575f4f4f-6ee7-4d2c-f235-96a50d31fc04"
      },
      "execution_count": 37,
      "outputs": [
        {
          "output_type": "execute_result",
          "data": {
            "text/plain": [
              "<matplotlib.legend.Legend at 0x7f98f63d1f90>"
            ]
          },
          "metadata": {},
          "execution_count": 37
        },
        {
          "output_type": "display_data",
          "data": {
            "text/plain": [
              "<Figure size 432x288 with 1 Axes>"
            ],
            "image/png": "[encoded data removed]"
          },
          "metadata": {
            "needs_background": "light"
          }
        }
      ]
    },
    {
      "cell_type": "code",
      "source": [
        "plt.plot(r.history['loss'],label='loss')\n",
        "plt.plot(r.history['val_loss'],label='val_loss')\n",
        "plt.legend()"
      ],
      "metadata": {
        "colab": {
          "base_uri": "https://localhost:8080/",
          "height": 282
        },
        "id": "Ss8jajE3Fh_u",
        "outputId": "b90167cc-c6ff-4667-f6a0-410f348b06ae"
      },
      "execution_count": 38,
      "outputs": [
        {
          "output_type": "execute_result",
          "data": {
            "text/plain": [
              "<matplotlib.legend.Legend at 0x7f98f639b3d0>"
            ]
          },
          "metadata": {},
          "execution_count": 38
        },
        {
          "output_type": "display_data",
          "data": {
            "text/plain": [
              "<Figure size 432x288 with 1 Axes>"
            ],
            "image/png": "[encoded data removed]"
          },
          "metadata": {
            "needs_background": "light"
          }
        }
      ]
    }
  ]
}