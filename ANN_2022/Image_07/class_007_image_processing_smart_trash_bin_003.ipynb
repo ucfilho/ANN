{
  "nbformat": 4,
  "nbformat_minor": 0,
  "metadata": {
    "colab": {
      "provenance": [],
      "authorship_tag": "ABX9TyNjLvkgRCZfIE4iMrkWfPb9",
      "include_colab_link": true
    },
    "kernelspec": {
      "name": "python3",
      "display_name": "Python 3"
    },
    "language_info": {
      "name": "python"
    },
    "accelerator": "GPU"
  },
  "cells": [
    {
      "cell_type": "markdown",
      "metadata": {
        "id": "view-in-github",
        "colab_type": "text"
      },
      "source": [
        "<a href=\"https://colab.research.google.com/github/ucfilho/ANN/blob/master/ANN_2022/Image_07/class_007_image_processing_smart_trash_bin_003.ipynb\" target=\"_parent\"><img src=\"https://colab.research.google.com/assets/colab-badge.svg\" alt=\"Open In Colab\"/></a>"
      ]
    },
    {
      "cell_type": "code",
      "source": [
        "import cv2\n",
        "import numpy as np\n",
        "import pandas as pd\n",
        "import random\n",
        "import zipfile\n",
        "from matplotlib import pyplot as plt\n",
        "import skimage.feature\n",
        "from string import digits\n",
        "import seaborn as sns\n",
        "import skimage\n",
        "import tensorflow as tf\n",
        "from tensorflow.keras.models import Sequential\n",
        "from tensorflow.keras.models import Model\n",
        "from tensorflow.keras.layers import Dense, Activation, Conv2D, MaxPooling2D, Flatten, Dropout, BatchNormalization"
      ],
      "metadata": {
        "id": "7wNxYQBaKVJQ"
      },
      "execution_count": 1,
      "outputs": []
    },
    {
      "cell_type": "code",
      "source": [
        "from sklearn.neural_network import MLPClassifier\n",
        "from sklearn.model_selection import train_test_split\n",
        "from sklearn.preprocessing import StandardScaler\n",
        "from sklearn.metrics import classification_report, confusion_matrix"
      ],
      "metadata": {
        "id": "JNNoeVHgb9WL"
      },
      "execution_count": 2,
      "outputs": []
    },
    {
      "cell_type": "code",
      "source": [
        "!gdown 1L4mdCDBgybKqr5Wo-kqT8HXcBJ9HXqSX"
      ],
      "metadata": {
        "colab": {
          "base_uri": "https://localhost:8080/"
        },
        "id": "Ea3bxyjq-kcq",
        "outputId": "e0e45fff-295f-4f23-847a-2111c4e6a61a"
      },
      "execution_count": 3,
      "outputs": [
        {
          "output_type": "stream",
          "name": "stdout",
          "text": [
            "Downloading...\n",
            "From: https://drive.google.com/uc?id=1L4mdCDBgybKqr5Wo-kqT8HXcBJ9HXqSX\n",
            "To: /content/trash_nov_22_2018.zip\n",
            "100% 42.8M/42.8M [00:00<00:00, 185MB/s]\n"
          ]
        }
      ]
    },
    {
      "cell_type": "code",
      "source": [
        "FILE='trash_nov_22_2018.zip'"
      ],
      "metadata": {
        "id": "oyLilZ2l-loH"
      },
      "execution_count": 4,
      "outputs": []
    },
    {
      "cell_type": "code",
      "source": [
        "archive = zipfile.ZipFile('trash_nov_22_2018.zip', 'r')\n",
        "archive.extractall()"
      ],
      "metadata": {
        "id": "XwXGEOlF_K1c"
      },
      "execution_count": 5,
      "outputs": []
    },
    {
      "cell_type": "code",
      "source": [
        "img_name=[]\n",
        "with zipfile.ZipFile(FILE, \"r\") as f:\n",
        "    for name in f.namelist():\n",
        "        img_name.append(name)"
      ],
      "metadata": {
        "id": "cs5xKcmpAgOA"
      },
      "execution_count": 6,
      "outputs": []
    },
    {
      "cell_type": "code",
      "source": [
        "Img_Size = 224\n",
        "ref = 'jpg'\n",
        "notref = 'met'"
      ],
      "metadata": {
        "id": "PVPFW06o_kw8"
      },
      "execution_count": 7,
      "outputs": []
    },
    {
      "cell_type": "code",
      "source": [
        "X= []  \n",
        "Y =[]\n",
        "n = len(img_name)\n",
        "i = 0\n",
        "for i in range(n):\n",
        "  name = img_name[i]\n",
        "  if(ref in name):\n",
        "    Y.append(name)\n",
        "    img = cv2.imread(name)\n",
        "    resized = cv2.resize(img, (Img_Size,Img_Size))\n",
        "    X.append(resized)\n",
        "m = len(Y)\n",
        "print(n,m)"
      ],
      "metadata": {
        "id": "lAOB3uC3JG2V",
        "colab": {
          "base_uri": "https://localhost:8080/"
        },
        "outputId": "12945313-16df-4227-ffc6-e27eaf381a1f"
      },
      "execution_count": 8,
      "outputs": [
        {
          "output_type": "stream",
          "name": "stdout",
          "text": [
            "2527 2527\n"
          ]
        }
      ]
    },
    {
      "cell_type": "code",
      "source": [
        "n =len(img_name)\n",
        "tipos = []\n",
        "selected = 'find'\n",
        "for x in img_name:\n",
        "  result =''.join([i for i in x[:-4] if not i.isdigit()])\n",
        "  if(result != selected):\n",
        "    selected = result\n",
        "    tipos.append(selected)\n"
      ],
      "metadata": {
        "id": "5Kh0R80ndBQ0"
      },
      "execution_count": 9,
      "outputs": []
    },
    {
      "cell_type": "code",
      "source": [
        "label =[]\n",
        "for name in img_name:\n",
        "  for idx, x in enumerate(tipos):\n",
        "    if(x in name):\n",
        "      label.append(idx)"
      ],
      "metadata": {
        "id": "MejkwNSX1kOi"
      },
      "execution_count": 10,
      "outputs": []
    },
    {
      "cell_type": "code",
      "source": [
        "df=pd.DataFrame(label,columns=['target'])"
      ],
      "metadata": {
        "id": "GyKMP7gCScy4"
      },
      "execution_count": 11,
      "outputs": []
    },
    {
      "cell_type": "code",
      "source": [
        "y = pd.get_dummies(df['target'])"
      ],
      "metadata": {
        "id": "YGlSEZ5O3pkf"
      },
      "execution_count": 12,
      "outputs": []
    },
    {
      "cell_type": "code",
      "source": [
        "for i in range(6): \n",
        "  n= df[(df[\"target\"] == i)].shape[0]\n",
        "  print(tipos[i],n)"
      ],
      "metadata": {
        "colab": {
          "base_uri": "https://localhost:8080/"
        },
        "id": "W6CDIVizOZXv",
        "outputId": "904f5397-5cfa-41b0-ee0d-876a84c4c8a7"
      },
      "execution_count": 13,
      "outputs": [
        {
          "output_type": "stream",
          "name": "stdout",
          "text": [
            "cardboard 403\n",
            "glass 501\n",
            "metal 410\n",
            "paper 594\n",
            "plastic 482\n",
            "trash 137\n"
          ]
        }
      ]
    },
    {
      "cell_type": "code",
      "source": [
        "#label"
      ],
      "metadata": {
        "id": "nZ_iIcFRNue7"
      },
      "execution_count": 14,
      "outputs": []
    },
    {
      "cell_type": "code",
      "source": [
        "n =len(img_name)\n",
        "data = np.empty((n, 224, 224, 3))"
      ],
      "metadata": {
        "id": "Y0IiAVMPNZF9"
      },
      "execution_count": 15,
      "outputs": []
    },
    {
      "cell_type": "code",
      "source": [
        "# https://pythontutorials.eu/deep-learning/transfer-learning/"
      ],
      "metadata": {
        "id": "g5xlAJuoOle1"
      },
      "execution_count": 16,
      "outputs": []
    },
    {
      "cell_type": "code",
      "source": [
        "DATASET_SIZE = len(img_name)\n",
        "Ind = range(DATASET_SIZE)\n",
        "Ind_train, Ind_test= train_test_split(Ind,test_size=0.20,stratify=label, shuffle=True, random_state=3)\n",
        "X = np.array(X)\n",
        "X_train=X[Ind_train]\n",
        "X_test = X[Ind_test]\n",
        "y_train=y.iloc[Ind_train,:]\n",
        "y_test = y.iloc[Ind_test,:]"
      ],
      "metadata": {
        "id": "xJyag03ml4jj"
      },
      "execution_count": 17,
      "outputs": []
    },
    {
      "cell_type": "code",
      "source": [
        "from keras.applications.mobilenet_v2 import preprocess_input\n",
        "from skimage.transform import resize\n",
        "i = 0\n",
        "for im in X:\n",
        "    im = preprocess_input(im)\n",
        "    im = resize(im, output_shape=(224, 224))\n",
        "    data[i] = im\n",
        "    i += 1"
      ],
      "metadata": {
        "id": "VVRS0r0UNzw8"
      },
      "execution_count": 18,
      "outputs": []
    },
    {
      "cell_type": "code",
      "source": [
        "n"
      ],
      "metadata": {
        "colab": {
          "base_uri": "https://localhost:8080/"
        },
        "id": "9N7fPiisPnkF",
        "outputId": "a85be8ee-5fe1-4352-bee0-08ebecc48a8a"
      },
      "execution_count": 19,
      "outputs": [
        {
          "output_type": "execute_result",
          "data": {
            "text/plain": [
              "2527"
            ]
          },
          "metadata": {},
          "execution_count": 19
        }
      ]
    },
    {
      "cell_type": "code",
      "source": [
        "n =len(img_name)\n",
        "m = len(tipos)\n",
        "\n",
        "'''\n",
        "labels_tf = np.empty(n, dtype=int)\n",
        "for idx, yi in enumerate(label):\n",
        "  labels_tf[idx] = yi\n",
        "'''\n",
        "idx = 0\n",
        "labels_tf = np.empty([n,m], dtype=int)\n",
        "for yi in y.values:\n",
        "  labels_tf[idx] = yi\n",
        "  idx = idx + 1\n",
        "\n"
      ],
      "metadata": {
        "id": "rcgv-joQO61M"
      },
      "execution_count": 20,
      "outputs": []
    },
    {
      "cell_type": "code",
      "source": [
        "import tensorflow as tf\n",
        "from tensorflow.keras.applications.mobilenet_v2 import MobileNetV2\n",
        "#from tensorflow.keras.applications.resnet50 import ResNet50\n",
        "\n",
        "#model = MobileNetV2(weights='imagenet')\n",
        "model = ResNet50(weights='imagenet')"
      ],
      "metadata": {
        "id": "EwENgCGxQVS8"
      },
      "execution_count": 21,
      "outputs": []
    },
    {
      "cell_type": "code",
      "source": [
        "from keras.applications.mobilenet_v2 import decode_predictions\n",
        "\n",
        "predictions = model.predict(data)\n",
        "k = 0\n",
        "for decoded_prediction in decode_predictions(predictions, top=1):\n",
        "  \n",
        "  for name, desc, score in decoded_prediction:\n",
        "      if(k % 200 ==0):\n",
        "        print('- {} ({:.2f}%%) {}'.format(desc, 100 * score,img_name[k]))\n",
        "  k = k +1"
      ],
      "metadata": {
        "colab": {
          "base_uri": "https://localhost:8080/"
        },
        "id": "ooc62gF9QWUE",
        "outputId": "3e81269e-194e-45a4-ab42-1488e7d987ec"
      },
      "execution_count": 22,
      "outputs": [
        {
          "output_type": "stream",
          "name": "stdout",
          "text": [
            "79/79 [==============================] - 6s 38ms/step\n",
            "- envelope (27.77%%) cardboard1.jpg\n",
            "- mailbag (27.79%%) cardboard201.jpg\n",
            "- velvet (10.09%%) cardboard401.jpg\n",
            "- ballpoint (13.35%%) glass198.jpg\n",
            "- spotlight (96.14%%) glass398.jpg\n",
            "- water_bottle (24.05%%) metal97.jpg\n",
            "- ashcan (71.91%%) metal297.jpg\n",
            "- syringe (20.62%%) paper87.jpg\n",
            "- shopping_cart (10.26%%) paper287.jpg\n",
            "- hand-held_computer (23.41%%) paper487.jpg\n",
            "- water_bottle (18.48%%) plastic93.jpg\n",
            "- water_bottle (60.90%%) plastic293.jpg\n",
            "- plastic_bag (69.38%%) trash11.jpg\n"
          ]
        }
      ]
    },
    {
      "cell_type": "code",
      "source": [
        "# Let's take a look to see how many layers are in the base model\n",
        "print(\"Number of layers in the base model: \", len(model.layers))\n",
        "\n",
        "# Fine-tune from this layer onwards\n",
        "fine_tune_at = 156\n",
        "\n",
        "# Freeze all the layers before the `fine_tune_at` layer\n",
        "# check https://www.tensorflow.org/tutorials/images/transfer_learning\n",
        "for layer in model.layers[:fine_tune_at]:\n",
        "  layer.trainable = False"
      ],
      "metadata": {
        "colab": {
          "base_uri": "https://localhost:8080/"
        },
        "id": "BoWVRnZ-E2s6",
        "outputId": "2f5c5a75-94b7-4189-f600-a35bbd3183ff"
      },
      "execution_count": 23,
      "outputs": [
        {
          "output_type": "stream",
          "name": "stdout",
          "text": [
            "Number of layers in the base model:  156\n"
          ]
        }
      ]
    },
    {
      "cell_type": "code",
      "source": [
        "#from keras.layers import Dense\n",
        "#D = len(tipos)\n",
        "#model_output = Dense(D, activation='softmax')"
      ],
      "metadata": {
        "id": "j3I5nZ8dRYKd"
      },
      "execution_count": 24,
      "outputs": []
    },
    {
      "cell_type": "code",
      "source": [
        "#model_output = model_output(model.layers[-2].output)"
      ],
      "metadata": {
        "id": "bz08xnbiTn7e"
      },
      "execution_count": 25,
      "outputs": []
    },
    {
      "cell_type": "code",
      "source": [
        "D =len(tipos)\n",
        "model_output = Dense(D, activation= 'softmax') #'relu')\n",
        "model_output = model_output(model.layers[-2].output)\n",
        "model_input = model.input\n",
        "model_new = Model(inputs=model_input, outputs=model_output)"
      ],
      "metadata": {
        "id": "iCvwlrUtITKz"
      },
      "execution_count": 26,
      "outputs": []
    },
    {
      "cell_type": "code",
      "source": [
        "#from keras import Model\n",
        "#from sklearn.metrics import classification_report, confusion_matrix\n",
        "#model_input = model.input\n",
        "#model_model = Model(inputs=model_input, outputs=model_output)"
      ],
      "metadata": {
        "id": "IqaB8H5ETs0W"
      },
      "execution_count": 27,
      "outputs": []
    },
    {
      "cell_type": "code",
      "source": [
        "model_new.compile(\n",
        "    optimizer='adam',\n",
        "    loss='categorical_crossentropy',\n",
        "    metrics=['accuracy']\n",
        ")"
      ],
      "metadata": {
        "id": "mZ2SZgLgTzq9"
      },
      "execution_count": 28,
      "outputs": []
    },
    {
      "cell_type": "code",
      "source": [
        "r = model_new.fit(\n",
        "    x=X_train,\n",
        "    y=y_train,\n",
        "    validation_data=(X_test, y_test),\n",
        "    epochs=80,\n",
        "    verbose=2\n",
        ")"
      ],
      "metadata": {
        "colab": {
          "base_uri": "https://localhost:8080/"
        },
        "id": "e2-bCh20FVqT",
        "outputId": "0d5d963d-2464-40a3-f7c7-a04db12e67a2"
      },
      "execution_count": 29,
      "outputs": [
        {
          "output_type": "stream",
          "name": "stdout",
          "text": [
            "Epoch 1/80\n",
            "64/64 - 7s - loss: 1.3853 - accuracy: 0.4790 - val_loss: 1.1242 - val_accuracy: 0.5988 - 7s/epoch - 113ms/step\n",
            "Epoch 2/80\n",
            "64/64 - 3s - loss: 1.0677 - accuracy: 0.6037 - val_loss: 1.0340 - val_accuracy: 0.6028 - 3s/epoch - 46ms/step\n",
            "Epoch 3/80\n",
            "64/64 - 3s - loss: 0.9536 - accuracy: 0.6492 - val_loss: 0.9885 - val_accuracy: 0.6462 - 3s/epoch - 46ms/step\n",
            "Epoch 4/80\n",
            "64/64 - 3s - loss: 0.8836 - accuracy: 0.6873 - val_loss: 0.9363 - val_accuracy: 0.6462 - 3s/epoch - 47ms/step\n",
            "Epoch 5/80\n",
            "64/64 - 3s - loss: 0.8336 - accuracy: 0.6907 - val_loss: 0.9251 - val_accuracy: 0.6581 - 3s/epoch - 46ms/step\n",
            "Epoch 6/80\n",
            "64/64 - 3s - loss: 0.7912 - accuracy: 0.7105 - val_loss: 0.8903 - val_accuracy: 0.6640 - 3s/epoch - 46ms/step\n",
            "Epoch 7/80\n",
            "64/64 - 3s - loss: 0.7463 - accuracy: 0.7402 - val_loss: 0.8581 - val_accuracy: 0.6798 - 3s/epoch - 46ms/step\n",
            "Epoch 8/80\n",
            "64/64 - 3s - loss: 0.7249 - accuracy: 0.7447 - val_loss: 0.8523 - val_accuracy: 0.6700 - 3s/epoch - 49ms/step\n",
            "Epoch 9/80\n",
            "64/64 - 3s - loss: 0.7014 - accuracy: 0.7650 - val_loss: 0.8458 - val_accuracy: 0.6917 - 3s/epoch - 47ms/step\n",
            "Epoch 10/80\n",
            "64/64 - 3s - loss: 0.6746 - accuracy: 0.7640 - val_loss: 0.8349 - val_accuracy: 0.6897 - 3s/epoch - 46ms/step\n",
            "Epoch 11/80\n",
            "64/64 - 3s - loss: 0.6525 - accuracy: 0.7749 - val_loss: 0.8196 - val_accuracy: 0.7075 - 3s/epoch - 47ms/step\n",
            "Epoch 12/80\n",
            "64/64 - 3s - loss: 0.6282 - accuracy: 0.7872 - val_loss: 0.8316 - val_accuracy: 0.6838 - 3s/epoch - 47ms/step\n",
            "Epoch 13/80\n",
            "64/64 - 3s - loss: 0.6088 - accuracy: 0.7947 - val_loss: 0.8284 - val_accuracy: 0.6739 - 3s/epoch - 47ms/step\n",
            "Epoch 14/80\n",
            "64/64 - 3s - loss: 0.5932 - accuracy: 0.7991 - val_loss: 0.8037 - val_accuracy: 0.7055 - 3s/epoch - 47ms/step\n",
            "Epoch 15/80\n",
            "64/64 - 3s - loss: 0.5760 - accuracy: 0.8095 - val_loss: 0.8183 - val_accuracy: 0.7154 - 3s/epoch - 47ms/step\n",
            "Epoch 16/80\n",
            "64/64 - 3s - loss: 0.5623 - accuracy: 0.8189 - val_loss: 0.8025 - val_accuracy: 0.6937 - 3s/epoch - 47ms/step\n",
            "Epoch 17/80\n",
            "64/64 - 3s - loss: 0.5463 - accuracy: 0.8204 - val_loss: 0.8025 - val_accuracy: 0.6976 - 3s/epoch - 47ms/step\n",
            "Epoch 18/80\n",
            "64/64 - 3s - loss: 0.5364 - accuracy: 0.8313 - val_loss: 0.8163 - val_accuracy: 0.6957 - 3s/epoch - 47ms/step\n",
            "Epoch 19/80\n",
            "64/64 - 3s - loss: 0.5220 - accuracy: 0.8347 - val_loss: 0.7897 - val_accuracy: 0.6917 - 3s/epoch - 47ms/step\n",
            "Epoch 20/80\n",
            "64/64 - 3s - loss: 0.5125 - accuracy: 0.8347 - val_loss: 0.7861 - val_accuracy: 0.7016 - 3s/epoch - 47ms/step\n",
            "Epoch 21/80\n",
            "64/64 - 3s - loss: 0.5043 - accuracy: 0.8422 - val_loss: 0.7774 - val_accuracy: 0.6996 - 3s/epoch - 47ms/step\n",
            "Epoch 22/80\n",
            "64/64 - 3s - loss: 0.4891 - accuracy: 0.8525 - val_loss: 0.8060 - val_accuracy: 0.7055 - 3s/epoch - 47ms/step\n",
            "Epoch 23/80\n",
            "64/64 - 3s - loss: 0.4824 - accuracy: 0.8456 - val_loss: 0.7981 - val_accuracy: 0.6937 - 3s/epoch - 46ms/step\n",
            "Epoch 24/80\n",
            "64/64 - 3s - loss: 0.4736 - accuracy: 0.8550 - val_loss: 0.7782 - val_accuracy: 0.7253 - 3s/epoch - 46ms/step\n",
            "Epoch 25/80\n",
            "64/64 - 3s - loss: 0.4579 - accuracy: 0.8600 - val_loss: 0.7733 - val_accuracy: 0.7036 - 3s/epoch - 46ms/step\n",
            "Epoch 26/80\n",
            "64/64 - 3s - loss: 0.4511 - accuracy: 0.8629 - val_loss: 0.7801 - val_accuracy: 0.6937 - 3s/epoch - 46ms/step\n",
            "Epoch 27/80\n",
            "64/64 - 3s - loss: 0.4442 - accuracy: 0.8634 - val_loss: 0.7825 - val_accuracy: 0.7036 - 3s/epoch - 47ms/step\n",
            "Epoch 28/80\n",
            "64/64 - 3s - loss: 0.4332 - accuracy: 0.8679 - val_loss: 0.7817 - val_accuracy: 0.7016 - 3s/epoch - 48ms/step\n",
            "Epoch 29/80\n",
            "64/64 - 3s - loss: 0.4189 - accuracy: 0.8748 - val_loss: 0.7764 - val_accuracy: 0.6976 - 3s/epoch - 47ms/step\n",
            "Epoch 30/80\n",
            "64/64 - 3s - loss: 0.4167 - accuracy: 0.8758 - val_loss: 0.7854 - val_accuracy: 0.7134 - 3s/epoch - 47ms/step\n",
            "Epoch 31/80\n",
            "64/64 - 3s - loss: 0.4018 - accuracy: 0.8847 - val_loss: 0.7684 - val_accuracy: 0.7174 - 3s/epoch - 46ms/step\n",
            "Epoch 32/80\n",
            "64/64 - 3s - loss: 0.3988 - accuracy: 0.8817 - val_loss: 0.8013 - val_accuracy: 0.7016 - 3s/epoch - 47ms/step\n",
            "Epoch 33/80\n",
            "64/64 - 3s - loss: 0.3945 - accuracy: 0.8788 - val_loss: 0.7739 - val_accuracy: 0.7095 - 3s/epoch - 47ms/step\n",
            "Epoch 34/80\n",
            "64/64 - 3s - loss: 0.3839 - accuracy: 0.8852 - val_loss: 0.8188 - val_accuracy: 0.7036 - 3s/epoch - 47ms/step\n",
            "Epoch 35/80\n",
            "64/64 - 3s - loss: 0.3777 - accuracy: 0.8921 - val_loss: 0.7738 - val_accuracy: 0.7154 - 3s/epoch - 48ms/step\n",
            "Epoch 36/80\n",
            "64/64 - 3s - loss: 0.3676 - accuracy: 0.9010 - val_loss: 0.7844 - val_accuracy: 0.7253 - 3s/epoch - 48ms/step\n",
            "Epoch 37/80\n",
            "64/64 - 3s - loss: 0.3718 - accuracy: 0.8897 - val_loss: 0.7623 - val_accuracy: 0.7273 - 3s/epoch - 47ms/step\n",
            "Epoch 38/80\n",
            "64/64 - 3s - loss: 0.3570 - accuracy: 0.8976 - val_loss: 0.7939 - val_accuracy: 0.7055 - 3s/epoch - 47ms/step\n",
            "Epoch 39/80\n",
            "64/64 - 3s - loss: 0.3542 - accuracy: 0.9015 - val_loss: 0.7926 - val_accuracy: 0.7095 - 3s/epoch - 47ms/step\n",
            "Epoch 40/80\n",
            "64/64 - 3s - loss: 0.3546 - accuracy: 0.8941 - val_loss: 0.7817 - val_accuracy: 0.7194 - 3s/epoch - 47ms/step\n",
            "Epoch 41/80\n",
            "64/64 - 3s - loss: 0.3447 - accuracy: 0.9055 - val_loss: 0.7803 - val_accuracy: 0.7154 - 3s/epoch - 48ms/step\n",
            "Epoch 42/80\n",
            "64/64 - 3s - loss: 0.3433 - accuracy: 0.9010 - val_loss: 0.7993 - val_accuracy: 0.7273 - 3s/epoch - 48ms/step\n",
            "Epoch 43/80\n",
            "64/64 - 3s - loss: 0.3358 - accuracy: 0.9095 - val_loss: 0.7682 - val_accuracy: 0.7273 - 3s/epoch - 48ms/step\n",
            "Epoch 44/80\n",
            "64/64 - 3s - loss: 0.3244 - accuracy: 0.9114 - val_loss: 0.7746 - val_accuracy: 0.7115 - 3s/epoch - 47ms/step\n",
            "Epoch 45/80\n",
            "64/64 - 3s - loss: 0.3177 - accuracy: 0.9203 - val_loss: 0.7898 - val_accuracy: 0.7194 - 3s/epoch - 48ms/step\n",
            "Epoch 46/80\n",
            "64/64 - 3s - loss: 0.3205 - accuracy: 0.9149 - val_loss: 0.7677 - val_accuracy: 0.7233 - 3s/epoch - 48ms/step\n",
            "Epoch 47/80\n",
            "64/64 - 3s - loss: 0.3058 - accuracy: 0.9193 - val_loss: 0.7634 - val_accuracy: 0.7273 - 3s/epoch - 47ms/step\n",
            "Epoch 48/80\n",
            "64/64 - 3s - loss: 0.3006 - accuracy: 0.9268 - val_loss: 0.7763 - val_accuracy: 0.7194 - 3s/epoch - 47ms/step\n",
            "Epoch 49/80\n",
            "64/64 - 3s - loss: 0.2988 - accuracy: 0.9248 - val_loss: 0.7705 - val_accuracy: 0.7174 - 3s/epoch - 48ms/step\n",
            "Epoch 50/80\n",
            "64/64 - 3s - loss: 0.2910 - accuracy: 0.9352 - val_loss: 0.7905 - val_accuracy: 0.7174 - 3s/epoch - 48ms/step\n",
            "Epoch 51/80\n",
            "64/64 - 3s - loss: 0.2871 - accuracy: 0.9327 - val_loss: 0.7657 - val_accuracy: 0.7233 - 3s/epoch - 48ms/step\n",
            "Epoch 52/80\n",
            "64/64 - 3s - loss: 0.2868 - accuracy: 0.9278 - val_loss: 0.7758 - val_accuracy: 0.7273 - 3s/epoch - 47ms/step\n",
            "Epoch 53/80\n",
            "64/64 - 3s - loss: 0.2771 - accuracy: 0.9362 - val_loss: 0.7760 - val_accuracy: 0.7134 - 3s/epoch - 47ms/step\n",
            "Epoch 54/80\n",
            "64/64 - 3s - loss: 0.2734 - accuracy: 0.9381 - val_loss: 0.7904 - val_accuracy: 0.7213 - 3s/epoch - 48ms/step\n",
            "Epoch 55/80\n",
            "64/64 - 3s - loss: 0.2698 - accuracy: 0.9426 - val_loss: 0.7927 - val_accuracy: 0.7174 - 3s/epoch - 48ms/step\n",
            "Epoch 56/80\n",
            "64/64 - 3s - loss: 0.2667 - accuracy: 0.9426 - val_loss: 0.7717 - val_accuracy: 0.7273 - 3s/epoch - 47ms/step\n",
            "Epoch 57/80\n",
            "64/64 - 3s - loss: 0.2637 - accuracy: 0.9362 - val_loss: 0.7752 - val_accuracy: 0.7154 - 3s/epoch - 47ms/step\n",
            "Epoch 58/80\n",
            "64/64 - 3s - loss: 0.2569 - accuracy: 0.9436 - val_loss: 0.7866 - val_accuracy: 0.7253 - 3s/epoch - 48ms/step\n",
            "Epoch 59/80\n",
            "64/64 - 3s - loss: 0.2532 - accuracy: 0.9466 - val_loss: 0.7747 - val_accuracy: 0.7273 - 3s/epoch - 48ms/step\n",
            "Epoch 60/80\n",
            "64/64 - 3s - loss: 0.2508 - accuracy: 0.9426 - val_loss: 0.7848 - val_accuracy: 0.7233 - 3s/epoch - 48ms/step\n",
            "Epoch 61/80\n",
            "64/64 - 3s - loss: 0.2481 - accuracy: 0.9461 - val_loss: 0.8008 - val_accuracy: 0.7194 - 3s/epoch - 48ms/step\n",
            "Epoch 62/80\n",
            "64/64 - 3s - loss: 0.2429 - accuracy: 0.9505 - val_loss: 0.8010 - val_accuracy: 0.7213 - 3s/epoch - 48ms/step\n",
            "Epoch 63/80\n",
            "64/64 - 3s - loss: 0.2442 - accuracy: 0.9441 - val_loss: 0.7951 - val_accuracy: 0.7174 - 3s/epoch - 48ms/step\n",
            "Epoch 64/80\n",
            "64/64 - 3s - loss: 0.2355 - accuracy: 0.9500 - val_loss: 0.7838 - val_accuracy: 0.7213 - 3s/epoch - 48ms/step\n",
            "Epoch 65/80\n",
            "64/64 - 3s - loss: 0.2347 - accuracy: 0.9441 - val_loss: 0.7982 - val_accuracy: 0.7213 - 3s/epoch - 47ms/step\n",
            "Epoch 66/80\n",
            "64/64 - 3s - loss: 0.2305 - accuracy: 0.9545 - val_loss: 0.7995 - val_accuracy: 0.7174 - 3s/epoch - 48ms/step\n",
            "Epoch 67/80\n",
            "64/64 - 3s - loss: 0.2276 - accuracy: 0.9515 - val_loss: 0.8330 - val_accuracy: 0.7194 - 3s/epoch - 47ms/step\n",
            "Epoch 68/80\n",
            "64/64 - 3s - loss: 0.2324 - accuracy: 0.9426 - val_loss: 0.8027 - val_accuracy: 0.7273 - 3s/epoch - 48ms/step\n",
            "Epoch 69/80\n",
            "64/64 - 3s - loss: 0.2182 - accuracy: 0.9570 - val_loss: 0.8130 - val_accuracy: 0.7233 - 3s/epoch - 47ms/step\n",
            "Epoch 70/80\n",
            "64/64 - 3s - loss: 0.2175 - accuracy: 0.9604 - val_loss: 0.7931 - val_accuracy: 0.7233 - 3s/epoch - 47ms/step\n",
            "Epoch 71/80\n",
            "64/64 - 3s - loss: 0.2135 - accuracy: 0.9565 - val_loss: 0.8037 - val_accuracy: 0.7253 - 3s/epoch - 48ms/step\n",
            "Epoch 72/80\n",
            "64/64 - 3s - loss: 0.2119 - accuracy: 0.9624 - val_loss: 0.8003 - val_accuracy: 0.7233 - 3s/epoch - 48ms/step\n",
            "Epoch 73/80\n",
            "64/64 - 3s - loss: 0.2105 - accuracy: 0.9570 - val_loss: 0.8148 - val_accuracy: 0.6996 - 3s/epoch - 48ms/step\n",
            "Epoch 74/80\n",
            "64/64 - 3s - loss: 0.2064 - accuracy: 0.9589 - val_loss: 0.8047 - val_accuracy: 0.7095 - 3s/epoch - 48ms/step\n",
            "Epoch 75/80\n",
            "64/64 - 3s - loss: 0.2030 - accuracy: 0.9609 - val_loss: 0.8177 - val_accuracy: 0.7233 - 3s/epoch - 47ms/step\n",
            "Epoch 76/80\n",
            "64/64 - 3s - loss: 0.1998 - accuracy: 0.9644 - val_loss: 0.8191 - val_accuracy: 0.7194 - 3s/epoch - 47ms/step\n",
            "Epoch 77/80\n",
            "64/64 - 3s - loss: 0.1973 - accuracy: 0.9673 - val_loss: 0.8209 - val_accuracy: 0.7154 - 3s/epoch - 47ms/step\n",
            "Epoch 78/80\n",
            "64/64 - 3s - loss: 0.1944 - accuracy: 0.9629 - val_loss: 0.8274 - val_accuracy: 0.7213 - 3s/epoch - 46ms/step\n",
            "Epoch 79/80\n",
            "64/64 - 3s - loss: 0.1925 - accuracy: 0.9683 - val_loss: 0.8191 - val_accuracy: 0.7213 - 3s/epoch - 47ms/step\n",
            "Epoch 80/80\n",
            "64/64 - 3s - loss: 0.1893 - accuracy: 0.9673 - val_loss: 0.8349 - val_accuracy: 0.7233 - 3s/epoch - 47ms/step\n"
          ]
        }
      ]
    },
    {
      "cell_type": "code",
      "source": [
        "def retorna(y):\n",
        "  resp = []\n",
        "  for yi in y:\n",
        "    vmax =max(yi)\n",
        "    for idx, x in enumerate(yi):\n",
        "      if(x == vmax):\n",
        "        resp.append(idx)\n",
        "  return resp"
      ],
      "metadata": {
        "id": "oZpcAHqAcc2P"
      },
      "execution_count": 30,
      "outputs": []
    },
    {
      "cell_type": "code",
      "source": [
        "test_loss, test_acc = model_new.evaluate(X_test,  y_test, verbose=2)"
      ],
      "metadata": {
        "colab": {
          "base_uri": "https://localhost:8080/"
        },
        "id": "X1WjQJzCoJbp",
        "outputId": "8a5c78e5-dea5-4242-df02-5745234d6cba"
      },
      "execution_count": 31,
      "outputs": [
        {
          "output_type": "stream",
          "name": "stdout",
          "text": [
            "16/16 - 1s - loss: 0.8349 - accuracy: 0.7233 - 660ms/epoch - 41ms/step\n"
          ]
        }
      ]
    },
    {
      "cell_type": "code",
      "source": [
        "predict=model_new.predict(X_test)"
      ],
      "metadata": {
        "colab": {
          "base_uri": "https://localhost:8080/"
        },
        "id": "xy_bi00toakb",
        "outputId": "aa686da9-defb-4f5d-a015-b9e6c4582b00"
      },
      "execution_count": 32,
      "outputs": [
        {
          "output_type": "stream",
          "name": "stdout",
          "text": [
            "16/16 [==============================] - 1s 35ms/step\n"
          ]
        }
      ]
    },
    {
      "cell_type": "code",
      "source": [
        "predict[0].shape"
      ],
      "metadata": {
        "colab": {
          "base_uri": "https://localhost:8080/"
        },
        "id": "IpzdBCZUp2wj",
        "outputId": "29a36347-84cd-4a4a-e6a4-5c633c6ad692"
      },
      "execution_count": 33,
      "outputs": [
        {
          "output_type": "execute_result",
          "data": {
            "text/plain": [
              "(6,)"
            ]
          },
          "metadata": {},
          "execution_count": 33
        }
      ]
    },
    {
      "cell_type": "code",
      "source": [
        "y_calc = retorna(predict)\n",
        "y_test = retorna(np.array(y_test))"
      ],
      "metadata": {
        "id": "WlB25NH9obtJ"
      },
      "execution_count": 34,
      "outputs": []
    },
    {
      "cell_type": "code",
      "source": [
        "confusion_matrix(y_test, y_calc)"
      ],
      "metadata": {
        "colab": {
          "base_uri": "https://localhost:8080/"
        },
        "id": "TEDV8C1Qoe2q",
        "outputId": "9c8720f0-b604-4208-e094-93abee398d55"
      },
      "execution_count": 35,
      "outputs": [
        {
          "output_type": "execute_result",
          "data": {
            "text/plain": [
              "array([[ 69,   2,   0,   7,   3,   0],\n",
              "       [  0,  77,  12,   4,   7,   0],\n",
              "       [  0,  13,  58,   3,   6,   2],\n",
              "       [  7,   1,   3, 104,   1,   3],\n",
              "       [  2,  24,   6,  11,  49,   5],\n",
              "       [  1,   7,   0,   5,   5,   9]])"
            ]
          },
          "metadata": {},
          "execution_count": 35
        }
      ]
    },
    {
      "cell_type": "code",
      "source": [
        "# Classification Report\n",
        "print('\\n\\n', classification_report(y_test, y_calc, target_names=tipos))"
      ],
      "metadata": {
        "colab": {
          "base_uri": "https://localhost:8080/"
        },
        "id": "TpUUMcTpolUA",
        "outputId": "56eadd25-289d-4840-c80e-a21b85c62e7c"
      },
      "execution_count": 36,
      "outputs": [
        {
          "output_type": "stream",
          "name": "stdout",
          "text": [
            "\n",
            "\n",
            "               precision    recall  f1-score   support\n",
            "\n",
            "   cardboard       0.87      0.85      0.86        81\n",
            "       glass       0.62      0.77      0.69       100\n",
            "       metal       0.73      0.71      0.72        82\n",
            "       paper       0.78      0.87      0.82       119\n",
            "     plastic       0.69      0.51      0.58        97\n",
            "       trash       0.47      0.33      0.39        27\n",
            "\n",
            "    accuracy                           0.72       506\n",
            "   macro avg       0.69      0.67      0.68       506\n",
            "weighted avg       0.72      0.72      0.72       506\n",
            "\n"
          ]
        }
      ]
    },
    {
      "cell_type": "code",
      "source": [
        "plt.plot(r.history['accuracy'],label='accuracy')\n",
        "plt.plot(r.history['val_accuracy'],label='val_accuracy')\n",
        "plt.legend()"
      ],
      "metadata": {
        "colab": {
          "base_uri": "https://localhost:8080/",
          "height": 282
        },
        "id": "0vOvYfUrFejh",
        "outputId": "18b7beb1-bda3-49f5-c760-de453725dec2"
      },
      "execution_count": 37,
      "outputs": [
        {
          "output_type": "execute_result",
          "data": {
            "text/plain": [
              "<matplotlib.legend.Legend at 0x7f5dbd922dd0>"
            ]
          },
          "metadata": {},
          "execution_count": 37
        },
        {
          "output_type": "display_data",
          "data": {
            "text/plain": [
              "<Figure size 432x288 with 1 Axes>"
            ],
            "image/png": "[encoded data removed]"
          },
          "metadata": {
            "needs_background": "light"
          }
        }
      ]
    },
    {
      "cell_type": "code",
      "source": [
        "plt.plot(r.history['loss'],label='loss')\n",
        "plt.plot(r.history['val_loss'],label='val_loss')\n",
        "plt.legend()"
      ],
      "metadata": {
        "colab": {
          "base_uri": "https://localhost:8080/",
          "height": 282
        },
        "id": "Ss8jajE3Fh_u",
        "outputId": "25764373-cc39-4c05-b584-2b08256c3306"
      },
      "execution_count": 38,
      "outputs": [
        {
          "output_type": "execute_result",
          "data": {
            "text/plain": [
              "<matplotlib.legend.Legend at 0x7f5dbd8bd6d0>"
            ]
          },
          "metadata": {},
          "execution_count": 38
        },
        {
          "output_type": "display_data",
          "data": {
            "text/plain": [
              "<Figure size 432x288 with 1 Axes>"
            ],
            "image/png": "[encoded data removed]"
          },
          "metadata": {
            "needs_background": "light"
          }
        }
      ]
    }
  ]
}