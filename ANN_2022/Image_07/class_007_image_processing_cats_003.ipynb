{
  "nbformat": 4,
  "nbformat_minor": 0,
  "metadata": {
    "colab": {
      "provenance": [],
      "authorship_tag": "ABX9TyOQqHjrbr/BpvSElWExG6RP",
      "include_colab_link": true
    },
    "kernelspec": {
      "name": "python3",
      "display_name": "Python 3"
    },
    "language_info": {
      "name": "python"
    }
  },
  "cells": [
    {
      "cell_type": "markdown",
      "metadata": {
        "id": "view-in-github",
        "colab_type": "text"
      },
      "source": [
        "<a href=\"https://colab.research.google.com/github/ucfilho/ANN/blob/master/ANN_2022/Image_07/class_007_image_processing_cats_003.ipynb\" target=\"_parent\"><img src=\"https://colab.research.google.com/assets/colab-badge.svg\" alt=\"Open In Colab\"/></a>"
      ]
    },
    {
      "cell_type": "code",
      "source": [
        "import cv2\n",
        "import numpy as np\n",
        "import pandas as pd\n",
        "import random\n",
        "import zipfile\n",
        "from matplotlib import pyplot as plt\n",
        "import skimage.feature\n",
        "from string import digits\n",
        "import seaborn as sns\n",
        "import skimage\n",
        "import tensorflow as tf\n",
        "from sklearn.model_selection import train_test_split\n",
        "from imageio import imread"
      ],
      "metadata": {
        "id": "nFJ-84YNHLXL"
      },
      "execution_count": 1,
      "outputs": []
    },
    {
      "cell_type": "code",
      "source": [
        "!git clone https://github.com/ucfilho/Machine_Learning_DataSet\n",
        "%cd Machine_Learning_DataSet"
      ],
      "metadata": {
        "colab": {
          "base_uri": "https://localhost:8080/"
        },
        "id": "KyPKykrwHL5x",
        "outputId": "00f69a37-3378-4a6a-bef4-ec12bb1d2bdf"
      },
      "execution_count": 2,
      "outputs": [
        {
          "output_type": "stream",
          "name": "stdout",
          "text": [
            "fatal: destination path 'Machine_Learning_DataSet' already exists and is not an empty directory.\n",
            "/content/Machine_Learning_DataSet\n"
          ]
        }
      ]
    },
    {
      "cell_type": "code",
      "source": [
        "# check: https://pythontutorials.eu/deep-learning/transfer-learning/#"
      ],
      "metadata": {
        "id": "Rch2aEdP7gpP"
      },
      "execution_count": 3,
      "outputs": []
    },
    {
      "cell_type": "code",
      "source": [
        "FILE='cats.zip'\n",
        "archive = zipfile.ZipFile(FILE, 'r')\n",
        "archive.extractall()"
      ],
      "metadata": {
        "id": "8moSTsULHOKZ"
      },
      "execution_count": 4,
      "outputs": []
    },
    {
      "cell_type": "code",
      "source": [
        "archive = zipfile.ZipFile(FILE, 'r')\n",
        "archive.extractall()"
      ],
      "metadata": {
        "id": "h4mKx6iJHhLh"
      },
      "execution_count": 5,
      "outputs": []
    },
    {
      "cell_type": "code",
      "source": [
        "img_name=[]\n",
        "with zipfile.ZipFile(FILE, \"r\") as f:\n",
        "    for name in f.namelist():\n",
        "        img_name.append(name)"
      ],
      "metadata": {
        "id": "SRQwKMUSIfWy"
      },
      "execution_count": 6,
      "outputs": []
    },
    {
      "cell_type": "code",
      "source": [
        "from tensorflow.keras.applications.mobilenet_v2 import preprocess_input\n",
        "\n",
        "data = np.empty((40, 224, 224, 3))\n",
        "\n",
        "for i in range(0, 20):\n",
        "    if('jpg' in img_name[i]):\n",
        "      im = cv2.imread(img_name[i])\n",
        "      im = cv2.resize(im, (224, 224))\n",
        "      im = im/255.0 # preprocess_input(im)\n",
        "      if(max(im.flatten())>1):\n",
        "        im = im/max(im.flatten())\n",
        "      data[i] = im\n",
        "\n",
        "for i in range(0, 20):\n",
        "    if('jpg' in img_name[i+20]):\n",
        "      im = np.array(cv2.imread(img_name[i+20]))\n",
        "      im = cv2.resize(im,(224, 224))\n",
        "      im = im/255.0 #preprocess_input(im)\n",
        "      if(max(im.flatten())>1):\n",
        "        im = im/max(im.flatten())\n",
        "      data[i + 20] = im\n",
        "\n",
        "labels = np.empty(40, dtype=int)\n",
        "labels[:20] = 0\n",
        "labels[20:] = 1"
      ],
      "metadata": {
        "id": "5iGgnU0WbTpr"
      },
      "execution_count": 7,
      "outputs": []
    },
    {
      "cell_type": "code",
      "source": [
        "data.shape"
      ],
      "metadata": {
        "colab": {
          "base_uri": "https://localhost:8080/"
        },
        "id": "XXlx_TjSsKhW",
        "outputId": "0d15d953-b1af-47e9-868c-5be38ad7b257"
      },
      "execution_count": 8,
      "outputs": [
        {
          "output_type": "execute_result",
          "data": {
            "text/plain": [
              "(40, 224, 224, 3)"
            ]
          },
          "metadata": {},
          "execution_count": 8
        }
      ]
    },
    {
      "cell_type": "code",
      "source": [
        "from keras.applications.mobilenet_v2 import MobileNetV2\n",
        "\n",
        "#model = MobileNetV2(weights='imagenet')"
      ],
      "metadata": {
        "id": "HHeor4Vft6e9"
      },
      "execution_count": 9,
      "outputs": []
    },
    {
      "cell_type": "code",
      "source": [
        "from tensorflow.keras import Model\n",
        "from tensorflow.keras.layers import Dense"
      ],
      "metadata": {
        "id": "VKOX6I-CcfXV"
      },
      "execution_count": 10,
      "outputs": []
    },
    {
      "cell_type": "code",
      "source": [
        "# The first 15 images for male and female cats will be used for training\n",
        "training_data = np.empty((30, 224, 224, 3))\n",
        "training_data[:15] = data[:15]\n",
        "training_data[15:] = data[20:35]\n",
        "training_labels = np.empty(30)\n",
        "training_labels[:15] = 0\n",
        "training_labels[15:] = 1\n",
        "# The last 5 images for male and female cats will be used for validation\n",
        "validation_data = np.empty((10, 224, 224, 3))\n",
        "validation_data[:5] = data[15:20]\n",
        "validation_data[5:] = data[35:]\n",
        "validation_labels = np.empty(10)\n",
        "validation_labels[:5] = 0\n",
        "validation_labels[5:] = 1"
      ],
      "metadata": {
        "id": "jB_xS1e3cpds"
      },
      "execution_count": 11,
      "outputs": []
    },
    {
      "cell_type": "code",
      "source": [
        "training_labels.shape"
      ],
      "metadata": {
        "colab": {
          "base_uri": "https://localhost:8080/"
        },
        "id": "0Pue3aDw4exo",
        "outputId": "31755a20-cc53-4138-c22f-8564d45dd2ca"
      },
      "execution_count": 12,
      "outputs": [
        {
          "output_type": "execute_result",
          "data": {
            "text/plain": [
              "(30,)"
            ]
          },
          "metadata": {},
          "execution_count": 12
        }
      ]
    },
    {
      "cell_type": "code",
      "source": [
        "# check: https://learnopencv.com/keras-tutorial-fine-tuning-using-pre-trained-models/"
      ],
      "metadata": {
        "id": "ZPPlfvrS8eql"
      },
      "execution_count": null,
      "outputs": []
    },
    {
      "cell_type": "code",
      "source": [
        "from tensorflow.keras.applications import vgg16\n",
        "from tensorflow.keras.models import Sequential\n",
        "from tensorflow.keras.layers import Dense,  Flatten, Dropout\n",
        "# Init the VGG model \n",
        "vgg_conv = vgg16.VGG16(weights='imagenet') #, include_top=False, input_shape=(Img_Size, Img_Size, 3))\n",
        "\n",
        "# Freeze all the layers\n",
        "for layer in vgg_conv.layers[:]:\n",
        "    layer.trainable = False\n",
        "\n",
        "# Create the model\n",
        "model = Sequential()\n",
        " \n",
        "# Add the vgg convolutional base model\n",
        "model.add(vgg_conv)\n",
        " \n",
        "# Add new layers\n",
        "model.add(Flatten())\n",
        "model.add(Dense(1028, activation='sigmoid')) #relu\n",
        "model.add(Dropout(0.2))\n",
        "model.add(Dense(1, activation= 'sigmoid'))#'relu'))"
      ],
      "metadata": {
        "id": "T-RaWTCwcw37"
      },
      "execution_count": 13,
      "outputs": []
    },
    {
      "cell_type": "code",
      "source": [
        "\n",
        "model.compile(optimizer='adam',\n",
        "              loss='binary_crossentropy', #tf.keras.losses.BinaryCrossentropy(from_logits=True),\n",
        "              metrics=['accuracy'])\n"
      ],
      "metadata": {
        "id": "PrsQTs8b670C"
      },
      "execution_count": 14,
      "outputs": []
    },
    {
      "cell_type": "code",
      "source": [
        "r = model.fit(\n",
        "    x=training_data,\n",
        "    y=training_labels,\n",
        "    validation_data=(validation_data, validation_labels),\n",
        "    epochs=30,\n",
        "    verbose=2\n",
        ")"
      ],
      "metadata": {
        "colab": {
          "base_uri": "https://localhost:8080/"
        },
        "id": "AsRtJLVec0-7",
        "outputId": "bc81d106-edba-4aa4-a067-049545648455"
      },
      "execution_count": 15,
      "outputs": [
        {
          "output_type": "stream",
          "name": "stdout",
          "text": [
            "Epoch 1/30\n",
            "1/1 - 18s - loss: 0.8292 - accuracy: 0.5000 - val_loss: 0.7208 - val_accuracy: 0.5000 - 18s/epoch - 18s/step\n",
            "Epoch 2/30\n",
            "1/1 - 14s - loss: 0.7395 - accuracy: 0.5000 - val_loss: 0.6930 - val_accuracy: 0.5000 - 14s/epoch - 14s/step\n",
            "Epoch 3/30\n",
            "1/1 - 14s - loss: 0.7139 - accuracy: 0.4667 - val_loss: 0.7115 - val_accuracy: 0.5000 - 14s/epoch - 14s/step\n",
            "Epoch 4/30\n",
            "1/1 - 14s - loss: 0.6751 - accuracy: 0.5667 - val_loss: 0.7308 - val_accuracy: 0.5000 - 14s/epoch - 14s/step\n",
            "Epoch 5/30\n",
            "1/1 - 14s - loss: 0.7439 - accuracy: 0.4667 - val_loss: 0.7351 - val_accuracy: 0.5000 - 14s/epoch - 14s/step\n",
            "Epoch 6/30\n",
            "1/1 - 15s - loss: 0.7926 - accuracy: 0.4333 - val_loss: 0.7247 - val_accuracy: 0.5000 - 15s/epoch - 15s/step\n",
            "Epoch 7/30\n",
            "1/1 - 14s - loss: 0.7889 - accuracy: 0.5333 - val_loss: 0.7083 - val_accuracy: 0.5000 - 14s/epoch - 14s/step\n",
            "Epoch 8/30\n",
            "1/1 - 14s - loss: 0.7661 - accuracy: 0.4667 - val_loss: 0.6955 - val_accuracy: 0.5000 - 14s/epoch - 14s/step\n",
            "Epoch 9/30\n",
            "1/1 - 14s - loss: 0.6808 - accuracy: 0.6333 - val_loss: 0.6926 - val_accuracy: 0.5000 - 14s/epoch - 14s/step\n",
            "Epoch 10/30\n",
            "1/1 - 14s - loss: 0.7556 - accuracy: 0.4333 - val_loss: 0.6972 - val_accuracy: 0.5000 - 14s/epoch - 14s/step\n",
            "Epoch 11/30\n",
            "1/1 - 14s - loss: 0.6897 - accuracy: 0.5333 - val_loss: 0.7043 - val_accuracy: 0.5000 - 14s/epoch - 14s/step\n",
            "Epoch 12/30\n",
            "1/1 - 14s - loss: 0.7283 - accuracy: 0.5000 - val_loss: 0.7085 - val_accuracy: 0.5000 - 14s/epoch - 14s/step\n",
            "Epoch 13/30\n",
            "1/1 - 14s - loss: 0.7093 - accuracy: 0.4333 - val_loss: 0.7081 - val_accuracy: 0.5000 - 14s/epoch - 14s/step\n",
            "Epoch 14/30\n",
            "1/1 - 14s - loss: 0.7122 - accuracy: 0.4333 - val_loss: 0.7044 - val_accuracy: 0.5000 - 14s/epoch - 14s/step\n",
            "Epoch 15/30\n",
            "1/1 - 14s - loss: 0.6750 - accuracy: 0.6333 - val_loss: 0.6997 - val_accuracy: 0.5000 - 14s/epoch - 14s/step\n",
            "Epoch 16/30\n",
            "1/1 - 14s - loss: 0.7350 - accuracy: 0.4333 - val_loss: 0.6947 - val_accuracy: 0.5000 - 14s/epoch - 14s/step\n",
            "Epoch 17/30\n",
            "1/1 - 14s - loss: 0.7219 - accuracy: 0.4000 - val_loss: 0.6920 - val_accuracy: 0.5000 - 14s/epoch - 14s/step\n",
            "Epoch 18/30\n",
            "1/1 - 14s - loss: 0.6996 - accuracy: 0.5667 - val_loss: 0.6917 - val_accuracy: 0.5000 - 14s/epoch - 14s/step\n",
            "Epoch 19/30\n",
            "1/1 - 15s - loss: 0.7019 - accuracy: 0.5333 - val_loss: 0.6934 - val_accuracy: 0.5000 - 15s/epoch - 15s/step\n",
            "Epoch 20/30\n",
            "1/1 - 17s - loss: 0.7274 - accuracy: 0.4667 - val_loss: 0.6959 - val_accuracy: 0.5000 - 17s/epoch - 17s/step\n",
            "Epoch 21/30\n",
            "1/1 - 14s - loss: 0.7569 - accuracy: 0.4667 - val_loss: 0.6975 - val_accuracy: 0.5000 - 14s/epoch - 14s/step\n",
            "Epoch 22/30\n",
            "1/1 - 14s - loss: 0.7585 - accuracy: 0.4333 - val_loss: 0.6974 - val_accuracy: 0.5000 - 14s/epoch - 14s/step\n",
            "Epoch 23/30\n",
            "1/1 - 14s - loss: 0.7323 - accuracy: 0.4000 - val_loss: 0.6952 - val_accuracy: 0.5000 - 14s/epoch - 14s/step\n",
            "Epoch 24/30\n",
            "1/1 - 14s - loss: 0.6241 - accuracy: 0.6333 - val_loss: 0.6928 - val_accuracy: 0.5000 - 14s/epoch - 14s/step\n",
            "Epoch 25/30\n",
            "1/1 - 14s - loss: 0.6741 - accuracy: 0.6000 - val_loss: 0.6911 - val_accuracy: 0.5000 - 14s/epoch - 14s/step\n",
            "Epoch 26/30\n",
            "1/1 - 14s - loss: 0.7387 - accuracy: 0.5333 - val_loss: 0.6906 - val_accuracy: 0.7000 - 14s/epoch - 14s/step\n",
            "Epoch 27/30\n",
            "1/1 - 14s - loss: 0.6753 - accuracy: 0.5333 - val_loss: 0.6907 - val_accuracy: 0.5000 - 14s/epoch - 14s/step\n",
            "Epoch 28/30\n",
            "1/1 - 14s - loss: 0.7028 - accuracy: 0.5333 - val_loss: 0.6910 - val_accuracy: 0.5000 - 14s/epoch - 14s/step\n",
            "Epoch 29/30\n",
            "1/1 - 14s - loss: 0.6931 - accuracy: 0.6000 - val_loss: 0.6910 - val_accuracy: 0.5000 - 14s/epoch - 14s/step\n",
            "Epoch 30/30\n",
            "1/1 - 14s - loss: 0.6939 - accuracy: 0.5667 - val_loss: 0.6908 - val_accuracy: 0.5000 - 14s/epoch - 14s/step\n"
          ]
        }
      ]
    },
    {
      "cell_type": "code",
      "source": [
        "plt.plot(r.history['accuracy'],label='accuracy')\n",
        "plt.plot(r.history['val_accuracy'],label='val_accuracy')\n",
        "plt.legend()"
      ],
      "metadata": {
        "colab": {
          "base_uri": "https://localhost:8080/",
          "height": 282
        },
        "id": "2LjEojltuWBt",
        "outputId": "62c9c725-8f44-4c68-cfea-d2e5804156d6"
      },
      "execution_count": 16,
      "outputs": [
        {
          "output_type": "execute_result",
          "data": {
            "text/plain": [
              "<matplotlib.legend.Legend at 0x7fb82f0cec90>"
            ]
          },
          "metadata": {},
          "execution_count": 16
        },
        {
          "output_type": "display_data",
          "data": {
            "text/plain": [
              "<Figure size 432x288 with 1 Axes>"
            ],
            "image/png": "[encoded data removed]"
          },
          "metadata": {
            "needs_background": "light"
          }
        }
      ]
    },
    {
      "cell_type": "code",
      "source": [
        "plt.plot(r.history['loss'],label='loss')\n",
        "plt.plot(r.history['val_loss'],label='val_loss')\n",
        "plt.legend()"
      ],
      "metadata": {
        "colab": {
          "base_uri": "https://localhost:8080/",
          "height": 282
        },
        "id": "ny6KHeVfwwgA",
        "outputId": "56289f48-e957-4a63-c201-b2a0d7987431"
      },
      "execution_count": 17,
      "outputs": [
        {
          "output_type": "execute_result",
          "data": {
            "text/plain": [
              "<matplotlib.legend.Legend at 0x7fb831140050>"
            ]
          },
          "metadata": {},
          "execution_count": 17
        },
        {
          "output_type": "display_data",
          "data": {
            "text/plain": [
              "<Figure size 432x288 with 1 Axes>"
            ],
            "image/png": "[encoded data removed]"
          },
          "metadata": {
            "needs_background": "light"
          }
        }
      ]
    }
  ]
}