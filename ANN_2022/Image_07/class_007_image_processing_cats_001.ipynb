{
  "nbformat": 4,
  "nbformat_minor": 0,
  "metadata": {
    "colab": {
      "provenance": [],
      "authorship_tag": "ABX9TyOd/7Vdy0COcUXfBoSM5D8V",
      "include_colab_link": true
    },
    "kernelspec": {
      "name": "python3",
      "display_name": "Python 3"
    },
    "language_info": {
      "name": "python"
    }
  },
  "cells": [
    {
      "cell_type": "markdown",
      "metadata": {
        "id": "view-in-github",
        "colab_type": "text"
      },
      "source": [
        "<a href=\"https://colab.research.google.com/github/ucfilho/ANN/blob/master/ANN_2022/Image_07/class_007_image_processing_cats_001.ipynb\" target=\"_parent\"><img src=\"https://colab.research.google.com/assets/colab-badge.svg\" alt=\"Open In Colab\"/></a>"
      ]
    },
    {
      "cell_type": "code",
      "source": [
        "import cv2\n",
        "import numpy as np\n",
        "import pandas as pd\n",
        "import random\n",
        "import zipfile\n",
        "from matplotlib import pyplot as plt\n",
        "import skimage.feature\n",
        "from string import digits\n",
        "import seaborn as sns\n",
        "import skimage\n",
        "import tensorflow as tf\n",
        "from sklearn.model_selection import train_test_split\n",
        "from imageio import imread"
      ],
      "metadata": {
        "id": "nFJ-84YNHLXL"
      },
      "execution_count": 1,
      "outputs": []
    },
    {
      "cell_type": "code",
      "source": [
        "!git clone https://github.com/ucfilho/Machine_Learning_DataSet\n",
        "%cd Machine_Learning_DataSet"
      ],
      "metadata": {
        "colab": {
          "base_uri": "https://localhost:8080/"
        },
        "id": "KyPKykrwHL5x",
        "outputId": "88101a21-d956-4672-dfbc-9b4c954d7476"
      },
      "execution_count": 2,
      "outputs": [
        {
          "output_type": "stream",
          "name": "stdout",
          "text": [
            "fatal: destination path 'Machine_Learning_DataSet' already exists and is not an empty directory.\n",
            "/content/Machine_Learning_DataSet\n"
          ]
        }
      ]
    },
    {
      "cell_type": "code",
      "source": [
        "# check: https://pythontutorials.eu/deep-learning/transfer-learning/#"
      ],
      "metadata": {
        "id": "Rch2aEdP7gpP"
      },
      "execution_count": 3,
      "outputs": []
    },
    {
      "cell_type": "code",
      "source": [
        "FILE='cats.zip'\n",
        "archive = zipfile.ZipFile(FILE, 'r')\n",
        "archive.extractall()"
      ],
      "metadata": {
        "id": "8moSTsULHOKZ"
      },
      "execution_count": 4,
      "outputs": []
    },
    {
      "cell_type": "code",
      "source": [
        "archive = zipfile.ZipFile(FILE, 'r')\n",
        "archive.extractall()"
      ],
      "metadata": {
        "id": "h4mKx6iJHhLh"
      },
      "execution_count": 5,
      "outputs": []
    },
    {
      "cell_type": "code",
      "source": [
        "img_name=[]\n",
        "with zipfile.ZipFile(FILE, \"r\") as f:\n",
        "    for name in f.namelist():\n",
        "        img_name.append(name)"
      ],
      "metadata": {
        "id": "SRQwKMUSIfWy"
      },
      "execution_count": 6,
      "outputs": []
    },
    {
      "cell_type": "code",
      "source": [
        "from tensorflow.keras.applications.mobilenet_v2 import preprocess_input\n",
        "\n",
        "data = np.empty((40, 224, 224, 3))\n",
        "\n",
        "for i in range(0, 20):\n",
        "    if('jpg' in img_name[i]):\n",
        "      im = cv2.imread(img_name[i])\n",
        "      im = cv2.resize(im, (224, 224))\n",
        "      im = preprocess_input(im)\n",
        "      if(max(im.flatten())>1):\n",
        "        im = im/max(im.flatten())\n",
        "      data[i] = im\n",
        "\n",
        "for i in range(0, 20):\n",
        "    if('jpg' in img_name[i+20]):\n",
        "      im = np.array(cv2.imread(img_name[i+20]))\n",
        "      im = cv2.resize(im,(224, 224))\n",
        "      im = preprocess_input(im)\n",
        "      if(max(im.flatten())>1):\n",
        "        im = im/max(im.flatten())\n",
        "      data[i + 20] = im\n",
        "\n",
        "labels = np.empty(40, dtype=int)\n",
        "labels[:20] = 0\n",
        "labels[20:] = 1"
      ],
      "metadata": {
        "id": "5iGgnU0WbTpr"
      },
      "execution_count": 7,
      "outputs": []
    },
    {
      "cell_type": "code",
      "source": [
        "data.shape"
      ],
      "metadata": {
        "colab": {
          "base_uri": "https://localhost:8080/"
        },
        "id": "XXlx_TjSsKhW",
        "outputId": "415a7064-00a5-4ce6-91da-b2195adf5b32"
      },
      "execution_count": 8,
      "outputs": [
        {
          "output_type": "execute_result",
          "data": {
            "text/plain": [
              "(40, 224, 224, 3)"
            ]
          },
          "metadata": {},
          "execution_count": 8
        }
      ]
    },
    {
      "cell_type": "code",
      "source": [
        "from keras.applications.mobilenet_v2 import MobileNetV2\n",
        "\n",
        "model = MobileNetV2(weights='imagenet')"
      ],
      "metadata": {
        "id": "HHeor4Vft6e9"
      },
      "execution_count": 9,
      "outputs": []
    },
    {
      "cell_type": "code",
      "source": [
        "from keras.applications.mobilenet_v2 import decode_predictions\n",
        "\n",
        "predictions = model.predict(data)\n",
        "for decoded_prediction in decode_predictions(predictions, top=1):\n",
        "    for name, desc, score in decoded_prediction:\n",
        "        print('- {} ({:.2f}%)'.format(desc, 100 * score))"
      ],
      "metadata": {
        "colab": {
          "base_uri": "https://localhost:8080/"
        },
        "id": "QcctYQ5Lz-Gf",
        "outputId": "e261915d-0b32-41e5-ddf2-fddc81ec088e"
      },
      "execution_count": 10,
      "outputs": [
        {
          "output_type": "stream",
          "name": "stdout",
          "text": [
            "2/2 [==============================] - 4s 424ms/step\n",
            "- matchstick (7.81%)\n",
            "- Siamese_cat (24.27%)\n",
            "- Siamese_cat (34.31%)\n",
            "- tabby (32.32%)\n",
            "- tiger_cat (22.87%)\n",
            "- tabby (74.02%)\n",
            "- Siamese_cat (43.89%)\n",
            "- Siamese_cat (63.72%)\n",
            "- Persian_cat (64.12%)\n",
            "- tabby (83.47%)\n",
            "- Persian_cat (21.44%)\n",
            "- tabby (50.04%)\n",
            "- tabby (45.98%)\n",
            "- Egyptian_cat (52.88%)\n",
            "- tabby (49.10%)\n",
            "- tabby (42.63%)\n",
            "- tabby (77.33%)\n",
            "- tabby (24.56%)\n",
            "- tabby (7.53%)\n",
            "- Egyptian_cat (35.54%)\n",
            "- Egyptian_cat (60.96%)\n",
            "- Egyptian_cat (55.87%)\n",
            "- Egyptian_cat (61.45%)\n",
            "- Egyptian_cat (48.52%)\n",
            "- Egyptian_cat (14.59%)\n",
            "- tabby (73.19%)\n",
            "- tabby (42.88%)\n",
            "- Egyptian_cat (28.94%)\n",
            "- Egyptian_cat (33.16%)\n",
            "- lynx (23.30%)\n",
            "- Egyptian_cat (33.36%)\n",
            "- Arctic_fox (45.06%)\n",
            "- Siamese_cat (22.66%)\n",
            "- Siamese_cat (48.55%)\n",
            "- Siamese_cat (71.27%)\n",
            "- Egyptian_cat (47.61%)\n",
            "- Egyptian_cat (18.50%)\n",
            "- tabby (24.14%)\n",
            "- Egyptian_cat (24.38%)\n",
            "- Egyptian_cat (44.95%)\n"
          ]
        }
      ]
    },
    {
      "cell_type": "code",
      "source": [
        "cont =0\n",
        "for i in decode_predictions(predictions, top=1):\n",
        "  cont += 1\n",
        "print(cont)"
      ],
      "metadata": {
        "colab": {
          "base_uri": "https://localhost:8080/"
        },
        "id": "l_uzaCng0a9O",
        "outputId": "840e8e5e-db68-4e7c-c49b-4d75d424cf32"
      },
      "execution_count": 11,
      "outputs": [
        {
          "output_type": "stream",
          "name": "stdout",
          "text": [
            "40\n"
          ]
        }
      ]
    },
    {
      "cell_type": "code",
      "source": [
        "from tensorflow.keras import Model\n",
        "from tensorflow.keras.layers import Dense"
      ],
      "metadata": {
        "id": "VKOX6I-CcfXV"
      },
      "execution_count": 12,
      "outputs": []
    },
    {
      "cell_type": "code",
      "source": [
        "# The first 15 images for male and female cats will be used for training\n",
        "training_data = np.empty((30, 224, 224, 3))\n",
        "training_data[:15] = data[:15]\n",
        "training_data[15:] = data[20:35]\n",
        "training_labels = np.empty(30)\n",
        "training_labels[:15] = 0\n",
        "training_labels[15:] = 1\n",
        "# The last 5 images for male and female cats will be used for validation\n",
        "validation_data = np.empty((10, 224, 224, 3))\n",
        "validation_data[:5] = data[15:20]\n",
        "validation_data[5:] = data[35:]\n",
        "validation_labels = np.empty(10)\n",
        "validation_labels[:5] = 0\n",
        "validation_labels[5:] = 1"
      ],
      "metadata": {
        "id": "jB_xS1e3cpds"
      },
      "execution_count": 13,
      "outputs": []
    },
    {
      "cell_type": "code",
      "source": [
        "training_labels.shape"
      ],
      "metadata": {
        "colab": {
          "base_uri": "https://localhost:8080/"
        },
        "id": "0Pue3aDw4exo",
        "outputId": "501b622a-9376-4c45-870f-26f64574eaf0"
      },
      "execution_count": 14,
      "outputs": [
        {
          "output_type": "execute_result",
          "data": {
            "text/plain": [
              "(30,)"
            ]
          },
          "metadata": {},
          "execution_count": 14
        }
      ]
    },
    {
      "cell_type": "code",
      "source": [
        "cat_output2 = Dense(1, activation= 'sigmoid') #'relu')\n",
        "cat_output2 = cat_output2(model.layers[-2].output)\n",
        "cat_input2 = model.input\n",
        "cat_model2 = Model(inputs=cat_input2, outputs=cat_output2)\n",
        "for layer in cat_model2.layers[:-1]:\n",
        "    layer.trainable = False\n",
        "'''\n",
        "cat_model2.compile(\n",
        "    optimizer='adam',\n",
        "    loss='sparse_categorical_crossentropy',\n",
        "    metrics=['accuracy']\n",
        ")\n",
        "'''"
      ],
      "metadata": {
        "colab": {
          "base_uri": "https://localhost:8080/",
          "height": 37
        },
        "id": "T-RaWTCwcw37",
        "outputId": "63e7ef9b-4fa2-4d75-e386-6d35a8fdfb57"
      },
      "execution_count": 15,
      "outputs": [
        {
          "output_type": "execute_result",
          "data": {
            "text/plain": [
              "\"\\ncat_model2.compile(\\n    optimizer='adam',\\n    loss='sparse_categorical_crossentropy',\\n    metrics=['accuracy']\\n)\\n\""
            ],
            "application/vnd.google.colaboratory.intrinsic+json": {
              "type": "string"
            }
          },
          "metadata": {},
          "execution_count": 15
        }
      ]
    },
    {
      "cell_type": "code",
      "source": [
        "'''cat_model2.compile(optimizer='adam',\n",
        "              loss=tf.keras.losses.SparseCategoricalCrossentropy(from_logits=True),\n",
        "              metrics=['accuracy'])\n",
        "'''"
      ],
      "metadata": {
        "colab": {
          "base_uri": "https://localhost:8080/",
          "height": 37
        },
        "id": "77aedNTA5UTA",
        "outputId": "34a7be64-fb19-4afe-aae7-9446481475ab"
      },
      "execution_count": 16,
      "outputs": [
        {
          "output_type": "execute_result",
          "data": {
            "text/plain": [
              "\"cat_model2.compile(optimizer='adam',\\n              loss=tf.keras.losses.SparseCategoricalCrossentropy(from_logits=True),\\n              metrics=['accuracy'])\\n\""
            ],
            "application/vnd.google.colaboratory.intrinsic+json": {
              "type": "string"
            }
          },
          "metadata": {},
          "execution_count": 16
        }
      ]
    },
    {
      "cell_type": "code",
      "source": [
        "base_learning_rate = 0.0001\n",
        "cat_model2.compile(optimizer=tf.keras.optimizers.Adam(learning_rate=base_learning_rate),\n",
        "              loss=tf.keras.losses.BinaryCrossentropy(from_logits=True),\n",
        "              metrics=['accuracy'])"
      ],
      "metadata": {
        "id": "PrsQTs8b670C"
      },
      "execution_count": 17,
      "outputs": []
    },
    {
      "cell_type": "code",
      "source": [
        "r = cat_model2.fit(\n",
        "    x=training_data,\n",
        "    y=training_labels,\n",
        "    validation_data=(validation_data, validation_labels),\n",
        "    epochs=150,\n",
        "    verbose=2\n",
        ")"
      ],
      "metadata": {
        "colab": {
          "base_uri": "https://localhost:8080/"
        },
        "id": "AsRtJLVec0-7",
        "outputId": "946a2fdd-77a0-48d2-cdec-be6252bcaf75"
      },
      "execution_count": 18,
      "outputs": [
        {
          "output_type": "stream",
          "name": "stdout",
          "text": [
            "Epoch 1/150\n"
          ]
        },
        {
          "output_type": "stream",
          "name": "stderr",
          "text": [
            "/usr/local/lib/python3.7/dist-packages/tensorflow/python/util/dispatch.py:1082: UserWarning: \"`binary_crossentropy` received `from_logits=True`, but the `output` argument was produced by a sigmoid or softmax activation and thus does not represent logits. Was this intended?\"\n",
            "  return dispatch_target(*args, **kwargs)\n"
          ]
        },
        {
          "output_type": "stream",
          "name": "stdout",
          "text": [
            "1/1 - 9s - loss: 0.6540 - accuracy: 0.5333 - val_loss: 0.6622 - val_accuracy: 0.8000 - 9s/epoch - 9s/step\n",
            "Epoch 2/150\n",
            "1/1 - 1s - loss: 0.6500 - accuracy: 0.5000 - val_loss: 0.6606 - val_accuracy: 0.8000 - 1s/epoch - 1s/step\n",
            "Epoch 3/150\n",
            "1/1 - 1s - loss: 0.6461 - accuracy: 0.5333 - val_loss: 0.6592 - val_accuracy: 0.8000 - 1s/epoch - 1s/step\n",
            "Epoch 4/150\n",
            "1/1 - 1s - loss: 0.6424 - accuracy: 0.5333 - val_loss: 0.6578 - val_accuracy: 0.8000 - 1s/epoch - 1s/step\n",
            "Epoch 5/150\n",
            "1/1 - 1s - loss: 0.6387 - accuracy: 0.5333 - val_loss: 0.6566 - val_accuracy: 0.8000 - 1s/epoch - 1s/step\n",
            "Epoch 6/150\n",
            "1/1 - 1s - loss: 0.6351 - accuracy: 0.5333 - val_loss: 0.6555 - val_accuracy: 0.8000 - 1s/epoch - 1s/step\n",
            "Epoch 7/150\n",
            "1/1 - 2s - loss: 0.6316 - accuracy: 0.5667 - val_loss: 0.6544 - val_accuracy: 0.7000 - 2s/epoch - 2s/step\n",
            "Epoch 8/150\n",
            "1/1 - 1s - loss: 0.6281 - accuracy: 0.6667 - val_loss: 0.6534 - val_accuracy: 0.7000 - 1s/epoch - 1s/step\n",
            "Epoch 9/150\n",
            "1/1 - 1s - loss: 0.6247 - accuracy: 0.6667 - val_loss: 0.6524 - val_accuracy: 0.7000 - 1s/epoch - 1s/step\n",
            "Epoch 10/150\n",
            "1/1 - 2s - loss: 0.6214 - accuracy: 0.6667 - val_loss: 0.6515 - val_accuracy: 0.7000 - 2s/epoch - 2s/step\n",
            "Epoch 11/150\n",
            "1/1 - 1s - loss: 0.6181 - accuracy: 0.6667 - val_loss: 0.6506 - val_accuracy: 0.7000 - 1s/epoch - 1s/step\n",
            "Epoch 12/150\n",
            "1/1 - 1s - loss: 0.6149 - accuracy: 0.6667 - val_loss: 0.6497 - val_accuracy: 0.7000 - 1s/epoch - 1s/step\n",
            "Epoch 13/150\n",
            "1/1 - 1s - loss: 0.6117 - accuracy: 0.6667 - val_loss: 0.6489 - val_accuracy: 0.7000 - 1s/epoch - 1s/step\n",
            "Epoch 14/150\n",
            "1/1 - 1s - loss: 0.6085 - accuracy: 0.6667 - val_loss: 0.6480 - val_accuracy: 0.7000 - 1s/epoch - 1s/step\n",
            "Epoch 15/150\n",
            "1/1 - 1s - loss: 0.6054 - accuracy: 0.6667 - val_loss: 0.6471 - val_accuracy: 0.7000 - 1s/epoch - 1s/step\n",
            "Epoch 16/150\n",
            "1/1 - 1s - loss: 0.6023 - accuracy: 0.6667 - val_loss: 0.6463 - val_accuracy: 0.7000 - 1s/epoch - 1s/step\n",
            "Epoch 17/150\n",
            "1/1 - 1s - loss: 0.5993 - accuracy: 0.6667 - val_loss: 0.6454 - val_accuracy: 0.7000 - 1s/epoch - 1s/step\n",
            "Epoch 18/150\n",
            "1/1 - 1s - loss: 0.5962 - accuracy: 0.6667 - val_loss: 0.6446 - val_accuracy: 0.7000 - 1s/epoch - 1s/step\n",
            "Epoch 19/150\n",
            "1/1 - 1s - loss: 0.5932 - accuracy: 0.7000 - val_loss: 0.6437 - val_accuracy: 0.7000 - 1s/epoch - 1s/step\n",
            "Epoch 20/150\n",
            "1/1 - 1s - loss: 0.5902 - accuracy: 0.7000 - val_loss: 0.6428 - val_accuracy: 0.7000 - 1s/epoch - 1s/step\n",
            "Epoch 21/150\n",
            "1/1 - 1s - loss: 0.5873 - accuracy: 0.7000 - val_loss: 0.6419 - val_accuracy: 0.7000 - 1s/epoch - 1s/step\n",
            "Epoch 22/150\n",
            "1/1 - 1s - loss: 0.5844 - accuracy: 0.7000 - val_loss: 0.6410 - val_accuracy: 0.7000 - 1s/epoch - 1s/step\n",
            "Epoch 23/150\n",
            "1/1 - 1s - loss: 0.5814 - accuracy: 0.7000 - val_loss: 0.6401 - val_accuracy: 0.7000 - 1s/epoch - 1s/step\n",
            "Epoch 24/150\n",
            "1/1 - 1s - loss: 0.5785 - accuracy: 0.7000 - val_loss: 0.6392 - val_accuracy: 0.7000 - 1s/epoch - 1s/step\n",
            "Epoch 25/150\n",
            "1/1 - 1s - loss: 0.5757 - accuracy: 0.7000 - val_loss: 0.6383 - val_accuracy: 0.7000 - 1s/epoch - 1s/step\n",
            "Epoch 26/150\n",
            "1/1 - 1s - loss: 0.5728 - accuracy: 0.7000 - val_loss: 0.6373 - val_accuracy: 0.7000 - 1s/epoch - 1s/step\n",
            "Epoch 27/150\n",
            "1/1 - 1s - loss: 0.5700 - accuracy: 0.7000 - val_loss: 0.6364 - val_accuracy: 0.7000 - 1s/epoch - 1s/step\n",
            "Epoch 28/150\n",
            "1/1 - 1s - loss: 0.5672 - accuracy: 0.7000 - val_loss: 0.6355 - val_accuracy: 0.7000 - 1s/epoch - 1s/step\n",
            "Epoch 29/150\n",
            "1/1 - 1s - loss: 0.5644 - accuracy: 0.7000 - val_loss: 0.6345 - val_accuracy: 0.7000 - 1s/epoch - 1s/step\n",
            "Epoch 30/150\n",
            "1/1 - 1s - loss: 0.5616 - accuracy: 0.7000 - val_loss: 0.6336 - val_accuracy: 0.7000 - 1s/epoch - 1s/step\n",
            "Epoch 31/150\n",
            "1/1 - 1s - loss: 0.5589 - accuracy: 0.7000 - val_loss: 0.6327 - val_accuracy: 0.7000 - 1s/epoch - 1s/step\n",
            "Epoch 32/150\n",
            "1/1 - 1s - loss: 0.5561 - accuracy: 0.7000 - val_loss: 0.6318 - val_accuracy: 0.7000 - 1s/epoch - 1s/step\n",
            "Epoch 33/150\n",
            "1/1 - 1s - loss: 0.5534 - accuracy: 0.7000 - val_loss: 0.6308 - val_accuracy: 0.7000 - 1s/epoch - 1s/step\n",
            "Epoch 34/150\n",
            "1/1 - 2s - loss: 0.5507 - accuracy: 0.7000 - val_loss: 0.6299 - val_accuracy: 0.7000 - 2s/epoch - 2s/step\n",
            "Epoch 35/150\n",
            "1/1 - 1s - loss: 0.5481 - accuracy: 0.7000 - val_loss: 0.6290 - val_accuracy: 0.7000 - 1s/epoch - 1s/step\n",
            "Epoch 36/150\n",
            "1/1 - 1s - loss: 0.5454 - accuracy: 0.7000 - val_loss: 0.6281 - val_accuracy: 0.7000 - 1s/epoch - 1s/step\n",
            "Epoch 37/150\n",
            "1/1 - 2s - loss: 0.5428 - accuracy: 0.7000 - val_loss: 0.6272 - val_accuracy: 0.7000 - 2s/epoch - 2s/step\n",
            "Epoch 38/150\n",
            "1/1 - 1s - loss: 0.5402 - accuracy: 0.7000 - val_loss: 0.6263 - val_accuracy: 0.7000 - 1s/epoch - 1s/step\n",
            "Epoch 39/150\n",
            "1/1 - 1s - loss: 0.5376 - accuracy: 0.7000 - val_loss: 0.6255 - val_accuracy: 0.7000 - 1s/epoch - 1s/step\n",
            "Epoch 40/150\n",
            "1/1 - 2s - loss: 0.5350 - accuracy: 0.7000 - val_loss: 0.6246 - val_accuracy: 0.7000 - 2s/epoch - 2s/step\n",
            "Epoch 41/150\n",
            "1/1 - 1s - loss: 0.5325 - accuracy: 0.7000 - val_loss: 0.6238 - val_accuracy: 0.7000 - 1s/epoch - 1s/step\n",
            "Epoch 42/150\n",
            "1/1 - 1s - loss: 0.5299 - accuracy: 0.7000 - val_loss: 0.6229 - val_accuracy: 0.7000 - 1s/epoch - 1s/step\n",
            "Epoch 43/150\n",
            "1/1 - 1s - loss: 0.5274 - accuracy: 0.7000 - val_loss: 0.6221 - val_accuracy: 0.7000 - 1s/epoch - 1s/step\n",
            "Epoch 44/150\n",
            "1/1 - 1s - loss: 0.5249 - accuracy: 0.7333 - val_loss: 0.6213 - val_accuracy: 0.7000 - 1s/epoch - 1s/step\n",
            "Epoch 45/150\n",
            "1/1 - 1s - loss: 0.5224 - accuracy: 0.7333 - val_loss: 0.6205 - val_accuracy: 0.7000 - 1s/epoch - 1s/step\n",
            "Epoch 46/150\n",
            "1/1 - 2s - loss: 0.5200 - accuracy: 0.7333 - val_loss: 0.6197 - val_accuracy: 0.7000 - 2s/epoch - 2s/step\n",
            "Epoch 47/150\n",
            "1/1 - 1s - loss: 0.5175 - accuracy: 0.7667 - val_loss: 0.6189 - val_accuracy: 0.7000 - 1s/epoch - 1s/step\n",
            "Epoch 48/150\n",
            "1/1 - 1s - loss: 0.5151 - accuracy: 0.7667 - val_loss: 0.6181 - val_accuracy: 0.7000 - 1s/epoch - 1s/step\n",
            "Epoch 49/150\n",
            "1/1 - 1s - loss: 0.5127 - accuracy: 0.8000 - val_loss: 0.6174 - val_accuracy: 0.7000 - 1s/epoch - 1s/step\n",
            "Epoch 50/150\n",
            "1/1 - 1s - loss: 0.5103 - accuracy: 0.8000 - val_loss: 0.6166 - val_accuracy: 0.7000 - 1s/epoch - 1s/step\n",
            "Epoch 51/150\n",
            "1/1 - 1s - loss: 0.5079 - accuracy: 0.8333 - val_loss: 0.6159 - val_accuracy: 0.7000 - 1s/epoch - 1s/step\n",
            "Epoch 52/150\n",
            "1/1 - 1s - loss: 0.5056 - accuracy: 0.8667 - val_loss: 0.6152 - val_accuracy: 0.7000 - 1s/epoch - 1s/step\n",
            "Epoch 53/150\n",
            "1/1 - 1s - loss: 0.5032 - accuracy: 0.8667 - val_loss: 0.6145 - val_accuracy: 0.7000 - 1s/epoch - 1s/step\n",
            "Epoch 54/150\n",
            "1/1 - 1s - loss: 0.5009 - accuracy: 0.8667 - val_loss: 0.6138 - val_accuracy: 0.7000 - 1s/epoch - 1s/step\n",
            "Epoch 55/150\n",
            "1/1 - 2s - loss: 0.4986 - accuracy: 0.8667 - val_loss: 0.6131 - val_accuracy: 0.7000 - 2s/epoch - 2s/step\n",
            "Epoch 56/150\n",
            "1/1 - 2s - loss: 0.4963 - accuracy: 0.8667 - val_loss: 0.6124 - val_accuracy: 0.7000 - 2s/epoch - 2s/step\n",
            "Epoch 57/150\n",
            "1/1 - 1s - loss: 0.4940 - accuracy: 0.8667 - val_loss: 0.6117 - val_accuracy: 0.7000 - 1s/epoch - 1s/step\n",
            "Epoch 58/150\n",
            "1/1 - 1s - loss: 0.4917 - accuracy: 0.8667 - val_loss: 0.6110 - val_accuracy: 0.7000 - 1s/epoch - 1s/step\n",
            "Epoch 59/150\n",
            "1/1 - 1s - loss: 0.4895 - accuracy: 0.8667 - val_loss: 0.6103 - val_accuracy: 0.7000 - 1s/epoch - 1s/step\n",
            "Epoch 60/150\n",
            "1/1 - 1s - loss: 0.4873 - accuracy: 0.8667 - val_loss: 0.6097 - val_accuracy: 0.7000 - 1s/epoch - 1s/step\n",
            "Epoch 61/150\n",
            "1/1 - 1s - loss: 0.4850 - accuracy: 0.8667 - val_loss: 0.6090 - val_accuracy: 0.6000 - 1s/epoch - 1s/step\n",
            "Epoch 62/150\n",
            "1/1 - 1s - loss: 0.4828 - accuracy: 0.8667 - val_loss: 0.6084 - val_accuracy: 0.6000 - 1s/epoch - 1s/step\n",
            "Epoch 63/150\n",
            "1/1 - 1s - loss: 0.4807 - accuracy: 0.9000 - val_loss: 0.6078 - val_accuracy: 0.6000 - 1s/epoch - 1s/step\n",
            "Epoch 64/150\n",
            "1/1 - 1s - loss: 0.4785 - accuracy: 0.9000 - val_loss: 0.6071 - val_accuracy: 0.6000 - 1s/epoch - 1s/step\n",
            "Epoch 65/150\n",
            "1/1 - 1s - loss: 0.4763 - accuracy: 0.9000 - val_loss: 0.6065 - val_accuracy: 0.6000 - 1s/epoch - 1s/step\n",
            "Epoch 66/150\n",
            "1/1 - 2s - loss: 0.4742 - accuracy: 0.9000 - val_loss: 0.6059 - val_accuracy: 0.6000 - 2s/epoch - 2s/step\n",
            "Epoch 67/150\n",
            "1/1 - 2s - loss: 0.4720 - accuracy: 0.9000 - val_loss: 0.6052 - val_accuracy: 0.6000 - 2s/epoch - 2s/step\n",
            "Epoch 68/150\n",
            "1/1 - 1s - loss: 0.4699 - accuracy: 0.9000 - val_loss: 0.6046 - val_accuracy: 0.6000 - 1s/epoch - 1s/step\n",
            "Epoch 69/150\n",
            "1/1 - 1s - loss: 0.4678 - accuracy: 0.9000 - val_loss: 0.6040 - val_accuracy: 0.6000 - 1s/epoch - 1s/step\n",
            "Epoch 70/150\n",
            "1/1 - 1s - loss: 0.4657 - accuracy: 0.9000 - val_loss: 0.6034 - val_accuracy: 0.6000 - 1s/epoch - 1s/step\n",
            "Epoch 71/150\n",
            "1/1 - 1s - loss: 0.4637 - accuracy: 0.9000 - val_loss: 0.6028 - val_accuracy: 0.6000 - 1s/epoch - 1s/step\n",
            "Epoch 72/150\n",
            "1/1 - 1s - loss: 0.4616 - accuracy: 0.9000 - val_loss: 0.6022 - val_accuracy: 0.6000 - 1s/epoch - 1s/step\n",
            "Epoch 73/150\n",
            "1/1 - 1s - loss: 0.4596 - accuracy: 0.9000 - val_loss: 0.6016 - val_accuracy: 0.6000 - 1s/epoch - 1s/step\n",
            "Epoch 74/150\n",
            "1/1 - 1s - loss: 0.4575 - accuracy: 0.9000 - val_loss: 0.6011 - val_accuracy: 0.6000 - 1s/epoch - 1s/step\n",
            "Epoch 75/150\n",
            "1/1 - 1s - loss: 0.4555 - accuracy: 0.9000 - val_loss: 0.6005 - val_accuracy: 0.6000 - 1s/epoch - 1s/step\n",
            "Epoch 76/150\n",
            "1/1 - 1s - loss: 0.4535 - accuracy: 0.9000 - val_loss: 0.5999 - val_accuracy: 0.6000 - 1s/epoch - 1s/step\n",
            "Epoch 77/150\n",
            "1/1 - 1s - loss: 0.4515 - accuracy: 0.9000 - val_loss: 0.5993 - val_accuracy: 0.6000 - 1s/epoch - 1s/step\n",
            "Epoch 78/150\n",
            "1/1 - 1s - loss: 0.4495 - accuracy: 0.9333 - val_loss: 0.5988 - val_accuracy: 0.6000 - 1s/epoch - 1s/step\n",
            "Epoch 79/150\n",
            "1/1 - 1s - loss: 0.4476 - accuracy: 0.9333 - val_loss: 0.5982 - val_accuracy: 0.6000 - 1s/epoch - 1s/step\n",
            "Epoch 80/150\n",
            "1/1 - 1s - loss: 0.4456 - accuracy: 0.9333 - val_loss: 0.5976 - val_accuracy: 0.6000 - 1s/epoch - 1s/step\n",
            "Epoch 81/150\n",
            "1/1 - 1s - loss: 0.4437 - accuracy: 0.9333 - val_loss: 0.5971 - val_accuracy: 0.6000 - 1s/epoch - 1s/step\n",
            "Epoch 82/150\n",
            "1/1 - 2s - loss: 0.4417 - accuracy: 0.9333 - val_loss: 0.5965 - val_accuracy: 0.6000 - 2s/epoch - 2s/step\n",
            "Epoch 83/150\n",
            "1/1 - 1s - loss: 0.4398 - accuracy: 0.9333 - val_loss: 0.5960 - val_accuracy: 0.6000 - 1s/epoch - 1s/step\n",
            "Epoch 84/150\n",
            "1/1 - 1s - loss: 0.4379 - accuracy: 0.9333 - val_loss: 0.5955 - val_accuracy: 0.6000 - 1s/epoch - 1s/step\n",
            "Epoch 85/150\n",
            "1/1 - 1s - loss: 0.4360 - accuracy: 0.9333 - val_loss: 0.5949 - val_accuracy: 0.6000 - 1s/epoch - 1s/step\n",
            "Epoch 86/150\n",
            "1/1 - 1s - loss: 0.4342 - accuracy: 0.9333 - val_loss: 0.5944 - val_accuracy: 0.6000 - 1s/epoch - 1s/step\n",
            "Epoch 87/150\n",
            "1/1 - 1s - loss: 0.4323 - accuracy: 0.9333 - val_loss: 0.5939 - val_accuracy: 0.6000 - 1s/epoch - 1s/step\n",
            "Epoch 88/150\n",
            "1/1 - 2s - loss: 0.4304 - accuracy: 0.9333 - val_loss: 0.5934 - val_accuracy: 0.6000 - 2s/epoch - 2s/step\n",
            "Epoch 89/150\n",
            "1/1 - 1s - loss: 0.4286 - accuracy: 0.9333 - val_loss: 0.5929 - val_accuracy: 0.6000 - 1s/epoch - 1s/step\n",
            "Epoch 90/150\n",
            "1/1 - 1s - loss: 0.4267 - accuracy: 0.9333 - val_loss: 0.5924 - val_accuracy: 0.6000 - 1s/epoch - 1s/step\n",
            "Epoch 91/150\n",
            "1/1 - 1s - loss: 0.4249 - accuracy: 0.9333 - val_loss: 0.5919 - val_accuracy: 0.6000 - 1s/epoch - 1s/step\n",
            "Epoch 92/150\n",
            "1/1 - 1s - loss: 0.4231 - accuracy: 0.9333 - val_loss: 0.5914 - val_accuracy: 0.6000 - 1s/epoch - 1s/step\n",
            "Epoch 93/150\n",
            "1/1 - 1s - loss: 0.4213 - accuracy: 0.9333 - val_loss: 0.5909 - val_accuracy: 0.6000 - 1s/epoch - 1s/step\n",
            "Epoch 94/150\n",
            "1/1 - 1s - loss: 0.4195 - accuracy: 0.9333 - val_loss: 0.5904 - val_accuracy: 0.6000 - 1s/epoch - 1s/step\n",
            "Epoch 95/150\n",
            "1/1 - 1s - loss: 0.4177 - accuracy: 0.9333 - val_loss: 0.5899 - val_accuracy: 0.6000 - 1s/epoch - 1s/step\n",
            "Epoch 96/150\n",
            "1/1 - 1s - loss: 0.4160 - accuracy: 0.9333 - val_loss: 0.5894 - val_accuracy: 0.6000 - 1s/epoch - 1s/step\n",
            "Epoch 97/150\n",
            "1/1 - 1s - loss: 0.4142 - accuracy: 0.9333 - val_loss: 0.5890 - val_accuracy: 0.6000 - 1s/epoch - 1s/step\n",
            "Epoch 98/150\n",
            "1/1 - 1s - loss: 0.4125 - accuracy: 0.9333 - val_loss: 0.5885 - val_accuracy: 0.6000 - 1s/epoch - 1s/step\n",
            "Epoch 99/150\n",
            "1/1 - 1s - loss: 0.4107 - accuracy: 0.9333 - val_loss: 0.5880 - val_accuracy: 0.6000 - 1s/epoch - 1s/step\n",
            "Epoch 100/150\n",
            "1/1 - 1s - loss: 0.4090 - accuracy: 0.9333 - val_loss: 0.5876 - val_accuracy: 0.6000 - 1s/epoch - 1s/step\n",
            "Epoch 101/150\n",
            "1/1 - 1s - loss: 0.4073 - accuracy: 0.9333 - val_loss: 0.5871 - val_accuracy: 0.6000 - 1s/epoch - 1s/step\n",
            "Epoch 102/150\n",
            "1/1 - 1s - loss: 0.4056 - accuracy: 0.9333 - val_loss: 0.5867 - val_accuracy: 0.6000 - 1s/epoch - 1s/step\n",
            "Epoch 103/150\n",
            "1/1 - 2s - loss: 0.4039 - accuracy: 0.9333 - val_loss: 0.5862 - val_accuracy: 0.6000 - 2s/epoch - 2s/step\n",
            "Epoch 104/150\n",
            "1/1 - 1s - loss: 0.4022 - accuracy: 0.9333 - val_loss: 0.5858 - val_accuracy: 0.6000 - 1s/epoch - 1s/step\n",
            "Epoch 105/150\n",
            "1/1 - 1s - loss: 0.4005 - accuracy: 0.9333 - val_loss: 0.5854 - val_accuracy: 0.6000 - 1s/epoch - 1s/step\n",
            "Epoch 106/150\n",
            "1/1 - 1s - loss: 0.3989 - accuracy: 0.9333 - val_loss: 0.5849 - val_accuracy: 0.6000 - 1s/epoch - 1s/step\n",
            "Epoch 107/150\n",
            "1/1 - 1s - loss: 0.3972 - accuracy: 0.9333 - val_loss: 0.5845 - val_accuracy: 0.6000 - 1s/epoch - 1s/step\n",
            "Epoch 108/150\n",
            "1/1 - 1s - loss: 0.3956 - accuracy: 0.9333 - val_loss: 0.5841 - val_accuracy: 0.6000 - 1s/epoch - 1s/step\n",
            "Epoch 109/150\n",
            "1/1 - 2s - loss: 0.3939 - accuracy: 0.9333 - val_loss: 0.5837 - val_accuracy: 0.6000 - 2s/epoch - 2s/step\n",
            "Epoch 110/150\n",
            "1/1 - 1s - loss: 0.3923 - accuracy: 0.9333 - val_loss: 0.5833 - val_accuracy: 0.6000 - 1s/epoch - 1s/step\n",
            "Epoch 111/150\n",
            "1/1 - 1s - loss: 0.3907 - accuracy: 0.9333 - val_loss: 0.5829 - val_accuracy: 0.6000 - 1s/epoch - 1s/step\n",
            "Epoch 112/150\n",
            "1/1 - 2s - loss: 0.3891 - accuracy: 0.9333 - val_loss: 0.5824 - val_accuracy: 0.6000 - 2s/epoch - 2s/step\n",
            "Epoch 113/150\n",
            "1/1 - 1s - loss: 0.3875 - accuracy: 0.9333 - val_loss: 0.5820 - val_accuracy: 0.6000 - 1s/epoch - 1s/step\n",
            "Epoch 114/150\n",
            "1/1 - 1s - loss: 0.3859 - accuracy: 0.9333 - val_loss: 0.5816 - val_accuracy: 0.6000 - 1s/epoch - 1s/step\n",
            "Epoch 115/150\n",
            "1/1 - 1s - loss: 0.3843 - accuracy: 0.9333 - val_loss: 0.5812 - val_accuracy: 0.6000 - 1s/epoch - 1s/step\n",
            "Epoch 116/150\n",
            "1/1 - 1s - loss: 0.3828 - accuracy: 0.9333 - val_loss: 0.5809 - val_accuracy: 0.6000 - 1s/epoch - 1s/step\n",
            "Epoch 117/150\n",
            "1/1 - 1s - loss: 0.3812 - accuracy: 0.9333 - val_loss: 0.5805 - val_accuracy: 0.6000 - 1s/epoch - 1s/step\n",
            "Epoch 118/150\n",
            "1/1 - 1s - loss: 0.3796 - accuracy: 0.9333 - val_loss: 0.5801 - val_accuracy: 0.6000 - 1s/epoch - 1s/step\n",
            "Epoch 119/150\n",
            "1/1 - 1s - loss: 0.3781 - accuracy: 0.9333 - val_loss: 0.5797 - val_accuracy: 0.6000 - 1s/epoch - 1s/step\n",
            "Epoch 120/150\n",
            "1/1 - 1s - loss: 0.3766 - accuracy: 0.9333 - val_loss: 0.5793 - val_accuracy: 0.6000 - 1s/epoch - 1s/step\n",
            "Epoch 121/150\n",
            "1/1 - 2s - loss: 0.3750 - accuracy: 0.9333 - val_loss: 0.5789 - val_accuracy: 0.6000 - 2s/epoch - 2s/step\n",
            "Epoch 122/150\n",
            "1/1 - 1s - loss: 0.3735 - accuracy: 0.9333 - val_loss: 0.5786 - val_accuracy: 0.6000 - 1s/epoch - 1s/step\n",
            "Epoch 123/150\n",
            "1/1 - 1s - loss: 0.3720 - accuracy: 0.9333 - val_loss: 0.5782 - val_accuracy: 0.6000 - 1s/epoch - 1s/step\n",
            "Epoch 124/150\n",
            "1/1 - 2s - loss: 0.3705 - accuracy: 0.9333 - val_loss: 0.5778 - val_accuracy: 0.6000 - 2s/epoch - 2s/step\n",
            "Epoch 125/150\n",
            "1/1 - 1s - loss: 0.3690 - accuracy: 0.9333 - val_loss: 0.5775 - val_accuracy: 0.6000 - 1s/epoch - 1s/step\n",
            "Epoch 126/150\n",
            "1/1 - 1s - loss: 0.3675 - accuracy: 0.9333 - val_loss: 0.5771 - val_accuracy: 0.6000 - 1s/epoch - 1s/step\n",
            "Epoch 127/150\n",
            "1/1 - 2s - loss: 0.3661 - accuracy: 0.9333 - val_loss: 0.5768 - val_accuracy: 0.6000 - 2s/epoch - 2s/step\n",
            "Epoch 128/150\n",
            "1/1 - 1s - loss: 0.3646 - accuracy: 0.9333 - val_loss: 0.5764 - val_accuracy: 0.6000 - 1s/epoch - 1s/step\n",
            "Epoch 129/150\n",
            "1/1 - 1s - loss: 0.3631 - accuracy: 0.9333 - val_loss: 0.5761 - val_accuracy: 0.6000 - 1s/epoch - 1s/step\n",
            "Epoch 130/150\n",
            "1/1 - 3s - loss: 0.3617 - accuracy: 0.9333 - val_loss: 0.5757 - val_accuracy: 0.6000 - 3s/epoch - 3s/step\n",
            "Epoch 131/150\n",
            "1/1 - 1s - loss: 0.3603 - accuracy: 0.9333 - val_loss: 0.5754 - val_accuracy: 0.6000 - 1s/epoch - 1s/step\n",
            "Epoch 132/150\n",
            "1/1 - 1s - loss: 0.3588 - accuracy: 0.9333 - val_loss: 0.5750 - val_accuracy: 0.6000 - 1s/epoch - 1s/step\n",
            "Epoch 133/150\n",
            "1/1 - 2s - loss: 0.3574 - accuracy: 0.9333 - val_loss: 0.5747 - val_accuracy: 0.6000 - 2s/epoch - 2s/step\n",
            "Epoch 134/150\n",
            "1/1 - 1s - loss: 0.3560 - accuracy: 0.9333 - val_loss: 0.5744 - val_accuracy: 0.6000 - 1s/epoch - 1s/step\n",
            "Epoch 135/150\n",
            "1/1 - 1s - loss: 0.3546 - accuracy: 0.9333 - val_loss: 0.5741 - val_accuracy: 0.6000 - 1s/epoch - 1s/step\n",
            "Epoch 136/150\n",
            "1/1 - 2s - loss: 0.3532 - accuracy: 0.9333 - val_loss: 0.5737 - val_accuracy: 0.6000 - 2s/epoch - 2s/step\n",
            "Epoch 137/150\n",
            "1/1 - 1s - loss: 0.3518 - accuracy: 0.9333 - val_loss: 0.5734 - val_accuracy: 0.6000 - 1s/epoch - 1s/step\n",
            "Epoch 138/150\n",
            "1/1 - 1s - loss: 0.3504 - accuracy: 0.9333 - val_loss: 0.5731 - val_accuracy: 0.6000 - 1s/epoch - 1s/step\n",
            "Epoch 139/150\n",
            "1/1 - 2s - loss: 0.3490 - accuracy: 0.9333 - val_loss: 0.5728 - val_accuracy: 0.6000 - 2s/epoch - 2s/step\n",
            "Epoch 140/150\n",
            "1/1 - 1s - loss: 0.3476 - accuracy: 0.9333 - val_loss: 0.5725 - val_accuracy: 0.6000 - 1s/epoch - 1s/step\n",
            "Epoch 141/150\n",
            "1/1 - 1s - loss: 0.3463 - accuracy: 0.9333 - val_loss: 0.5721 - val_accuracy: 0.6000 - 1s/epoch - 1s/step\n",
            "Epoch 142/150\n",
            "1/1 - 2s - loss: 0.3449 - accuracy: 0.9667 - val_loss: 0.5718 - val_accuracy: 0.6000 - 2s/epoch - 2s/step\n",
            "Epoch 143/150\n",
            "1/1 - 1s - loss: 0.3436 - accuracy: 0.9667 - val_loss: 0.5715 - val_accuracy: 0.6000 - 1s/epoch - 1s/step\n",
            "Epoch 144/150\n",
            "1/1 - 1s - loss: 0.3422 - accuracy: 0.9667 - val_loss: 0.5712 - val_accuracy: 0.6000 - 1s/epoch - 1s/step\n",
            "Epoch 145/150\n",
            "1/1 - 1s - loss: 0.3409 - accuracy: 0.9667 - val_loss: 0.5709 - val_accuracy: 0.6000 - 1s/epoch - 1s/step\n",
            "Epoch 146/150\n",
            "1/1 - 1s - loss: 0.3396 - accuracy: 0.9667 - val_loss: 0.5706 - val_accuracy: 0.6000 - 1s/epoch - 1s/step\n",
            "Epoch 147/150\n",
            "1/1 - 1s - loss: 0.3382 - accuracy: 0.9667 - val_loss: 0.5703 - val_accuracy: 0.6000 - 1s/epoch - 1s/step\n",
            "Epoch 148/150\n",
            "1/1 - 1s - loss: 0.3369 - accuracy: 0.9667 - val_loss: 0.5701 - val_accuracy: 0.6000 - 1s/epoch - 1s/step\n",
            "Epoch 149/150\n",
            "1/1 - 1s - loss: 0.3356 - accuracy: 0.9667 - val_loss: 0.5698 - val_accuracy: 0.6000 - 1s/epoch - 1s/step\n",
            "Epoch 150/150\n",
            "1/1 - 1s - loss: 0.3343 - accuracy: 0.9667 - val_loss: 0.5695 - val_accuracy: 0.6000 - 1s/epoch - 1s/step\n"
          ]
        }
      ]
    },
    {
      "cell_type": "code",
      "source": [
        "plt.plot(r.history['accuracy'],label='accuracy')\n",
        "plt.plot(r.history['val_accuracy'],label='val_accuracy')\n",
        "plt.legend()"
      ],
      "metadata": {
        "colab": {
          "base_uri": "https://localhost:8080/",
          "height": 282
        },
        "id": "2LjEojltuWBt",
        "outputId": "9be6c06e-18b0-4440-ae0e-d2a07e94c699"
      },
      "execution_count": 19,
      "outputs": [
        {
          "output_type": "execute_result",
          "data": {
            "text/plain": [
              "<matplotlib.legend.Legend at 0x7f886f108850>"
            ]
          },
          "metadata": {},
          "execution_count": 19
        },
        {
          "output_type": "display_data",
          "data": {
            "text/plain": [
              "<Figure size 432x288 with 1 Axes>"
            ],
            "image/png": "[encoded data removed]"
          },
          "metadata": {
            "needs_background": "light"
          }
        }
      ]
    },
    {
      "cell_type": "code",
      "source": [
        "plt.plot(r.history['loss'],label='loss')\n",
        "plt.plot(r.history['val_loss'],label='val_loss')\n",
        "plt.legend()"
      ],
      "metadata": {
        "colab": {
          "base_uri": "https://localhost:8080/",
          "height": 282
        },
        "id": "ny6KHeVfwwgA",
        "outputId": "8d294e49-7cd0-40cc-89c4-ad4ebcd618ec"
      },
      "execution_count": 20,
      "outputs": [
        {
          "output_type": "execute_result",
          "data": {
            "text/plain": [
              "<matplotlib.legend.Legend at 0x7f886ebece10>"
            ]
          },
          "metadata": {},
          "execution_count": 20
        },
        {
          "output_type": "display_data",
          "data": {
            "text/plain": [
              "<Figure size 432x288 with 1 Axes>"
            ],
            "image/png": "[encoded data removed]"
          },
          "metadata": {
            "needs_background": "light"
          }
        }
      ]
    }
  ]
}