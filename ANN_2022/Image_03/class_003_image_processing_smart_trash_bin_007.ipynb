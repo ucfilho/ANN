{
  "nbformat": 4,
  "nbformat_minor": 0,
  "metadata": {
    "colab": {
      "provenance": [],
      "authorship_tag": "ABX9TyN1CiMUhXyaT48b/WQvODNN",
      "include_colab_link": true
    },
    "kernelspec": {
      "name": "python3",
      "display_name": "Python 3"
    },
    "language_info": {
      "name": "python"
    }
  },
  "cells": [
    {
      "cell_type": "markdown",
      "metadata": {
        "id": "view-in-github",
        "colab_type": "text"
      },
      "source": [
        "<a href=\"https://colab.research.google.com/github/ucfilho/ANN/blob/master/ANN_2022/Image_03/class_003_image_processing_smart_trash_bin_007.ipynb\" target=\"_parent\"><img src=\"https://colab.research.google.com/assets/colab-badge.svg\" alt=\"Open In Colab\"/></a>"
      ]
    },
    {
      "cell_type": "code",
      "source": [
        "import cv2\n",
        "import numpy as np\n",
        "import pandas as pd\n",
        "import random\n",
        "import zipfile\n",
        "from matplotlib import pyplot as plt\n",
        "import skimage.feature\n",
        "from string import digits\n",
        "import seaborn as sns\n",
        "import skimage"
      ],
      "metadata": {
        "id": "7wNxYQBaKVJQ"
      },
      "execution_count": 1,
      "outputs": []
    },
    {
      "cell_type": "code",
      "source": [
        "from sklearn.neural_network import MLPClassifier\n",
        "from sklearn.model_selection import train_test_split\n",
        "from sklearn.preprocessing import StandardScaler\n",
        "from sklearn.metrics import classification_report, confusion_matrix"
      ],
      "metadata": {
        "id": "JNNoeVHgb9WL"
      },
      "execution_count": 2,
      "outputs": []
    },
    {
      "cell_type": "code",
      "source": [
        "!gdown 1L4mdCDBgybKqr5Wo-kqT8HXcBJ9HXqSX"
      ],
      "metadata": {
        "colab": {
          "base_uri": "https://localhost:8080/"
        },
        "id": "Ea3bxyjq-kcq",
        "outputId": "6b4c5854-c4c9-4791-92eb-62a4cf97169a"
      },
      "execution_count": 3,
      "outputs": [
        {
          "output_type": "stream",
          "name": "stdout",
          "text": [
            "Downloading...\n",
            "From: https://drive.google.com/uc?id=1L4mdCDBgybKqr5Wo-kqT8HXcBJ9HXqSX\n",
            "To: /content/trash_nov_22_2018.zip\n",
            "100% 42.8M/42.8M [00:00<00:00, 86.7MB/s]\n"
          ]
        }
      ]
    },
    {
      "cell_type": "code",
      "source": [
        "FILE='trash_nov_22_2018.zip'"
      ],
      "metadata": {
        "id": "oyLilZ2l-loH"
      },
      "execution_count": 4,
      "outputs": []
    },
    {
      "cell_type": "code",
      "source": [
        "archive = zipfile.ZipFile('trash_nov_22_2018.zip', 'r')\n",
        "archive.extractall()"
      ],
      "metadata": {
        "id": "XwXGEOlF_K1c"
      },
      "execution_count": 5,
      "outputs": []
    },
    {
      "cell_type": "code",
      "source": [
        "img_name=[]\n",
        "with zipfile.ZipFile(FILE, \"r\") as f:\n",
        "    for name in f.namelist():\n",
        "        img_name.append(name)"
      ],
      "metadata": {
        "id": "cs5xKcmpAgOA"
      },
      "execution_count": 6,
      "outputs": []
    },
    {
      "cell_type": "code",
      "source": [
        "Img_Size = 200\n",
        "ref = 'jpg'\n",
        "notref = 'met'"
      ],
      "metadata": {
        "id": "PVPFW06o_kw8"
      },
      "execution_count": 7,
      "outputs": []
    },
    {
      "cell_type": "code",
      "source": [
        "X= []  \n",
        "Y =[]\n",
        "n = len(img_name)\n",
        "i = 0\n",
        "for i in range(n):\n",
        "  name = img_name[i]\n",
        "  if(ref in name):\n",
        "    Y.append(name)\n",
        "    X.append(cv2.imread(name,0))\n",
        "m = len(Y)\n",
        "print(n,m)"
      ],
      "metadata": {
        "id": "lAOB3uC3JG2V",
        "colab": {
          "base_uri": "https://localhost:8080/"
        },
        "outputId": "57de7363-b8a1-4991-be0c-f6f04d7f1710"
      },
      "execution_count": 8,
      "outputs": [
        {
          "output_type": "stream",
          "name": "stdout",
          "text": [
            "2527 2527\n"
          ]
        }
      ]
    },
    {
      "cell_type": "code",
      "source": [
        "def properties(glcm_names,img,Img_Size):\n",
        "  glcm =[]\n",
        "  resized = cv2.resize(img, (Img_Size,Img_Size))\n",
        "  m = skimage.exposure.rescale_intensity(resized, in_range='image', out_range='dtype')\n",
        "  g = skimage.feature.greycomatrix(m, [1, 2], [0, np.pi/2], levels=256,normed=True, symmetric=True)\n",
        "  for x in glcm_names:\n",
        "    prop = skimage.feature.greycoprops(g, x)\n",
        "    glcm.append(np.max(prop))\n",
        "  \n",
        "  return glcm\n",
        "\n",
        "glcm_names =['contrast', 'dissimilarity', 'homogeneity', 'energy', 'correlation', 'ASM']\n",
        "\n",
        "# see https://github.com/ucfilho/ANN/blob/master/ANN_2022/Image/class_001_image_processing_smart_trash_bin_012.ipynb\n",
        "features =[]\n",
        "for i in range(len(img_name)):\n",
        "  glcm = []\n",
        "  img = X[i]\n",
        "  glcm = properties(glcm_names,img,Img_Size)\n",
        "  \n",
        "  img = cv2.imread(img_name[i])\n",
        "  green_img = img[:,:,1]\n",
        "  values_green = properties(glcm_names,green_img,Img_Size)\n",
        "\n",
        "  red_img = img[:,:,0]\n",
        "  values_red = properties(glcm_names,red_img,Img_Size)\n",
        "\n",
        "  blue_img = img[:,:,0]\n",
        "  values_blue = properties(glcm_names,blue_img,Img_Size)\n",
        "\n",
        "  total= [*glcm,*values_red, *values_green, *values_blue]\n",
        "  \n",
        "  features.append(total)\n",
        "\n"
      ],
      "metadata": {
        "id": "igUJDyJlD6tc"
      },
      "execution_count": 9,
      "outputs": []
    },
    {
      "cell_type": "code",
      "source": [
        "lista = []\n",
        "glcm_names =['contrast', 'dissimilarity', 'homogeneity', 'energy', 'correlation', 'ASM']\n",
        "names = glcm_names\n",
        "for x in glcm_names:\n",
        "  lista.append(x+'_r')\n",
        "names = glcm_names + lista\n",
        "\n",
        "lista = []\n",
        "for x in glcm_names:\n",
        "  lista.append(x+'_g')\n",
        "names = names + lista\n",
        "\n",
        "lista = []\n",
        "for x in glcm_names:\n",
        "  lista.append(x+'_b')\n",
        "names = names + lista\n",
        "\n",
        "print(names)\n",
        "\n",
        "df = pd.DataFrame(features,columns=names)"
      ],
      "metadata": {
        "colab": {
          "base_uri": "https://localhost:8080/"
        },
        "id": "QIftWz6V64lJ",
        "outputId": "78454a32-2292-4499-aabb-965793caab3b"
      },
      "execution_count": 10,
      "outputs": [
        {
          "output_type": "stream",
          "name": "stdout",
          "text": [
            "['contrast', 'dissimilarity', 'homogeneity', 'energy', 'correlation', 'ASM', 'contrast_r', 'dissimilarity_r', 'homogeneity_r', 'energy_r', 'correlation_r', 'ASM_r', 'contrast_g', 'dissimilarity_g', 'homogeneity_g', 'energy_g', 'correlation_g', 'ASM_g', 'contrast_b', 'dissimilarity_b', 'homogeneity_b', 'energy_b', 'correlation_b', 'ASM_b']\n"
          ]
        }
      ]
    },
    {
      "cell_type": "code",
      "source": [
        "glcm_names"
      ],
      "metadata": {
        "colab": {
          "base_uri": "https://localhost:8080/"
        },
        "id": "nwAmXY4weA9m",
        "outputId": "3a18b7bc-6689-49ab-e46a-ad44cee90e46"
      },
      "execution_count": 11,
      "outputs": [
        {
          "output_type": "execute_result",
          "data": {
            "text/plain": [
              "['contrast', 'dissimilarity', 'homogeneity', 'energy', 'correlation', 'ASM']"
            ]
          },
          "metadata": {},
          "execution_count": 11
        }
      ]
    },
    {
      "cell_type": "code",
      "source": [
        "n =len(img_name)\n",
        "tipos = []\n",
        "selected = 'find'\n",
        "for x in img_name:\n",
        "  result =''.join([i for i in x[:-4] if not i.isdigit()])\n",
        "  if(result != selected):\n",
        "    selected = result\n",
        "    tipos.append(selected)\n"
      ],
      "metadata": {
        "id": "5Kh0R80ndBQ0"
      },
      "execution_count": 12,
      "outputs": []
    },
    {
      "cell_type": "code",
      "source": [
        "label =[]\n",
        "for name in img_name:\n",
        "  for idx, x in enumerate(tipos):\n",
        "    if(x in name):\n",
        "      label.append(idx)"
      ],
      "metadata": {
        "id": "MejkwNSX1kOi"
      },
      "execution_count": 13,
      "outputs": []
    },
    {
      "cell_type": "code",
      "source": [
        "df['target']=label"
      ],
      "metadata": {
        "id": "GyKMP7gCScy4"
      },
      "execution_count": 14,
      "outputs": []
    },
    {
      "cell_type": "code",
      "source": [
        "for i in range(6): \n",
        "  df_plot= df[(df[\"target\"] == i)]\n",
        "  n= df_plot.shape[0]\n",
        "  print(tipos[i],n)"
      ],
      "metadata": {
        "colab": {
          "base_uri": "https://localhost:8080/"
        },
        "id": "W6CDIVizOZXv",
        "outputId": "14548dae-3934-460e-c3d6-78ad822a5d24"
      },
      "execution_count": 15,
      "outputs": [
        {
          "output_type": "stream",
          "name": "stdout",
          "text": [
            "cardboard 403\n",
            "glass 501\n",
            "metal 410\n",
            "paper 594\n",
            "plastic 482\n",
            "trash 137\n"
          ]
        }
      ]
    },
    {
      "cell_type": "code",
      "source": [
        "y=df['target']\n",
        "X=df.drop(['target'], axis='columns')"
      ],
      "metadata": {
        "id": "2qh4GQedcJt6"
      },
      "execution_count": 16,
      "outputs": []
    },
    {
      "cell_type": "code",
      "source": [
        "y = pd.get_dummies(y)\n",
        "# check https://pandas.pydata.org/docs/reference/api/pandas.get_dummies.html\n",
        "y"
      ],
      "metadata": {
        "colab": {
          "base_uri": "https://localhost:8080/",
          "height": 424
        },
        "id": "YGlSEZ5O3pkf",
        "outputId": "8e88bf65-e3e5-4690-8861-b5aa9eb2cd0c"
      },
      "execution_count": 17,
      "outputs": [
        {
          "output_type": "execute_result",
          "data": {
            "text/plain": [
              "      0  1  2  3  4  5\n",
              "0     1  0  0  0  0  0\n",
              "1     1  0  0  0  0  0\n",
              "2     1  0  0  0  0  0\n",
              "3     1  0  0  0  0  0\n",
              "4     1  0  0  0  0  0\n",
              "...  .. .. .. .. .. ..\n",
              "2522  0  0  0  0  0  1\n",
              "2523  0  0  0  0  0  1\n",
              "2524  0  0  0  0  0  1\n",
              "2525  0  0  0  0  0  1\n",
              "2526  0  0  0  0  0  1\n",
              "\n",
              "[2527 rows x 6 columns]"
            ],
            "text/html": [
              "\n",
              "  <div id=\"df-b3f328fa-3406-47c2-bd6c-98c124a88b8d\">\n",
              "    <div class=\"colab-df-container\">\n",
              "      <div>\n",
              "<style scoped>\n",
              "    .dataframe tbody tr th:only-of-type {\n",
              "        vertical-align: middle;\n",
              "    }\n",
              "\n",
              "    .dataframe tbody tr th {\n",
              "        vertical-align: top;\n",
              "    }\n",
              "\n",
              "    .dataframe thead th {\n",
              "        text-align: right;\n",
              "    }\n",
              "</style>\n",
              "<table border=\"1\" class=\"dataframe\">\n",
              "  <thead>\n",
              "    <tr style=\"text-align: right;\">\n",
              "      <th></th>\n",
              "      <th>0</th>\n",
              "      <th>1</th>\n",
              "      <th>2</th>\n",
              "      <th>3</th>\n",
              "      <th>4</th>\n",
              "      <th>5</th>\n",
              "    </tr>\n",
              "  </thead>\n",
              "  <tbody>\n",
              "    <tr>\n",
              "      <th>0</th>\n",
              "      <td>1</td>\n",
              "      <td>0</td>\n",
              "      <td>0</td>\n",
              "      <td>0</td>\n",
              "      <td>0</td>\n",
              "      <td>0</td>\n",
              "    </tr>\n",
              "    <tr>\n",
              "      <th>1</th>\n",
              "      <td>1</td>\n",
              "      <td>0</td>\n",
              "      <td>0</td>\n",
              "      <td>0</td>\n",
              "      <td>0</td>\n",
              "      <td>0</td>\n",
              "    </tr>\n",
              "    <tr>\n",
              "      <th>2</th>\n",
              "      <td>1</td>\n",
              "      <td>0</td>\n",
              "      <td>0</td>\n",
              "      <td>0</td>\n",
              "      <td>0</td>\n",
              "      <td>0</td>\n",
              "    </tr>\n",
              "    <tr>\n",
              "      <th>3</th>\n",
              "      <td>1</td>\n",
              "      <td>0</td>\n",
              "      <td>0</td>\n",
              "      <td>0</td>\n",
              "      <td>0</td>\n",
              "      <td>0</td>\n",
              "    </tr>\n",
              "    <tr>\n",
              "      <th>4</th>\n",
              "      <td>1</td>\n",
              "      <td>0</td>\n",
              "      <td>0</td>\n",
              "      <td>0</td>\n",
              "      <td>0</td>\n",
              "      <td>0</td>\n",
              "    </tr>\n",
              "    <tr>\n",
              "      <th>...</th>\n",
              "      <td>...</td>\n",
              "      <td>...</td>\n",
              "      <td>...</td>\n",
              "      <td>...</td>\n",
              "      <td>...</td>\n",
              "      <td>...</td>\n",
              "    </tr>\n",
              "    <tr>\n",
              "      <th>2522</th>\n",
              "      <td>0</td>\n",
              "      <td>0</td>\n",
              "      <td>0</td>\n",
              "      <td>0</td>\n",
              "      <td>0</td>\n",
              "      <td>1</td>\n",
              "    </tr>\n",
              "    <tr>\n",
              "      <th>2523</th>\n",
              "      <td>0</td>\n",
              "      <td>0</td>\n",
              "      <td>0</td>\n",
              "      <td>0</td>\n",
              "      <td>0</td>\n",
              "      <td>1</td>\n",
              "    </tr>\n",
              "    <tr>\n",
              "      <th>2524</th>\n",
              "      <td>0</td>\n",
              "      <td>0</td>\n",
              "      <td>0</td>\n",
              "      <td>0</td>\n",
              "      <td>0</td>\n",
              "      <td>1</td>\n",
              "    </tr>\n",
              "    <tr>\n",
              "      <th>2525</th>\n",
              "      <td>0</td>\n",
              "      <td>0</td>\n",
              "      <td>0</td>\n",
              "      <td>0</td>\n",
              "      <td>0</td>\n",
              "      <td>1</td>\n",
              "    </tr>\n",
              "    <tr>\n",
              "      <th>2526</th>\n",
              "      <td>0</td>\n",
              "      <td>0</td>\n",
              "      <td>0</td>\n",
              "      <td>0</td>\n",
              "      <td>0</td>\n",
              "      <td>1</td>\n",
              "    </tr>\n",
              "  </tbody>\n",
              "</table>\n",
              "<p>2527 rows × 6 columns</p>\n",
              "</div>\n",
              "      <button class=\"colab-df-convert\" onclick=\"convertToInteractive('df-b3f328fa-3406-47c2-bd6c-98c124a88b8d')\"\n",
              "              title=\"Convert this dataframe to an interactive table.\"\n",
              "              style=\"display:none;\">\n",
              "        \n",
              "  <svg xmlns=\"http://www.w3.org/2000/svg\" height=\"24px\"viewBox=\"0 0 24 24\"\n",
              "       width=\"24px\">\n",
              "    <path d=\"M0 0h24v24H0V0z\" fill=\"none\"/>\n",
              "    <path d=\"M18.56 5.44l.94 2.06.94-2.06 2.06-.94-2.06-.94-.94-2.06-.94 2.06-2.06.94zm-11 1L8.5 8.5l.94-2.06 2.06-.94-2.06-.94L8.5 2.5l-.94 2.06-2.06.94zm10 10l.94 2.06.94-2.06 2.06-.94-2.06-.94-.94-2.06-.94 2.06-2.06.94z\"/><path d=\"M17.41 7.96l-1.37-1.37c-.4-.4-.92-.59-1.43-.59-.52 0-1.04.2-1.43.59L10.3 9.45l-7.72 7.72c-.78.78-.78 2.05 0 2.83L4 21.41c.39.39.9.59 1.41.59.51 0 1.02-.2 1.41-.59l7.78-7.78 2.81-2.81c.8-.78.8-2.07 0-2.86zM5.41 20L4 18.59l7.72-7.72 1.47 1.35L5.41 20z\"/>\n",
              "  </svg>\n",
              "      </button>\n",
              "      \n",
              "  <style>\n",
              "    .colab-df-container {\n",
              "      display:flex;\n",
              "      flex-wrap:wrap;\n",
              "      gap: 12px;\n",
              "    }\n",
              "\n",
              "    .colab-df-convert {\n",
              "      background-color: #E8F0FE;\n",
              "      border: none;\n",
              "      border-radius: 50%;\n",
              "      cursor: pointer;\n",
              "      display: none;\n",
              "      fill: #1967D2;\n",
              "      height: 32px;\n",
              "      padding: 0 0 0 0;\n",
              "      width: 32px;\n",
              "    }\n",
              "\n",
              "    .colab-df-convert:hover {\n",
              "      background-color: #E2EBFA;\n",
              "      box-shadow: 0px 1px 2px rgba(60, 64, 67, 0.3), 0px 1px 3px 1px rgba(60, 64, 67, 0.15);\n",
              "      fill: #174EA6;\n",
              "    }\n",
              "\n",
              "    [theme=dark] .colab-df-convert {\n",
              "      background-color: #3B4455;\n",
              "      fill: #D2E3FC;\n",
              "    }\n",
              "\n",
              "    [theme=dark] .colab-df-convert:hover {\n",
              "      background-color: #434B5C;\n",
              "      box-shadow: 0px 1px 3px 1px rgba(0, 0, 0, 0.15);\n",
              "      filter: drop-shadow(0px 1px 2px rgba(0, 0, 0, 0.3));\n",
              "      fill: #FFFFFF;\n",
              "    }\n",
              "  </style>\n",
              "\n",
              "      <script>\n",
              "        const buttonEl =\n",
              "          document.querySelector('#df-b3f328fa-3406-47c2-bd6c-98c124a88b8d button.colab-df-convert');\n",
              "        buttonEl.style.display =\n",
              "          google.colab.kernel.accessAllowed ? 'block' : 'none';\n",
              "\n",
              "        async function convertToInteractive(key) {\n",
              "          const element = document.querySelector('#df-b3f328fa-3406-47c2-bd6c-98c124a88b8d');\n",
              "          const dataTable =\n",
              "            await google.colab.kernel.invokeFunction('convertToInteractive',\n",
              "                                                     [key], {});\n",
              "          if (!dataTable) return;\n",
              "\n",
              "          const docLinkHtml = 'Like what you see? Visit the ' +\n",
              "            '<a target=\"_blank\" href=https://colab.research.google.com/notebooks/data_table.ipynb>data table notebook</a>'\n",
              "            + ' to learn more about interactive tables.';\n",
              "          element.innerHTML = '';\n",
              "          dataTable['output_type'] = 'display_data';\n",
              "          await google.colab.output.renderOutput(dataTable, element);\n",
              "          const docLink = document.createElement('div');\n",
              "          docLink.innerHTML = docLinkHtml;\n",
              "          element.appendChild(docLink);\n",
              "        }\n",
              "      </script>\n",
              "    </div>\n",
              "  </div>\n",
              "  "
            ]
          },
          "metadata": {},
          "execution_count": 17
        }
      ]
    },
    {
      "cell_type": "code",
      "source": [
        "X_train, X_test, y_train, y_test = train_test_split(X, y, test_size=0.33, stratify=y, random_state=1)"
      ],
      "metadata": {
        "id": "y8iLKzlaeI8Z"
      },
      "execution_count": 18,
      "outputs": []
    },
    {
      "cell_type": "code",
      "source": [
        "scaler = StandardScaler()\n",
        "# transform data\n",
        "scaler_X = scaler.fit(X_train)\n",
        "X_train = scaler_X.transform(X_train)\n",
        "X_test = scaler_X.transform(X_test)"
      ],
      "metadata": {
        "id": "yK1GU3C0nEEz"
      },
      "execution_count": 19,
      "outputs": []
    },
    {
      "cell_type": "code",
      "source": [
        "active='relu' # 'logistic' \n",
        "model = MLPClassifier(hidden_layer_sizes=(400,),solver='adam', \n",
        "                      activation= active,\n",
        "                      random_state=1, max_iter=1000)\n",
        "model.fit(X_train, y_train)\n",
        "y_calc = model.predict(X_test)"
      ],
      "metadata": {
        "id": "32cOAh-xoO7i"
      },
      "execution_count": 44,
      "outputs": []
    },
    {
      "cell_type": "code",
      "source": [
        "\n",
        "# check\n",
        "# y_calc = pd.DataFrame(y_calc)\n",
        "#y_calc = pd.from_dummies(y_calc).values # works only version 1.5\n",
        "# https://pandas.pydata.org/docs/reference/api/pandas.from_dummies.html\n",
        "def categoria(y):\n",
        "  y = pd.DataFrame(y).values\n",
        "  label =[]\n",
        "  for yi in y:\n",
        "    valor = 0\n",
        "    for idx, x in enumerate(yi):\n",
        "      if(x == 1):\n",
        "        valor = idx\n",
        "    label.append(valor)\n",
        "  return label\n",
        "\n",
        "y_calc = categoria(y_calc)\n",
        "y_test = categoria(y_test)"
      ],
      "metadata": {
        "id": "XpSn6Htz5O4l"
      },
      "execution_count": 45,
      "outputs": []
    },
    {
      "cell_type": "code",
      "source": [
        "confusion_matrix(y_test, y_calc)"
      ],
      "metadata": {
        "colab": {
          "base_uri": "https://localhost:8080/"
        },
        "id": "4HToHynCM43p",
        "outputId": "6589358b-1f5f-4508-e00d-7b1aa8d7a24a"
      },
      "execution_count": 46,
      "outputs": [
        {
          "output_type": "execute_result",
          "data": {
            "text/plain": [
              "array([[116,   3,   2,  10,   1,   1],\n",
              "       [ 62,  56,  23,   4,  19,   2],\n",
              "       [ 53,  15,  47,   8,   8,   4],\n",
              "       [ 47,   8,   5, 119,  17,   0],\n",
              "       [ 54,  16,   4,   9,  76,   0],\n",
              "       [ 27,   6,   2,   0,   2,   8]])"
            ]
          },
          "metadata": {},
          "execution_count": 46
        }
      ]
    },
    {
      "cell_type": "code",
      "source": [
        "# Classification Report\n",
        "print('\\n\\n', classification_report(y_test, y_calc, target_names=tipos))"
      ],
      "metadata": {
        "colab": {
          "base_uri": "https://localhost:8080/"
        },
        "id": "ERrFAB10Om7P",
        "outputId": "08a11489-cb45-4c9b-a91d-39474e57e405"
      },
      "execution_count": 47,
      "outputs": [
        {
          "output_type": "stream",
          "name": "stdout",
          "text": [
            "\n",
            "\n",
            "               precision    recall  f1-score   support\n",
            "\n",
            "   cardboard       0.32      0.87      0.47       133\n",
            "       glass       0.54      0.34      0.41       166\n",
            "       metal       0.57      0.35      0.43       135\n",
            "       paper       0.79      0.61      0.69       196\n",
            "     plastic       0.62      0.48      0.54       159\n",
            "       trash       0.53      0.18      0.27        45\n",
            "\n",
            "    accuracy                           0.51       834\n",
            "   macro avg       0.56      0.47      0.47       834\n",
            "weighted avg       0.58      0.51      0.51       834\n",
            "\n"
          ]
        }
      ]
    },
    {
      "cell_type": "code",
      "source": [
        "''''\n",
        "Img_Size = 80 hidden = 12\n",
        "\n",
        "               precision    recall  f1-score   support\n",
        "\n",
        "   cardboard       0.78      0.74      0.76       133\n",
        "       glass       0.51      0.41      0.45       166\n",
        "       metal       0.45      0.46      0.45       135\n",
        "       paper       0.58      0.68      0.63       196\n",
        "     plastic       0.49      0.59      0.54       159\n",
        "       trash       0.47      0.18      0.26        45\n",
        "\n",
        "    accuracy                           0.56       834\n",
        "   macro avg       0.55      0.51      0.51       834\n",
        "weighted avg       0.55      0.56      0.55       834\n",
        "\n",
        "'''"
      ],
      "metadata": {
        "id": "RK2dRWtfkCgH"
      },
      "execution_count": null,
      "outputs": []
    },
    {
      "cell_type": "code",
      "source": [
        "'''\n",
        "Img_Size = 100\n",
        "\n",
        "               precision    recall  f1-score   support\n",
        "\n",
        "   cardboard       0.79      0.74      0.76       133\n",
        "       glass       0.45      0.40      0.42       166\n",
        "       metal       0.45      0.44      0.44       135\n",
        "       paper       0.59      0.66      0.62       196\n",
        "     plastic       0.48      0.58      0.53       159\n",
        "       trash       0.59      0.22      0.32        45\n",
        "\n",
        "    accuracy                           0.55       834\n",
        "   macro avg       0.56      0.51      0.52       834\n",
        "weighted avg       0.55      0.55      0.54       834\n",
        "'''"
      ],
      "metadata": {
        "id": "qkn0HB3Xl5Tl"
      },
      "execution_count": null,
      "outputs": []
    },
    {
      "cell_type": "code",
      "source": [
        "'''\n",
        "Img_Size = 200\n",
        "               precision    recall  f1-score   support\n",
        "\n",
        "   cardboard       0.82      0.76      0.79       133\n",
        "       glass       0.46      0.46      0.46       166\n",
        "       metal       0.44      0.41      0.42       135\n",
        "       paper       0.61      0.69      0.65       196\n",
        "     plastic       0.51      0.55      0.53       159\n",
        "       trash       0.36      0.18      0.24        45\n",
        "\n",
        "    accuracy                           0.56       834\n",
        "   macro avg       0.53      0.51      0.51       834\n",
        "weighted avg       0.55      0.56      0.55       834\n",
        "'''"
      ],
      "metadata": {
        "id": "1dvUOC6Nnvjo"
      },
      "execution_count": null,
      "outputs": []
    },
    {
      "cell_type": "code",
      "source": [
        "# Classification Report\n",
        "print('\\n\\n', classification_report(y_test, y_test, target_names=tipos))"
      ],
      "metadata": {
        "id": "tQ4iLQcdliMX"
      },
      "execution_count": null,
      "outputs": []
    }
  ]
}