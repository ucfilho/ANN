{
  "nbformat": 4,
  "nbformat_minor": 0,
  "metadata": {
    "colab": {
      "provenance": [],
      "authorship_tag": "ABX9TyObGLV1LRLUDzIBb0Q0ctf/",
      "include_colab_link": true
    },
    "kernelspec": {
      "name": "python3",
      "display_name": "Python 3"
    },
    "language_info": {
      "name": "python"
    }
  },
  "cells": [
    {
      "cell_type": "markdown",
      "metadata": {
        "id": "view-in-github",
        "colab_type": "text"
      },
      "source": [
        "<a href=\"https://colab.research.google.com/github/ucfilho/ANN/blob/master/ANN_2022/Image_03/class_003_image_processing_smart_trash_bin_006.ipynb\" target=\"_parent\"><img src=\"https://colab.research.google.com/assets/colab-badge.svg\" alt=\"Open In Colab\"/></a>"
      ]
    },
    {
      "cell_type": "code",
      "source": [
        "import cv2\n",
        "import numpy as np\n",
        "import pandas as pd\n",
        "import random\n",
        "import zipfile\n",
        "from matplotlib import pyplot as plt\n",
        "import skimage.feature\n",
        "from string import digits\n",
        "import seaborn as sns\n",
        "import skimage"
      ],
      "metadata": {
        "id": "7wNxYQBaKVJQ"
      },
      "execution_count": 1,
      "outputs": []
    },
    {
      "cell_type": "code",
      "source": [
        "from sklearn.neural_network import MLPClassifier\n",
        "from sklearn.model_selection import train_test_split\n",
        "from sklearn.preprocessing import StandardScaler\n",
        "from sklearn.metrics import classification_report, confusion_matrix"
      ],
      "metadata": {
        "id": "JNNoeVHgb9WL"
      },
      "execution_count": 2,
      "outputs": []
    },
    {
      "cell_type": "code",
      "source": [
        "!gdown 1L4mdCDBgybKqr5Wo-kqT8HXcBJ9HXqSX"
      ],
      "metadata": {
        "colab": {
          "base_uri": "https://localhost:8080/"
        },
        "id": "Ea3bxyjq-kcq",
        "outputId": "0611e7d4-9004-40b0-afd8-19cd4d67ebf1"
      },
      "execution_count": 3,
      "outputs": [
        {
          "output_type": "stream",
          "name": "stdout",
          "text": [
            "Downloading...\n",
            "From: https://drive.google.com/uc?id=1L4mdCDBgybKqr5Wo-kqT8HXcBJ9HXqSX\n",
            "To: /content/trash_nov_22_2018.zip\n",
            "\r  0% 0.00/42.8M [00:00<?, ?B/s]\r 59% 25.2M/42.8M [00:00<00:00, 251MB/s]\r100% 42.8M/42.8M [00:00<00:00, 269MB/s]\n"
          ]
        }
      ]
    },
    {
      "cell_type": "code",
      "source": [
        "FILE='trash_nov_22_2018.zip'"
      ],
      "metadata": {
        "id": "oyLilZ2l-loH"
      },
      "execution_count": 4,
      "outputs": []
    },
    {
      "cell_type": "code",
      "source": [
        "archive = zipfile.ZipFile('trash_nov_22_2018.zip', 'r')\n",
        "archive.extractall()"
      ],
      "metadata": {
        "id": "XwXGEOlF_K1c"
      },
      "execution_count": 5,
      "outputs": []
    },
    {
      "cell_type": "code",
      "source": [
        "img_name=[]\n",
        "with zipfile.ZipFile(FILE, \"r\") as f:\n",
        "    for name in f.namelist():\n",
        "        img_name.append(name)"
      ],
      "metadata": {
        "id": "cs5xKcmpAgOA"
      },
      "execution_count": 6,
      "outputs": []
    },
    {
      "cell_type": "code",
      "source": [
        "Img_Size = 200\n",
        "ref = 'jpg'\n",
        "notref = 'met'"
      ],
      "metadata": {
        "id": "PVPFW06o_kw8"
      },
      "execution_count": 7,
      "outputs": []
    },
    {
      "cell_type": "code",
      "source": [
        "X= []  \n",
        "Y =[]\n",
        "n = len(img_name)\n",
        "i = 0\n",
        "for i in range(n):\n",
        "  name = img_name[i]\n",
        "  if(ref in name):\n",
        "    Y.append(name)\n",
        "    X.append(cv2.imread(name,0))\n",
        "m = len(Y)\n",
        "print(n,m)"
      ],
      "metadata": {
        "id": "lAOB3uC3JG2V",
        "colab": {
          "base_uri": "https://localhost:8080/"
        },
        "outputId": "148f5e9e-3d17-49ce-bf31-52c8bfae4361"
      },
      "execution_count": 8,
      "outputs": [
        {
          "output_type": "stream",
          "name": "stdout",
          "text": [
            "2527 2527\n"
          ]
        }
      ]
    },
    {
      "cell_type": "code",
      "source": [
        "def properties(glcm_names,img,Img_Size):\n",
        "  glcm =[]\n",
        "  resized = cv2.resize(img, (Img_Size,Img_Size))\n",
        "  m = skimage.exposure.rescale_intensity(resized, in_range='image', out_range='dtype')\n",
        "  g = skimage.feature.greycomatrix(m, [1, 2], [0, np.pi/2], levels=256,normed=True, symmetric=True)\n",
        "  for x in glcm_names:\n",
        "    prop = skimage.feature.greycoprops(g, x)\n",
        "    glcm.append(np.max(prop))\n",
        "  \n",
        "  return glcm\n",
        "\n",
        "glcm_names =['contrast', 'dissimilarity', 'homogeneity', 'energy', 'correlation', 'ASM']\n",
        "\n",
        "# see https://github.com/ucfilho/ANN/blob/master/ANN_2022/Image/class_001_image_processing_smart_trash_bin_012.ipynb\n",
        "features =[]\n",
        "for i in range(len(img_name)):\n",
        "  glcm = []\n",
        "  img = X[i]\n",
        "  glcm = properties(glcm_names,img,Img_Size)\n",
        "  \n",
        "  img = cv2.imread(img_name[i])\n",
        "  green_img = img[:,:,1]\n",
        "  values_green = properties(glcm_names,green_img,Img_Size)\n",
        "\n",
        "  red_img = img[:,:,0]\n",
        "  values_red = properties(glcm_names,red_img,Img_Size)\n",
        "\n",
        "  blue_img = img[:,:,0]\n",
        "  values_blue = properties(glcm_names,blue_img,Img_Size)\n",
        "\n",
        "  total= [*glcm,*values_red, *values_green, *values_blue]\n",
        "  \n",
        "  features.append(total)\n",
        "\n"
      ],
      "metadata": {
        "id": "igUJDyJlD6tc"
      },
      "execution_count": 9,
      "outputs": []
    },
    {
      "cell_type": "code",
      "source": [
        "lista = []\n",
        "glcm_names =['contrast', 'dissimilarity', 'homogeneity', 'energy', 'correlation', 'ASM']\n",
        "names = glcm_names\n",
        "for x in glcm_names:\n",
        "  lista.append(x+'_r')\n",
        "names = glcm_names + lista\n",
        "\n",
        "lista = []\n",
        "for x in glcm_names:\n",
        "  lista.append(x+'_g')\n",
        "names = names + lista\n",
        "\n",
        "lista = []\n",
        "for x in glcm_names:\n",
        "  lista.append(x+'_b')\n",
        "names = names + lista\n",
        "\n",
        "print(names)\n",
        "\n",
        "df = pd.DataFrame(features,columns=names)"
      ],
      "metadata": {
        "colab": {
          "base_uri": "https://localhost:8080/"
        },
        "id": "QIftWz6V64lJ",
        "outputId": "5ce4c3f4-23a3-4186-80f7-e2fa7f73dd86"
      },
      "execution_count": 10,
      "outputs": [
        {
          "output_type": "stream",
          "name": "stdout",
          "text": [
            "['contrast', 'dissimilarity', 'homogeneity', 'energy', 'correlation', 'ASM', 'contrast_r', 'dissimilarity_r', 'homogeneity_r', 'energy_r', 'correlation_r', 'ASM_r', 'contrast_g', 'dissimilarity_g', 'homogeneity_g', 'energy_g', 'correlation_g', 'ASM_g', 'contrast_b', 'dissimilarity_b', 'homogeneity_b', 'energy_b', 'correlation_b', 'ASM_b']\n"
          ]
        }
      ]
    },
    {
      "cell_type": "code",
      "source": [
        "glcm_names"
      ],
      "metadata": {
        "colab": {
          "base_uri": "https://localhost:8080/"
        },
        "id": "nwAmXY4weA9m",
        "outputId": "efa56f7a-02b0-418a-fe32-c5568f3b28a8"
      },
      "execution_count": 11,
      "outputs": [
        {
          "output_type": "execute_result",
          "data": {
            "text/plain": [
              "['contrast', 'dissimilarity', 'homogeneity', 'energy', 'correlation', 'ASM']"
            ]
          },
          "metadata": {},
          "execution_count": 11
        }
      ]
    },
    {
      "cell_type": "code",
      "source": [
        "n =len(img_name)\n",
        "tipos = []\n",
        "selected = 'find'\n",
        "for x in img_name:\n",
        "  result =''.join([i for i in x[:-4] if not i.isdigit()])\n",
        "  if(result != selected):\n",
        "    selected = result\n",
        "    tipos.append(selected)\n"
      ],
      "metadata": {
        "id": "5Kh0R80ndBQ0"
      },
      "execution_count": 12,
      "outputs": []
    },
    {
      "cell_type": "code",
      "source": [
        "label =[]\n",
        "for name in img_name:\n",
        "  for idx, x in enumerate(tipos):\n",
        "    if(x in name):\n",
        "      label.append(idx)"
      ],
      "metadata": {
        "id": "MejkwNSX1kOi"
      },
      "execution_count": 13,
      "outputs": []
    },
    {
      "cell_type": "code",
      "source": [
        "df['target']=label"
      ],
      "metadata": {
        "id": "GyKMP7gCScy4"
      },
      "execution_count": 14,
      "outputs": []
    },
    {
      "cell_type": "code",
      "source": [
        "for i in range(6): \n",
        "  df_plot= df[(df[\"target\"] == i)]\n",
        "  n= df_plot.shape[0]\n",
        "  print(tipos[i],n)"
      ],
      "metadata": {
        "colab": {
          "base_uri": "https://localhost:8080/"
        },
        "id": "W6CDIVizOZXv",
        "outputId": "8583b666-e41c-40e0-f6cc-cb012f16f35a"
      },
      "execution_count": 15,
      "outputs": [
        {
          "output_type": "stream",
          "name": "stdout",
          "text": [
            "cardboard 403\n",
            "glass 501\n",
            "metal 410\n",
            "paper 594\n",
            "plastic 482\n",
            "trash 137\n"
          ]
        }
      ]
    },
    {
      "cell_type": "code",
      "source": [
        "y=df['target']\n",
        "X=df.drop(['target'], axis='columns')"
      ],
      "metadata": {
        "id": "2qh4GQedcJt6"
      },
      "execution_count": 16,
      "outputs": []
    },
    {
      "cell_type": "code",
      "source": [
        "X_train, X_test, y_train, y_test = train_test_split(X, y, test_size=0.33, stratify=y, random_state=1)"
      ],
      "metadata": {
        "id": "y8iLKzlaeI8Z"
      },
      "execution_count": 17,
      "outputs": []
    },
    {
      "cell_type": "code",
      "source": [
        "scaler = StandardScaler()\n",
        "# transform data\n",
        "scaler_X = scaler.fit(X_train)\n",
        "X_train = scaler_X.transform(X_train)\n",
        "X_test = scaler_X.transform(X_test)"
      ],
      "metadata": {
        "id": "yK1GU3C0nEEz"
      },
      "execution_count": 18,
      "outputs": []
    },
    {
      "cell_type": "code",
      "source": [
        "active='relu' # 'logistic' \n",
        "model = MLPClassifier(hidden_layer_sizes=(400,),solver='adam', \n",
        "                      activation= active,\n",
        "                      random_state=1, max_iter=1000)\n",
        "model.fit(X_train, y_train)\n",
        "y_calc = model.predict(X_test)"
      ],
      "metadata": {
        "id": "32cOAh-xoO7i"
      },
      "execution_count": 40,
      "outputs": []
    },
    {
      "cell_type": "code",
      "source": [
        "confusion_matrix(y_test, y_calc)"
      ],
      "metadata": {
        "colab": {
          "base_uri": "https://localhost:8080/"
        },
        "id": "4HToHynCM43p",
        "outputId": "2d68e80a-ecf0-4ab7-f369-5be63252c07f"
      },
      "execution_count": 38,
      "outputs": [
        {
          "output_type": "execute_result",
          "data": {
            "text/plain": [
              "array([[102,   8,   8,  12,   3,   0],\n",
              "       [  3,  81,  30,  17,  30,   5],\n",
              "       [  3,  31,  66,  15,   7,  13],\n",
              "       [ 15,  16,   8, 142,  14,   1],\n",
              "       [  3,  27,  15,  27,  85,   2],\n",
              "       [  6,   4,   7,  11,   5,  12]])"
            ]
          },
          "metadata": {},
          "execution_count": 38
        }
      ]
    },
    {
      "cell_type": "code",
      "source": [
        "# Classification Report\n",
        "print('\\n\\n', classification_report(y_test, y_calc, target_names=tipos))"
      ],
      "metadata": {
        "colab": {
          "base_uri": "https://localhost:8080/"
        },
        "id": "ERrFAB10Om7P",
        "outputId": "d32c9868-1816-46e4-85d3-69570bca873e"
      },
      "execution_count": 39,
      "outputs": [
        {
          "output_type": "stream",
          "name": "stdout",
          "text": [
            "\n",
            "\n",
            "               precision    recall  f1-score   support\n",
            "\n",
            "   cardboard       0.77      0.77      0.77       133\n",
            "       glass       0.49      0.49      0.49       166\n",
            "       metal       0.49      0.49      0.49       135\n",
            "       paper       0.63      0.72      0.68       196\n",
            "     plastic       0.59      0.53      0.56       159\n",
            "       trash       0.36      0.27      0.31        45\n",
            "\n",
            "    accuracy                           0.59       834\n",
            "   macro avg       0.56      0.54      0.55       834\n",
            "weighted avg       0.58      0.59      0.58       834\n",
            "\n"
          ]
        }
      ]
    },
    {
      "cell_type": "code",
      "source": [
        "''''\n",
        "Img_Size = 80 hidden = 12\n",
        "\n",
        "               precision    recall  f1-score   support\n",
        "\n",
        "   cardboard       0.78      0.74      0.76       133\n",
        "       glass       0.51      0.41      0.45       166\n",
        "       metal       0.45      0.46      0.45       135\n",
        "       paper       0.58      0.68      0.63       196\n",
        "     plastic       0.49      0.59      0.54       159\n",
        "       trash       0.47      0.18      0.26        45\n",
        "\n",
        "    accuracy                           0.56       834\n",
        "   macro avg       0.55      0.51      0.51       834\n",
        "weighted avg       0.55      0.56      0.55       834\n",
        "\n",
        "'''"
      ],
      "metadata": {
        "colab": {
          "base_uri": "https://localhost:8080/",
          "height": 87
        },
        "id": "RK2dRWtfkCgH",
        "outputId": "b9007c39-3204-4769-d38b-aacf9c2eeb05"
      },
      "execution_count": 22,
      "outputs": [
        {
          "output_type": "execute_result",
          "data": {
            "text/plain": [
              "\"'\\nImg_Size = 80\\n\\n               precision    recall  f1-score   support\\n\\n   cardboard       0.78      0.74      0.76       133\\n       glass       0.51      0.41      0.45       166\\n       metal       0.45      0.46      0.45       135\\n       paper       0.58      0.68      0.63       196\\n     plastic       0.49      0.59      0.54       159\\n       trash       0.47      0.18      0.26        45\\n\\n    accuracy                           0.56       834\\n   macro avg       0.55      0.51      0.51       834\\nweighted avg       0.55      0.56      0.55       834\\n\\n\""
            ],
            "application/vnd.google.colaboratory.intrinsic+json": {
              "type": "string"
            }
          },
          "metadata": {},
          "execution_count": 22
        }
      ]
    },
    {
      "cell_type": "code",
      "source": [
        "'''\n",
        "Img_Size = 100\n",
        "\n",
        "               precision    recall  f1-score   support\n",
        "\n",
        "   cardboard       0.79      0.74      0.76       133\n",
        "       glass       0.45      0.40      0.42       166\n",
        "       metal       0.45      0.44      0.44       135\n",
        "       paper       0.59      0.66      0.62       196\n",
        "     plastic       0.48      0.58      0.53       159\n",
        "       trash       0.59      0.22      0.32        45\n",
        "\n",
        "    accuracy                           0.55       834\n",
        "   macro avg       0.56      0.51      0.52       834\n",
        "weighted avg       0.55      0.55      0.54       834\n",
        "'''"
      ],
      "metadata": {
        "colab": {
          "base_uri": "https://localhost:8080/",
          "height": 87
        },
        "id": "qkn0HB3Xl5Tl",
        "outputId": "2379e974-5f2c-43df-87a1-970167a5d723"
      },
      "execution_count": 23,
      "outputs": [
        {
          "output_type": "execute_result",
          "data": {
            "text/plain": [
              "'\\nImg_Size = 100\\n\\n               precision    recall  f1-score   support\\n\\n   cardboard       0.79      0.74      0.76       133\\n       glass       0.45      0.40      0.42       166\\n       metal       0.45      0.44      0.44       135\\n       paper       0.59      0.66      0.62       196\\n     plastic       0.48      0.58      0.53       159\\n       trash       0.59      0.22      0.32        45\\n\\n    accuracy                           0.55       834\\n   macro avg       0.56      0.51      0.52       834\\nweighted avg       0.55      0.55      0.54       834\\n'"
            ],
            "application/vnd.google.colaboratory.intrinsic+json": {
              "type": "string"
            }
          },
          "metadata": {},
          "execution_count": 23
        }
      ]
    },
    {
      "cell_type": "code",
      "source": [
        "'''\n",
        "Img_Size = 200\n",
        "               precision    recall  f1-score   support\n",
        "\n",
        "   cardboard       0.82      0.76      0.79       133\n",
        "       glass       0.46      0.46      0.46       166\n",
        "       metal       0.44      0.41      0.42       135\n",
        "       paper       0.61      0.69      0.65       196\n",
        "     plastic       0.51      0.55      0.53       159\n",
        "       trash       0.36      0.18      0.24        45\n",
        "\n",
        "    accuracy                           0.56       834\n",
        "   macro avg       0.53      0.51      0.51       834\n",
        "weighted avg       0.55      0.56      0.55       834\n",
        "'''"
      ],
      "metadata": {
        "id": "1dvUOC6Nnvjo"
      },
      "execution_count": null,
      "outputs": []
    },
    {
      "cell_type": "code",
      "source": [
        "# Classification Report\n",
        "print('\\n\\n', classification_report(y_test, y_test, target_names=tipos))"
      ],
      "metadata": {
        "colab": {
          "base_uri": "https://localhost:8080/"
        },
        "id": "tQ4iLQcdliMX",
        "outputId": "86cd6ab8-64c7-4166-cf09-d7223b130dd9"
      },
      "execution_count": 24,
      "outputs": [
        {
          "output_type": "stream",
          "name": "stdout",
          "text": [
            "\n",
            "\n",
            "               precision    recall  f1-score   support\n",
            "\n",
            "   cardboard       1.00      1.00      1.00       133\n",
            "       glass       1.00      1.00      1.00       166\n",
            "       metal       1.00      1.00      1.00       135\n",
            "       paper       1.00      1.00      1.00       196\n",
            "     plastic       1.00      1.00      1.00       159\n",
            "       trash       1.00      1.00      1.00        45\n",
            "\n",
            "    accuracy                           1.00       834\n",
            "   macro avg       1.00      1.00      1.00       834\n",
            "weighted avg       1.00      1.00      1.00       834\n",
            "\n"
          ]
        }
      ]
    }
  ]
}