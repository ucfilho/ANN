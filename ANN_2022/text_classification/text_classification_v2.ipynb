{
  "nbformat": 4,
  "nbformat_minor": 0,
  "metadata": {
    "colab": {
      "provenance": [],
      "authorship_tag": "ABX9TyNWHVrThC79s7uMeAcDt0XQ",
      "include_colab_link": true
    },
    "kernelspec": {
      "name": "python3",
      "display_name": "Python 3"
    },
    "language_info": {
      "name": "python"
    }
  },
  "cells": [
    {
      "cell_type": "markdown",
      "metadata": {
        "id": "view-in-github",
        "colab_type": "text"
      },
      "source": [
        "<a href=\"https://colab.research.google.com/github/ucfilho/ANN/blob/master/ANN_2022/text_classification/text_classification_v2.ipynb\" target=\"_parent\"><img src=\"https://colab.research.google.com/assets/colab-badge.svg\" alt=\"Open In Colab\"/></a>"
      ]
    },
    {
      "cell_type": "code",
      "source": [
        "import pandas as pd\n",
        "import numpy as np \n",
        "from sklearn.feature_extraction.text import CountVectorizer\n",
        "from sklearn.feature_extraction.text import TfidfTransformer\n",
        "from sklearn.feature_extraction.text import TfidfVectorizer "
      ],
      "metadata": {
        "id": "1L8AMcPl6xkv"
      },
      "execution_count": 1,
      "outputs": []
    },
    {
      "cell_type": "code",
      "source": [
        "# https://www.kaggle.com/code/prateekmaj21/tf-idf-in-python/notebook"
      ],
      "metadata": {
        "id": "dfuonBhZBT6N"
      },
      "execution_count": 2,
      "outputs": []
    },
    {
      "cell_type": "code",
      "execution_count": 3,
      "metadata": {
        "id": "yplIbEuj6vrD",
        "colab": {
          "base_uri": "https://localhost:8080/"
        },
        "outputId": "9bf90ac0-4288-4deb-e06e-4f7da36a6ba9"
      },
      "outputs": [
        {
          "output_type": "stream",
          "name": "stdout",
          "text": [
            "['delhi', 'red', 'fort', 'india', 'kolkata', 'metro', 'oldest', 'india', 'delhi', 'metro', 'largest', 'metro', 'network', 'india', 'poor', 'bellow', 'sky', 'fly']\n"
          ]
        }
      ],
      "source": [
        "# text2category: is the fix sample set of text from the category\n",
        "# text2classify: is the text we want to put in the category\n",
        "\n",
        "# function tf_idf_result returns the most importants words\n",
        "#  \n",
        "# the idea is filter products which have words in common with category \n",
        "#     products with common words \n",
        "# ps: common words choose between 10, 5 or other selected number is the reference          \n",
        "\n",
        "text2category=[\"kk kkk kkk kkkk kolkata big city india trade\",\"mumbai financial capital india\",\"delhi capital india\",\n",
        "               \"kolkata capital colonial times\",\"bangalore tech hub india software\",\"mumbai hub trade commerce stock exchange\",\n",
        "               \"kolkata victoria memorial\",\"delhi india gate\",\"mumbai gate way india trade business\",\n",
        "               \"poor bellow sky fly\",\"last fast loop choice\",\"meal deal real few\",\n",
        "               \"cat rat bat owl meal deal real few\"]\n",
        "category_labels =[\"a\",\"b\",\"c\",\n",
        "                   \"d\",\"e\",\"f\",\n",
        "                   \"g\",\"h\",\"i\",\n",
        "                  'j','k','m',\n",
        "                  'n']\n",
        "w =[]\n",
        "text2classify =[\"delhi red fort india\",\"kolkata metro oldest india\", \"delhi metro largest metro network india\",\"poor bellow sky fly\"]\n",
        "for i in text2classify:\n",
        "  for j in  i.split():\n",
        "    w.append(j)\n",
        "print(w)\n",
        "\n",
        "t = \"last fast choice\".split()  # remember the split inside if was the case\n",
        "u = \"meal deal real few\".split()\n",
        "r = \"cat rat bat owl meal deal real few\".split()\n",
        "s =\"cat rat bat owl\".split()\n",
        "z =\"kk kkk kkk kkkk\".split()"
      ]
    },
    {
      "cell_type": "code",
      "source": [
        "def CountText(w,text2category,category_labels):\n",
        "  max_count, k, name  = 0, 0, 'none'\n",
        "  common_list =[]\n",
        "  for i in text2category:\n",
        "    common_list = len(set(i.split()).intersection(w))\n",
        "    if( common_list >= max_count):\n",
        "      max_count = common_list\n",
        "      name =  category_labels[k]\n",
        "    k += 1\n",
        "  common_list = [name, max_count]\n",
        "  return common_list\n",
        "  #print(word_count)"
      ],
      "metadata": {
        "id": "gCq0-UCZ62eN"
      },
      "execution_count": 4,
      "outputs": []
    },
    {
      "cell_type": "code",
      "source": [
        "print(CountText(w,text2category,category_labels))\n",
        "print(CountText(t,text2category,category_labels))\n",
        "print(CountText(u,text2category,category_labels))\n",
        "print(CountText(r,text2category,category_labels))\n",
        "print(CountText(s,text2category,category_labels))\n",
        "print(CountText(z,text2category,category_labels))"
      ],
      "metadata": {
        "colab": {
          "base_uri": "https://localhost:8080/"
        },
        "id": "Eo8ErL_y_6cu",
        "outputId": "4bd8416b-daa1-45e9-9ae7-20427de609f9"
      },
      "execution_count": 5,
      "outputs": [
        {
          "output_type": "stream",
          "name": "stdout",
          "text": [
            "['j', 4]\n",
            "['k', 3]\n",
            "['n', 4]\n",
            "['n', 8]\n",
            "['n', 4]\n",
            "['a', 3]\n"
          ]
        }
      ]
    }
  ]
}