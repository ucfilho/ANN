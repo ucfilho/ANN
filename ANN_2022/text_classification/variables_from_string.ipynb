{
  "nbformat": 4,
  "nbformat_minor": 0,
  "metadata": {
    "colab": {
      "provenance": [],
      "authorship_tag": "ABX9TyP2WOWTUouVSfZSLcUcUVZo",
      "include_colab_link": true
    },
    "kernelspec": {
      "name": "python3",
      "display_name": "Python 3"
    },
    "language_info": {
      "name": "python"
    }
  },
  "cells": [
    {
      "cell_type": "markdown",
      "metadata": {
        "id": "view-in-github",
        "colab_type": "text"
      },
      "source": [
        "<a href=\"https://colab.research.google.com/github/ucfilho/ANN/blob/master/ANN_2022/text_classification/variables_from_string.ipynb\" target=\"_parent\"><img src=\"https://colab.research.google.com/assets/colab-badge.svg\" alt=\"Open In Colab\"/></a>"
      ]
    },
    {
      "cell_type": "code",
      "source": [
        "import string"
      ],
      "metadata": {
        "id": "Bl4eu8eIMrYc"
      },
      "execution_count": 1,
      "outputs": []
    },
    {
      "cell_type": "code",
      "execution_count": 2,
      "metadata": {
        "id": "lU2iOxXvI9hs"
      },
      "outputs": [],
      "source": [
        "text = \"a = [1,2,3,4,5]\"\n",
        "exec(text)\n"
      ]
    },
    {
      "cell_type": "code",
      "source": [
        "letters = []\n",
        "for i in string.ascii_lowercase:\n",
        "  letters.append(i)\n",
        "print(letters)"
      ],
      "metadata": {
        "colab": {
          "base_uri": "https://localhost:8080/"
        },
        "id": "1j6mJ9YzKP59",
        "outputId": "94c0d9aa-39a5-46d8-9e53-6deabfcbb2b5"
      },
      "execution_count": 3,
      "outputs": [
        {
          "output_type": "stream",
          "name": "stdout",
          "text": [
            "['a', 'b', 'c', 'd', 'e', 'f', 'g', 'h', 'i', 'j', 'k', 'l', 'm', 'n', 'o', 'p', 'q', 'r', 's', 't', 'u', 'v', 'w', 'x', 'y', 'z']\n"
          ]
        }
      ]
    },
    {
      "cell_type": "code",
      "source": [
        "ngrup = 4\n",
        "text = '=[]'\n",
        "for i in range(ngrup):\n",
        "  exec('grupo_'+letters[i]+text)\n",
        "\n"
      ],
      "metadata": {
        "id": "BAMDF_OrKeIZ"
      },
      "execution_count": 4,
      "outputs": []
    },
    {
      "cell_type": "code",
      "source": [
        "grupo_a.append(2023)\n",
        "\n",
        "print(grupo_a)"
      ],
      "metadata": {
        "colab": {
          "base_uri": "https://localhost:8080/"
        },
        "id": "E8xvLZluLU6D",
        "outputId": "0da8d604-d67d-44d5-9a14-65ab8301956f"
      },
      "execution_count": 5,
      "outputs": [
        {
          "output_type": "stream",
          "name": "stdout",
          "text": [
            "[2023]\n"
          ]
        }
      ]
    },
    {
      "cell_type": "code",
      "source": [
        "grupo_d"
      ],
      "metadata": {
        "colab": {
          "base_uri": "https://localhost:8080/"
        },
        "id": "zf5Q6GfLL0Yn",
        "outputId": "e520e849-d77a-48ae-bb9b-62288607111e"
      },
      "execution_count": 6,
      "outputs": [
        {
          "output_type": "execute_result",
          "data": {
            "text/plain": [
              "[]"
            ]
          },
          "metadata": {},
          "execution_count": 6
        }
      ]
    },
    {
      "cell_type": "markdown",
      "source": [
        "# New section"
      ],
      "metadata": {
        "id": "NeW3g_4rLxaH"
      }
    }
  ]
}