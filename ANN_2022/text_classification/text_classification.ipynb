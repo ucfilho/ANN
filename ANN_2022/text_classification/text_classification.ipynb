{
  "nbformat": 4,
  "nbformat_minor": 0,
  "metadata": {
    "colab": {
      "provenance": [],
      "authorship_tag": "ABX9TyPrakV/XTig7awV1iEfh4Xd",
      "include_colab_link": true
    },
    "kernelspec": {
      "name": "python3",
      "display_name": "Python 3"
    },
    "language_info": {
      "name": "python"
    }
  },
  "cells": [
    {
      "cell_type": "markdown",
      "metadata": {
        "id": "view-in-github",
        "colab_type": "text"
      },
      "source": [
        "<a href=\"https://colab.research.google.com/github/ucfilho/ANN/blob/master/ANN_2022/text_classification/text_classification.ipynb\" target=\"_parent\"><img src=\"https://colab.research.google.com/assets/colab-badge.svg\" alt=\"Open In Colab\"/></a>"
      ]
    },
    {
      "cell_type": "code",
      "source": [
        "import pandas as pd\n",
        "import numpy as np \n",
        "from sklearn.feature_extraction.text import CountVectorizer\n",
        "from sklearn.feature_extraction.text import TfidfTransformer\n",
        "from sklearn.feature_extraction.text import TfidfVectorizer "
      ],
      "metadata": {
        "id": "1L8AMcPl6xkv"
      },
      "execution_count": 1,
      "outputs": []
    },
    {
      "cell_type": "code",
      "source": [
        "# https://www.kaggle.com/code/prateekmaj21/tf-idf-in-python/notebook"
      ],
      "metadata": {
        "id": "dfuonBhZBT6N"
      },
      "execution_count": 2,
      "outputs": []
    },
    {
      "cell_type": "code",
      "execution_count": 3,
      "metadata": {
        "id": "yplIbEuj6vrD"
      },
      "outputs": [],
      "source": [
        "# text2category: is the fix sample set of text from the category\n",
        "# text2classify: is the text we want to put in the category\n",
        "\n",
        "# function tf_idf_result returns the most importants words\n",
        "#  \n",
        "# the idea is filter products which have words in common with category \n",
        "#     products with common words \n",
        "# ps: common words choose between 10, 5 or other selected number is the reference          \n",
        "\n",
        "text2category=[\"kolkata big city india trade\",\"mumbai financial capital india\",\"delhi capital india\",\"kolkata capital colonial times\",\n",
        "     \"bangalore tech hub india software\",\"mumbai hub trade commerce stock exchange\",\"kolkata victoria memorial\",\"delhi india gate\",\n",
        "      \"mumbai gate way india trade business\"]\n",
        "\n",
        "text2classify =[\"delhi red fort india\",\"kolkata metro oldest india\", \"delhi metro largest metro network india\"]"
      ]
    },
    {
      "cell_type": "code",
      "source": [
        "def tf_idf_result(text):\n",
        "  count = CountVectorizer()\n",
        "  word_count=count.fit_transform(text)\n",
        "  tfidf_transformer=TfidfTransformer(smooth_idf=True,use_idf=True)\n",
        "  tfidf_transformer.fit(word_count)\n",
        "  df_idf = pd.DataFrame(tfidf_transformer.idf_, index=count.get_feature_names(),columns=[\"idf_weights\"]) \n",
        "  df_idf.sort_values(by=['idf_weights'])\n",
        "  #tfidf\n",
        "\n",
        "  tf_idf_vector=tfidf_transformer.transform(word_count)\n",
        "  feature_names = count.get_feature_names()\n",
        "  first_document_vector=tf_idf_vector[1]\n",
        "  df_tfifd= pd.DataFrame(first_document_vector.T.todense(), index=feature_names, columns=[\"tfidf\"])\n",
        "  \n",
        "  return df_tfifd.sort_values(by=[\"tfidf\"],ascending=False)\n",
        "  #print(word_count)"
      ],
      "metadata": {
        "id": "gCq0-UCZ62eN"
      },
      "execution_count": 4,
      "outputs": []
    },
    {
      "cell_type": "code",
      "source": [
        "print(tf_idf_result(text2category))"
      ],
      "metadata": {
        "colab": {
          "base_uri": "https://localhost:8080/"
        },
        "id": "Eo8ErL_y_6cu",
        "outputId": "a3a9d00e-d145-4ade-82f4-923437650b4d"
      },
      "execution_count": 5,
      "outputs": [
        {
          "output_type": "stream",
          "name": "stdout",
          "text": [
            "              tfidf\n",
            "financial  0.652480\n",
            "capital    0.479161\n",
            "mumbai     0.479161\n",
            "india      0.339232\n",
            "bangalore  0.000000\n",
            "kolkata    0.000000\n",
            "victoria   0.000000\n",
            "trade      0.000000\n",
            "times      0.000000\n",
            "tech       0.000000\n",
            "stock      0.000000\n",
            "software   0.000000\n",
            "memorial   0.000000\n",
            "hub        0.000000\n",
            "big        0.000000\n",
            "gate       0.000000\n",
            "exchange   0.000000\n",
            "delhi      0.000000\n",
            "commerce   0.000000\n",
            "colonial   0.000000\n",
            "city       0.000000\n",
            "business   0.000000\n",
            "way        0.000000\n"
          ]
        },
        {
          "output_type": "stream",
          "name": "stderr",
          "text": [
            "/usr/local/lib/python3.8/dist-packages/sklearn/utils/deprecation.py:87: FutureWarning: Function get_feature_names is deprecated; get_feature_names is deprecated in 1.0 and will be removed in 1.2. Please use get_feature_names_out instead.\n",
            "  warnings.warn(msg, category=FutureWarning)\n"
          ]
        }
      ]
    },
    {
      "cell_type": "code",
      "source": [
        "print(tf_idf_result(text2classify))"
      ],
      "metadata": {
        "colab": {
          "base_uri": "https://localhost:8080/"
        },
        "id": "paasOo0M_8Rc",
        "outputId": "2209c0f3-c246-4001-9db7-97dfcbd0d5f7"
      },
      "execution_count": 6,
      "outputs": [
        {
          "output_type": "stream",
          "name": "stdout",
          "text": [
            "            tfidf\n",
            "kolkata  0.584483\n",
            "oldest   0.584483\n",
            "metro    0.444514\n",
            "india    0.345205\n",
            "delhi    0.000000\n",
            "fort     0.000000\n",
            "largest  0.000000\n",
            "network  0.000000\n",
            "red      0.000000\n"
          ]
        },
        {
          "output_type": "stream",
          "name": "stderr",
          "text": [
            "/usr/local/lib/python3.8/dist-packages/sklearn/utils/deprecation.py:87: FutureWarning: Function get_feature_names is deprecated; get_feature_names is deprecated in 1.0 and will be removed in 1.2. Please use get_feature_names_out instead.\n",
            "  warnings.warn(msg, category=FutureWarning)\n"
          ]
        }
      ]
    }
  ]
}