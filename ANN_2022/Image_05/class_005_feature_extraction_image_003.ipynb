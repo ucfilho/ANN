{
  "nbformat": 4,
  "nbformat_minor": 0,
  "metadata": {
    "colab": {
      "provenance": [],
      "authorship_tag": "ABX9TyMWF3GOLZ6jiZ4gAmJ8K4Mz",
      "include_colab_link": true
    },
    "kernelspec": {
      "name": "python3",
      "display_name": "Python 3"
    },
    "language_info": {
      "name": "python"
    }
  },
  "cells": [
    {
      "cell_type": "markdown",
      "metadata": {
        "id": "view-in-github",
        "colab_type": "text"
      },
      "source": [
        "<a href=\"https://colab.research.google.com/github/ucfilho/ANN/blob/master/ANN_2022/Image_05/class_005_feature_extraction_image_003.ipynb\" target=\"_parent\"><img src=\"https://colab.research.google.com/assets/colab-badge.svg\" alt=\"Open In Colab\"/></a>"
      ]
    },
    {
      "cell_type": "code",
      "source": [
        "import cv2\n",
        "import numpy as np\n",
        "import pandas as pd\n",
        "import random\n",
        "import zipfile\n",
        "from matplotlib import pyplot as plt\n",
        "import skimage.feature\n",
        "from string import digits\n",
        "import seaborn as sns\n",
        "import skimage\n",
        "from google.colab import files"
      ],
      "metadata": {
        "id": "7wNxYQBaKVJQ"
      },
      "execution_count": 1,
      "outputs": []
    },
    {
      "cell_type": "code",
      "source": [
        "from sklearn.neural_network import MLPClassifier\n",
        "from sklearn.model_selection import train_test_split\n",
        "from sklearn.preprocessing import StandardScaler\n",
        "from sklearn.metrics import classification_report, confusion_matrix"
      ],
      "metadata": {
        "id": "JNNoeVHgb9WL"
      },
      "execution_count": 2,
      "outputs": []
    },
    {
      "cell_type": "code",
      "source": [
        "try:\n",
        "  import glrlm\n",
        "except:\n",
        "  !pip install pip glrlm"
      ],
      "metadata": {
        "id": "CkYrCN8U0kfn"
      },
      "execution_count": 3,
      "outputs": []
    },
    {
      "cell_type": "code",
      "source": [
        "try:\n",
        "  import mahotas\n",
        "except:\n",
        "  !pip install mahotas"
      ],
      "metadata": {
        "id": "eD2ZWrEpIxX2"
      },
      "execution_count": 4,
      "outputs": []
    },
    {
      "cell_type": "code",
      "source": [
        "import glrlm\n",
        "from glrlm import GLRLM"
      ],
      "metadata": {
        "id": "bbDrusdn3RNj"
      },
      "execution_count": 5,
      "outputs": []
    },
    {
      "cell_type": "code",
      "source": [
        "import mahotas"
      ],
      "metadata": {
        "id": "hzKAVIrWJBFO"
      },
      "execution_count": 6,
      "outputs": []
    },
    {
      "cell_type": "code",
      "source": [
        "# check https://pypi.org/project/glrlm/"
      ],
      "metadata": {
        "id": "2lxHMTXW3wgE"
      },
      "execution_count": 7,
      "outputs": []
    },
    {
      "cell_type": "code",
      "source": [
        "!gdown 1L4mdCDBgybKqr5Wo-kqT8HXcBJ9HXqSX"
      ],
      "metadata": {
        "colab": {
          "base_uri": "https://localhost:8080/"
        },
        "id": "Ea3bxyjq-kcq",
        "outputId": "a8aab062-cbf0-41d7-9012-7c0cb5614117"
      },
      "execution_count": 8,
      "outputs": [
        {
          "output_type": "stream",
          "name": "stdout",
          "text": [
            "Downloading...\n",
            "From: https://drive.google.com/uc?id=1L4mdCDBgybKqr5Wo-kqT8HXcBJ9HXqSX\n",
            "To: /content/trash_nov_22_2018.zip\n",
            "\r  0% 0.00/42.8M [00:00<?, ?B/s]\r 49% 21.0M/42.8M [00:00<00:00, 207MB/s]\r100% 42.8M/42.8M [00:00<00:00, 261MB/s]\n"
          ]
        }
      ]
    },
    {
      "cell_type": "code",
      "source": [
        "FILE='trash_nov_22_2018.zip'"
      ],
      "metadata": {
        "id": "oyLilZ2l-loH"
      },
      "execution_count": 9,
      "outputs": []
    },
    {
      "cell_type": "code",
      "source": [
        "archive = zipfile.ZipFile('trash_nov_22_2018.zip', 'r')\n",
        "archive.extractall()"
      ],
      "metadata": {
        "id": "XwXGEOlF_K1c"
      },
      "execution_count": 10,
      "outputs": []
    },
    {
      "cell_type": "code",
      "source": [
        "img_name=[]\n",
        "with zipfile.ZipFile(FILE, \"r\") as f:\n",
        "    for name in f.namelist():\n",
        "        img_name.append(name)"
      ],
      "metadata": {
        "id": "cs5xKcmpAgOA"
      },
      "execution_count": 11,
      "outputs": []
    },
    {
      "cell_type": "code",
      "source": [
        "Img_Size = 80\n",
        "ref = 'jpg'\n",
        "notref = 'met'"
      ],
      "metadata": {
        "id": "PVPFW06o_kw8"
      },
      "execution_count": 12,
      "outputs": []
    },
    {
      "cell_type": "code",
      "source": [
        "X= []  \n",
        "Y =[]\n",
        "n = len(img_name)\n",
        "i = 0\n",
        "for i in range(n):\n",
        "  name = img_name[i]\n",
        "  if(ref in name):\n",
        "    Y.append(name)\n",
        "    X.append(cv2.imread(name,0))\n",
        "m = len(Y)\n",
        "print(n,m)"
      ],
      "metadata": {
        "id": "lAOB3uC3JG2V",
        "colab": {
          "base_uri": "https://localhost:8080/"
        },
        "outputId": "61b2320c-ad0b-40e6-988c-a04f97638ada"
      },
      "execution_count": 13,
      "outputs": [
        {
          "output_type": "stream",
          "name": "stdout",
          "text": [
            "2527 2527\n"
          ]
        }
      ]
    },
    {
      "cell_type": "code",
      "source": [
        "def new_names(letter,names):\n",
        "  lista = []\n",
        "  for x in names:\n",
        "    lista.append(x+letter)\n",
        "  return lista"
      ],
      "metadata": {
        "id": "LLXOyfyIB2ir"
      },
      "execution_count": 14,
      "outputs": []
    },
    {
      "cell_type": "code",
      "source": [],
      "metadata": {
        "id": "HEaEMLCz3oPa"
      },
      "execution_count": 14,
      "outputs": []
    },
    {
      "cell_type": "code",
      "source": [
        "# glcm features\n",
        "\n",
        "def properties_glcm(img,Img_Size):\n",
        "  glcm =[]\n",
        "  glcm_names =['contrast', 'dissimilarity', 'homogeneity', 'energy', 'correlation', 'ASM']\n",
        "  resized = cv2.resize(img, (Img_Size,Img_Size))\n",
        "  m = skimage.exposure.rescale_intensity(resized, in_range='image', out_range='dtype')\n",
        "  g = skimage.feature.greycomatrix(m, [1, 2], [0, np.pi/2], levels=256,normed=True, symmetric=True)\n",
        "  for x in glcm_names:\n",
        "    prop = skimage.feature.greycoprops(g, x)\n",
        "    glcm.append(np.max(prop))\n",
        "  \n",
        "  return glcm\n",
        "\n",
        "glcm_names =['contrast', 'dissimilarity', 'homogeneity', 'energy', 'correlation', 'ASM']\n",
        "\n",
        "\n",
        "features =[]\n",
        "\n",
        "#for i in range(len(img_name)):\n",
        "for i in range(3):\n",
        "  glcm = []\n",
        "  glrlm_add = []\n",
        "  img = X[i]\n",
        "  glcm = properties_glcm(img,Img_Size)\n",
        "  \n",
        "  img = cv2.imread(img_name[i])\n",
        "  \n",
        "  green_img = img[:,:,1]\n",
        "  values_green = properties_glcm(green_img,Img_Size)\n",
        "\n",
        "  red_img = img[:,:,0]\n",
        "  values_red = properties_glcm(red_img,Img_Size)\n",
        "\n",
        "\n",
        "  blue_img = img[:,:,2]\n",
        "  values_blue = properties_glcm(blue_img,Img_Size)\n",
        "\n",
        "\n",
        "  total= [*glcm,*values_red, *values_green, *values_blue]\n",
        "\n",
        "  features.append(total)\n",
        "\n",
        "names = glcm_names + new_names('_r',glcm_names)\n",
        "names = names + new_names('_g',glcm_names)\n",
        "names = names + new_names('_b',glcm_names)\n",
        "\n",
        "df_glcm = pd.DataFrame(features,columns=names)"
      ],
      "metadata": {
        "id": "igUJDyJlD6tc"
      },
      "execution_count": 15,
      "outputs": []
    },
    {
      "cell_type": "code",
      "source": [
        "Arq = \"output_excel_glcm.xlsx\"\n",
        "df_glcm.to_excel(Arq)\n",
        "files.download(Arq)"
      ],
      "metadata": {
        "colab": {
          "base_uri": "https://localhost:8080/",
          "height": 17
        },
        "id": "UucxjpbSD6W5",
        "outputId": "7e283a90-556c-4b8a-c624-d45e7cd26342"
      },
      "execution_count": 16,
      "outputs": [
        {
          "output_type": "display_data",
          "data": {
            "text/plain": [
              "<IPython.core.display.Javascript object>"
            ],
            "application/javascript": [
              "\n",
              "    async function download(id, filename, size) {\n",
              "      if (!google.colab.kernel.accessAllowed) {\n",
              "        return;\n",
              "      }\n",
              "      const div = document.createElement('div');\n",
              "      const label = document.createElement('label');\n",
              "      label.textContent = `Downloading \"${filename}\": `;\n",
              "      div.appendChild(label);\n",
              "      const progress = document.createElement('progress');\n",
              "      progress.max = size;\n",
              "      div.appendChild(progress);\n",
              "      document.body.appendChild(div);\n",
              "\n",
              "      const buffers = [];\n",
              "      let downloaded = 0;\n",
              "\n",
              "      const channel = await google.colab.kernel.comms.open(id);\n",
              "      // Send a message to notify the kernel that we're ready.\n",
              "      channel.send({})\n",
              "\n",
              "      for await (const message of channel.messages) {\n",
              "        // Send a message to notify the kernel that we're ready.\n",
              "        channel.send({})\n",
              "        if (message.buffers) {\n",
              "          for (const buffer of message.buffers) {\n",
              "            buffers.push(buffer);\n",
              "            downloaded += buffer.byteLength;\n",
              "            progress.value = downloaded;\n",
              "          }\n",
              "        }\n",
              "      }\n",
              "      const blob = new Blob(buffers, {type: 'application/binary'});\n",
              "      const a = document.createElement('a');\n",
              "      a.href = window.URL.createObjectURL(blob);\n",
              "      a.download = filename;\n",
              "      div.appendChild(a);\n",
              "      a.click();\n",
              "      div.remove();\n",
              "    }\n",
              "  "
            ]
          },
          "metadata": {}
        },
        {
          "output_type": "display_data",
          "data": {
            "text/plain": [
              "<IPython.core.display.Javascript object>"
            ],
            "application/javascript": [
              "download(\"download_ea87a76d-ce41-4146-a77d-b71c10b5abc3\", \"output_excel_glcm.xlsx\", 6060)"
            ]
          },
          "metadata": {}
        }
      ]
    },
    {
      "cell_type": "code",
      "source": [
        "df_glcm"
      ],
      "metadata": {
        "colab": {
          "base_uri": "https://localhost:8080/",
          "height": 237
        },
        "id": "_OeEsJhVFJvr",
        "outputId": "f15b1018-a5d0-44b4-a3aa-c025af069edd"
      },
      "execution_count": 17,
      "outputs": [
        {
          "output_type": "execute_result",
          "data": {
            "text/plain": [
              "     contrast  dissimilarity  homogeneity    energy  correlation       ASM  \\\n",
              "0  206.881439       6.102652     0.343446  0.034536     0.969564  0.001193   \n",
              "1  167.128838       7.898232     0.258750  0.030549     0.995489  0.000933   \n",
              "2  585.697929       9.518990     0.344960  0.032758     0.940465  0.001073   \n",
              "\n",
              "   contrast_r  dissimilarity_r  homogeneity_r  energy_r  ...  homogeneity_g  \\\n",
              "0  261.070606         7.099949       0.307393  0.034844  ...       0.338496   \n",
              "1  166.029394         7.874545       0.257509  0.029724  ...       0.257037   \n",
              "2  452.975859         8.677475       0.342636  0.033257  ...       0.343602   \n",
              "\n",
              "   energy_g  correlation_g     ASM_g  contrast_b  dissimilarity_b  \\\n",
              "0  0.035026       0.968492  0.001227  184.833510         5.682955   \n",
              "1  0.030699       0.995414  0.000942  162.046793         7.769015   \n",
              "2  0.032901       0.937854  0.001082  657.670530        10.013611   \n",
              "\n",
              "   homogeneity_b  energy_b  correlation_b     ASM_b  \n",
              "0       0.358269  0.032721       0.972300  0.001071  \n",
              "1       0.259415  0.030471       0.995662  0.000928  \n",
              "2       0.337010  0.031738       0.950131  0.001007  \n",
              "\n",
              "[3 rows x 24 columns]"
            ],
            "text/html": [
              "\n",
              "  <div id=\"df-80cacc06-3a05-4ae7-93d0-9174574ce6db\">\n",
              "    <div class=\"colab-df-container\">\n",
              "      <div>\n",
              "<style scoped>\n",
              "    .dataframe tbody tr th:only-of-type {\n",
              "        vertical-align: middle;\n",
              "    }\n",
              "\n",
              "    .dataframe tbody tr th {\n",
              "        vertical-align: top;\n",
              "    }\n",
              "\n",
              "    .dataframe thead th {\n",
              "        text-align: right;\n",
              "    }\n",
              "</style>\n",
              "<table border=\"1\" class=\"dataframe\">\n",
              "  <thead>\n",
              "    <tr style=\"text-align: right;\">\n",
              "      <th></th>\n",
              "      <th>contrast</th>\n",
              "      <th>dissimilarity</th>\n",
              "      <th>homogeneity</th>\n",
              "      <th>energy</th>\n",
              "      <th>correlation</th>\n",
              "      <th>ASM</th>\n",
              "      <th>contrast_r</th>\n",
              "      <th>dissimilarity_r</th>\n",
              "      <th>homogeneity_r</th>\n",
              "      <th>energy_r</th>\n",
              "      <th>...</th>\n",
              "      <th>homogeneity_g</th>\n",
              "      <th>energy_g</th>\n",
              "      <th>correlation_g</th>\n",
              "      <th>ASM_g</th>\n",
              "      <th>contrast_b</th>\n",
              "      <th>dissimilarity_b</th>\n",
              "      <th>homogeneity_b</th>\n",
              "      <th>energy_b</th>\n",
              "      <th>correlation_b</th>\n",
              "      <th>ASM_b</th>\n",
              "    </tr>\n",
              "  </thead>\n",
              "  <tbody>\n",
              "    <tr>\n",
              "      <th>0</th>\n",
              "      <td>206.881439</td>\n",
              "      <td>6.102652</td>\n",
              "      <td>0.343446</td>\n",
              "      <td>0.034536</td>\n",
              "      <td>0.969564</td>\n",
              "      <td>0.001193</td>\n",
              "      <td>261.070606</td>\n",
              "      <td>7.099949</td>\n",
              "      <td>0.307393</td>\n",
              "      <td>0.034844</td>\n",
              "      <td>...</td>\n",
              "      <td>0.338496</td>\n",
              "      <td>0.035026</td>\n",
              "      <td>0.968492</td>\n",
              "      <td>0.001227</td>\n",
              "      <td>184.833510</td>\n",
              "      <td>5.682955</td>\n",
              "      <td>0.358269</td>\n",
              "      <td>0.032721</td>\n",
              "      <td>0.972300</td>\n",
              "      <td>0.001071</td>\n",
              "    </tr>\n",
              "    <tr>\n",
              "      <th>1</th>\n",
              "      <td>167.128838</td>\n",
              "      <td>7.898232</td>\n",
              "      <td>0.258750</td>\n",
              "      <td>0.030549</td>\n",
              "      <td>0.995489</td>\n",
              "      <td>0.000933</td>\n",
              "      <td>166.029394</td>\n",
              "      <td>7.874545</td>\n",
              "      <td>0.257509</td>\n",
              "      <td>0.029724</td>\n",
              "      <td>...</td>\n",
              "      <td>0.257037</td>\n",
              "      <td>0.030699</td>\n",
              "      <td>0.995414</td>\n",
              "      <td>0.000942</td>\n",
              "      <td>162.046793</td>\n",
              "      <td>7.769015</td>\n",
              "      <td>0.259415</td>\n",
              "      <td>0.030471</td>\n",
              "      <td>0.995662</td>\n",
              "      <td>0.000928</td>\n",
              "    </tr>\n",
              "    <tr>\n",
              "      <th>2</th>\n",
              "      <td>585.697929</td>\n",
              "      <td>9.518990</td>\n",
              "      <td>0.344960</td>\n",
              "      <td>0.032758</td>\n",
              "      <td>0.940465</td>\n",
              "      <td>0.001073</td>\n",
              "      <td>452.975859</td>\n",
              "      <td>8.677475</td>\n",
              "      <td>0.342636</td>\n",
              "      <td>0.033257</td>\n",
              "      <td>...</td>\n",
              "      <td>0.343602</td>\n",
              "      <td>0.032901</td>\n",
              "      <td>0.937854</td>\n",
              "      <td>0.001082</td>\n",
              "      <td>657.670530</td>\n",
              "      <td>10.013611</td>\n",
              "      <td>0.337010</td>\n",
              "      <td>0.031738</td>\n",
              "      <td>0.950131</td>\n",
              "      <td>0.001007</td>\n",
              "    </tr>\n",
              "  </tbody>\n",
              "</table>\n",
              "<p>3 rows × 24 columns</p>\n",
              "</div>\n",
              "      <button class=\"colab-df-convert\" onclick=\"convertToInteractive('df-80cacc06-3a05-4ae7-93d0-9174574ce6db')\"\n",
              "              title=\"Convert this dataframe to an interactive table.\"\n",
              "              style=\"display:none;\">\n",
              "        \n",
              "  <svg xmlns=\"http://www.w3.org/2000/svg\" height=\"24px\"viewBox=\"0 0 24 24\"\n",
              "       width=\"24px\">\n",
              "    <path d=\"M0 0h24v24H0V0z\" fill=\"none\"/>\n",
              "    <path d=\"M18.56 5.44l.94 2.06.94-2.06 2.06-.94-2.06-.94-.94-2.06-.94 2.06-2.06.94zm-11 1L8.5 8.5l.94-2.06 2.06-.94-2.06-.94L8.5 2.5l-.94 2.06-2.06.94zm10 10l.94 2.06.94-2.06 2.06-.94-2.06-.94-.94-2.06-.94 2.06-2.06.94z\"/><path d=\"M17.41 7.96l-1.37-1.37c-.4-.4-.92-.59-1.43-.59-.52 0-1.04.2-1.43.59L10.3 9.45l-7.72 7.72c-.78.78-.78 2.05 0 2.83L4 21.41c.39.39.9.59 1.41.59.51 0 1.02-.2 1.41-.59l7.78-7.78 2.81-2.81c.8-.78.8-2.07 0-2.86zM5.41 20L4 18.59l7.72-7.72 1.47 1.35L5.41 20z\"/>\n",
              "  </svg>\n",
              "      </button>\n",
              "      \n",
              "  <style>\n",
              "    .colab-df-container {\n",
              "      display:flex;\n",
              "      flex-wrap:wrap;\n",
              "      gap: 12px;\n",
              "    }\n",
              "\n",
              "    .colab-df-convert {\n",
              "      background-color: #E8F0FE;\n",
              "      border: none;\n",
              "      border-radius: 50%;\n",
              "      cursor: pointer;\n",
              "      display: none;\n",
              "      fill: #1967D2;\n",
              "      height: 32px;\n",
              "      padding: 0 0 0 0;\n",
              "      width: 32px;\n",
              "    }\n",
              "\n",
              "    .colab-df-convert:hover {\n",
              "      background-color: #E2EBFA;\n",
              "      box-shadow: 0px 1px 2px rgba(60, 64, 67, 0.3), 0px 1px 3px 1px rgba(60, 64, 67, 0.15);\n",
              "      fill: #174EA6;\n",
              "    }\n",
              "\n",
              "    [theme=dark] .colab-df-convert {\n",
              "      background-color: #3B4455;\n",
              "      fill: #D2E3FC;\n",
              "    }\n",
              "\n",
              "    [theme=dark] .colab-df-convert:hover {\n",
              "      background-color: #434B5C;\n",
              "      box-shadow: 0px 1px 3px 1px rgba(0, 0, 0, 0.15);\n",
              "      filter: drop-shadow(0px 1px 2px rgba(0, 0, 0, 0.3));\n",
              "      fill: #FFFFFF;\n",
              "    }\n",
              "  </style>\n",
              "\n",
              "      <script>\n",
              "        const buttonEl =\n",
              "          document.querySelector('#df-80cacc06-3a05-4ae7-93d0-9174574ce6db button.colab-df-convert');\n",
              "        buttonEl.style.display =\n",
              "          google.colab.kernel.accessAllowed ? 'block' : 'none';\n",
              "\n",
              "        async function convertToInteractive(key) {\n",
              "          const element = document.querySelector('#df-80cacc06-3a05-4ae7-93d0-9174574ce6db');\n",
              "          const dataTable =\n",
              "            await google.colab.kernel.invokeFunction('convertToInteractive',\n",
              "                                                     [key], {});\n",
              "          if (!dataTable) return;\n",
              "\n",
              "          const docLinkHtml = 'Like what you see? Visit the ' +\n",
              "            '<a target=\"_blank\" href=https://colab.research.google.com/notebooks/data_table.ipynb>data table notebook</a>'\n",
              "            + ' to learn more about interactive tables.';\n",
              "          element.innerHTML = '';\n",
              "          dataTable['output_type'] = 'display_data';\n",
              "          await google.colab.output.renderOutput(dataTable, element);\n",
              "          const docLink = document.createElement('div');\n",
              "          docLink.innerHTML = docLinkHtml;\n",
              "          element.appendChild(docLink);\n",
              "        }\n",
              "      </script>\n",
              "    </div>\n",
              "  </div>\n",
              "  "
            ]
          },
          "metadata": {},
          "execution_count": 17
        }
      ]
    },
    {
      "cell_type": "code",
      "source": [],
      "metadata": {
        "id": "WI3y-CjxJXcH"
      },
      "execution_count": 17,
      "outputs": []
    },
    {
      "cell_type": "code",
      "source": [
        "# glrlm features\n",
        "\n",
        "glrlm_names =['SRE','LRE','GLU','RLU','RPC']\n",
        "\n",
        "app = GLRLM()\n",
        "\n",
        "def glrlm_features(img,Img_Size,model=app):\n",
        "  resized = cv2.resize(img, (Img_Size,Img_Size))\n",
        "  glrlm_get = model.get_features(resized, 8)\n",
        "  return glrlm_get.Features\n",
        "\n",
        "features =[]\n",
        "\n",
        "#for i in range(len(img_name)):\n",
        "for i in range(3):\n",
        "\n",
        "  glrlm_add = []\n",
        "  img = X[i]\n",
        "  glrlm_add = glrlm_features(img,Img_Size)\n",
        "  \n",
        "  img = cv2.imread(img_name[i])\n",
        "  \n",
        "  green_img = img[:,:,1]\n",
        "  glrlm_green = glrlm_features(green_img,Img_Size)\n",
        "\n",
        "  red_img = img[:,:,0]\n",
        "  glrlm_red = glrlm_features(red_img,Img_Size)\n",
        "\n",
        "  blue_img = img[:,:,2]\n",
        "  glrlm_blue = glrlm_features(blue_img,Img_Size)\n",
        "\n",
        "  total= [*glrlm_add, *glrlm_red, *glrlm_green, *glrlm_blue]\n",
        "\n",
        "  features.append(total)\n",
        "\n",
        "\n",
        "names = glrlm_names + new_names('_r',glrlm_names)\n",
        "names = names + new_names('_g',glrlm_names)\n",
        "names = names + new_names('_b',glrlm_names)\n",
        "\n",
        "df_glrlm = pd.DataFrame(features,columns=names)"
      ],
      "metadata": {
        "id": "q2z_9fVBCqmy"
      },
      "execution_count": 18,
      "outputs": []
    },
    {
      "cell_type": "code",
      "source": [
        "Arq = \"output_excel_glrlm.xlsx\"\n",
        "df_glrlm.to_excel(Arq)\n",
        "files.download(Arq)"
      ],
      "metadata": {
        "colab": {
          "base_uri": "https://localhost:8080/",
          "height": 17
        },
        "id": "ZI9XT_E9SOGJ",
        "outputId": "35bb6258-5aeb-4442-a363-8993911d0f7b"
      },
      "execution_count": 19,
      "outputs": [
        {
          "output_type": "display_data",
          "data": {
            "text/plain": [
              "<IPython.core.display.Javascript object>"
            ],
            "application/javascript": [
              "\n",
              "    async function download(id, filename, size) {\n",
              "      if (!google.colab.kernel.accessAllowed) {\n",
              "        return;\n",
              "      }\n",
              "      const div = document.createElement('div');\n",
              "      const label = document.createElement('label');\n",
              "      label.textContent = `Downloading \"${filename}\": `;\n",
              "      div.appendChild(label);\n",
              "      const progress = document.createElement('progress');\n",
              "      progress.max = size;\n",
              "      div.appendChild(progress);\n",
              "      document.body.appendChild(div);\n",
              "\n",
              "      const buffers = [];\n",
              "      let downloaded = 0;\n",
              "\n",
              "      const channel = await google.colab.kernel.comms.open(id);\n",
              "      // Send a message to notify the kernel that we're ready.\n",
              "      channel.send({})\n",
              "\n",
              "      for await (const message of channel.messages) {\n",
              "        // Send a message to notify the kernel that we're ready.\n",
              "        channel.send({})\n",
              "        if (message.buffers) {\n",
              "          for (const buffer of message.buffers) {\n",
              "            buffers.push(buffer);\n",
              "            downloaded += buffer.byteLength;\n",
              "            progress.value = downloaded;\n",
              "          }\n",
              "        }\n",
              "      }\n",
              "      const blob = new Blob(buffers, {type: 'application/binary'});\n",
              "      const a = document.createElement('a');\n",
              "      a.href = window.URL.createObjectURL(blob);\n",
              "      a.download = filename;\n",
              "      div.appendChild(a);\n",
              "      a.click();\n",
              "      div.remove();\n",
              "    }\n",
              "  "
            ]
          },
          "metadata": {}
        },
        {
          "output_type": "display_data",
          "data": {
            "text/plain": [
              "<IPython.core.display.Javascript object>"
            ],
            "application/javascript": [
              "download(\"download_2e183844-2ffb-4f2f-b6d3-13e039ec0864\", \"output_excel_glrlm.xlsx\", 5534)"
            ]
          },
          "metadata": {}
        }
      ]
    },
    {
      "cell_type": "code",
      "source": [
        "df_glrlm"
      ],
      "metadata": {
        "id": "OO0nflkMFnRO",
        "outputId": "50c0e4d9-0d1c-4809-f9ca-0caa027f53cb",
        "colab": {
          "base_uri": "https://localhost:8080/",
          "height": 207
        }
      },
      "execution_count": 20,
      "outputs": [
        {
          "output_type": "execute_result",
          "data": {
            "text/plain": [
              "     SRE       LRE       GLU       RLU     RPC  SRE_r     LRE_r     GLU_r  \\\n",
              "0  1.678  1382.729  2229.419  3459.465  12.303  1.667  1783.275  2506.805   \n",
              "1  1.716  1505.775  2396.657  3381.269  11.585  1.600  2308.858  3036.883   \n",
              "2  1.988  1203.374  2013.655  5126.984  13.664  1.952  1119.150  1983.664   \n",
              "\n",
              "      RLU_r   RPC_r  SRE_g     LRE_g     GLU_g     RLU_g   RPC_g  SRE_b  \\\n",
              "0  3029.011  10.953  1.664  2133.061  2827.918  2620.917   9.710  1.724   \n",
              "1  2347.299   9.187  1.686  1420.130  2325.112  3425.916  11.977  1.650   \n",
              "2  5068.666  13.890  1.999  1241.638  2027.638  5154.621  13.585  2.007   \n",
              "\n",
              "      LRE_b     GLU_b     RLU_b   RPC_b  \n",
              "0  1978.358  2770.329  2833.798   9.920  \n",
              "1  2158.067  2855.685  2610.714   9.742  \n",
              "2   746.900  1609.898  6605.360  17.062  "
            ],
            "text/html": [
              "\n",
              "  <div id=\"df-2d8b2a35-4dd2-404c-8807-2b81e33460d8\">\n",
              "    <div class=\"colab-df-container\">\n",
              "      <div>\n",
              "<style scoped>\n",
              "    .dataframe tbody tr th:only-of-type {\n",
              "        vertical-align: middle;\n",
              "    }\n",
              "\n",
              "    .dataframe tbody tr th {\n",
              "        vertical-align: top;\n",
              "    }\n",
              "\n",
              "    .dataframe thead th {\n",
              "        text-align: right;\n",
              "    }\n",
              "</style>\n",
              "<table border=\"1\" class=\"dataframe\">\n",
              "  <thead>\n",
              "    <tr style=\"text-align: right;\">\n",
              "      <th></th>\n",
              "      <th>SRE</th>\n",
              "      <th>LRE</th>\n",
              "      <th>GLU</th>\n",
              "      <th>RLU</th>\n",
              "      <th>RPC</th>\n",
              "      <th>SRE_r</th>\n",
              "      <th>LRE_r</th>\n",
              "      <th>GLU_r</th>\n",
              "      <th>RLU_r</th>\n",
              "      <th>RPC_r</th>\n",
              "      <th>SRE_g</th>\n",
              "      <th>LRE_g</th>\n",
              "      <th>GLU_g</th>\n",
              "      <th>RLU_g</th>\n",
              "      <th>RPC_g</th>\n",
              "      <th>SRE_b</th>\n",
              "      <th>LRE_b</th>\n",
              "      <th>GLU_b</th>\n",
              "      <th>RLU_b</th>\n",
              "      <th>RPC_b</th>\n",
              "    </tr>\n",
              "  </thead>\n",
              "  <tbody>\n",
              "    <tr>\n",
              "      <th>0</th>\n",
              "      <td>1.678</td>\n",
              "      <td>1382.729</td>\n",
              "      <td>2229.419</td>\n",
              "      <td>3459.465</td>\n",
              "      <td>12.303</td>\n",
              "      <td>1.667</td>\n",
              "      <td>1783.275</td>\n",
              "      <td>2506.805</td>\n",
              "      <td>3029.011</td>\n",
              "      <td>10.953</td>\n",
              "      <td>1.664</td>\n",
              "      <td>2133.061</td>\n",
              "      <td>2827.918</td>\n",
              "      <td>2620.917</td>\n",
              "      <td>9.710</td>\n",
              "      <td>1.724</td>\n",
              "      <td>1978.358</td>\n",
              "      <td>2770.329</td>\n",
              "      <td>2833.798</td>\n",
              "      <td>9.920</td>\n",
              "    </tr>\n",
              "    <tr>\n",
              "      <th>1</th>\n",
              "      <td>1.716</td>\n",
              "      <td>1505.775</td>\n",
              "      <td>2396.657</td>\n",
              "      <td>3381.269</td>\n",
              "      <td>11.585</td>\n",
              "      <td>1.600</td>\n",
              "      <td>2308.858</td>\n",
              "      <td>3036.883</td>\n",
              "      <td>2347.299</td>\n",
              "      <td>9.187</td>\n",
              "      <td>1.686</td>\n",
              "      <td>1420.130</td>\n",
              "      <td>2325.112</td>\n",
              "      <td>3425.916</td>\n",
              "      <td>11.977</td>\n",
              "      <td>1.650</td>\n",
              "      <td>2158.067</td>\n",
              "      <td>2855.685</td>\n",
              "      <td>2610.714</td>\n",
              "      <td>9.742</td>\n",
              "    </tr>\n",
              "    <tr>\n",
              "      <th>2</th>\n",
              "      <td>1.988</td>\n",
              "      <td>1203.374</td>\n",
              "      <td>2013.655</td>\n",
              "      <td>5126.984</td>\n",
              "      <td>13.664</td>\n",
              "      <td>1.952</td>\n",
              "      <td>1119.150</td>\n",
              "      <td>1983.664</td>\n",
              "      <td>5068.666</td>\n",
              "      <td>13.890</td>\n",
              "      <td>1.999</td>\n",
              "      <td>1241.638</td>\n",
              "      <td>2027.638</td>\n",
              "      <td>5154.621</td>\n",
              "      <td>13.585</td>\n",
              "      <td>2.007</td>\n",
              "      <td>746.900</td>\n",
              "      <td>1609.898</td>\n",
              "      <td>6605.360</td>\n",
              "      <td>17.062</td>\n",
              "    </tr>\n",
              "  </tbody>\n",
              "</table>\n",
              "</div>\n",
              "      <button class=\"colab-df-convert\" onclick=\"convertToInteractive('df-2d8b2a35-4dd2-404c-8807-2b81e33460d8')\"\n",
              "              title=\"Convert this dataframe to an interactive table.\"\n",
              "              style=\"display:none;\">\n",
              "        \n",
              "  <svg xmlns=\"http://www.w3.org/2000/svg\" height=\"24px\"viewBox=\"0 0 24 24\"\n",
              "       width=\"24px\">\n",
              "    <path d=\"M0 0h24v24H0V0z\" fill=\"none\"/>\n",
              "    <path d=\"M18.56 5.44l.94 2.06.94-2.06 2.06-.94-2.06-.94-.94-2.06-.94 2.06-2.06.94zm-11 1L8.5 8.5l.94-2.06 2.06-.94-2.06-.94L8.5 2.5l-.94 2.06-2.06.94zm10 10l.94 2.06.94-2.06 2.06-.94-2.06-.94-.94-2.06-.94 2.06-2.06.94z\"/><path d=\"M17.41 7.96l-1.37-1.37c-.4-.4-.92-.59-1.43-.59-.52 0-1.04.2-1.43.59L10.3 9.45l-7.72 7.72c-.78.78-.78 2.05 0 2.83L4 21.41c.39.39.9.59 1.41.59.51 0 1.02-.2 1.41-.59l7.78-7.78 2.81-2.81c.8-.78.8-2.07 0-2.86zM5.41 20L4 18.59l7.72-7.72 1.47 1.35L5.41 20z\"/>\n",
              "  </svg>\n",
              "      </button>\n",
              "      \n",
              "  <style>\n",
              "    .colab-df-container {\n",
              "      display:flex;\n",
              "      flex-wrap:wrap;\n",
              "      gap: 12px;\n",
              "    }\n",
              "\n",
              "    .colab-df-convert {\n",
              "      background-color: #E8F0FE;\n",
              "      border: none;\n",
              "      border-radius: 50%;\n",
              "      cursor: pointer;\n",
              "      display: none;\n",
              "      fill: #1967D2;\n",
              "      height: 32px;\n",
              "      padding: 0 0 0 0;\n",
              "      width: 32px;\n",
              "    }\n",
              "\n",
              "    .colab-df-convert:hover {\n",
              "      background-color: #E2EBFA;\n",
              "      box-shadow: 0px 1px 2px rgba(60, 64, 67, 0.3), 0px 1px 3px 1px rgba(60, 64, 67, 0.15);\n",
              "      fill: #174EA6;\n",
              "    }\n",
              "\n",
              "    [theme=dark] .colab-df-convert {\n",
              "      background-color: #3B4455;\n",
              "      fill: #D2E3FC;\n",
              "    }\n",
              "\n",
              "    [theme=dark] .colab-df-convert:hover {\n",
              "      background-color: #434B5C;\n",
              "      box-shadow: 0px 1px 3px 1px rgba(0, 0, 0, 0.15);\n",
              "      filter: drop-shadow(0px 1px 2px rgba(0, 0, 0, 0.3));\n",
              "      fill: #FFFFFF;\n",
              "    }\n",
              "  </style>\n",
              "\n",
              "      <script>\n",
              "        const buttonEl =\n",
              "          document.querySelector('#df-2d8b2a35-4dd2-404c-8807-2b81e33460d8 button.colab-df-convert');\n",
              "        buttonEl.style.display =\n",
              "          google.colab.kernel.accessAllowed ? 'block' : 'none';\n",
              "\n",
              "        async function convertToInteractive(key) {\n",
              "          const element = document.querySelector('#df-2d8b2a35-4dd2-404c-8807-2b81e33460d8');\n",
              "          const dataTable =\n",
              "            await google.colab.kernel.invokeFunction('convertToInteractive',\n",
              "                                                     [key], {});\n",
              "          if (!dataTable) return;\n",
              "\n",
              "          const docLinkHtml = 'Like what you see? Visit the ' +\n",
              "            '<a target=\"_blank\" href=https://colab.research.google.com/notebooks/data_table.ipynb>data table notebook</a>'\n",
              "            + ' to learn more about interactive tables.';\n",
              "          element.innerHTML = '';\n",
              "          dataTable['output_type'] = 'display_data';\n",
              "          await google.colab.output.renderOutput(dataTable, element);\n",
              "          const docLink = document.createElement('div');\n",
              "          docLink.innerHTML = docLinkHtml;\n",
              "          element.appendChild(docLink);\n",
              "        }\n",
              "      </script>\n",
              "    </div>\n",
              "  </div>\n",
              "  "
            ]
          },
          "metadata": {},
          "execution_count": 20
        }
      ]
    },
    {
      "cell_type": "code",
      "source": [
        "# Local Binary Patterns features\n",
        "# check https://mahotas.readthedocs.io/en/release-1.0/lbp.html\n",
        "\n",
        "def properties_LBP(img,Img_Size):\n",
        "  lbp_features =[]\n",
        " \n",
        "  # adding gaussian filter\n",
        "  img = mahotas.gaussian_filter(img, 4)\n",
        "  \n",
        "  # setting threshold\n",
        "  threshed = (img > img.mean())\n",
        "  \n",
        "  # making is labelled image\n",
        "  labeled, n = mahotas.label(threshed)\n",
        "  \n",
        "  resp = mahotas.features.lbp(labeled,200, 5)\n",
        "  \n",
        "  return resp\n",
        "\n",
        "\n",
        "features =[]\n",
        "\n",
        "#for i in range(len(img_name)):\n",
        "for i in range(3):\n",
        "  glcm = []\n",
        "  glrlm_add = []\n",
        "  img = X[i]\n",
        "  LBP = properties_LBP(img,Img_Size)\n",
        "  \n",
        "  img = cv2.imread(img_name[i])\n",
        "  \n",
        "  green_img = img[:,:,1]\n",
        "  values_green = properties_LBP(green_img,Img_Size)\n",
        "\n",
        "  red_img = img[:,:,0]\n",
        "  values_red = properties_LBP(red_img,Img_Size)\n",
        "\n",
        "\n",
        "  blue_img = img[:,:,2]\n",
        "  values_blue = properties_LBP(blue_img,Img_Size)\n",
        "\n",
        "\n",
        "  total= [*LBP,*values_red, *values_green, *values_blue]\n",
        "\n",
        "  features.append(total)\n",
        "\n",
        "names = glcm_names + new_names('_r',glcm_names)\n",
        "names = names + new_names('_g',glcm_names)\n",
        "names = names + new_names('_b',glcm_names)\n",
        "\n",
        "#df_glcm = pd.DataFrame(features,columns=names)\n",
        "df_LBP = pd.DataFrame(features)\n",
        "df_LBP.shape"
      ],
      "metadata": {
        "id": "fD2LvRqEJeUb",
        "colab": {
          "base_uri": "https://localhost:8080/"
        },
        "outputId": "0662d6a2-0b70-48d0-c417-0da68e560b9b"
      },
      "execution_count": 24,
      "outputs": [
        {
          "output_type": "execute_result",
          "data": {
            "text/plain": [
              "(3, 32)"
            ]
          },
          "metadata": {},
          "execution_count": 24
        }
      ]
    },
    {
      "cell_type": "code",
      "source": [
        "Arq = \"output_excel_LBP.xlsx\"\n",
        "df_LBP.to_excel(Arq)\n",
        "files.download(Arq)"
      ],
      "metadata": {
        "id": "2fp40r52ntnc",
        "colab": {
          "base_uri": "https://localhost:8080/",
          "height": 17
        },
        "outputId": "f1a4a86d-6600-4bce-cb07-b76f01ebb6c1"
      },
      "execution_count": 25,
      "outputs": [
        {
          "output_type": "display_data",
          "data": {
            "text/plain": [
              "<IPython.core.display.Javascript object>"
            ],
            "application/javascript": [
              "\n",
              "    async function download(id, filename, size) {\n",
              "      if (!google.colab.kernel.accessAllowed) {\n",
              "        return;\n",
              "      }\n",
              "      const div = document.createElement('div');\n",
              "      const label = document.createElement('label');\n",
              "      label.textContent = `Downloading \"${filename}\": `;\n",
              "      div.appendChild(label);\n",
              "      const progress = document.createElement('progress');\n",
              "      progress.max = size;\n",
              "      div.appendChild(progress);\n",
              "      document.body.appendChild(div);\n",
              "\n",
              "      const buffers = [];\n",
              "      let downloaded = 0;\n",
              "\n",
              "      const channel = await google.colab.kernel.comms.open(id);\n",
              "      // Send a message to notify the kernel that we're ready.\n",
              "      channel.send({})\n",
              "\n",
              "      for await (const message of channel.messages) {\n",
              "        // Send a message to notify the kernel that we're ready.\n",
              "        channel.send({})\n",
              "        if (message.buffers) {\n",
              "          for (const buffer of message.buffers) {\n",
              "            buffers.push(buffer);\n",
              "            downloaded += buffer.byteLength;\n",
              "            progress.value = downloaded;\n",
              "          }\n",
              "        }\n",
              "      }\n",
              "      const blob = new Blob(buffers, {type: 'application/binary'});\n",
              "      const a = document.createElement('a');\n",
              "      a.href = window.URL.createObjectURL(blob);\n",
              "      a.download = filename;\n",
              "      div.appendChild(a);\n",
              "      a.click();\n",
              "      div.remove();\n",
              "    }\n",
              "  "
            ]
          },
          "metadata": {}
        },
        {
          "output_type": "display_data",
          "data": {
            "text/plain": [
              "<IPython.core.display.Javascript object>"
            ],
            "application/javascript": [
              "download(\"download_a4ff4ad0-ac87-4bc3-9819-0ca4048355cd\", \"output_excel_LBP.xlsx\", 5566)"
            ]
          },
          "metadata": {}
        }
      ]
    },
    {
      "cell_type": "code",
      "source": [
        "df_LBP"
      ],
      "metadata": {
        "colab": {
          "base_uri": "https://localhost:8080/",
          "height": 173
        },
        "id": "eqCFLXuepVFi",
        "outputId": "ff5e6213-f535-498c-bcde-226b39868e97"
      },
      "execution_count": 26,
      "outputs": [
        {
          "output_type": "execute_result",
          "data": {
            "text/plain": [
              "         0        1        2      3       4    5    6    7         8   \\\n",
              "0   98507.0  72820.0  20929.0    0.0  4352.0  0.0  0.0  0.0   98715.0   \n",
              "1  112047.0  49528.0  35033.0    0.0     0.0  0.0  0.0  0.0  110941.0   \n",
              "2  128064.0  35953.0  27690.0  781.0  4120.0  0.0  0.0  0.0  122667.0   \n",
              "\n",
              "        9   ...   22   23        24       25       26     27      28   29  \\\n",
              "0  73261.0  ...  0.0  0.0  110805.0  60474.0  20202.0    0.0  5127.0  0.0   \n",
              "1  51552.0  ...  0.0  0.0  111847.0  49488.0  35267.0    0.0     6.0  0.0   \n",
              "2  42130.0  ...  0.0  0.0  130756.0  32819.0  28654.0  834.0  3545.0  0.0   \n",
              "\n",
              "    30   31  \n",
              "0  0.0  0.0  \n",
              "1  0.0  0.0  \n",
              "2  0.0  0.0  \n",
              "\n",
              "[3 rows x 32 columns]"
            ],
            "text/html": [
              "\n",
              "  <div id=\"df-df34dca2-0f42-4cf5-aedf-57e83b0577a0\">\n",
              "    <div class=\"colab-df-container\">\n",
              "      <div>\n",
              "<style scoped>\n",
              "    .dataframe tbody tr th:only-of-type {\n",
              "        vertical-align: middle;\n",
              "    }\n",
              "\n",
              "    .dataframe tbody tr th {\n",
              "        vertical-align: top;\n",
              "    }\n",
              "\n",
              "    .dataframe thead th {\n",
              "        text-align: right;\n",
              "    }\n",
              "</style>\n",
              "<table border=\"1\" class=\"dataframe\">\n",
              "  <thead>\n",
              "    <tr style=\"text-align: right;\">\n",
              "      <th></th>\n",
              "      <th>0</th>\n",
              "      <th>1</th>\n",
              "      <th>2</th>\n",
              "      <th>3</th>\n",
              "      <th>4</th>\n",
              "      <th>5</th>\n",
              "      <th>6</th>\n",
              "      <th>7</th>\n",
              "      <th>8</th>\n",
              "      <th>9</th>\n",
              "      <th>...</th>\n",
              "      <th>22</th>\n",
              "      <th>23</th>\n",
              "      <th>24</th>\n",
              "      <th>25</th>\n",
              "      <th>26</th>\n",
              "      <th>27</th>\n",
              "      <th>28</th>\n",
              "      <th>29</th>\n",
              "      <th>30</th>\n",
              "      <th>31</th>\n",
              "    </tr>\n",
              "  </thead>\n",
              "  <tbody>\n",
              "    <tr>\n",
              "      <th>0</th>\n",
              "      <td>98507.0</td>\n",
              "      <td>72820.0</td>\n",
              "      <td>20929.0</td>\n",
              "      <td>0.0</td>\n",
              "      <td>4352.0</td>\n",
              "      <td>0.0</td>\n",
              "      <td>0.0</td>\n",
              "      <td>0.0</td>\n",
              "      <td>98715.0</td>\n",
              "      <td>73261.0</td>\n",
              "      <td>...</td>\n",
              "      <td>0.0</td>\n",
              "      <td>0.0</td>\n",
              "      <td>110805.0</td>\n",
              "      <td>60474.0</td>\n",
              "      <td>20202.0</td>\n",
              "      <td>0.0</td>\n",
              "      <td>5127.0</td>\n",
              "      <td>0.0</td>\n",
              "      <td>0.0</td>\n",
              "      <td>0.0</td>\n",
              "    </tr>\n",
              "    <tr>\n",
              "      <th>1</th>\n",
              "      <td>112047.0</td>\n",
              "      <td>49528.0</td>\n",
              "      <td>35033.0</td>\n",
              "      <td>0.0</td>\n",
              "      <td>0.0</td>\n",
              "      <td>0.0</td>\n",
              "      <td>0.0</td>\n",
              "      <td>0.0</td>\n",
              "      <td>110941.0</td>\n",
              "      <td>51552.0</td>\n",
              "      <td>...</td>\n",
              "      <td>0.0</td>\n",
              "      <td>0.0</td>\n",
              "      <td>111847.0</td>\n",
              "      <td>49488.0</td>\n",
              "      <td>35267.0</td>\n",
              "      <td>0.0</td>\n",
              "      <td>6.0</td>\n",
              "      <td>0.0</td>\n",
              "      <td>0.0</td>\n",
              "      <td>0.0</td>\n",
              "    </tr>\n",
              "    <tr>\n",
              "      <th>2</th>\n",
              "      <td>128064.0</td>\n",
              "      <td>35953.0</td>\n",
              "      <td>27690.0</td>\n",
              "      <td>781.0</td>\n",
              "      <td>4120.0</td>\n",
              "      <td>0.0</td>\n",
              "      <td>0.0</td>\n",
              "      <td>0.0</td>\n",
              "      <td>122667.0</td>\n",
              "      <td>42130.0</td>\n",
              "      <td>...</td>\n",
              "      <td>0.0</td>\n",
              "      <td>0.0</td>\n",
              "      <td>130756.0</td>\n",
              "      <td>32819.0</td>\n",
              "      <td>28654.0</td>\n",
              "      <td>834.0</td>\n",
              "      <td>3545.0</td>\n",
              "      <td>0.0</td>\n",
              "      <td>0.0</td>\n",
              "      <td>0.0</td>\n",
              "    </tr>\n",
              "  </tbody>\n",
              "</table>\n",
              "<p>3 rows × 32 columns</p>\n",
              "</div>\n",
              "      <button class=\"colab-df-convert\" onclick=\"convertToInteractive('df-df34dca2-0f42-4cf5-aedf-57e83b0577a0')\"\n",
              "              title=\"Convert this dataframe to an interactive table.\"\n",
              "              style=\"display:none;\">\n",
              "        \n",
              "  <svg xmlns=\"http://www.w3.org/2000/svg\" height=\"24px\"viewBox=\"0 0 24 24\"\n",
              "       width=\"24px\">\n",
              "    <path d=\"M0 0h24v24H0V0z\" fill=\"none\"/>\n",
              "    <path d=\"M18.56 5.44l.94 2.06.94-2.06 2.06-.94-2.06-.94-.94-2.06-.94 2.06-2.06.94zm-11 1L8.5 8.5l.94-2.06 2.06-.94-2.06-.94L8.5 2.5l-.94 2.06-2.06.94zm10 10l.94 2.06.94-2.06 2.06-.94-2.06-.94-.94-2.06-.94 2.06-2.06.94z\"/><path d=\"M17.41 7.96l-1.37-1.37c-.4-.4-.92-.59-1.43-.59-.52 0-1.04.2-1.43.59L10.3 9.45l-7.72 7.72c-.78.78-.78 2.05 0 2.83L4 21.41c.39.39.9.59 1.41.59.51 0 1.02-.2 1.41-.59l7.78-7.78 2.81-2.81c.8-.78.8-2.07 0-2.86zM5.41 20L4 18.59l7.72-7.72 1.47 1.35L5.41 20z\"/>\n",
              "  </svg>\n",
              "      </button>\n",
              "      \n",
              "  <style>\n",
              "    .colab-df-container {\n",
              "      display:flex;\n",
              "      flex-wrap:wrap;\n",
              "      gap: 12px;\n",
              "    }\n",
              "\n",
              "    .colab-df-convert {\n",
              "      background-color: #E8F0FE;\n",
              "      border: none;\n",
              "      border-radius: 50%;\n",
              "      cursor: pointer;\n",
              "      display: none;\n",
              "      fill: #1967D2;\n",
              "      height: 32px;\n",
              "      padding: 0 0 0 0;\n",
              "      width: 32px;\n",
              "    }\n",
              "\n",
              "    .colab-df-convert:hover {\n",
              "      background-color: #E2EBFA;\n",
              "      box-shadow: 0px 1px 2px rgba(60, 64, 67, 0.3), 0px 1px 3px 1px rgba(60, 64, 67, 0.15);\n",
              "      fill: #174EA6;\n",
              "    }\n",
              "\n",
              "    [theme=dark] .colab-df-convert {\n",
              "      background-color: #3B4455;\n",
              "      fill: #D2E3FC;\n",
              "    }\n",
              "\n",
              "    [theme=dark] .colab-df-convert:hover {\n",
              "      background-color: #434B5C;\n",
              "      box-shadow: 0px 1px 3px 1px rgba(0, 0, 0, 0.15);\n",
              "      filter: drop-shadow(0px 1px 2px rgba(0, 0, 0, 0.3));\n",
              "      fill: #FFFFFF;\n",
              "    }\n",
              "  </style>\n",
              "\n",
              "      <script>\n",
              "        const buttonEl =\n",
              "          document.querySelector('#df-df34dca2-0f42-4cf5-aedf-57e83b0577a0 button.colab-df-convert');\n",
              "        buttonEl.style.display =\n",
              "          google.colab.kernel.accessAllowed ? 'block' : 'none';\n",
              "\n",
              "        async function convertToInteractive(key) {\n",
              "          const element = document.querySelector('#df-df34dca2-0f42-4cf5-aedf-57e83b0577a0');\n",
              "          const dataTable =\n",
              "            await google.colab.kernel.invokeFunction('convertToInteractive',\n",
              "                                                     [key], {});\n",
              "          if (!dataTable) return;\n",
              "\n",
              "          const docLinkHtml = 'Like what you see? Visit the ' +\n",
              "            '<a target=\"_blank\" href=https://colab.research.google.com/notebooks/data_table.ipynb>data table notebook</a>'\n",
              "            + ' to learn more about interactive tables.';\n",
              "          element.innerHTML = '';\n",
              "          dataTable['output_type'] = 'display_data';\n",
              "          await google.colab.output.renderOutput(dataTable, element);\n",
              "          const docLink = document.createElement('div');\n",
              "          docLink.innerHTML = docLinkHtml;\n",
              "          element.appendChild(docLink);\n",
              "        }\n",
              "      </script>\n",
              "    </div>\n",
              "  </div>\n",
              "  "
            ]
          },
          "metadata": {},
          "execution_count": 26
        }
      ]
    }
  ]
}