{
  "nbformat": 4,
  "nbformat_minor": 0,
  "metadata": {
    "colab": {
      "provenance": [],
      "authorship_tag": "ABX9TyOm5PWI2BgYUHYChriDoQxi",
      "include_colab_link": true
    },
    "kernelspec": {
      "name": "python3",
      "display_name": "Python 3"
    },
    "language_info": {
      "name": "python"
    }
  },
  "cells": [
    {
      "cell_type": "markdown",
      "metadata": {
        "id": "view-in-github",
        "colab_type": "text"
      },
      "source": [
        "<a href=\"https://colab.research.google.com/github/ucfilho/ANN/blob/master/ANN_2022/Image_05/class_005_feature_extraction_image_001.ipynb\" target=\"_parent\"><img src=\"https://colab.research.google.com/assets/colab-badge.svg\" alt=\"Open In Colab\"/></a>"
      ]
    },
    {
      "cell_type": "code",
      "source": [
        "import cv2\n",
        "import numpy as np\n",
        "import pandas as pd\n",
        "import random\n",
        "import zipfile\n",
        "from matplotlib import pyplot as plt\n",
        "import skimage.feature\n",
        "from string import digits\n",
        "import seaborn as sns\n",
        "import skimage"
      ],
      "metadata": {
        "id": "7wNxYQBaKVJQ"
      },
      "execution_count": 1,
      "outputs": []
    },
    {
      "cell_type": "code",
      "source": [
        "from sklearn.neural_network import MLPClassifier\n",
        "from sklearn.model_selection import train_test_split\n",
        "from sklearn.preprocessing import StandardScaler\n",
        "from sklearn.metrics import classification_report, confusion_matrix"
      ],
      "metadata": {
        "id": "JNNoeVHgb9WL"
      },
      "execution_count": 2,
      "outputs": []
    },
    {
      "cell_type": "code",
      "source": [
        "try:\n",
        "  import glrlm\n",
        "except:\n",
        "  !pip install pip glrlm"
      ],
      "metadata": {
        "id": "CkYrCN8U0kfn"
      },
      "execution_count": 3,
      "outputs": []
    },
    {
      "cell_type": "code",
      "source": [
        "import glrlm\n",
        "from glrlm import GLRLM"
      ],
      "metadata": {
        "id": "bbDrusdn3RNj"
      },
      "execution_count": 4,
      "outputs": []
    },
    {
      "cell_type": "code",
      "source": [
        "# check https://pypi.org/project/glrlm/"
      ],
      "metadata": {
        "id": "2lxHMTXW3wgE"
      },
      "execution_count": 5,
      "outputs": []
    },
    {
      "cell_type": "code",
      "source": [
        "!gdown 1L4mdCDBgybKqr5Wo-kqT8HXcBJ9HXqSX"
      ],
      "metadata": {
        "colab": {
          "base_uri": "https://localhost:8080/"
        },
        "id": "Ea3bxyjq-kcq",
        "outputId": "6bdac395-24e0-4ca1-b95b-01c7480f9728"
      },
      "execution_count": 6,
      "outputs": [
        {
          "output_type": "stream",
          "name": "stdout",
          "text": [
            "Downloading...\n",
            "From: https://drive.google.com/uc?id=1L4mdCDBgybKqr5Wo-kqT8HXcBJ9HXqSX\n",
            "To: /content/trash_nov_22_2018.zip\n",
            "\r  0% 0.00/42.8M [00:00<?, ?B/s]\r 75% 32.0M/42.8M [00:00<00:00, 315MB/s]\r100% 42.8M/42.8M [00:00<00:00, 318MB/s]\n"
          ]
        }
      ]
    },
    {
      "cell_type": "code",
      "source": [
        "FILE='trash_nov_22_2018.zip'"
      ],
      "metadata": {
        "id": "oyLilZ2l-loH"
      },
      "execution_count": 7,
      "outputs": []
    },
    {
      "cell_type": "code",
      "source": [
        "archive = zipfile.ZipFile('trash_nov_22_2018.zip', 'r')\n",
        "archive.extractall()"
      ],
      "metadata": {
        "id": "XwXGEOlF_K1c"
      },
      "execution_count": 8,
      "outputs": []
    },
    {
      "cell_type": "code",
      "source": [
        "img_name=[]\n",
        "with zipfile.ZipFile(FILE, \"r\") as f:\n",
        "    for name in f.namelist():\n",
        "        img_name.append(name)"
      ],
      "metadata": {
        "id": "cs5xKcmpAgOA"
      },
      "execution_count": 9,
      "outputs": []
    },
    {
      "cell_type": "code",
      "source": [
        "Img_Size = 200\n",
        "ref = 'jpg'\n",
        "notref = 'met'"
      ],
      "metadata": {
        "id": "PVPFW06o_kw8"
      },
      "execution_count": 10,
      "outputs": []
    },
    {
      "cell_type": "code",
      "source": [],
      "metadata": {
        "id": "cSAL_fkQ0dDo"
      },
      "execution_count": 10,
      "outputs": []
    },
    {
      "cell_type": "code",
      "source": [],
      "metadata": {
        "id": "GbuY8yBh0d9w"
      },
      "execution_count": 10,
      "outputs": []
    },
    {
      "cell_type": "code",
      "source": [
        "X= []  \n",
        "Y =[]\n",
        "n = len(img_name)\n",
        "i = 0\n",
        "for i in range(n):\n",
        "  name = img_name[i]\n",
        "  if(ref in name):\n",
        "    Y.append(name)\n",
        "    X.append(cv2.imread(name,0))\n",
        "m = len(Y)\n",
        "print(n,m)"
      ],
      "metadata": {
        "id": "lAOB3uC3JG2V",
        "colab": {
          "base_uri": "https://localhost:8080/"
        },
        "outputId": "518a929e-ecda-48a1-f84f-b36930361e49"
      },
      "execution_count": 11,
      "outputs": [
        {
          "output_type": "stream",
          "name": "stdout",
          "text": [
            "2527 2527\n"
          ]
        }
      ]
    },
    {
      "cell_type": "code",
      "source": [
        "app = GLRLM()\n",
        "img = X[0]\n",
        "glrlm = app.get_features(img, 8)"
      ],
      "metadata": {
        "id": "9lIsrSTn3oCe"
      },
      "execution_count": 12,
      "outputs": []
    },
    {
      "cell_type": "code",
      "source": [
        "glrlm.Features"
      ],
      "metadata": {
        "colab": {
          "base_uri": "https://localhost:8080/"
        },
        "id": "1bIGESEo4PId",
        "outputId": "268d2b5c-a5cd-4780-edc4-a932f4b93aec"
      },
      "execution_count": 13,
      "outputs": [
        {
          "output_type": "execute_result",
          "data": {
            "text/plain": [
              "[1.263, 3951.709, 11334.174, 7848.195, 15.972]"
            ]
          },
          "metadata": {},
          "execution_count": 13
        }
      ]
    },
    {
      "cell_type": "code",
      "source": [
        "glrlm_names =['SRE','LRE','GLU','RLU','RPC']"
      ],
      "metadata": {
        "id": "uo7_jntw-5bF"
      },
      "execution_count": 14,
      "outputs": []
    },
    {
      "cell_type": "code",
      "source": [
        "'''\n",
        "SRE = Short Run Emphasis\n",
        "LRE = Long Run Emphasis\n",
        "GLU = Grey Level Uniformity\n",
        "RLU = Run Length Uniformity\n",
        "RPC = Run Percentage\n",
        "'''"
      ],
      "metadata": {
        "colab": {
          "base_uri": "https://localhost:8080/",
          "height": 35
        },
        "id": "fRs4b-7359ec",
        "outputId": "d22c3485-9d93-47da-b857-a23bd7b8523c"
      },
      "execution_count": 15,
      "outputs": [
        {
          "output_type": "execute_result",
          "data": {
            "text/plain": [
              "'\\nSRE = Short Run Emphasis\\nLRE = Long Run Emphasis\\nGLU = Grey Level Uniformity\\nRLU = Run Length Uniformity\\nRPC = Run Percentage\\n'"
            ],
            "application/vnd.google.colaboratory.intrinsic+json": {
              "type": "string"
            }
          },
          "metadata": {},
          "execution_count": 15
        }
      ]
    },
    {
      "cell_type": "code",
      "source": [
        "app = GLRLM()\n",
        "\n",
        "def glrlm_features(img,Img_Size,model=app):\n",
        "  resized = cv2.resize(img, (Img_Size,Img_Size))\n",
        "  glrlm_get = model.get_features(resized, 8)\n",
        "  return glrlm_get.Features"
      ],
      "metadata": {
        "id": "HEaEMLCz3oPa"
      },
      "execution_count": 16,
      "outputs": []
    },
    {
      "cell_type": "code",
      "source": [
        "def properties(glcm_names,img,Img_Size):\n",
        "  glcm =[]\n",
        "  resized = cv2.resize(img, (Img_Size,Img_Size))\n",
        "  m = skimage.exposure.rescale_intensity(resized, in_range='image', out_range='dtype')\n",
        "  g = skimage.feature.greycomatrix(m, [1, 2], [0, np.pi/2], levels=256,normed=True, symmetric=True)\n",
        "  for x in glcm_names:\n",
        "    prop = skimage.feature.greycoprops(g, x)\n",
        "    glcm.append(np.max(prop))\n",
        "  \n",
        "  return glcm\n",
        "\n",
        "glcm_names =['contrast', 'dissimilarity', 'homogeneity', 'energy', 'correlation', 'ASM']\n",
        "\n",
        "# see https://github.com/ucfilho/ANN/blob/master/ANN_2022/Image/class_001_image_processing_smart_trash_bin_012.ipynb\n",
        "features =[]\n",
        "# for i in range(len(img_name)):\n",
        "for i in range(len(img_name)):\n",
        "  glcm = []\n",
        "  glrlm_add = []\n",
        "  img = X[i]\n",
        "  glcm = properties(glcm_names,img,Img_Size)\n",
        "  glrlm_add = glrlm_features(img,Img_Size)\n",
        "  \n",
        "  img = cv2.imread(img_name[i])\n",
        "  \n",
        "  green_img = img[:,:,1]\n",
        "  values_green = properties(glcm_names,green_img,Img_Size)\n",
        "  glrlm_green = glrlm_features(green_img,Img_Size)\n",
        "\n",
        "  red_img = img[:,:,0]\n",
        "  values_red = properties(glcm_names,red_img,Img_Size)\n",
        "  glrlm_red = glrlm_features(red_img,Img_Size)\n",
        "\n",
        "  blue_img = img[:,:,2]\n",
        "  values_blue = properties(glcm_names,blue_img,Img_Size)\n",
        "  glrlm_blue = glrlm_features(blue_img,Img_Size)\n",
        "\n",
        "  total= [*glcm,*values_red, *values_green, *values_blue, *glrlm_add, *glrlm_red, *glrlm_green, *glrlm_blue]\n",
        "\n",
        "  features.append(total)\n",
        "\n"
      ],
      "metadata": {
        "id": "igUJDyJlD6tc"
      },
      "execution_count": null,
      "outputs": []
    },
    {
      "cell_type": "code",
      "source": [
        "glcm_names =['contrast', 'dissimilarity', 'homogeneity', 'energy', 'correlation', 'ASM']\n",
        "glrlm_names =['SRE','LRE','GLU','RLU','RPC']\n",
        "\n",
        "def new_names(letter,names):\n",
        "  lista = []\n",
        "  for x in names:\n",
        "    lista.append(x+letter)\n",
        "  return lista\n",
        "\n",
        "names = glcm_names + new_names('_r',glcm_names)\n",
        "names = names + new_names('_g',glcm_names)\n",
        "names = names + new_names('_b',glcm_names)\n",
        "\n",
        "\n",
        "names = names + glrlm_names\n",
        "names = names + new_names('_r',glrlm_names)\n",
        "names = names + new_names('_g',glrlm_names)\n",
        "names = names + new_names('_b',glrlm_names)\n",
        "\n",
        "\n",
        "print(names)\n",
        "\n",
        "df = pd.DataFrame(features,columns=names)"
      ],
      "metadata": {
        "id": "QIftWz6V64lJ"
      },
      "execution_count": null,
      "outputs": []
    },
    {
      "cell_type": "code",
      "source": [
        "glcm_names"
      ],
      "metadata": {
        "id": "nwAmXY4weA9m"
      },
      "execution_count": null,
      "outputs": []
    },
    {
      "cell_type": "code",
      "source": [
        "n =len(img_name)\n",
        "tipos = []\n",
        "selected = 'find'\n",
        "for x in img_name:\n",
        "  result =''.join([i for i in x[:-4] if not i.isdigit()])\n",
        "  if(result != selected):\n",
        "    selected = result\n",
        "    tipos.append(selected)\n"
      ],
      "metadata": {
        "id": "5Kh0R80ndBQ0"
      },
      "execution_count": null,
      "outputs": []
    },
    {
      "cell_type": "code",
      "source": [
        "label =[]\n",
        "for name in img_name:\n",
        "  for idx, x in enumerate(tipos):\n",
        "    if(x in name):\n",
        "      label.append(idx)"
      ],
      "metadata": {
        "id": "MejkwNSX1kOi"
      },
      "execution_count": null,
      "outputs": []
    },
    {
      "cell_type": "code",
      "source": [
        "df['target']=label"
      ],
      "metadata": {
        "id": "GyKMP7gCScy4"
      },
      "execution_count": null,
      "outputs": []
    },
    {
      "cell_type": "code",
      "source": [
        "for i in range(6): \n",
        "  df_plot= df[(df[\"target\"] == i)]\n",
        "  n= df_plot.shape[0]\n",
        "  print(tipos[i],n)"
      ],
      "metadata": {
        "id": "W6CDIVizOZXv"
      },
      "execution_count": null,
      "outputs": []
    },
    {
      "cell_type": "code",
      "source": [
        "y=df['target']\n",
        "X=df.drop(['target'], axis='columns')"
      ],
      "metadata": {
        "id": "2qh4GQedcJt6"
      },
      "execution_count": null,
      "outputs": []
    },
    {
      "cell_type": "code",
      "source": [
        "y = pd.get_dummies(y)\n",
        "# check https://pandas.pydata.org/docs/reference/api/pandas.get_dummies.html\n",
        "y"
      ],
      "metadata": {
        "id": "YGlSEZ5O3pkf"
      },
      "execution_count": null,
      "outputs": []
    },
    {
      "cell_type": "code",
      "source": [
        "X_train, X_test, y_train, y_test = train_test_split(X, y, test_size=0.33, stratify=y, random_state=1)"
      ],
      "metadata": {
        "id": "y8iLKzlaeI8Z"
      },
      "execution_count": null,
      "outputs": []
    },
    {
      "cell_type": "code",
      "source": [
        "scaler = StandardScaler()\n",
        "# transform data\n",
        "scaler_X = scaler.fit(X_train)\n",
        "X_train = scaler_X.transform(X_train)\n",
        "X_test = scaler_X.transform(X_test)"
      ],
      "metadata": {
        "id": "yK1GU3C0nEEz"
      },
      "execution_count": null,
      "outputs": []
    },
    {
      "cell_type": "code",
      "source": [
        "nin = X_train.shape[1]\n",
        "nout =y.shape[1]\n",
        "nhidden = 30"
      ],
      "metadata": {
        "id": "V_WCc_YlvzS9"
      },
      "execution_count": null,
      "outputs": []
    },
    {
      "cell_type": "code",
      "source": [
        "import tensorflow as tf"
      ],
      "metadata": {
        "id": "SqLwS7x3wJWF"
      },
      "execution_count": null,
      "outputs": []
    },
    {
      "cell_type": "code",
      "source": [
        "# Create a `Sequential` model and add a Dense layer as the first layer.\n",
        "model = tf.keras.models.Sequential()\n",
        "model.add(tf.keras.Input(shape=(nin,)))\n",
        "model.add(tf.keras.layers.Dense(nhidden, activation='relu'))\n",
        "# Now the model will take as input arrays of shape (None, 16)\n",
        "# and output arrays of shape (None, 32).\n",
        "# Note that after the first layer, you don't need to specify\n",
        "# the size of the input anymore:\n",
        "model.add(tf.keras.layers.Dense(nout, activation='softmax'))\n"
      ],
      "metadata": {
        "id": "U4eNH1hZTATk"
      },
      "execution_count": null,
      "outputs": []
    },
    {
      "cell_type": "code",
      "source": [
        "X_test = np.array(X_test )\n",
        "y_test = np.array(y_test)\n",
        "y_test = y_test.astype(np.int32)\n",
        "y_train = y_train.astype(np.int32)\n",
        "X_train = X_train.reshape(-1, nin) \n",
        "X_test = X_test.reshape(-1, nin)"
      ],
      "metadata": {
        "id": "eohgtMo2PO32"
      },
      "execution_count": null,
      "outputs": []
    },
    {
      "cell_type": "code",
      "source": [
        "model.compile(\n",
        "  loss='categorical_crossentropy',\n",
        "  optimizer='adam',\n",
        "  metrics=['accuracy']\n",
        ")"
      ],
      "metadata": {
        "id": "UPldeiv1PeK7"
      },
      "execution_count": null,
      "outputs": []
    },
    {
      "cell_type": "code",
      "source": [
        "# gives us back a <keras.callbacks.History object at 0x112e61a90>\n",
        "#r = model.fit(X_train, y_train, validation_data = (X_test,y_test), epochs=15, batch_size=32)\n",
        "r = model.fit(X_train, y_train, epochs=1000)\n",
        "print(\"Returned:\", r)"
      ],
      "metadata": {
        "id": "W5EsVht2PjkT"
      },
      "execution_count": null,
      "outputs": []
    },
    {
      "cell_type": "code",
      "source": [
        "# usa a rede neural treina em calculos para treino e teste\n",
        "y_calc_train=model.predict(X_train)\n",
        "y_calc_test=model.predict(X_test)"
      ],
      "metadata": {
        "id": "Qfm347ziVWPS"
      },
      "execution_count": null,
      "outputs": []
    },
    {
      "cell_type": "code",
      "source": [
        "y_calc_test"
      ],
      "metadata": {
        "id": "YrnF1Rk90pyA"
      },
      "execution_count": null,
      "outputs": []
    },
    {
      "cell_type": "code",
      "source": [
        "def retorna(y):\n",
        "  resp = []\n",
        "  for yi in y:\n",
        "    vmax =max(yi)\n",
        "    for idx, x in enumerate(yi):\n",
        "      if(x == vmax):\n",
        "        resp.append(idx)\n",
        "  return resp"
      ],
      "metadata": {
        "id": "xdlcp6zcZ6hT"
      },
      "execution_count": null,
      "outputs": []
    },
    {
      "cell_type": "code",
      "source": [
        "y_test[0]"
      ],
      "metadata": {
        "id": "mXNt2lL7aH0g"
      },
      "execution_count": null,
      "outputs": []
    },
    {
      "cell_type": "code",
      "source": [
        "pd.__version__"
      ],
      "metadata": {
        "id": "T36u6fVlkYMh"
      },
      "execution_count": null,
      "outputs": []
    },
    {
      "cell_type": "code",
      "source": [
        "\n",
        "y_calc = retorna(y_calc_test)\n",
        "y_test = retorna(y_test)"
      ],
      "metadata": {
        "id": "XpSn6Htz5O4l"
      },
      "execution_count": null,
      "outputs": []
    },
    {
      "cell_type": "code",
      "source": [
        "confusion_matrix(y_test, y_calc)"
      ],
      "metadata": {
        "id": "4HToHynCM43p"
      },
      "execution_count": null,
      "outputs": []
    },
    {
      "cell_type": "code",
      "source": [
        "# Classification Report\n",
        "print('\\n\\n', classification_report(y_test, y_calc, target_names=tipos))"
      ],
      "metadata": {
        "id": "ERrFAB10Om7P"
      },
      "execution_count": null,
      "outputs": []
    },
    {
      "cell_type": "code",
      "source": [
        "# Classification Report\n",
        "print('\\n\\n', classification_report(y_test, y_test, target_names=tipos))"
      ],
      "metadata": {
        "id": "tQ4iLQcdliMX"
      },
      "execution_count": null,
      "outputs": []
    },
    {
      "cell_type": "code",
      "source": [
        "Arq = \"output_excel.xlsx\"\n",
        "df.to_excel(Arq)\n",
        "from google.colab import files\n",
        "files.download(Arq)"
      ],
      "metadata": {
        "id": "ZI9XT_E9SOGJ"
      },
      "execution_count": null,
      "outputs": []
    }
  ]
}