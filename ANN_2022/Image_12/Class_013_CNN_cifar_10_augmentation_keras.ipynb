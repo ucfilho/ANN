{
  "nbformat": 4,
  "nbformat_minor": 0,
  "metadata": {
    "accelerator": "GPU",
    "colab": {
      "provenance": [],
      "authorship_tag": "ABX9TyNpPWBLwA6TxQdKaBz61MYy",
      "include_colab_link": true
    },
    "kernelspec": {
      "display_name": "Python 3",
      "name": "python3"
    },
    "language_info": {
      "name": "python"
    }
  },
  "cells": [
    {
      "cell_type": "markdown",
      "metadata": {
        "id": "view-in-github",
        "colab_type": "text"
      },
      "source": [
        "<a href=\"https://colab.research.google.com/github/ucfilho/ANN/blob/master/ANN_2022/Image_12/Class_013_CNN_cifar_10_augmentation_keras.ipynb\" target=\"_parent\"><img src=\"https://colab.research.google.com/assets/colab-badge.svg\" alt=\"Open In Colab\"/></a>"
      ]
    },
    {
      "cell_type": "code",
      "metadata": {
        "id": "hiuSktexsxMX"
      },
      "source": [
        "from matplotlib import pyplot as plt\n",
        "from sklearn import preprocessing\n",
        "from sklearn.model_selection import train_test_split\n",
        "from sklearn.metrics import classification_report\n",
        "import numpy as np\n",
        "import pandas as pd\n",
        "import cv2\n",
        "import random\n",
        "from keras.models import Sequential\n",
        "from keras.layers import Dense, Activation, Conv2D, MaxPooling2D, Flatten, Dropout, BatchNormalization\n",
        "from keras.datasets import cifar10\n",
        "from keras.preprocessing import image"
      ],
      "execution_count": 1,
      "outputs": []
    },
    {
      "cell_type": "code",
      "metadata": {
        "colab": {
          "base_uri": "https://localhost:8080/"
        },
        "id": "HuMy717xtDJB",
        "outputId": "82c790ea-85ba-4921-8126-05036efebf4a"
      },
      "source": [
        "# load dataset\n",
        "(X_train, Y_train), (X_test, Y_test) = cifar10.load_data()\n",
        "# summarize loaded dataset\n",
        "print('Train: X=%s, y=%s' % (X_train.shape, Y_train.shape))\n",
        "print('Test: X=%s, y=%s' % (X_test.shape, Y_test.shape))\n",
        "\n",
        "Img_Size = 32"
      ],
      "execution_count": 2,
      "outputs": [
        {
          "output_type": "stream",
          "name": "stdout",
          "text": [
            "Downloading data from https://www.cs.toronto.edu/~kriz/cifar-10-python.tar.gz\n",
            "170498071/170498071 [==============================] - 7s 0us/step\n",
            "Train: X=(50000, 32, 32, 3), y=(50000, 1)\n",
            "Test: X=(10000, 32, 32, 3), y=(10000, 1)\n"
          ]
        }
      ]
    },
    {
      "cell_type": "code",
      "metadata": {
        "id": "QIPXn6Tine0W"
      },
      "source": [
        "# Y_test"
      ],
      "execution_count": 3,
      "outputs": []
    },
    {
      "cell_type": "code",
      "metadata": {
        "id": "svrqRNf7jjZk"
      },
      "source": [
        "Y_test = Y_test.ravel()\n",
        "Y_train = Y_train.ravel()"
      ],
      "execution_count": 4,
      "outputs": []
    },
    {
      "cell_type": "code",
      "metadata": {
        "id": "l_t3Zcgqsiwc"
      },
      "source": [
        "# helper\n",
        "def ynindicator(Y):\n",
        "  N = len(Y)\n",
        "  K = len(set(Y))\n",
        "  I = np.zeros((N, K))\n",
        "  I[np.arange(N), Y] = 1\n",
        "  return I\n",
        "\n",
        "X_train = np.array(X_train)\n",
        "Y_train = np.array(Y_train)\n",
        "K = len(set(Y_train))\n",
        "\n",
        "X_train = X_train.reshape(-1, Img_Size, Img_Size, 3) / 255.0\n",
        "Y_train = Y_train.astype(np.int32)\n",
        "#Y_train = Y_train.reshape(1,-1)\n",
        "Y_train = ynindicator(Y_train)\n",
        "\n",
        "X_test = np.array(X_test )\n",
        "Y_test = np.array(Y_test)\n",
        "X_test = X_test.reshape(-1, Img_Size, Img_Size, 3) / 255.0\n",
        "Y_test = Y_test.astype(np.int32)\n",
        "#Y_test = Y_test.reshape(1,-1)\n",
        "Y_test = ynindicator(Y_test)\n",
        "\n",
        "\n",
        "\n",
        "# the model will be a sequence of layers\n",
        "\n",
        "model = Sequential()\n",
        "\n",
        "\n",
        "# make the CNN\n",
        "# model.add(Input(shape=(28, 28, 1)))\n",
        "model.add(Conv2D(input_shape=(Img_Size, Img_Size, 3), filters=32, kernel_size=(3, 3)))\n",
        "model.add(BatchNormalization())\n",
        "model.add(Activation('relu'))\n",
        "model.add(MaxPooling2D())\n",
        "\n",
        "model.add(Conv2D(filters=64, kernel_size=(3, 3)))\n",
        "model.add(BatchNormalization())\n",
        "model.add(Activation('relu'))\n",
        "model.add(MaxPooling2D())\n",
        "\n",
        "model.add(Conv2D(filters=128, kernel_size=(3, 3)))\n",
        "model.add(BatchNormalization())\n",
        "model.add(Activation('relu'))\n",
        "model.add(MaxPooling2D())\n",
        "\n",
        "model.add(Flatten())\n",
        "model.add(Dense(units=80))\n",
        "model.add(Activation('relu'))\n",
        "model.add(Dropout(0.2))\n",
        "model.add(Dense(units=K))\n",
        "model.add(Activation('softmax'))\n",
        "\n",
        "\n",
        "# list of losses: https://keras.io/losses/\n",
        "# list of optimizers: https://keras.io/optimizers/\n",
        "# list of metrics: https://keras.io/metrics/\n",
        "model.compile(\n",
        "  loss='categorical_crossentropy',\n",
        "  optimizer='adam',\n",
        "  metrics=['accuracy']\n",
        ")\n",
        "\n"
      ],
      "execution_count": 5,
      "outputs": []
    },
    {
      "cell_type": "code",
      "metadata": {
        "colab": {
          "base_uri": "https://localhost:8080/"
        },
        "id": "5prWPT1EOnyT",
        "outputId": "873347c6-2330-4e0f-f37b-7c269ee37b10"
      },
      "source": [
        "print(Y_train.shape)\n",
        "print(X_train.shape)"
      ],
      "execution_count": 6,
      "outputs": [
        {
          "output_type": "stream",
          "name": "stdout",
          "text": [
            "(50000, 10)\n",
            "(50000, 32, 32, 3)\n"
          ]
        }
      ]
    },
    {
      "cell_type": "code",
      "metadata": {
        "colab": {
          "base_uri": "https://localhost:8080/"
        },
        "id": "jdk4mQxIvhRN",
        "outputId": "0232585f-2e1d-464d-8b9e-bac79251356a"
      },
      "source": [
        "# gives us back a <keras.callbacks.History object at 0x112e61a90>\n",
        "#r = model.fit(X_train, Y_train, epochs=15, batch_size=32)\n",
        "r = model.fit(X_train,Y_train, validation_data=(X_test,Y_test), batch_size=10, epochs=50)"
      ],
      "execution_count": 7,
      "outputs": [
        {
          "output_type": "stream",
          "name": "stdout",
          "text": [
            "Epoch 1/50\n",
            "5000/5000 [==============================] - 31s 5ms/step - loss: 1.4451 - accuracy: 0.4814 - val_loss: 1.3315 - val_accuracy: 0.5406\n",
            "Epoch 2/50\n",
            "5000/5000 [==============================] - 22s 4ms/step - loss: 1.1254 - accuracy: 0.6051 - val_loss: 1.2641 - val_accuracy: 0.5685\n",
            "Epoch 3/50\n",
            "5000/5000 [==============================] - 23s 5ms/step - loss: 0.9882 - accuracy: 0.6543 - val_loss: 1.3189 - val_accuracy: 0.5461\n",
            "Epoch 4/50\n",
            "5000/5000 [==============================] - 22s 4ms/step - loss: 0.8949 - accuracy: 0.6890 - val_loss: 0.9663 - val_accuracy: 0.6651\n",
            "Epoch 5/50\n",
            "5000/5000 [==============================] - 22s 4ms/step - loss: 0.8208 - accuracy: 0.7158 - val_loss: 0.8220 - val_accuracy: 0.7231\n",
            "Epoch 6/50\n",
            "5000/5000 [==============================] - 22s 4ms/step - loss: 0.7641 - accuracy: 0.7362 - val_loss: 0.8606 - val_accuracy: 0.7054\n",
            "Epoch 7/50\n",
            "5000/5000 [==============================] - 22s 4ms/step - loss: 0.7139 - accuracy: 0.7534 - val_loss: 0.8316 - val_accuracy: 0.7124\n",
            "Epoch 8/50\n",
            "5000/5000 [==============================] - 22s 4ms/step - loss: 0.6669 - accuracy: 0.7700 - val_loss: 1.0360 - val_accuracy: 0.6762\n",
            "Epoch 9/50\n",
            "5000/5000 [==============================] - 22s 4ms/step - loss: 0.6294 - accuracy: 0.7836 - val_loss: 0.8284 - val_accuracy: 0.7283\n",
            "Epoch 10/50\n",
            "5000/5000 [==============================] - 22s 4ms/step - loss: 0.6002 - accuracy: 0.7927 - val_loss: 0.8408 - val_accuracy: 0.7275\n",
            "Epoch 11/50\n",
            "5000/5000 [==============================] - 21s 4ms/step - loss: 0.5712 - accuracy: 0.8015 - val_loss: 0.7649 - val_accuracy: 0.7490\n",
            "Epoch 12/50\n",
            "5000/5000 [==============================] - 21s 4ms/step - loss: 0.5354 - accuracy: 0.8154 - val_loss: 0.8328 - val_accuracy: 0.7389\n",
            "Epoch 13/50\n",
            "5000/5000 [==============================] - 22s 4ms/step - loss: 0.5142 - accuracy: 0.8211 - val_loss: 0.8746 - val_accuracy: 0.7223\n",
            "Epoch 14/50\n",
            "5000/5000 [==============================] - 23s 5ms/step - loss: 0.4965 - accuracy: 0.8276 - val_loss: 0.8979 - val_accuracy: 0.7264\n",
            "Epoch 15/50\n",
            "5000/5000 [==============================] - 21s 4ms/step - loss: 0.4685 - accuracy: 0.8370 - val_loss: 0.7625 - val_accuracy: 0.7588\n",
            "Epoch 16/50\n",
            "5000/5000 [==============================] - 22s 4ms/step - loss: 0.4522 - accuracy: 0.8445 - val_loss: 0.8532 - val_accuracy: 0.7436\n",
            "Epoch 17/50\n",
            "5000/5000 [==============================] - 21s 4ms/step - loss: 0.4356 - accuracy: 0.8485 - val_loss: 0.9276 - val_accuracy: 0.7224\n",
            "Epoch 18/50\n",
            "5000/5000 [==============================] - 22s 4ms/step - loss: 0.4224 - accuracy: 0.8540 - val_loss: 0.9672 - val_accuracy: 0.7325\n",
            "Epoch 19/50\n",
            "5000/5000 [==============================] - 21s 4ms/step - loss: 0.4048 - accuracy: 0.8588 - val_loss: 0.8511 - val_accuracy: 0.7568\n",
            "Epoch 20/50\n",
            "5000/5000 [==============================] - 22s 4ms/step - loss: 0.3902 - accuracy: 0.8637 - val_loss: 0.8960 - val_accuracy: 0.7448\n",
            "Epoch 21/50\n",
            "5000/5000 [==============================] - 22s 4ms/step - loss: 0.3733 - accuracy: 0.8696 - val_loss: 0.8935 - val_accuracy: 0.7392\n",
            "Epoch 22/50\n",
            "5000/5000 [==============================] - 21s 4ms/step - loss: 0.3604 - accuracy: 0.8747 - val_loss: 0.8964 - val_accuracy: 0.7483\n",
            "Epoch 23/50\n",
            "5000/5000 [==============================] - 21s 4ms/step - loss: 0.3554 - accuracy: 0.8788 - val_loss: 1.0225 - val_accuracy: 0.7272\n",
            "Epoch 24/50\n",
            "5000/5000 [==============================] - 22s 4ms/step - loss: 0.3461 - accuracy: 0.8801 - val_loss: 0.9592 - val_accuracy: 0.7520\n",
            "Epoch 25/50\n",
            "5000/5000 [==============================] - 22s 4ms/step - loss: 0.3335 - accuracy: 0.8854 - val_loss: 1.1970 - val_accuracy: 0.7079\n",
            "Epoch 26/50\n",
            "5000/5000 [==============================] - 21s 4ms/step - loss: 0.3295 - accuracy: 0.8858 - val_loss: 0.9765 - val_accuracy: 0.7418\n",
            "Epoch 27/50\n",
            "5000/5000 [==============================] - 22s 4ms/step - loss: 0.3131 - accuracy: 0.8920 - val_loss: 0.9875 - val_accuracy: 0.7493\n",
            "Epoch 28/50\n",
            "5000/5000 [==============================] - 21s 4ms/step - loss: 0.3065 - accuracy: 0.8935 - val_loss: 1.0609 - val_accuracy: 0.7412\n",
            "Epoch 29/50\n",
            "5000/5000 [==============================] - 22s 4ms/step - loss: 0.3068 - accuracy: 0.8947 - val_loss: 0.9464 - val_accuracy: 0.7493\n",
            "Epoch 30/50\n",
            "5000/5000 [==============================] - 22s 4ms/step - loss: 0.2982 - accuracy: 0.8980 - val_loss: 0.9834 - val_accuracy: 0.7450\n",
            "Epoch 31/50\n",
            "5000/5000 [==============================] - 21s 4ms/step - loss: 0.2860 - accuracy: 0.9009 - val_loss: 1.0754 - val_accuracy: 0.7422\n",
            "Epoch 32/50\n",
            "5000/5000 [==============================] - 21s 4ms/step - loss: 0.2858 - accuracy: 0.9024 - val_loss: 1.0911 - val_accuracy: 0.7284\n",
            "Epoch 33/50\n",
            "5000/5000 [==============================] - 22s 4ms/step - loss: 0.2726 - accuracy: 0.9061 - val_loss: 1.1767 - val_accuracy: 0.7203\n",
            "Epoch 34/50\n",
            "5000/5000 [==============================] - 22s 4ms/step - loss: 0.2772 - accuracy: 0.9061 - val_loss: 1.0089 - val_accuracy: 0.7418\n",
            "Epoch 35/50\n",
            "5000/5000 [==============================] - 21s 4ms/step - loss: 0.2604 - accuracy: 0.9108 - val_loss: 1.0195 - val_accuracy: 0.7599\n",
            "Epoch 36/50\n",
            "5000/5000 [==============================] - 22s 4ms/step - loss: 0.2616 - accuracy: 0.9110 - val_loss: 1.1138 - val_accuracy: 0.7314\n",
            "Epoch 37/50\n",
            "5000/5000 [==============================] - 21s 4ms/step - loss: 0.2512 - accuracy: 0.9130 - val_loss: 1.0691 - val_accuracy: 0.7481\n",
            "Epoch 38/50\n",
            "5000/5000 [==============================] - 28s 6ms/step - loss: 0.2517 - accuracy: 0.9140 - val_loss: 1.1020 - val_accuracy: 0.7417\n",
            "Epoch 39/50\n",
            "5000/5000 [==============================] - 21s 4ms/step - loss: 0.2440 - accuracy: 0.9164 - val_loss: 1.0876 - val_accuracy: 0.7501\n",
            "Epoch 40/50\n",
            "5000/5000 [==============================] - 23s 5ms/step - loss: 0.2397 - accuracy: 0.9188 - val_loss: 1.2067 - val_accuracy: 0.7335\n",
            "Epoch 41/50\n",
            "5000/5000 [==============================] - 22s 4ms/step - loss: 0.2355 - accuracy: 0.9189 - val_loss: 1.1130 - val_accuracy: 0.7433\n",
            "Epoch 42/50\n",
            "5000/5000 [==============================] - 22s 4ms/step - loss: 0.2310 - accuracy: 0.9201 - val_loss: 1.2409 - val_accuracy: 0.7308\n",
            "Epoch 43/50\n",
            "5000/5000 [==============================] - 22s 4ms/step - loss: 0.2305 - accuracy: 0.9220 - val_loss: 1.2700 - val_accuracy: 0.7344\n",
            "Epoch 44/50\n",
            "5000/5000 [==============================] - 22s 4ms/step - loss: 0.2233 - accuracy: 0.9224 - val_loss: 1.1448 - val_accuracy: 0.7443\n",
            "Epoch 45/50\n",
            "5000/5000 [==============================] - 22s 4ms/step - loss: 0.2222 - accuracy: 0.9241 - val_loss: 1.1471 - val_accuracy: 0.7518\n",
            "Epoch 46/50\n",
            "5000/5000 [==============================] - 21s 4ms/step - loss: 0.2173 - accuracy: 0.9252 - val_loss: 1.1937 - val_accuracy: 0.7411\n",
            "Epoch 47/50\n",
            "5000/5000 [==============================] - 21s 4ms/step - loss: 0.2141 - accuracy: 0.9261 - val_loss: 1.1663 - val_accuracy: 0.7465\n",
            "Epoch 48/50\n",
            "5000/5000 [==============================] - 22s 4ms/step - loss: 0.2117 - accuracy: 0.9269 - val_loss: 1.2237 - val_accuracy: 0.7363\n",
            "Epoch 49/50\n",
            "5000/5000 [==============================] - 21s 4ms/step - loss: 0.2090 - accuracy: 0.9294 - val_loss: 1.2342 - val_accuracy: 0.7330\n",
            "Epoch 50/50\n",
            "5000/5000 [==============================] - 21s 4ms/step - loss: 0.2050 - accuracy: 0.9300 - val_loss: 1.1596 - val_accuracy: 0.7423\n"
          ]
        }
      ]
    },
    {
      "cell_type": "markdown",
      "metadata": {
        "id": "jfotTO6l1jSj"
      },
      "source": [
        "C"
      ]
    },
    {
      "cell_type": "code",
      "metadata": {
        "id": "Rt0SXEiZvdu4",
        "colab": {
          "base_uri": "https://localhost:8080/"
        },
        "outputId": "0dcdf143-713b-42e4-b2f1-b9ac82129384"
      },
      "source": [
        "\n",
        "# print the available keys\n",
        "# should see: dict_keys(['val_loss', 'acc', 'loss', 'val_acc'])\n",
        "print(r.history.keys())"
      ],
      "execution_count": 8,
      "outputs": [
        {
          "output_type": "stream",
          "name": "stdout",
          "text": [
            "dict_keys(['loss', 'accuracy', 'val_loss', 'val_accuracy'])\n"
          ]
        }
      ]
    },
    {
      "cell_type": "code",
      "metadata": {
        "id": "ClGT5XiAvcim",
        "colab": {
          "base_uri": "https://localhost:8080/",
          "height": 265
        },
        "outputId": "5d634e9f-4e6a-48d1-98b8-40b9643ef151"
      },
      "source": [
        "\n",
        "# plot some data\n",
        "plt.plot(r.history['loss'], label='loss')\n",
        "plt.plot(r.history['val_loss'], label='val_loss')\n",
        "plt.legend()\n",
        "plt.show()\n"
      ],
      "execution_count": 9,
      "outputs": [
        {
          "output_type": "display_data",
          "data": {
            "text/plain": [
              "<Figure size 432x288 with 1 Axes>"
            ],
            "image/png": "[encoded data removed]"
          },
          "metadata": {
            "needs_background": "light"
          }
        }
      ]
    },
    {
      "cell_type": "code",
      "metadata": {
        "id": "roMaf-IAvqro",
        "colab": {
          "base_uri": "https://localhost:8080/",
          "height": 265
        },
        "outputId": "202960fc-1516-4b8f-83c6-11ca884bebe0"
      },
      "source": [
        "# accuracies\n",
        "plt.plot(r.history['accuracy'], label='acc')\n",
        "plt.plot(r.history['val_accuracy'], label='val_acc')\n",
        "plt.legend()\n",
        "plt.show()"
      ],
      "execution_count": 10,
      "outputs": [
        {
          "output_type": "display_data",
          "data": {
            "text/plain": [
              "<Figure size 432x288 with 1 Axes>"
            ],
            "image/png": "[encoded data removed]"
          },
          "metadata": {
            "needs_background": "light"
          }
        }
      ]
    },
    {
      "cell_type": "code",
      "metadata": {
        "colab": {
          "base_uri": "https://localhost:8080/"
        },
        "id": "dQkqdgziZkSJ",
        "outputId": "0b596be0-547f-4e27-a8c0-0cf041b83895"
      },
      "source": [
        "# Fit with data augmentation\n",
        "# Note: if you run this AFTER calling the previous model.fit(), it will CONTINUE training where it left off\n",
        "batch_size = 32\n",
        "data_generator = image.ImageDataGenerator(width_shift_range=0.1, height_shift_range=0.1, horizontal_flip=True)\n",
        "train_generator = data_generator.flow(X_train, Y_train, batch_size)\n",
        "steps_per_epoch = X_train.shape[0] // batch_size\n",
        "r = model.fit(train_generator, validation_data=(X_test, Y_test), steps_per_epoch=steps_per_epoch, epochs=50)"
      ],
      "execution_count": null,
      "outputs": [
        {
          "output_type": "stream",
          "name": "stdout",
          "text": [
            "Epoch 1/50\n",
            "1562/1562 [==============================] - 32s 20ms/step - loss: 0.9299 - accuracy: 0.7022 - val_loss: 0.8067 - val_accuracy: 0.7500\n",
            "Epoch 2/50\n",
            "1562/1562 [==============================] - 31s 20ms/step - loss: 0.8238 - accuracy: 0.7289 - val_loss: 0.7650 - val_accuracy: 0.7570\n",
            "Epoch 3/50\n",
            "1562/1562 [==============================] - 32s 20ms/step - loss: 0.7860 - accuracy: 0.7387 - val_loss: 0.7312 - val_accuracy: 0.7671\n",
            "Epoch 4/50\n",
            "1562/1562 [==============================] - 31s 20ms/step - loss: 0.7387 - accuracy: 0.7531 - val_loss: 0.7519 - val_accuracy: 0.7606\n",
            "Epoch 5/50\n",
            "1562/1562 [==============================] - 32s 20ms/step - loss: 0.7211 - accuracy: 0.7569 - val_loss: 0.7660 - val_accuracy: 0.7617\n",
            "Epoch 6/50\n",
            "1562/1562 [==============================] - 31s 20ms/step - loss: 0.6979 - accuracy: 0.7648 - val_loss: 0.6891 - val_accuracy: 0.7819\n",
            "Epoch 7/50\n",
            "1562/1562 [==============================] - 31s 20ms/step - loss: 0.6906 - accuracy: 0.7667 - val_loss: 0.7623 - val_accuracy: 0.7523\n",
            "Epoch 8/50\n",
            "1562/1562 [==============================] - 31s 20ms/step - loss: 0.6725 - accuracy: 0.7719 - val_loss: 0.6288 - val_accuracy: 0.7975\n",
            "Epoch 9/50\n",
            "1562/1562 [==============================] - 30s 19ms/step - loss: 0.6695 - accuracy: 0.7732 - val_loss: 0.6574 - val_accuracy: 0.7817\n",
            "Epoch 10/50\n",
            "1562/1562 [==============================] - 31s 20ms/step - loss: 0.6573 - accuracy: 0.7776 - val_loss: 0.7157 - val_accuracy: 0.7675\n",
            "Epoch 11/50\n",
            "1562/1562 [==============================] - 30s 19ms/step - loss: 0.6482 - accuracy: 0.7824 - val_loss: 0.6321 - val_accuracy: 0.7897\n",
            "Epoch 12/50\n",
            " 761/1562 [=============>................] - ETA: 14s - loss: 0.6458 - accuracy: 0.7821"
          ]
        }
      ]
    },
    {
      "cell_type": "code",
      "metadata": {
        "id": "ORxDPGsHd8F2"
      },
      "source": [
        "# plot some data\n",
        "plt.plot(r.history['loss'], label='loss')\n",
        "plt.plot(r.history['val_loss'], label='val_loss')\n",
        "plt.legend()\n",
        "plt.show()\n"
      ],
      "execution_count": null,
      "outputs": []
    },
    {
      "cell_type": "code",
      "metadata": {
        "id": "Lu6-wzYad9p8"
      },
      "source": [
        "# accuracies\n",
        "plt.plot(r.history['accuracy'], label='acc')\n",
        "plt.plot(r.history['val_accuracy'], label='val_acc')\n",
        "plt.legend()\n",
        "plt.show()"
      ],
      "execution_count": null,
      "outputs": []
    },
    {
      "cell_type": "code",
      "metadata": {
        "id": "tgqUk-L2kL3R"
      },
      "source": [
        "ynew = model.predict_classes(X_test)\n",
        "print(ynew)"
      ],
      "execution_count": null,
      "outputs": []
    },
    {
      "cell_type": "code",
      "metadata": {
        "id": "Ke97BDall_6o"
      },
      "source": [
        "N_test = len(ynew)"
      ],
      "execution_count": null,
      "outputs": []
    },
    {
      "cell_type": "code",
      "metadata": {
        "id": "MEah48_2piJS"
      },
      "source": [
        "y_resp = (model.predict(X_test) > 0.5).astype(\"int32\")\n",
        "#print(y_resp)"
      ],
      "execution_count": null,
      "outputs": []
    },
    {
      "cell_type": "code",
      "metadata": {
        "id": "ahdlyTPZw7fu"
      },
      "source": [
        "# model.predict(X_test)"
      ],
      "execution_count": null,
      "outputs": []
    },
    {
      "cell_type": "code",
      "metadata": {
        "id": "LpxchoawxD-U"
      },
      "source": [
        "# (model.predict(X_test)[0] > 0.5).astype(\"int32\")"
      ],
      "execution_count": null,
      "outputs": []
    },
    {
      "cell_type": "code",
      "metadata": {
        "id": "vomVndT8p2jC"
      },
      "source": [
        "y_class = np.zeros(N_test,dtype=int)\n",
        "for k in range(N_test):\n",
        "  for kk in range(K):\n",
        "    if(Y_test[k,kk] == 1):\n",
        "      y_class[k] = kk\n",
        "print(y_class)\n",
        "y_true = y_class.copy()"
      ],
      "execution_count": null,
      "outputs": []
    },
    {
      "cell_type": "code",
      "metadata": {
        "id": "jz5jmeuStXFj"
      },
      "source": [
        "#Y_test[-2,:]"
      ],
      "execution_count": null,
      "outputs": []
    },
    {
      "cell_type": "code",
      "metadata": {
        "id": "syYA36aFvEzJ"
      },
      "source": [
        "y_class = np.zeros(N_test,dtype=int)\n",
        "for k in range(N_test):\n",
        "  for kk in range(K):\n",
        "    if(y_resp[k,kk] == 1):\n",
        "      y_class[k] = kk\n",
        "y_pred = y_class.copy()"
      ],
      "execution_count": null,
      "outputs": []
    },
    {
      "cell_type": "code",
      "metadata": {
        "id": "21ex3uxFurej"
      },
      "source": [
        "#target_names = ['cardboard', 'glass', 'metal', 'paper', 'plastic', 'trash']\n",
        "# print(classification_report(y_true, y_pred, target_names=target_names))\n",
        "print(classification_report(y_true, y_pred))"
      ],
      "execution_count": null,
      "outputs": []
    }
  ]
}