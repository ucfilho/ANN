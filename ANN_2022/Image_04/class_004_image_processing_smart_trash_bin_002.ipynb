{
  "nbformat": 4,
  "nbformat_minor": 0,
  "metadata": {
    "colab": {
      "provenance": [],
      "authorship_tag": "ABX9TyNhFt8VeuDXMzjQQFJ+rZ9M",
      "include_colab_link": true
    },
    "kernelspec": {
      "name": "python3",
      "display_name": "Python 3"
    },
    "language_info": {
      "name": "python"
    },
    "accelerator": "GPU"
  },
  "cells": [
    {
      "cell_type": "markdown",
      "metadata": {
        "id": "view-in-github",
        "colab_type": "text"
      },
      "source": [
        "<a href=\"https://colab.research.google.com/github/ucfilho/ANN/blob/master/ANN_2022/Image_04/class_004_image_processing_smart_trash_bin_002.ipynb\" target=\"_parent\"><img src=\"https://colab.research.google.com/assets/colab-badge.svg\" alt=\"Open In Colab\"/></a>"
      ]
    },
    {
      "cell_type": "code",
      "source": [
        "import cv2\n",
        "import numpy as np\n",
        "import pandas as pd\n",
        "import random\n",
        "import zipfile\n",
        "from matplotlib import pyplot as plt\n",
        "import skimage.feature\n",
        "from string import digits\n",
        "import seaborn as sns\n",
        "import skimage\n",
        "import tensorflow as tf\n",
        "from tensorflow.keras.models import Sequential\n",
        "from tensorflow.keras.layers import Dense, Activation, Conv2D, MaxPooling2D, Flatten, Dropout, BatchNormalization"
      ],
      "metadata": {
        "id": "7wNxYQBaKVJQ"
      },
      "execution_count": null,
      "outputs": []
    },
    {
      "cell_type": "code",
      "source": [
        "from sklearn.neural_network import MLPClassifier\n",
        "from sklearn.model_selection import train_test_split\n",
        "from sklearn.preprocessing import StandardScaler\n",
        "from sklearn.metrics import classification_report, confusion_matrix"
      ],
      "metadata": {
        "id": "JNNoeVHgb9WL"
      },
      "execution_count": null,
      "outputs": []
    },
    {
      "cell_type": "code",
      "source": [
        "!gdown 1L4mdCDBgybKqr5Wo-kqT8HXcBJ9HXqSX"
      ],
      "metadata": {
        "colab": {
          "base_uri": "https://localhost:8080/"
        },
        "id": "Ea3bxyjq-kcq",
        "outputId": "4fb2f798-8ce3-47ea-e5ff-8c5d729625b1"
      },
      "execution_count": null,
      "outputs": [
        {
          "output_type": "stream",
          "name": "stdout",
          "text": [
            "Downloading...\n",
            "From: https://drive.google.com/uc?id=1L4mdCDBgybKqr5Wo-kqT8HXcBJ9HXqSX\n",
            "To: /content/trash_nov_22_2018.zip\n",
            "100% 42.8M/42.8M [00:00<00:00, 130MB/s]\n"
          ]
        }
      ]
    },
    {
      "cell_type": "code",
      "source": [
        "FILE='trash_nov_22_2018.zip'"
      ],
      "metadata": {
        "id": "oyLilZ2l-loH"
      },
      "execution_count": null,
      "outputs": []
    },
    {
      "cell_type": "code",
      "source": [
        "archive = zipfile.ZipFile('trash_nov_22_2018.zip', 'r')\n",
        "archive.extractall()"
      ],
      "metadata": {
        "id": "XwXGEOlF_K1c"
      },
      "execution_count": null,
      "outputs": []
    },
    {
      "cell_type": "code",
      "source": [
        "img_name=[]\n",
        "with zipfile.ZipFile(FILE, \"r\") as f:\n",
        "    for name in f.namelist():\n",
        "        img_name.append(name)"
      ],
      "metadata": {
        "id": "cs5xKcmpAgOA"
      },
      "execution_count": null,
      "outputs": []
    },
    {
      "cell_type": "code",
      "source": [
        "Img_Size = 200\n",
        "ref = 'jpg'\n",
        "notref = 'met'"
      ],
      "metadata": {
        "id": "PVPFW06o_kw8"
      },
      "execution_count": null,
      "outputs": []
    },
    {
      "cell_type": "code",
      "source": [
        "X= []  \n",
        "Y =[]\n",
        "n = len(img_name)\n",
        "i = 0\n",
        "for i in range(n):\n",
        "  name = img_name[i]\n",
        "  if(ref in name):\n",
        "    Y.append(name)\n",
        "    img = cv2.imread(name)\n",
        "    resized = cv2.resize(img, (Img_Size,Img_Size))\n",
        "    X.append(resized)\n",
        "m = len(Y)\n",
        "print(n,m)"
      ],
      "metadata": {
        "id": "lAOB3uC3JG2V",
        "colab": {
          "base_uri": "https://localhost:8080/"
        },
        "outputId": "05c60485-9fd2-4d4c-e158-70aaf9716c57"
      },
      "execution_count": null,
      "outputs": [
        {
          "output_type": "stream",
          "name": "stdout",
          "text": [
            "2527 2527\n"
          ]
        }
      ]
    },
    {
      "cell_type": "code",
      "source": [
        "n =len(img_name)\n",
        "tipos = []\n",
        "selected = 'find'\n",
        "for x in img_name:\n",
        "  result =''.join([i for i in x[:-4] if not i.isdigit()])\n",
        "  if(result != selected):\n",
        "    selected = result\n",
        "    tipos.append(selected)\n"
      ],
      "metadata": {
        "id": "5Kh0R80ndBQ0"
      },
      "execution_count": null,
      "outputs": []
    },
    {
      "cell_type": "code",
      "source": [
        "label =[]\n",
        "for name in img_name:\n",
        "  for idx, x in enumerate(tipos):\n",
        "    if(x in name):\n",
        "      label.append(idx)"
      ],
      "metadata": {
        "id": "MejkwNSX1kOi"
      },
      "execution_count": null,
      "outputs": []
    },
    {
      "cell_type": "code",
      "source": [
        "df=pd.DataFrame(label,columns=['target'])"
      ],
      "metadata": {
        "id": "GyKMP7gCScy4"
      },
      "execution_count": null,
      "outputs": []
    },
    {
      "cell_type": "code",
      "source": [
        "for i in range(6): \n",
        "  df_plot= df[(df[\"target\"] == i)]\n",
        "  n= df_plot.shape[0]\n",
        "  print(tipos[i],n)"
      ],
      "metadata": {
        "colab": {
          "base_uri": "https://localhost:8080/"
        },
        "id": "W6CDIVizOZXv",
        "outputId": "1cff3d87-11ba-45ed-987f-e2c5b5838611"
      },
      "execution_count": null,
      "outputs": [
        {
          "output_type": "stream",
          "name": "stdout",
          "text": [
            "cardboard 403\n",
            "glass 501\n",
            "metal 410\n",
            "paper 594\n",
            "plastic 482\n",
            "trash 137\n"
          ]
        }
      ]
    },
    {
      "cell_type": "code",
      "source": [
        "y = pd.get_dummies(df['target'])\n",
        "# check https://pandas.pydata.org/docs/reference/api/pandas.get_dummies.html\n",
        "y"
      ],
      "metadata": {
        "colab": {
          "base_uri": "https://localhost:8080/",
          "height": 424
        },
        "id": "YGlSEZ5O3pkf",
        "outputId": "9435dc1b-d361-4763-b669-8dd9186bca69"
      },
      "execution_count": null,
      "outputs": [
        {
          "output_type": "execute_result",
          "data": {
            "text/plain": [
              "      0  1  2  3  4  5\n",
              "0     1  0  0  0  0  0\n",
              "1     1  0  0  0  0  0\n",
              "2     1  0  0  0  0  0\n",
              "3     1  0  0  0  0  0\n",
              "4     1  0  0  0  0  0\n",
              "...  .. .. .. .. .. ..\n",
              "2522  0  0  0  0  0  1\n",
              "2523  0  0  0  0  0  1\n",
              "2524  0  0  0  0  0  1\n",
              "2525  0  0  0  0  0  1\n",
              "2526  0  0  0  0  0  1\n",
              "\n",
              "[2527 rows x 6 columns]"
            ],
            "text/html": [
              "\n",
              "  <div id=\"df-cbf48d0f-8028-4f8f-8e12-04f11e4ea2ef\">\n",
              "    <div class=\"colab-df-container\">\n",
              "      <div>\n",
              "<style scoped>\n",
              "    .dataframe tbody tr th:only-of-type {\n",
              "        vertical-align: middle;\n",
              "    }\n",
              "\n",
              "    .dataframe tbody tr th {\n",
              "        vertical-align: top;\n",
              "    }\n",
              "\n",
              "    .dataframe thead th {\n",
              "        text-align: right;\n",
              "    }\n",
              "</style>\n",
              "<table border=\"1\" class=\"dataframe\">\n",
              "  <thead>\n",
              "    <tr style=\"text-align: right;\">\n",
              "      <th></th>\n",
              "      <th>0</th>\n",
              "      <th>1</th>\n",
              "      <th>2</th>\n",
              "      <th>3</th>\n",
              "      <th>4</th>\n",
              "      <th>5</th>\n",
              "    </tr>\n",
              "  </thead>\n",
              "  <tbody>\n",
              "    <tr>\n",
              "      <th>0</th>\n",
              "      <td>1</td>\n",
              "      <td>0</td>\n",
              "      <td>0</td>\n",
              "      <td>0</td>\n",
              "      <td>0</td>\n",
              "      <td>0</td>\n",
              "    </tr>\n",
              "    <tr>\n",
              "      <th>1</th>\n",
              "      <td>1</td>\n",
              "      <td>0</td>\n",
              "      <td>0</td>\n",
              "      <td>0</td>\n",
              "      <td>0</td>\n",
              "      <td>0</td>\n",
              "    </tr>\n",
              "    <tr>\n",
              "      <th>2</th>\n",
              "      <td>1</td>\n",
              "      <td>0</td>\n",
              "      <td>0</td>\n",
              "      <td>0</td>\n",
              "      <td>0</td>\n",
              "      <td>0</td>\n",
              "    </tr>\n",
              "    <tr>\n",
              "      <th>3</th>\n",
              "      <td>1</td>\n",
              "      <td>0</td>\n",
              "      <td>0</td>\n",
              "      <td>0</td>\n",
              "      <td>0</td>\n",
              "      <td>0</td>\n",
              "    </tr>\n",
              "    <tr>\n",
              "      <th>4</th>\n",
              "      <td>1</td>\n",
              "      <td>0</td>\n",
              "      <td>0</td>\n",
              "      <td>0</td>\n",
              "      <td>0</td>\n",
              "      <td>0</td>\n",
              "    </tr>\n",
              "    <tr>\n",
              "      <th>...</th>\n",
              "      <td>...</td>\n",
              "      <td>...</td>\n",
              "      <td>...</td>\n",
              "      <td>...</td>\n",
              "      <td>...</td>\n",
              "      <td>...</td>\n",
              "    </tr>\n",
              "    <tr>\n",
              "      <th>2522</th>\n",
              "      <td>0</td>\n",
              "      <td>0</td>\n",
              "      <td>0</td>\n",
              "      <td>0</td>\n",
              "      <td>0</td>\n",
              "      <td>1</td>\n",
              "    </tr>\n",
              "    <tr>\n",
              "      <th>2523</th>\n",
              "      <td>0</td>\n",
              "      <td>0</td>\n",
              "      <td>0</td>\n",
              "      <td>0</td>\n",
              "      <td>0</td>\n",
              "      <td>1</td>\n",
              "    </tr>\n",
              "    <tr>\n",
              "      <th>2524</th>\n",
              "      <td>0</td>\n",
              "      <td>0</td>\n",
              "      <td>0</td>\n",
              "      <td>0</td>\n",
              "      <td>0</td>\n",
              "      <td>1</td>\n",
              "    </tr>\n",
              "    <tr>\n",
              "      <th>2525</th>\n",
              "      <td>0</td>\n",
              "      <td>0</td>\n",
              "      <td>0</td>\n",
              "      <td>0</td>\n",
              "      <td>0</td>\n",
              "      <td>1</td>\n",
              "    </tr>\n",
              "    <tr>\n",
              "      <th>2526</th>\n",
              "      <td>0</td>\n",
              "      <td>0</td>\n",
              "      <td>0</td>\n",
              "      <td>0</td>\n",
              "      <td>0</td>\n",
              "      <td>1</td>\n",
              "    </tr>\n",
              "  </tbody>\n",
              "</table>\n",
              "<p>2527 rows × 6 columns</p>\n",
              "</div>\n",
              "      <button class=\"colab-df-convert\" onclick=\"convertToInteractive('df-cbf48d0f-8028-4f8f-8e12-04f11e4ea2ef')\"\n",
              "              title=\"Convert this dataframe to an interactive table.\"\n",
              "              style=\"display:none;\">\n",
              "        \n",
              "  <svg xmlns=\"http://www.w3.org/2000/svg\" height=\"24px\"viewBox=\"0 0 24 24\"\n",
              "       width=\"24px\">\n",
              "    <path d=\"M0 0h24v24H0V0z\" fill=\"none\"/>\n",
              "    <path d=\"M18.56 5.44l.94 2.06.94-2.06 2.06-.94-2.06-.94-.94-2.06-.94 2.06-2.06.94zm-11 1L8.5 8.5l.94-2.06 2.06-.94-2.06-.94L8.5 2.5l-.94 2.06-2.06.94zm10 10l.94 2.06.94-2.06 2.06-.94-2.06-.94-.94-2.06-.94 2.06-2.06.94z\"/><path d=\"M17.41 7.96l-1.37-1.37c-.4-.4-.92-.59-1.43-.59-.52 0-1.04.2-1.43.59L10.3 9.45l-7.72 7.72c-.78.78-.78 2.05 0 2.83L4 21.41c.39.39.9.59 1.41.59.51 0 1.02-.2 1.41-.59l7.78-7.78 2.81-2.81c.8-.78.8-2.07 0-2.86zM5.41 20L4 18.59l7.72-7.72 1.47 1.35L5.41 20z\"/>\n",
              "  </svg>\n",
              "      </button>\n",
              "      \n",
              "  <style>\n",
              "    .colab-df-container {\n",
              "      display:flex;\n",
              "      flex-wrap:wrap;\n",
              "      gap: 12px;\n",
              "    }\n",
              "\n",
              "    .colab-df-convert {\n",
              "      background-color: #E8F0FE;\n",
              "      border: none;\n",
              "      border-radius: 50%;\n",
              "      cursor: pointer;\n",
              "      display: none;\n",
              "      fill: #1967D2;\n",
              "      height: 32px;\n",
              "      padding: 0 0 0 0;\n",
              "      width: 32px;\n",
              "    }\n",
              "\n",
              "    .colab-df-convert:hover {\n",
              "      background-color: #E2EBFA;\n",
              "      box-shadow: 0px 1px 2px rgba(60, 64, 67, 0.3), 0px 1px 3px 1px rgba(60, 64, 67, 0.15);\n",
              "      fill: #174EA6;\n",
              "    }\n",
              "\n",
              "    [theme=dark] .colab-df-convert {\n",
              "      background-color: #3B4455;\n",
              "      fill: #D2E3FC;\n",
              "    }\n",
              "\n",
              "    [theme=dark] .colab-df-convert:hover {\n",
              "      background-color: #434B5C;\n",
              "      box-shadow: 0px 1px 3px 1px rgba(0, 0, 0, 0.15);\n",
              "      filter: drop-shadow(0px 1px 2px rgba(0, 0, 0, 0.3));\n",
              "      fill: #FFFFFF;\n",
              "    }\n",
              "  </style>\n",
              "\n",
              "      <script>\n",
              "        const buttonEl =\n",
              "          document.querySelector('#df-cbf48d0f-8028-4f8f-8e12-04f11e4ea2ef button.colab-df-convert');\n",
              "        buttonEl.style.display =\n",
              "          google.colab.kernel.accessAllowed ? 'block' : 'none';\n",
              "\n",
              "        async function convertToInteractive(key) {\n",
              "          const element = document.querySelector('#df-cbf48d0f-8028-4f8f-8e12-04f11e4ea2ef');\n",
              "          const dataTable =\n",
              "            await google.colab.kernel.invokeFunction('convertToInteractive',\n",
              "                                                     [key], {});\n",
              "          if (!dataTable) return;\n",
              "\n",
              "          const docLinkHtml = 'Like what you see? Visit the ' +\n",
              "            '<a target=\"_blank\" href=https://colab.research.google.com/notebooks/data_table.ipynb>data table notebook</a>'\n",
              "            + ' to learn more about interactive tables.';\n",
              "          element.innerHTML = '';\n",
              "          dataTable['output_type'] = 'display_data';\n",
              "          await google.colab.output.renderOutput(dataTable, element);\n",
              "          const docLink = document.createElement('div');\n",
              "          docLink.innerHTML = docLinkHtml;\n",
              "          element.appendChild(docLink);\n",
              "        }\n",
              "      </script>\n",
              "    </div>\n",
              "  </div>\n",
              "  "
            ]
          },
          "metadata": {},
          "execution_count": 13
        }
      ]
    },
    {
      "cell_type": "code",
      "source": [
        "DATASET_SIZE = len(img_name)\n",
        "Ind = range(DATASET_SIZE)\n",
        "Ind_train, Ind_test= train_test_split(Ind,test_size=0.20,stratify=label, shuffle=True, random_state=3)"
      ],
      "metadata": {
        "id": "vk_QGYQCE_b6"
      },
      "execution_count": null,
      "outputs": []
    },
    {
      "cell_type": "code",
      "source": [
        "X = np.array(X)\n",
        "X_train=X[Ind_train]\n",
        "X_test = X[Ind_test]\n",
        "y_train=y.iloc[Ind_train,:]\n",
        "y_test = y.iloc[Ind_test,:]"
      ],
      "metadata": {
        "id": "g8ZTu5WRZXkF"
      },
      "execution_count": null,
      "outputs": []
    },
    {
      "cell_type": "code",
      "source": [
        "X_train = X_train.reshape(-1, Img_Size, Img_Size, 3) / 255.0\n",
        "X_test = X_test.reshape(-1, Img_Size, Img_Size, 3) / 255.0"
      ],
      "metadata": {
        "id": "p0FNK5SZabVD"
      },
      "execution_count": null,
      "outputs": []
    },
    {
      "cell_type": "code",
      "source": [
        "# cnn check\n",
        "# https://www.ibm.com/cloud/learn/convolutional-neural-networks\n",
        "# https://www.tensorflow.org/tutorials/images/cnn"
      ],
      "metadata": {
        "id": "VrPYTRGRdQSM"
      },
      "execution_count": null,
      "outputs": []
    },
    {
      "cell_type": "code",
      "source": [
        "K = y.shape[1]\n",
        "model = Sequential()\n",
        "\n",
        "\n",
        "# make the CNN\n",
        "# model.add(Input(shape=(28, 28, 1)))\n",
        "model.add(Conv2D(input_shape=(Img_Size, Img_Size, 3), filters=32, kernel_size=(3, 3)))\n",
        "model.add(BatchNormalization())\n",
        "model.add(Activation('relu'))\n",
        "model.add(MaxPooling2D())\n",
        "\n",
        "model.add(Conv2D(filters=64, kernel_size=(3, 3)))\n",
        "model.add(BatchNormalization())\n",
        "model.add(Activation('relu'))\n",
        "model.add(MaxPooling2D())\n",
        "\n",
        "model.add(Conv2D(filters=128, kernel_size=(3, 3)))\n",
        "model.add(BatchNormalization())\n",
        "model.add(Activation('relu'))\n",
        "model.add(MaxPooling2D())\n",
        "\n",
        "model.add(Flatten())\n",
        "model.add(Dense(units=80))\n",
        "model.add(Activation('relu'))\n",
        "model.add(Dropout(0.2))\n",
        "model.add(Dense(units=K))\n",
        "model.add(Activation('softmax'))\n"
      ],
      "metadata": {
        "id": "wps7QCcOE6jF"
      },
      "execution_count": null,
      "outputs": []
    },
    {
      "cell_type": "code",
      "source": [
        "model.compile(\n",
        "  loss='categorical_crossentropy',\n",
        "  optimizer='adam',\n",
        "  metrics=['accuracy']\n",
        ")"
      ],
      "metadata": {
        "id": "ny8Q7RgPFo6q"
      },
      "execution_count": null,
      "outputs": []
    },
    {
      "cell_type": "code",
      "source": [
        "# gives us back a <keras.callbacks.History object at 0x112e61a90>\n",
        "r = model.fit(X_train, y_train, epochs=80, batch_size=32)\n",
        "print(\"Returned:\", r)"
      ],
      "metadata": {
        "id": "RA8D90Y_asjm",
        "outputId": "f3bfe9c0-8dc3-417f-a644-22eee76c3061",
        "colab": {
          "base_uri": "https://localhost:8080/"
        }
      },
      "execution_count": null,
      "outputs": [
        {
          "output_type": "stream",
          "name": "stdout",
          "text": [
            "Epoch 1/80\n",
            "64/64 [==============================] - 7s 61ms/step - loss: 3.5842 - accuracy: 0.2875\n",
            "Epoch 2/80\n",
            "64/64 [==============================] - 4s 58ms/step - loss: 1.6387 - accuracy: 0.3315\n",
            "Epoch 3/80\n",
            "64/64 [==============================] - 4s 58ms/step - loss: 1.5908 - accuracy: 0.3399\n",
            "Epoch 4/80\n",
            "64/64 [==============================] - 4s 58ms/step - loss: 1.5673 - accuracy: 0.3548\n",
            "Epoch 5/80\n",
            "64/64 [==============================] - 4s 58ms/step - loss: 1.5625 - accuracy: 0.3404\n",
            "Epoch 6/80\n",
            "64/64 [==============================] - 4s 58ms/step - loss: 1.5404 - accuracy: 0.3632\n",
            "Epoch 7/80\n",
            "64/64 [==============================] - 4s 58ms/step - loss: 1.5577 - accuracy: 0.3558\n",
            "Epoch 8/80\n",
            "64/64 [==============================] - 4s 58ms/step - loss: 1.5275 - accuracy: 0.3429\n",
            "Epoch 9/80\n",
            "64/64 [==============================] - 4s 58ms/step - loss: 1.5086 - accuracy: 0.3538\n",
            "Epoch 10/80\n",
            "64/64 [==============================] - 4s 58ms/step - loss: 1.5013 - accuracy: 0.3617\n",
            "Epoch 11/80\n",
            "64/64 [==============================] - 4s 58ms/step - loss: 1.4793 - accuracy: 0.3726\n",
            "Epoch 12/80\n",
            "64/64 [==============================] - 4s 58ms/step - loss: 1.4879 - accuracy: 0.3612\n",
            "Epoch 13/80\n",
            "64/64 [==============================] - 4s 58ms/step - loss: 1.4722 - accuracy: 0.3691\n",
            "Epoch 14/80\n",
            "64/64 [==============================] - 4s 58ms/step - loss: 1.4695 - accuracy: 0.3701\n",
            "Epoch 15/80\n",
            "64/64 [==============================] - 4s 58ms/step - loss: 1.4591 - accuracy: 0.3770\n",
            "Epoch 16/80\n",
            "64/64 [==============================] - 4s 62ms/step - loss: 1.4594 - accuracy: 0.3889\n",
            "Epoch 17/80\n",
            "64/64 [==============================] - 4s 58ms/step - loss: 1.4376 - accuracy: 0.3815\n",
            "Epoch 18/80\n",
            "64/64 [==============================] - 4s 58ms/step - loss: 1.4024 - accuracy: 0.4082\n",
            "Epoch 19/80\n",
            "64/64 [==============================] - 4s 58ms/step - loss: 1.4303 - accuracy: 0.4097\n",
            "Epoch 20/80\n",
            "64/64 [==============================] - 4s 58ms/step - loss: 1.4019 - accuracy: 0.4013\n",
            "Epoch 21/80\n",
            "64/64 [==============================] - 4s 58ms/step - loss: 1.3548 - accuracy: 0.4310\n",
            "Epoch 22/80\n",
            "64/64 [==============================] - 4s 59ms/step - loss: 1.3783 - accuracy: 0.4221\n",
            "Epoch 23/80\n",
            "64/64 [==============================] - 4s 59ms/step - loss: 1.3880 - accuracy: 0.4003\n",
            "Epoch 24/80\n",
            "64/64 [==============================] - 4s 58ms/step - loss: 1.3442 - accuracy: 0.4310\n",
            "Epoch 25/80\n",
            "64/64 [==============================] - 4s 58ms/step - loss: 1.3458 - accuracy: 0.4379\n",
            "Epoch 26/80\n",
            "64/64 [==============================] - 4s 58ms/step - loss: 1.3293 - accuracy: 0.4458\n",
            "Epoch 27/80\n",
            "64/64 [==============================] - 4s 58ms/step - loss: 1.3035 - accuracy: 0.4592\n",
            "Epoch 28/80\n",
            "64/64 [==============================] - 4s 58ms/step - loss: 1.2937 - accuracy: 0.4508\n",
            "Epoch 29/80\n",
            "64/64 [==============================] - 4s 58ms/step - loss: 1.2370 - accuracy: 0.4780\n",
            "Epoch 30/80\n",
            "64/64 [==============================] - 4s 58ms/step - loss: 1.2837 - accuracy: 0.4567\n",
            "Epoch 31/80\n",
            "64/64 [==============================] - 4s 58ms/step - loss: 1.2908 - accuracy: 0.4582\n",
            "Epoch 32/80\n",
            "64/64 [==============================] - 4s 59ms/step - loss: 1.2213 - accuracy: 0.4810\n",
            "Epoch 33/80\n",
            "64/64 [==============================] - 4s 58ms/step - loss: 1.2031 - accuracy: 0.4839\n",
            "Epoch 34/80\n",
            "64/64 [==============================] - 4s 58ms/step - loss: 1.1813 - accuracy: 0.5042\n",
            "Epoch 35/80\n",
            "64/64 [==============================] - 4s 58ms/step - loss: 1.1674 - accuracy: 0.5106\n",
            "Epoch 36/80\n",
            "64/64 [==============================] - 4s 58ms/step - loss: 1.1593 - accuracy: 0.5151\n",
            "Epoch 37/80\n",
            "64/64 [==============================] - 4s 58ms/step - loss: 1.1555 - accuracy: 0.5032\n",
            "Epoch 38/80\n",
            "64/64 [==============================] - 4s 58ms/step - loss: 1.1343 - accuracy: 0.5230\n",
            "Epoch 39/80\n",
            "64/64 [==============================] - 4s 58ms/step - loss: 1.1629 - accuracy: 0.5126\n",
            "Epoch 40/80\n",
            "64/64 [==============================] - 4s 58ms/step - loss: 1.1249 - accuracy: 0.5245\n",
            "Epoch 41/80\n",
            "64/64 [==============================] - 4s 58ms/step - loss: 1.1121 - accuracy: 0.5309\n",
            "Epoch 42/80\n",
            "64/64 [==============================] - 4s 58ms/step - loss: 1.0889 - accuracy: 0.5448\n",
            "Epoch 43/80\n",
            "64/64 [==============================] - 4s 58ms/step - loss: 1.1227 - accuracy: 0.5146\n",
            "Epoch 44/80\n",
            "64/64 [==============================] - 4s 58ms/step - loss: 1.0659 - accuracy: 0.5532\n",
            "Epoch 45/80\n",
            "64/64 [==============================] - 4s 58ms/step - loss: 1.0898 - accuracy: 0.5443\n",
            "Epoch 46/80\n",
            "64/64 [==============================] - 4s 58ms/step - loss: 1.0901 - accuracy: 0.5369\n",
            "Epoch 47/80\n",
            "64/64 [==============================] - 4s 58ms/step - loss: 1.0506 - accuracy: 0.5497\n",
            "Epoch 48/80\n",
            "64/64 [==============================] - 4s 58ms/step - loss: 1.0631 - accuracy: 0.5468\n",
            "Epoch 49/80\n",
            "64/64 [==============================] - 4s 58ms/step - loss: 1.0432 - accuracy: 0.5606\n",
            "Epoch 50/80\n",
            "64/64 [==============================] - 4s 58ms/step - loss: 1.0588 - accuracy: 0.5458\n",
            "Epoch 51/80\n",
            "64/64 [==============================] - 4s 58ms/step - loss: 1.0216 - accuracy: 0.5581\n",
            "Epoch 52/80\n",
            "64/64 [==============================] - 4s 58ms/step - loss: 1.0226 - accuracy: 0.5631\n",
            "Epoch 53/80\n",
            "64/64 [==============================] - 4s 58ms/step - loss: 1.0427 - accuracy: 0.5502\n",
            "Epoch 54/80\n",
            "64/64 [==============================] - 4s 63ms/step - loss: 1.0550 - accuracy: 0.5463\n",
            "Epoch 55/80\n",
            "64/64 [==============================] - 4s 63ms/step - loss: 1.0453 - accuracy: 0.5576\n",
            "Epoch 56/80\n",
            "64/64 [==============================] - 4s 58ms/step - loss: 0.9828 - accuracy: 0.5730\n",
            "Epoch 57/80\n",
            "64/64 [==============================] - 4s 59ms/step - loss: 0.9825 - accuracy: 0.5888\n",
            "Epoch 58/80\n",
            "64/64 [==============================] - 4s 59ms/step - loss: 0.9905 - accuracy: 0.5769\n",
            "Epoch 59/80\n",
            "64/64 [==============================] - 4s 58ms/step - loss: 1.0584 - accuracy: 0.5487\n",
            "Epoch 60/80\n",
            "64/64 [==============================] - 4s 58ms/step - loss: 0.9544 - accuracy: 0.5844\n",
            "Epoch 61/80\n",
            "64/64 [==============================] - 4s 58ms/step - loss: 0.9335 - accuracy: 0.5918\n",
            "Epoch 62/80\n",
            "64/64 [==============================] - 4s 58ms/step - loss: 1.0142 - accuracy: 0.5715\n",
            "Epoch 63/80\n",
            "64/64 [==============================] - 4s 58ms/step - loss: 0.9436 - accuracy: 0.5943\n",
            "Epoch 64/80\n",
            "64/64 [==============================] - 4s 59ms/step - loss: 0.9274 - accuracy: 0.5982\n",
            "Epoch 65/80\n",
            "64/64 [==============================] - 4s 58ms/step - loss: 0.9586 - accuracy: 0.6017\n",
            "Epoch 66/80\n",
            "64/64 [==============================] - 4s 58ms/step - loss: 0.9163 - accuracy: 0.5928\n",
            "Epoch 67/80\n",
            "64/64 [==============================] - 4s 58ms/step - loss: 0.9232 - accuracy: 0.5938\n",
            "Epoch 68/80\n",
            "64/64 [==============================] - 4s 58ms/step - loss: 0.8706 - accuracy: 0.6225\n",
            "Epoch 69/80\n",
            "64/64 [==============================] - 4s 58ms/step - loss: 0.9018 - accuracy: 0.6071\n",
            "Epoch 70/80\n",
            "64/64 [==============================] - 4s 58ms/step - loss: 0.8923 - accuracy: 0.6056\n",
            "Epoch 71/80\n",
            "64/64 [==============================] - 4s 58ms/step - loss: 0.8385 - accuracy: 0.6279\n",
            "Epoch 72/80\n",
            "64/64 [==============================] - 4s 58ms/step - loss: 0.9013 - accuracy: 0.6111\n",
            "Epoch 73/80\n",
            "64/64 [==============================] - 4s 60ms/step - loss: 0.8821 - accuracy: 0.6091\n",
            "Epoch 74/80\n",
            "64/64 [==============================] - 4s 58ms/step - loss: 0.8497 - accuracy: 0.6249\n",
            "Epoch 75/80\n",
            "64/64 [==============================] - 4s 58ms/step - loss: 0.8462 - accuracy: 0.6314\n",
            "Epoch 76/80\n",
            "64/64 [==============================] - 4s 58ms/step - loss: 0.8433 - accuracy: 0.6220\n",
            "Epoch 77/80\n",
            "64/64 [==============================] - 4s 58ms/step - loss: 0.8761 - accuracy: 0.6145\n",
            "Epoch 78/80\n",
            "64/64 [==============================] - 4s 58ms/step - loss: 0.9097 - accuracy: 0.5987\n",
            "Epoch 79/80\n",
            "64/64 [==============================] - 4s 58ms/step - loss: 0.8422 - accuracy: 0.6239\n",
            "Epoch 80/80\n",
            "64/64 [==============================] - 4s 58ms/step - loss: 0.8285 - accuracy: 0.6284\n",
            "Returned: <keras.callbacks.History object at 0x7fd2723d5c10>\n"
          ]
        }
      ]
    },
    {
      "cell_type": "code",
      "source": [
        "# plot some data\n",
        "plt.plot(r.history['loss'], label='loss')\n",
        "#plt.plot(r.history['val_loss'], label='val_loss')\n",
        "plt.legend()\n",
        "plt.show()"
      ],
      "metadata": {
        "id": "MGi_V_Akbo56",
        "outputId": "644ff359-893e-4d44-c3b8-068bcc4ba04b",
        "colab": {
          "base_uri": "https://localhost:8080/",
          "height": 265
        }
      },
      "execution_count": null,
      "outputs": [
        {
          "output_type": "display_data",
          "data": {
            "text/plain": [
              "<Figure size 432x288 with 1 Axes>"
            ],
            "image/png": "[encoded data removed]"
          },
          "metadata": {
            "needs_background": "light"
          }
        }
      ]
    },
    {
      "cell_type": "code",
      "source": [
        "# accuracies\n",
        "plt.plot(r.history['accuracy'], label='acc')\n",
        "#plt.plot(r.history['val_accuracy'], label='val_acc')\n",
        "plt.legend()\n",
        "plt.show()"
      ],
      "metadata": {
        "id": "uJCsAUTRbqIA",
        "outputId": "8f4e8dc3-c5d6-4ff3-9357-e5c26ebfe8dd",
        "colab": {
          "base_uri": "https://localhost:8080/",
          "height": 265
        }
      },
      "execution_count": null,
      "outputs": [
        {
          "output_type": "display_data",
          "data": {
            "text/plain": [
              "<Figure size 432x288 with 1 Axes>"
            ],
            "image/png": "[encoded data removed]"
          },
          "metadata": {
            "needs_background": "light"
          }
        }
      ]
    },
    {
      "cell_type": "code",
      "source": [],
      "metadata": {
        "id": "efUXZx9_dktN"
      },
      "execution_count": null,
      "outputs": []
    },
    {
      "cell_type": "code",
      "source": [
        "def retorna(y):\n",
        "  resp = []\n",
        "  for yi in y:\n",
        "    vmax =max(yi)\n",
        "    for idx, x in enumerate(yi):\n",
        "      if(x == vmax):\n",
        "        resp.append(idx)\n",
        "  return resp"
      ],
      "metadata": {
        "id": "xdlcp6zcZ6hT"
      },
      "execution_count": null,
      "outputs": []
    },
    {
      "cell_type": "code",
      "source": [
        "test_loss, test_acc = model.evaluate(X_test,  y_test, verbose=2)\n"
      ],
      "metadata": {
        "id": "mXNt2lL7aH0g",
        "outputId": "fc64e9be-7f33-466c-e3ae-03a6ae3295ee",
        "colab": {
          "base_uri": "https://localhost:8080/"
        }
      },
      "execution_count": null,
      "outputs": [
        {
          "output_type": "stream",
          "name": "stdout",
          "text": [
            "16/16 - 1s - loss: 1.3225 - accuracy: 0.5277 - 758ms/epoch - 47ms/step\n"
          ]
        }
      ]
    },
    {
      "cell_type": "code",
      "source": [
        "pd.__version__"
      ],
      "metadata": {
        "id": "T36u6fVlkYMh",
        "outputId": "7cb38de1-bfdc-4d9b-a458-8f446880b6c9",
        "colab": {
          "base_uri": "https://localhost:8080/",
          "height": 35
        }
      },
      "execution_count": null,
      "outputs": [
        {
          "output_type": "execute_result",
          "data": {
            "text/plain": [
              "'1.3.5'"
            ],
            "application/vnd.google.colaboratory.intrinsic+json": {
              "type": "string"
            }
          },
          "metadata": {},
          "execution_count": 25
        }
      ]
    },
    {
      "cell_type": "code",
      "source": [
        "predict=model.predict(X_test) "
      ],
      "metadata": {
        "id": "y7yYVDv3f6nQ"
      },
      "execution_count": null,
      "outputs": []
    },
    {
      "cell_type": "code",
      "source": [
        "y_calc = retorna(predict)\n",
        "y_test = retorna(np.array(y_test))"
      ],
      "metadata": {
        "id": "XpSn6Htz5O4l"
      },
      "execution_count": null,
      "outputs": []
    },
    {
      "cell_type": "code",
      "source": [
        "confusion_matrix(y_test, y_calc)"
      ],
      "metadata": {
        "id": "4HToHynCM43p",
        "outputId": "eeb7f91a-69f4-4560-ae17-7b15702815e3",
        "colab": {
          "base_uri": "https://localhost:8080/"
        }
      },
      "execution_count": null,
      "outputs": [
        {
          "output_type": "execute_result",
          "data": {
            "text/plain": [
              "array([[55,  8,  3, 13,  2,  0],\n",
              "       [ 1, 70, 15, 11,  3,  0],\n",
              "       [ 2, 27, 34, 17,  2,  0],\n",
              "       [ 3,  9,  6, 99,  2,  0],\n",
              "       [ 1, 68,  4, 15,  9,  0],\n",
              "       [ 1, 12,  0,  9,  5,  0]])"
            ]
          },
          "metadata": {},
          "execution_count": 44
        }
      ]
    },
    {
      "cell_type": "code",
      "source": [
        "# Classification Report\n",
        "print('\\n\\n', classification_report(y_test, y_calc, target_names=tipos))"
      ],
      "metadata": {
        "id": "ERrFAB10Om7P",
        "outputId": "30ab1065-b324-4905-a165-a5a8ba6643b7",
        "colab": {
          "base_uri": "https://localhost:8080/"
        }
      },
      "execution_count": null,
      "outputs": [
        {
          "output_type": "stream",
          "name": "stdout",
          "text": [
            "\n",
            "\n",
            "               precision    recall  f1-score   support\n",
            "\n",
            "   cardboard       0.87      0.68      0.76        81\n",
            "       glass       0.36      0.70      0.48       100\n",
            "       metal       0.55      0.41      0.47        82\n",
            "       paper       0.60      0.83      0.70       119\n",
            "     plastic       0.39      0.09      0.15        97\n",
            "       trash       0.00      0.00      0.00        27\n",
            "\n",
            "    accuracy                           0.53       506\n",
            "   macro avg       0.46      0.45      0.43       506\n",
            "weighted avg       0.52      0.53      0.49       506\n",
            "\n"
          ]
        },
        {
          "output_type": "stream",
          "name": "stderr",
          "text": [
            "/usr/local/lib/python3.7/dist-packages/sklearn/metrics/_classification.py:1318: UndefinedMetricWarning: Precision and F-score are ill-defined and being set to 0.0 in labels with no predicted samples. Use `zero_division` parameter to control this behavior.\n",
            "  _warn_prf(average, modifier, msg_start, len(result))\n",
            "/usr/local/lib/python3.7/dist-packages/sklearn/metrics/_classification.py:1318: UndefinedMetricWarning: Precision and F-score are ill-defined and being set to 0.0 in labels with no predicted samples. Use `zero_division` parameter to control this behavior.\n",
            "  _warn_prf(average, modifier, msg_start, len(result))\n",
            "/usr/local/lib/python3.7/dist-packages/sklearn/metrics/_classification.py:1318: UndefinedMetricWarning: Precision and F-score are ill-defined and being set to 0.0 in labels with no predicted samples. Use `zero_division` parameter to control this behavior.\n",
            "  _warn_prf(average, modifier, msg_start, len(result))\n"
          ]
        }
      ]
    },
    {
      "cell_type": "code",
      "source": [
        "# Classification Report\n",
        "print('\\n\\n', classification_report(y_test, y_test, target_names=tipos))"
      ],
      "metadata": {
        "id": "tQ4iLQcdliMX",
        "outputId": "f0ad8876-ec9e-4d4c-a181-448ef5bf4ddb",
        "colab": {
          "base_uri": "https://localhost:8080/"
        }
      },
      "execution_count": null,
      "outputs": [
        {
          "output_type": "stream",
          "name": "stdout",
          "text": [
            "\n",
            "\n",
            "               precision    recall  f1-score   support\n",
            "\n",
            "   cardboard       1.00      1.00      1.00        81\n",
            "       glass       1.00      1.00      1.00       100\n",
            "       metal       1.00      1.00      1.00        82\n",
            "       paper       1.00      1.00      1.00       119\n",
            "     plastic       1.00      1.00      1.00        97\n",
            "       trash       1.00      1.00      1.00        27\n",
            "\n",
            "    accuracy                           1.00       506\n",
            "   macro avg       1.00      1.00      1.00       506\n",
            "weighted avg       1.00      1.00      1.00       506\n",
            "\n"
          ]
        }
      ]
    }
  ]
}