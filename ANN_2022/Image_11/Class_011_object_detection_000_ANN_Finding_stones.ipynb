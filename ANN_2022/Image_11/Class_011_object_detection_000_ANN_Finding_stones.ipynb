{
  "cells": [
    {
      "cell_type": "markdown",
      "metadata": {
        "id": "view-in-github",
        "colab_type": "text"
      },
      "source": [
        "<a href=\"https://colab.research.google.com/github/ucfilho/ANN/blob/master/ANN_2022/Image_11/Class_011_object_detection_000_ANN_Finding_stones.ipynb\" target=\"_parent\"><img src=\"https://colab.research.google.com/assets/colab-badge.svg\" alt=\"Open In Colab\"/></a>"
      ]
    },
    {
      "cell_type": "markdown",
      "metadata": {
        "id": "srlV8eGdG0eS"
      },
      "source": [
        "# Neural Network find places where there are the stones"
      ]
    },
    {
      "cell_type": "code",
      "execution_count": null,
      "metadata": {
        "id": "V_AQLBugG0eT"
      },
      "outputs": [],
      "source": [
        "import cv2\n",
        "import numpy as np\n",
        "import matplotlib.pyplot as plt\n",
        "import zipfile\n",
        "import pandas as pd\n",
        "from sklearn.model_selection import train_test_split\n",
        "from sklearn.metrics import classification_report, confusion_matrix\n",
        "%matplotlib inline"
      ]
    },
    {
      "cell_type": "code",
      "source": [
        "!git clone https://github.com/ucfilho/Machine_Learning_DataSet\n",
        "%cd Machine_Learning_DataSet"
      ],
      "metadata": {
        "colab": {
          "base_uri": "https://localhost:8080/"
        },
        "id": "BLK10uyKHFXK",
        "outputId": "6d5850b6-4be1-420e-de8e-327ceb4641e8"
      },
      "execution_count": null,
      "outputs": [
        {
          "output_type": "stream",
          "name": "stdout",
          "text": [
            "fatal: destination path 'Machine_Learning_DataSet' already exists and is not an empty directory.\n",
            "/content/Machine_Learning_DataSet\n"
          ]
        }
      ]
    },
    {
      "cell_type": "code",
      "source": [
        "!gdown 1EMAqxWAIDJXqZv4qyAK-mDbx3X-uh7jp"
      ],
      "metadata": {
        "colab": {
          "base_uri": "https://localhost:8080/"
        },
        "id": "ByBbKV7drNj1",
        "outputId": "ee2cd0d9-e0d4-4345-f298-3431c71f4825"
      },
      "execution_count": null,
      "outputs": [
        {
          "output_type": "stream",
          "name": "stdout",
          "text": [
            "Downloading...\n",
            "From: https://drive.google.com/uc?id=1EMAqxWAIDJXqZv4qyAK-mDbx3X-uh7jp\n",
            "To: /content/Machine_Learning_DataSet/find_stones_area.zip\n",
            "100% 113M/113M [00:00<00:00, 370MB/s]\n"
          ]
        }
      ]
    },
    {
      "cell_type": "code",
      "source": [
        "FILE='find_stones_area.zip'"
      ],
      "metadata": {
        "id": "HrxjDhzArpVO"
      },
      "execution_count": null,
      "outputs": []
    },
    {
      "cell_type": "code",
      "source": [
        "archive = zipfile.ZipFile(FILE, 'r')\n",
        "archive.extractall()"
      ],
      "metadata": {
        "id": "9ojBZUGbr6Nm"
      },
      "execution_count": null,
      "outputs": []
    },
    {
      "cell_type": "code",
      "source": [
        "img_name=[]\n",
        "with zipfile.ZipFile(FILE, \"r\") as f:\n",
        "    for name in f.namelist():\n",
        "        img_name.append(name)"
      ],
      "metadata": {
        "id": "r8q6WQ5AsC-W"
      },
      "execution_count": null,
      "outputs": []
    },
    {
      "cell_type": "code",
      "source": [
        "#img_name"
      ],
      "metadata": {
        "id": "CMr_g9jPsRlv"
      },
      "execution_count": null,
      "outputs": []
    },
    {
      "cell_type": "code",
      "execution_count": null,
      "metadata": {
        "id": "RLqan-XKG0eV"
      },
      "outputs": [],
      "source": [
        "stones2find = cv2.imread('20221103_143816quarter.jpg',0)"
      ]
    },
    {
      "cell_type": "code",
      "source": [
        "h,w = stones2find.shape\n",
        "print(w,h)"
      ],
      "metadata": {
        "id": "e6T_RXuk57Dj",
        "outputId": "86e16e4e-00ef-4589-86ab-b0a0cd38f7f7",
        "colab": {
          "base_uri": "https://localhost:8080/"
        }
      },
      "execution_count": null,
      "outputs": [
        {
          "output_type": "stream",
          "name": "stdout",
          "text": [
            "1860 4032\n"
          ]
        }
      ]
    },
    {
      "cell_type": "code",
      "source": [
        "stones2find.shape"
      ],
      "metadata": {
        "id": "fGjyR24B6g2i",
        "outputId": "2d14fc08-33a8-4416-af2a-c210cb4c9d93",
        "colab": {
          "base_uri": "https://localhost:8080/"
        }
      },
      "execution_count": null,
      "outputs": [
        {
          "output_type": "execute_result",
          "data": {
            "text/plain": [
              "(4032, 1860)"
            ]
          },
          "metadata": {},
          "execution_count": 10
        }
      ]
    },
    {
      "cell_type": "code",
      "source": [
        "hi, hf = 1000, 2800\n",
        "valor = hf - hi\n",
        "img=np.zeros((valor,w)).astype(np.int64)"
      ],
      "metadata": {
        "id": "1qXWtY-n49Vk"
      },
      "execution_count": null,
      "outputs": []
    },
    {
      "cell_type": "code",
      "source": [
        "img.shape"
      ],
      "metadata": {
        "id": "8sOhgbRc7mWD",
        "outputId": "8477ac4c-1d1a-404a-cab1-321e17c2dafe",
        "colab": {
          "base_uri": "https://localhost:8080/"
        }
      },
      "execution_count": null,
      "outputs": [
        {
          "output_type": "execute_result",
          "data": {
            "text/plain": [
              "(1800, 1860)"
            ]
          },
          "metadata": {},
          "execution_count": 12
        }
      ]
    },
    {
      "cell_type": "code",
      "source": [
        "\n",
        "for i in range(valor):\n",
        "  for j in range(w):\n",
        "    img[i,j]=stones2find[i+hi,j]\n"
      ],
      "metadata": {
        "id": "WEHzOkfG7EBj"
      },
      "execution_count": null,
      "outputs": []
    },
    {
      "cell_type": "code",
      "source": [
        "stones2find = img"
      ],
      "metadata": {
        "id": "WAK5NCeH6D6a"
      },
      "execution_count": null,
      "outputs": []
    },
    {
      "cell_type": "code",
      "execution_count": null,
      "metadata": {
        "id": "aSleDPkkG0ea",
        "colab": {
          "base_uri": "https://localhost:8080/"
        },
        "outputId": "5b2731ab-03db-4b83-8631-2371b47c45bd"
      },
      "outputs": [
        {
          "output_type": "execute_result",
          "data": {
            "text/plain": [
              "(1800, 1860)"
            ]
          },
          "metadata": {},
          "execution_count": 15
        }
      ],
      "source": [
        "nrow, ncol = stones2find.shape\n",
        "nrow, ncol"
      ]
    },
    {
      "cell_type": "code",
      "source": [
        "size = 50\n",
        "horiz = int(nrow/size)\n",
        "vert = int(ncol/size)\n",
        "segmentation = []\n",
        "for i in range(horiz):\n",
        "  h = i*size\n",
        "  for j in range(vert):\n",
        "    w = j*size\n",
        "    img=np.zeros((size,size)).astype(np.int64)\n",
        "    for ii in range(size):\n",
        "      for jj in range(size):\n",
        "        img[ii,jj] = stones2find[ii+h,jj+w]\n",
        "    \n",
        "    segmentation.append(img)\n",
        "\n",
        "\n",
        "\n",
        "#plt.figure(figsize=(5,5))\n",
        "#plt.imshow(img)"
      ],
      "metadata": {
        "id": "6dL8wpBLwuzp"
      },
      "execution_count": null,
      "outputs": []
    },
    {
      "cell_type": "code",
      "source": [
        "len(segmentation)"
      ],
      "metadata": {
        "colab": {
          "base_uri": "https://localhost:8080/"
        },
        "id": "VsYdIvDKABey",
        "outputId": "f76b47ee-672c-489a-be19-8be9bef39768"
      },
      "execution_count": null,
      "outputs": [
        {
          "output_type": "execute_result",
          "data": {
            "text/plain": [
              "1332"
            ]
          },
          "metadata": {},
          "execution_count": 17
        }
      ]
    },
    {
      "cell_type": "code",
      "source": [
        "horiz*vert"
      ],
      "metadata": {
        "colab": {
          "base_uri": "https://localhost:8080/"
        },
        "id": "_QnEzYq5ALHr",
        "outputId": "88809d43-014f-4397-f6e6-2adaea053d48"
      },
      "execution_count": null,
      "outputs": [
        {
          "output_type": "execute_result",
          "data": {
            "text/plain": [
              "1332"
            ]
          },
          "metadata": {},
          "execution_count": 18
        }
      ]
    },
    {
      "cell_type": "code",
      "source": [
        "'''\n",
        "plt.figure(figsize=(30, 30))\n",
        "n = horiz*vert\n",
        "for i in range(n): \n",
        "  ax = plt.subplot(horiz, vert, i + 1)\n",
        "  plt.imshow(segmentation[i], cmap=\"gray\")\n",
        "  #plt.title(i)\n",
        "  plt.axis(\"off\")\n",
        "'''"
      ],
      "metadata": {
        "id": "Fbi5t2eQxS7q",
        "colab": {
          "base_uri": "https://localhost:8080/",
          "height": 38
        },
        "outputId": "4c5f4481-1e22-463e-ac8e-4c982cdd2d44"
      },
      "execution_count": null,
      "outputs": [
        {
          "output_type": "execute_result",
          "data": {
            "text/plain": [
              "'\\nplt.figure(figsize=(30, 30))\\nn = horiz*vert\\nfor i in range(n): \\n  ax = plt.subplot(horiz, vert, i + 1)\\n  plt.imshow(segmentation[i], cmap=\"gray\")\\n  #plt.title(i)\\n  plt.axis(\"off\")\\n'"
            ],
            "application/vnd.google.colaboratory.intrinsic+json": {
              "type": "string"
            }
          },
          "metadata": {},
          "execution_count": 19
        }
      ]
    },
    {
      "cell_type": "code",
      "source": [
        "def result2y(y,number,classes):\n",
        "  k = 0\n",
        "  for ni in number:\n",
        "    for i in range(number[k]):\n",
        "      y.append(classes[k])\n",
        "    k = k +1\n",
        "  return y\n",
        "\n",
        "# note: y=[0,1,2,3] for outside, border,grain, stone ( y =[] first time)\n",
        "#       number = [n1,n2,n3,..] ni reprents number of times yi appear in sequence\n",
        "#       classes = [y1,y2,y3,..] yi= 0,1,2, 3 depending outside, border, grain or stone\n",
        "# exemple: first row we have number = [36] and classes =[0]\n",
        "#          sixth row we have number =[7,21,8] and classes=[0,1,0]"
      ],
      "metadata": {
        "id": "Scv3QXrovNRq"
      },
      "execution_count": null,
      "outputs": []
    },
    {
      "cell_type": "code",
      "source": [
        "'''\n",
        "# 1st step\n",
        "plt.figure(figsize=(30, 5))\n",
        "horiz = 5\n",
        "nold = 0 \n",
        "n = horiz*vert\n",
        "\n",
        "for i in range(n): \n",
        "  ax = plt.subplot(horiz, vert, i + 1)\n",
        "  plt.imshow(segmentation[i+nold], cmap=\"gray\")\n",
        "  #plt.title(i)\n",
        "  plt.axis(\"off\")\n",
        "\n",
        "nold = nold + n\n",
        "'''"
      ],
      "metadata": {
        "id": "_0CN1axD9l1i",
        "colab": {
          "base_uri": "https://localhost:8080/",
          "height": 55
        },
        "outputId": "a34e2e15-25f3-4b50-a05b-742bb3b3ee32"
      },
      "execution_count": null,
      "outputs": [
        {
          "output_type": "execute_result",
          "data": {
            "text/plain": [
              "'\\n# 1st step\\nplt.figure(figsize=(30, 5))\\nhoriz = 5\\nnold = 0 \\nn = horiz*vert\\n\\nfor i in range(n): \\n  ax = plt.subplot(horiz, vert, i + 1)\\n  plt.imshow(segmentation[i+nold], cmap=\"gray\")\\n  #plt.title(i)\\n  plt.axis(\"off\")\\n\\nnold = nold + n\\n'"
            ],
            "application/vnd.google.colaboratory.intrinsic+json": {
              "type": "string"
            }
          },
          "metadata": {},
          "execution_count": 21
        }
      ]
    },
    {
      "cell_type": "code",
      "source": [
        "# rows 1 to 5: \n",
        "y = []\n",
        "\n",
        "for i in range(5):\n",
        "  number = [37]; classes =[0]; y=result2y(y,number,classes)\n",
        "\n",
        "print('num y',len(y))"
      ],
      "metadata": {
        "id": "IOmZYDJf29VV",
        "colab": {
          "base_uri": "https://localhost:8080/"
        },
        "outputId": "a464009e-b1fd-45e7-8b7f-9ec7d1901aa0"
      },
      "execution_count": null,
      "outputs": [
        {
          "output_type": "stream",
          "name": "stdout",
          "text": [
            "num y 185\n"
          ]
        }
      ]
    },
    {
      "cell_type": "code",
      "source": [
        "'''\n",
        "# 2nd step\n",
        "plt.figure(figsize=(30, 5))\n",
        "horiz = 5\n",
        "# nold = 0 \n",
        "n = horiz*vert\n",
        "\n",
        "for i in range(n): \n",
        "  ax = plt.subplot(horiz, vert, i + 1)\n",
        "  plt.imshow(segmentation[i+nold], cmap=\"gray\")\n",
        "  #plt.title(i)\n",
        "  plt.axis(\"off\")\n",
        "  \n",
        "nold = nold + n\n",
        "'''"
      ],
      "metadata": {
        "id": "siDAvgEl_j_U",
        "colab": {
          "base_uri": "https://localhost:8080/",
          "height": 55
        },
        "outputId": "afa716dc-2544-4445-8591-caead423a0f0"
      },
      "execution_count": null,
      "outputs": [
        {
          "output_type": "execute_result",
          "data": {
            "text/plain": [
              "'\\n# 2nd step\\nplt.figure(figsize=(30, 5))\\nhoriz = 5\\n# nold = 0 \\nn = horiz*vert\\n\\nfor i in range(n): \\n  ax = plt.subplot(horiz, vert, i + 1)\\n  plt.imshow(segmentation[i+nold], cmap=\"gray\")\\n  #plt.title(i)\\n  plt.axis(\"off\")\\n  \\nnold = nold + n\\n'"
            ],
            "application/vnd.google.colaboratory.intrinsic+json": {
              "type": "string"
            }
          },
          "metadata": {},
          "execution_count": 23
        }
      ]
    },
    {
      "cell_type": "code",
      "source": [
        "# 6th row: \n",
        "number = [7,21,9]; classes =[0,1,0]; y=result2y(y,number,classes)\n",
        "# rows 7 to 10\n",
        "number = [7,2,12,1,4,2,9]\n",
        "classes =[0,1,2,3,2,1,0]\n",
        "y=result2y(y,number,classes)\n",
        "\n",
        "#-------------\n",
        "number = [7,2,10,3,2,1,1,2,9] \n",
        "classes =[0,1,2, 3,2,3,2,1,0]\n",
        "y=result2y(y,number,classes)\n",
        "#-------------\n",
        "number = [7,2,7,5,3,1,1,2,9] \n",
        "classes =[0,1,2,3,2,3,2,1,0]\n",
        "y=result2y(y,number,classes)\n",
        "#-------------\n",
        "number = [7,2,8,4,5,2,9]\n",
        "classes =[0,1,2,3,2,1,0]\n",
        "y=result2y(y,number,classes)\n",
        "\n",
        "print('num y',len(y))"
      ],
      "metadata": {
        "id": "PjbknLJR3qGZ",
        "colab": {
          "base_uri": "https://localhost:8080/"
        },
        "outputId": "81817747-5446-423f-8960-981c9754fbf8"
      },
      "execution_count": null,
      "outputs": [
        {
          "output_type": "stream",
          "name": "stdout",
          "text": [
            "num y 370\n"
          ]
        }
      ]
    },
    {
      "cell_type": "code",
      "source": [
        "'''\n",
        "# 3nd step\n",
        "plt.figure(figsize=(30, 5))\n",
        "horiz = 5\n",
        "# nold = 0 \n",
        "n = horiz*vert\n",
        "\n",
        "for i in range(n): \n",
        "  ax = plt.subplot(horiz, vert, i + 1)\n",
        "  plt.imshow(segmentation[i+nold], cmap=\"gray\")\n",
        "  #plt.title(i)\n",
        "  plt.axis(\"off\")\n",
        "  \n",
        "nold = nold + n\n",
        "'''"
      ],
      "metadata": {
        "id": "ayW3ESXVwsiw",
        "colab": {
          "base_uri": "https://localhost:8080/",
          "height": 55
        },
        "outputId": "4c348bbf-da0e-4d56-e5c8-caf530bf3c32"
      },
      "execution_count": null,
      "outputs": [
        {
          "output_type": "execute_result",
          "data": {
            "text/plain": [
              "'\\n# 3nd step\\nplt.figure(figsize=(30, 5))\\nhoriz = 5\\n# nold = 0 \\nn = horiz*vert\\n\\nfor i in range(n): \\n  ax = plt.subplot(horiz, vert, i + 1)\\n  plt.imshow(segmentation[i+nold], cmap=\"gray\")\\n  #plt.title(i)\\n  plt.axis(\"off\")\\n  \\nnold = nold + n\\n'"
            ],
            "application/vnd.google.colaboratory.intrinsic+json": {
              "type": "string"
            }
          },
          "metadata": {},
          "execution_count": 25
        }
      ]
    },
    {
      "cell_type": "code",
      "source": [
        "# rows 11 to 15\n",
        "number = [8,1,4,5,1,7,2,9]\n",
        "classes= [0,1,2,3,2,3,1,0]\n",
        "y=result2y(y,number,classes)\n",
        "#-----------------\n",
        "number = [8,1,4,5,1,8,1,9]\n",
        "classes= [0,1,2,3,2,3,1,0]\n",
        "y=result2y(y,number,classes)\n",
        "#-----------------\n",
        "number = [8,1,2,15,2,9]\n",
        "classes= [0,1,2,3 ,1,0]\n",
        "y=result2y(y,number,classes)\n",
        "#-----------------\n",
        "number = [8,1,1,15,1,2,9]\n",
        "classes= [0,1,2,3 ,2,1,0]\n",
        "y=result2y(y,number,classes)\n",
        "#-----------------\n",
        "number = [8,1,3,7,1,4,2,2,9]\n",
        "classes= [0,1,2,3,2,3,2,1,0]\n",
        "y=result2y(y,number,classes)\n",
        "#-----------------\n",
        "print('num y',len(y))"
      ],
      "metadata": {
        "colab": {
          "base_uri": "https://localhost:8080/"
        },
        "id": "cU4uXSUauAYt",
        "outputId": "bc1cc836-2133-45fb-c6f6-1360ba7c1dd6"
      },
      "execution_count": null,
      "outputs": [
        {
          "output_type": "stream",
          "name": "stdout",
          "text": [
            "num y 555\n"
          ]
        }
      ]
    },
    {
      "cell_type": "code",
      "source": [
        "'''\n",
        "# 4th step\n",
        "plt.figure(figsize=(30, 5))\n",
        "horiz = 5\n",
        "# nold = 0 \n",
        "n = horiz*vert\n",
        "\n",
        "for i in range(n): \n",
        "  ax = plt.subplot(horiz, vert, i + 1)\n",
        "  plt.imshow(segmentation[i+nold], cmap=\"gray\")\n",
        "  #plt.title(i)\n",
        "  plt.axis(\"off\")\n",
        "  \n",
        "nold = nold + n\n",
        "'''"
      ],
      "metadata": {
        "id": "Lnal559VyPAo",
        "colab": {
          "base_uri": "https://localhost:8080/",
          "height": 55
        },
        "outputId": "b9db827e-78df-4d75-d8bc-973909ee9b3c"
      },
      "execution_count": null,
      "outputs": [
        {
          "output_type": "execute_result",
          "data": {
            "text/plain": [
              "'\\n# 4th step\\nplt.figure(figsize=(30, 5))\\nhoriz = 5\\n# nold = 0 \\nn = horiz*vert\\n\\nfor i in range(n): \\n  ax = plt.subplot(horiz, vert, i + 1)\\n  plt.imshow(segmentation[i+nold], cmap=\"gray\")\\n  #plt.title(i)\\n  plt.axis(\"off\")\\n  \\nnold = nold + n\\n'"
            ],
            "application/vnd.google.colaboratory.intrinsic+json": {
              "type": "string"
            }
          },
          "metadata": {},
          "execution_count": 27
        }
      ]
    },
    {
      "cell_type": "code",
      "source": [
        "'''\n",
        "# 5th step\n",
        "plt.figure(figsize=(30, 5))\n",
        "horiz = 5\n",
        "# nold = 0 \n",
        "n = horiz*vert\n",
        "\n",
        "for i in range(n): \n",
        "  ax = plt.subplot(horiz, vert, i + 1)\n",
        "  plt.imshow(segmentation[i+nold], cmap=\"gray\")\n",
        "  #plt.title(i)\n",
        "  plt.axis(\"off\")\n",
        "  \n",
        "nold = nold + n\n",
        "'''"
      ],
      "metadata": {
        "id": "3seavpfGyZ0Y",
        "colab": {
          "base_uri": "https://localhost:8080/",
          "height": 55
        },
        "outputId": "b44268b6-0ea6-4f67-d114-cde45655b924"
      },
      "execution_count": null,
      "outputs": [
        {
          "output_type": "execute_result",
          "data": {
            "text/plain": [
              "'\\n# 5th step\\nplt.figure(figsize=(30, 5))\\nhoriz = 5\\n# nold = 0 \\nn = horiz*vert\\n\\nfor i in range(n): \\n  ax = plt.subplot(horiz, vert, i + 1)\\n  plt.imshow(segmentation[i+nold], cmap=\"gray\")\\n  #plt.title(i)\\n  plt.axis(\"off\")\\n  \\nnold = nold + n\\n'"
            ],
            "application/vnd.google.colaboratory.intrinsic+json": {
              "type": "string"
            }
          },
          "metadata": {},
          "execution_count": 28
        }
      ]
    },
    {
      "cell_type": "code",
      "source": [
        "'''\n",
        "# 6th step\n",
        "plt.figure(figsize=(30, 5))\n",
        "horiz = 5\n",
        "# nold = 0 \n",
        "n = horiz*vert\n",
        "\n",
        "for i in range(n): \n",
        "  ax = plt.subplot(horiz, vert, i + 1)\n",
        "  plt.imshow(segmentation[i+nold], cmap=\"gray\")\n",
        "  #plt.title(i)\n",
        "  plt.axis(\"off\")\n",
        "  \n",
        "nold = nold + n\n",
        "'''"
      ],
      "metadata": {
        "id": "suMoINHZyhiP",
        "colab": {
          "base_uri": "https://localhost:8080/",
          "height": 55
        },
        "outputId": "54133ae8-e38f-4de5-f4a2-efc3d1c94431"
      },
      "execution_count": null,
      "outputs": [
        {
          "output_type": "execute_result",
          "data": {
            "text/plain": [
              "'\\n# 6th step\\nplt.figure(figsize=(30, 5))\\nhoriz = 5\\n# nold = 0 \\nn = horiz*vert\\n\\nfor i in range(n): \\n  ax = plt.subplot(horiz, vert, i + 1)\\n  plt.imshow(segmentation[i+nold], cmap=\"gray\")\\n  #plt.title(i)\\n  plt.axis(\"off\")\\n  \\nnold = nold + n\\n'"
            ],
            "application/vnd.google.colaboratory.intrinsic+json": {
              "type": "string"
            }
          },
          "metadata": {},
          "execution_count": 29
        }
      ]
    },
    {
      "cell_type": "code",
      "source": [
        "'''\n",
        "# 7th step\n",
        "plt.figure(figsize=(30, 5))\n",
        "horiz = 5 +1 # the last missing row (add one to get it)\n",
        "# nold = 0 \n",
        "n = horiz*vert\n",
        "\n",
        "for i in range(n): \n",
        "  ax = plt.subplot(horiz, vert, i + 1)\n",
        "  plt.imshow(segmentation[i+nold], cmap=\"gray\")\n",
        "  #plt.title(i)\n",
        "  plt.axis(\"off\")\n",
        "  \n",
        "nold = nold + n\n",
        "'''"
      ],
      "metadata": {
        "id": "PUTFUOfuynxP",
        "colab": {
          "base_uri": "https://localhost:8080/",
          "height": 55
        },
        "outputId": "17fdfdf9-92ec-41aa-a505-4234c19e697e"
      },
      "execution_count": null,
      "outputs": [
        {
          "output_type": "execute_result",
          "data": {
            "text/plain": [
              "'\\n# 7th step\\nplt.figure(figsize=(30, 5))\\nhoriz = 5 +1 # the last missing row (add one to get it)\\n# nold = 0 \\nn = horiz*vert\\n\\nfor i in range(n): \\n  ax = plt.subplot(horiz, vert, i + 1)\\n  plt.imshow(segmentation[i+nold], cmap=\"gray\")\\n  #plt.title(i)\\n  plt.axis(\"off\")\\n  \\nnold = nold + n\\n'"
            ],
            "application/vnd.google.colaboratory.intrinsic+json": {
              "type": "string"
            }
          },
          "metadata": {},
          "execution_count": 30
        }
      ]
    },
    {
      "cell_type": "code",
      "source": [
        "# Last six rows of image\n",
        "for i in range(6):\n",
        "  number = [37]; classes =[0]; y=result2y(y,number,classes)\n",
        "print('num y',len(y))"
      ],
      "metadata": {
        "id": "Dt930sApB4xU",
        "colab": {
          "base_uri": "https://localhost:8080/"
        },
        "outputId": "1b945461-22b1-4771-9da8-d8b06a39e3c1"
      },
      "execution_count": null,
      "outputs": [
        {
          "output_type": "stream",
          "name": "stdout",
          "text": [
            "num y 777\n"
          ]
        }
      ]
    },
    {
      "cell_type": "code",
      "source": [
        "len(y)/37"
      ],
      "metadata": {
        "id": "jEDNy403DcwR",
        "colab": {
          "base_uri": "https://localhost:8080/"
        },
        "outputId": "73b4679c-1539-4699-89b5-7807379f884c"
      },
      "execution_count": null,
      "outputs": [
        {
          "output_type": "execute_result",
          "data": {
            "text/plain": [
              "21.0"
            ]
          },
          "metadata": {},
          "execution_count": 32
        }
      ]
    },
    {
      "cell_type": "code",
      "source": [
        "\n",
        "names = []\n",
        "for yi in y:\n",
        "  if(yi==0):\n",
        "    names.append('outside')\n",
        "  elif(yi==1):\n",
        "    names.append('frame')\n",
        "  elif(yi==2):\n",
        "    names.append('grain')\n",
        "  else:\n",
        "    names.append('stone')"
      ],
      "metadata": {
        "id": "Z5cwpTPcsh5L"
      },
      "execution_count": null,
      "outputs": []
    },
    {
      "cell_type": "code",
      "source": [
        "k = 0\n",
        "cont_out = 0\n",
        "fator = 9\n",
        "Ind =[]\n",
        "for ni in names:\n",
        "  if (ni=='outside'):\n",
        "    cont_out += 1\n",
        "    if(cont_out % fator == 0):\n",
        "      Ind.append(k)\n",
        "  if(ni != 'outside'):\n",
        "    Ind.append(k)\n",
        "\n",
        "  k += 1"
      ],
      "metadata": {
        "id": "SvHW7uITJYKO"
      },
      "execution_count": null,
      "outputs": []
    },
    {
      "cell_type": "code",
      "source": [
        "y_filter =[]\n",
        "names_filter =[]\n",
        "for i in Ind:\n",
        "  y_filter.append(y[i])\n",
        "  names_filter.append(names[i])"
      ],
      "metadata": {
        "id": "6_QkBQ6BLJs5"
      },
      "execution_count": null,
      "outputs": []
    },
    {
      "cell_type": "code",
      "source": [
        "df = pd.DataFrame({'name':names_filter,'class':y_filter})\n",
        "y_dummy_filter = pd.get_dummies(df['class'])\n",
        "y_dummy_filter"
      ],
      "metadata": {
        "colab": {
          "base_uri": "https://localhost:8080/",
          "height": 424
        },
        "id": "WroDfCUGtsbD",
        "outputId": "1ce764fd-aa6b-4c6f-a1de-524cddec8c6f"
      },
      "execution_count": null,
      "outputs": [
        {
          "output_type": "execute_result",
          "data": {
            "text/plain": [
              "     0  1  2  3\n",
              "0    1  0  0  0\n",
              "1    1  0  0  0\n",
              "2    1  0  0  0\n",
              "3    1  0  0  0\n",
              "4    1  0  0  0\n",
              "..  .. .. .. ..\n",
              "263  1  0  0  0\n",
              "264  1  0  0  0\n",
              "265  1  0  0  0\n",
              "266  1  0  0  0\n",
              "267  1  0  0  0\n",
              "\n",
              "[268 rows x 4 columns]"
            ],
            "text/html": [
              "\n",
              "  <div id=\"df-8a48073b-133b-40f0-947b-87c4884841f9\">\n",
              "    <div class=\"colab-df-container\">\n",
              "      <div>\n",
              "<style scoped>\n",
              "    .dataframe tbody tr th:only-of-type {\n",
              "        vertical-align: middle;\n",
              "    }\n",
              "\n",
              "    .dataframe tbody tr th {\n",
              "        vertical-align: top;\n",
              "    }\n",
              "\n",
              "    .dataframe thead th {\n",
              "        text-align: right;\n",
              "    }\n",
              "</style>\n",
              "<table border=\"1\" class=\"dataframe\">\n",
              "  <thead>\n",
              "    <tr style=\"text-align: right;\">\n",
              "      <th></th>\n",
              "      <th>0</th>\n",
              "      <th>1</th>\n",
              "      <th>2</th>\n",
              "      <th>3</th>\n",
              "    </tr>\n",
              "  </thead>\n",
              "  <tbody>\n",
              "    <tr>\n",
              "      <th>0</th>\n",
              "      <td>1</td>\n",
              "      <td>0</td>\n",
              "      <td>0</td>\n",
              "      <td>0</td>\n",
              "    </tr>\n",
              "    <tr>\n",
              "      <th>1</th>\n",
              "      <td>1</td>\n",
              "      <td>0</td>\n",
              "      <td>0</td>\n",
              "      <td>0</td>\n",
              "    </tr>\n",
              "    <tr>\n",
              "      <th>2</th>\n",
              "      <td>1</td>\n",
              "      <td>0</td>\n",
              "      <td>0</td>\n",
              "      <td>0</td>\n",
              "    </tr>\n",
              "    <tr>\n",
              "      <th>3</th>\n",
              "      <td>1</td>\n",
              "      <td>0</td>\n",
              "      <td>0</td>\n",
              "      <td>0</td>\n",
              "    </tr>\n",
              "    <tr>\n",
              "      <th>4</th>\n",
              "      <td>1</td>\n",
              "      <td>0</td>\n",
              "      <td>0</td>\n",
              "      <td>0</td>\n",
              "    </tr>\n",
              "    <tr>\n",
              "      <th>...</th>\n",
              "      <td>...</td>\n",
              "      <td>...</td>\n",
              "      <td>...</td>\n",
              "      <td>...</td>\n",
              "    </tr>\n",
              "    <tr>\n",
              "      <th>263</th>\n",
              "      <td>1</td>\n",
              "      <td>0</td>\n",
              "      <td>0</td>\n",
              "      <td>0</td>\n",
              "    </tr>\n",
              "    <tr>\n",
              "      <th>264</th>\n",
              "      <td>1</td>\n",
              "      <td>0</td>\n",
              "      <td>0</td>\n",
              "      <td>0</td>\n",
              "    </tr>\n",
              "    <tr>\n",
              "      <th>265</th>\n",
              "      <td>1</td>\n",
              "      <td>0</td>\n",
              "      <td>0</td>\n",
              "      <td>0</td>\n",
              "    </tr>\n",
              "    <tr>\n",
              "      <th>266</th>\n",
              "      <td>1</td>\n",
              "      <td>0</td>\n",
              "      <td>0</td>\n",
              "      <td>0</td>\n",
              "    </tr>\n",
              "    <tr>\n",
              "      <th>267</th>\n",
              "      <td>1</td>\n",
              "      <td>0</td>\n",
              "      <td>0</td>\n",
              "      <td>0</td>\n",
              "    </tr>\n",
              "  </tbody>\n",
              "</table>\n",
              "<p>268 rows × 4 columns</p>\n",
              "</div>\n",
              "      <button class=\"colab-df-convert\" onclick=\"convertToInteractive('df-8a48073b-133b-40f0-947b-87c4884841f9')\"\n",
              "              title=\"Convert this dataframe to an interactive table.\"\n",
              "              style=\"display:none;\">\n",
              "        \n",
              "  <svg xmlns=\"http://www.w3.org/2000/svg\" height=\"24px\"viewBox=\"0 0 24 24\"\n",
              "       width=\"24px\">\n",
              "    <path d=\"M0 0h24v24H0V0z\" fill=\"none\"/>\n",
              "    <path d=\"M18.56 5.44l.94 2.06.94-2.06 2.06-.94-2.06-.94-.94-2.06-.94 2.06-2.06.94zm-11 1L8.5 8.5l.94-2.06 2.06-.94-2.06-.94L8.5 2.5l-.94 2.06-2.06.94zm10 10l.94 2.06.94-2.06 2.06-.94-2.06-.94-.94-2.06-.94 2.06-2.06.94z\"/><path d=\"M17.41 7.96l-1.37-1.37c-.4-.4-.92-.59-1.43-.59-.52 0-1.04.2-1.43.59L10.3 9.45l-7.72 7.72c-.78.78-.78 2.05 0 2.83L4 21.41c.39.39.9.59 1.41.59.51 0 1.02-.2 1.41-.59l7.78-7.78 2.81-2.81c.8-.78.8-2.07 0-2.86zM5.41 20L4 18.59l7.72-7.72 1.47 1.35L5.41 20z\"/>\n",
              "  </svg>\n",
              "      </button>\n",
              "      \n",
              "  <style>\n",
              "    .colab-df-container {\n",
              "      display:flex;\n",
              "      flex-wrap:wrap;\n",
              "      gap: 12px;\n",
              "    }\n",
              "\n",
              "    .colab-df-convert {\n",
              "      background-color: #E8F0FE;\n",
              "      border: none;\n",
              "      border-radius: 50%;\n",
              "      cursor: pointer;\n",
              "      display: none;\n",
              "      fill: #1967D2;\n",
              "      height: 32px;\n",
              "      padding: 0 0 0 0;\n",
              "      width: 32px;\n",
              "    }\n",
              "\n",
              "    .colab-df-convert:hover {\n",
              "      background-color: #E2EBFA;\n",
              "      box-shadow: 0px 1px 2px rgba(60, 64, 67, 0.3), 0px 1px 3px 1px rgba(60, 64, 67, 0.15);\n",
              "      fill: #174EA6;\n",
              "    }\n",
              "\n",
              "    [theme=dark] .colab-df-convert {\n",
              "      background-color: #3B4455;\n",
              "      fill: #D2E3FC;\n",
              "    }\n",
              "\n",
              "    [theme=dark] .colab-df-convert:hover {\n",
              "      background-color: #434B5C;\n",
              "      box-shadow: 0px 1px 3px 1px rgba(0, 0, 0, 0.15);\n",
              "      filter: drop-shadow(0px 1px 2px rgba(0, 0, 0, 0.3));\n",
              "      fill: #FFFFFF;\n",
              "    }\n",
              "  </style>\n",
              "\n",
              "      <script>\n",
              "        const buttonEl =\n",
              "          document.querySelector('#df-8a48073b-133b-40f0-947b-87c4884841f9 button.colab-df-convert');\n",
              "        buttonEl.style.display =\n",
              "          google.colab.kernel.accessAllowed ? 'block' : 'none';\n",
              "\n",
              "        async function convertToInteractive(key) {\n",
              "          const element = document.querySelector('#df-8a48073b-133b-40f0-947b-87c4884841f9');\n",
              "          const dataTable =\n",
              "            await google.colab.kernel.invokeFunction('convertToInteractive',\n",
              "                                                     [key], {});\n",
              "          if (!dataTable) return;\n",
              "\n",
              "          const docLinkHtml = 'Like what you see? Visit the ' +\n",
              "            '<a target=\"_blank\" href=https://colab.research.google.com/notebooks/data_table.ipynb>data table notebook</a>'\n",
              "            + ' to learn more about interactive tables.';\n",
              "          element.innerHTML = '';\n",
              "          dataTable['output_type'] = 'display_data';\n",
              "          await google.colab.output.renderOutput(dataTable, element);\n",
              "          const docLink = document.createElement('div');\n",
              "          docLink.innerHTML = docLinkHtml;\n",
              "          element.appendChild(docLink);\n",
              "        }\n",
              "      </script>\n",
              "    </div>\n",
              "  </div>\n",
              "  "
            ]
          },
          "metadata": {},
          "execution_count": 36
        }
      ]
    },
    {
      "cell_type": "code",
      "source": [
        "types = ['outside', 'frame', 'grain', 'stone']\n",
        "for i in range(4): \n",
        "  n= df[(df[\"class\"] == i)].shape[0]\n",
        "  print(types[i],n)"
      ],
      "metadata": {
        "colab": {
          "base_uri": "https://localhost:8080/"
        },
        "id": "5QeVYKbCuasz",
        "outputId": "3870f637-e81b-4868-9a53-58d769b6afdf"
      },
      "execution_count": null,
      "outputs": [
        {
          "output_type": "stream",
          "name": "stdout",
          "text": [
            "outside 63\n",
            "frame 51\n",
            "grain 73\n",
            "stone 81\n"
          ]
        }
      ]
    },
    {
      "cell_type": "code",
      "source": [
        "n = len(y_filter)\n",
        "n"
      ],
      "metadata": {
        "colab": {
          "base_uri": "https://localhost:8080/"
        },
        "id": "1FxlQh2XOFSt",
        "outputId": "cea20b17-84f2-4ae6-b6bd-79eca9723370"
      },
      "execution_count": null,
      "outputs": [
        {
          "output_type": "execute_result",
          "data": {
            "text/plain": [
              "268"
            ]
          },
          "metadata": {},
          "execution_count": 38
        }
      ]
    },
    {
      "cell_type": "code",
      "source": [
        "import tensorflow as tf\n",
        "from tensorflow.keras.applications.resnet50 import ResNet50\n",
        "model = ResNet50(weights='imagenet')"
      ],
      "metadata": {
        "id": "j4sibmJBvoVb"
      },
      "execution_count": null,
      "outputs": []
    },
    {
      "cell_type": "code",
      "source": [
        "\n",
        "fake = []\n",
        "for i in Ind:\n",
        "  fake.append(segmentation[i])\n"
      ],
      "metadata": {
        "id": "AMessF0ew2Ly"
      },
      "execution_count": null,
      "outputs": []
    },
    {
      "cell_type": "code",
      "source": [
        "n =len(y)\n",
        "data = np.empty((n, 224, 224,3))"
      ],
      "metadata": {
        "id": "e5FRPz-S1xMJ"
      },
      "execution_count": null,
      "outputs": []
    },
    {
      "cell_type": "code",
      "source": [
        "def expand_greyscale_image_channels(grey_pil_image):\n",
        "    grey_image_arr = np.array(grey_pil_image)\n",
        "    grey_image_arr = np.expand_dims(grey_image_arr, -1)\n",
        "    grey_image_arr_3_channel = grey_image_arr.repeat(3, axis=-1)\n",
        "    return grey_image_arr_3_channel\n",
        "\n",
        "X = expand_greyscale_image_channels(fake)"
      ],
      "metadata": {
        "id": "VID5r--f4gzA"
      },
      "execution_count": null,
      "outputs": []
    },
    {
      "cell_type": "code",
      "source": [
        "from keras.applications.mobilenet_v2 import preprocess_input\n",
        "from skimage.transform import resize\n",
        "i = 0\n",
        "for im in X:\n",
        "    im = preprocess_input(im)\n",
        "    im = resize(im, output_shape=(224, 224))\n",
        "    data[i] = im\n",
        "    i += 1"
      ],
      "metadata": {
        "id": "7kC9abJpwQ8s"
      },
      "execution_count": null,
      "outputs": []
    },
    {
      "cell_type": "code",
      "source": [
        "from keras.applications.mobilenet_v2 import decode_predictions\n",
        "\n",
        "predictions = model.predict(data)\n",
        "k = 0\n",
        "for decoded_prediction in decode_predictions(predictions, top=1):\n",
        "  \n",
        "  for name, desc, score in decoded_prediction:\n",
        "      if(k % 50 ==0):\n",
        "        print('- {} ({:.2f}%) {}'.format(desc, 100 * score,names[k]))\n",
        "  k = k +1"
      ],
      "metadata": {
        "colab": {
          "base_uri": "https://localhost:8080/"
        },
        "id": "hvCO4HDS2fCo",
        "outputId": "22c2510e-cea8-49e0-be58-b0837df0c284"
      },
      "execution_count": null,
      "outputs": [
        {
          "output_type": "stream",
          "name": "stdout",
          "text": [
            "25/25 [==============================] - 6s 99ms/step\n",
            "- nematode (15.04%) outside\n",
            "- nematode (14.28%) outside\n",
            "- nematode (14.83%) outside\n",
            "- nematode (14.03%) outside\n",
            "- nematode (14.99%) frame\n",
            "- nematode (13.06%) outside\n",
            "- nematode (14.91%) outside\n",
            "- nematode (14.91%) stone\n",
            "- nematode (14.91%) outside\n",
            "- nematode (14.91%) outside\n",
            "- nematode (14.91%) stone\n",
            "- nematode (14.91%) outside\n",
            "- nematode (14.91%) outside\n",
            "- nematode (14.91%) outside\n",
            "- nematode (14.91%) outside\n",
            "- nematode (14.91%) outside\n"
          ]
        }
      ]
    },
    {
      "cell_type": "code",
      "source": [
        "DATASET_SIZE = len(y_filter)\n",
        "Ind = range(DATASET_SIZE)\n",
        "Ind_train, Ind_test= train_test_split(Ind,test_size=0.10,stratify=y_filter, shuffle=True, random_state=3)"
      ],
      "metadata": {
        "id": "77etFBvoCchd"
      },
      "execution_count": null,
      "outputs": []
    },
    {
      "cell_type": "code",
      "source": [
        "X_train=data[Ind_train,:]\n",
        "X_test = data[Ind_test,:]\n",
        "y_train=y_dummy_filter.iloc[Ind_train,:]\n",
        "y_test = y_dummy_filter.iloc[Ind_test,:]"
      ],
      "metadata": {
        "id": "WnNsFQRnDyM7"
      },
      "execution_count": null,
      "outputs": []
    },
    {
      "cell_type": "code",
      "source": [
        "# Let's take a look to see how many layers are in the base model\n",
        "print(\"Number of layers in the base model: \", len(model.layers))\n",
        "\n",
        "# Fine-tune from this layer onwards\n",
        "fine_tune_at = 176\n",
        "\n",
        "# Freeze all the layers before the `fine_tune_at` layer\n",
        "# check https://www.tensorflow.org/tutorials/images/transfer_learning\n",
        "for layer in model.layers[:fine_tune_at]:\n",
        "  layer.trainable = False"
      ],
      "metadata": {
        "colab": {
          "base_uri": "https://localhost:8080/"
        },
        "id": "lWqUxGmvBg5l",
        "outputId": "38d8ac99-dcd7-44ac-9103-ed1fe178f9d1"
      },
      "execution_count": null,
      "outputs": [
        {
          "output_type": "stream",
          "name": "stdout",
          "text": [
            "Number of layers in the base model:  177\n"
          ]
        }
      ]
    },
    {
      "cell_type": "code",
      "source": [
        "#from tensorflow.keras.models import Sequential\n",
        "from tensorflow.keras.models import Model\n",
        "from tensorflow.keras.layers import Dense #, Activation, Conv2D, MaxPooling2D, Flatten, Dropout, BatchNormalization"
      ],
      "metadata": {
        "id": "zxJT0zu3Eozl"
      },
      "execution_count": null,
      "outputs": []
    },
    {
      "cell_type": "code",
      "source": [
        "D =len(types)\n",
        "model_output = Dense(D, activation= 'softmax') #'relu')\n",
        "model_output = model_output(model.layers[-2].output)\n",
        "model_input = model.input\n",
        "model_new = Model(inputs=model_input, outputs=model_output)"
      ],
      "metadata": {
        "id": "YqU34u__Bku0"
      },
      "execution_count": null,
      "outputs": []
    },
    {
      "cell_type": "code",
      "source": [
        "model_new.compile(\n",
        "    optimizer='adam',\n",
        "    loss='categorical_crossentropy',\n",
        "    metrics=['accuracy']\n",
        ")"
      ],
      "metadata": {
        "id": "qV5bh2dQBpB0"
      },
      "execution_count": null,
      "outputs": []
    },
    {
      "cell_type": "code",
      "source": [
        "r = model_new.fit(\n",
        "    x=X_train,\n",
        "    y=y_train,\n",
        "    validation_data=(X_test, y_test),\n",
        "    epochs=200,\n",
        "    verbose=2\n",
        ")"
      ],
      "metadata": {
        "colab": {
          "base_uri": "https://localhost:8080/"
        },
        "id": "HHsOVqMXB9c9",
        "outputId": "a6feae1a-39a9-4fd4-f239-c52347917603"
      },
      "execution_count": null,
      "outputs": [
        {
          "output_type": "stream",
          "name": "stdout",
          "text": [
            "Epoch 1/200\n",
            "8/8 - 6s - loss: 1.4925 - accuracy: 0.3278 - val_loss: 1.3557 - val_accuracy: 0.2963 - 6s/epoch - 743ms/step\n",
            "Epoch 2/200\n",
            "8/8 - 1s - loss: 1.3939 - accuracy: 0.2697 - val_loss: 1.3226 - val_accuracy: 0.3704 - 810ms/epoch - 101ms/step\n",
            "Epoch 3/200\n",
            "8/8 - 1s - loss: 1.3356 - accuracy: 0.3610 - val_loss: 1.3151 - val_accuracy: 0.2963 - 810ms/epoch - 101ms/step\n",
            "Epoch 4/200\n",
            "8/8 - 1s - loss: 1.3387 - accuracy: 0.3154 - val_loss: 1.2870 - val_accuracy: 0.4444 - 874ms/epoch - 109ms/step\n",
            "Epoch 5/200\n",
            "8/8 - 1s - loss: 1.3273 - accuracy: 0.3817 - val_loss: 1.2720 - val_accuracy: 0.4815 - 803ms/epoch - 100ms/step\n",
            "Epoch 6/200\n",
            "8/8 - 1s - loss: 1.3103 - accuracy: 0.4191 - val_loss: 1.2660 - val_accuracy: 0.4444 - 801ms/epoch - 100ms/step\n",
            "Epoch 7/200\n",
            "8/8 - 1s - loss: 1.3128 - accuracy: 0.4481 - val_loss: 1.2495 - val_accuracy: 0.4444 - 810ms/epoch - 101ms/step\n",
            "Epoch 8/200\n",
            "8/8 - 1s - loss: 1.2990 - accuracy: 0.3568 - val_loss: 1.2429 - val_accuracy: 0.4444 - 808ms/epoch - 101ms/step\n",
            "Epoch 9/200\n",
            "8/8 - 1s - loss: 1.2918 - accuracy: 0.4274 - val_loss: 1.2368 - val_accuracy: 0.5556 - 813ms/epoch - 102ms/step\n",
            "Epoch 10/200\n",
            "8/8 - 1s - loss: 1.2885 - accuracy: 0.4772 - val_loss: 1.2239 - val_accuracy: 0.4444 - 814ms/epoch - 102ms/step\n",
            "Epoch 11/200\n",
            "8/8 - 1s - loss: 1.2858 - accuracy: 0.3734 - val_loss: 1.2165 - val_accuracy: 0.4444 - 812ms/epoch - 102ms/step\n",
            "Epoch 12/200\n",
            "8/8 - 1s - loss: 1.2755 - accuracy: 0.5145 - val_loss: 1.2127 - val_accuracy: 0.5926 - 805ms/epoch - 101ms/step\n",
            "Epoch 13/200\n",
            "8/8 - 1s - loss: 1.2700 - accuracy: 0.4855 - val_loss: 1.2035 - val_accuracy: 0.4815 - 870ms/epoch - 109ms/step\n",
            "Epoch 14/200\n",
            "8/8 - 1s - loss: 1.2771 - accuracy: 0.4066 - val_loss: 1.1983 - val_accuracy: 0.4444 - 808ms/epoch - 101ms/step\n",
            "Epoch 15/200\n",
            "8/8 - 1s - loss: 1.2666 - accuracy: 0.4606 - val_loss: 1.1991 - val_accuracy: 0.5926 - 816ms/epoch - 102ms/step\n",
            "Epoch 16/200\n",
            "8/8 - 1s - loss: 1.2584 - accuracy: 0.4979 - val_loss: 1.1907 - val_accuracy: 0.4444 - 817ms/epoch - 102ms/step\n",
            "Epoch 17/200\n",
            "8/8 - 1s - loss: 1.2571 - accuracy: 0.4730 - val_loss: 1.1818 - val_accuracy: 0.4815 - 808ms/epoch - 101ms/step\n",
            "Epoch 18/200\n",
            "8/8 - 1s - loss: 1.2514 - accuracy: 0.4896 - val_loss: 1.1763 - val_accuracy: 0.5185 - 818ms/epoch - 102ms/step\n",
            "Epoch 19/200\n",
            "8/8 - 1s - loss: 1.2583 - accuracy: 0.4066 - val_loss: 1.1759 - val_accuracy: 0.4444 - 884ms/epoch - 110ms/step\n",
            "Epoch 20/200\n",
            "8/8 - 1s - loss: 1.2402 - accuracy: 0.5104 - val_loss: 1.1757 - val_accuracy: 0.5556 - 808ms/epoch - 101ms/step\n",
            "Epoch 21/200\n",
            "8/8 - 1s - loss: 1.2464 - accuracy: 0.4772 - val_loss: 1.1632 - val_accuracy: 0.5556 - 806ms/epoch - 101ms/step\n",
            "Epoch 22/200\n",
            "8/8 - 1s - loss: 1.2439 - accuracy: 0.4398 - val_loss: 1.1675 - val_accuracy: 0.4815 - 808ms/epoch - 101ms/step\n",
            "Epoch 23/200\n",
            "8/8 - 1s - loss: 1.2380 - accuracy: 0.4896 - val_loss: 1.1576 - val_accuracy: 0.5926 - 871ms/epoch - 109ms/step\n",
            "Epoch 24/200\n",
            "8/8 - 1s - loss: 1.2294 - accuracy: 0.5436 - val_loss: 1.1555 - val_accuracy: 0.5185 - 808ms/epoch - 101ms/step\n",
            "Epoch 25/200\n",
            "8/8 - 1s - loss: 1.2453 - accuracy: 0.4149 - val_loss: 1.1529 - val_accuracy: 0.5556 - 813ms/epoch - 102ms/step\n",
            "Epoch 26/200\n",
            "8/8 - 1s - loss: 1.2318 - accuracy: 0.4855 - val_loss: 1.1504 - val_accuracy: 0.5556 - 815ms/epoch - 102ms/step\n",
            "Epoch 27/200\n",
            "8/8 - 1s - loss: 1.2302 - accuracy: 0.4896 - val_loss: 1.1447 - val_accuracy: 0.5926 - 810ms/epoch - 101ms/step\n",
            "Epoch 28/200\n",
            "8/8 - 1s - loss: 1.2192 - accuracy: 0.4979 - val_loss: 1.1410 - val_accuracy: 0.4815 - 816ms/epoch - 102ms/step\n",
            "Epoch 29/200\n",
            "8/8 - 1s - loss: 1.2166 - accuracy: 0.5062 - val_loss: 1.1378 - val_accuracy: 0.5926 - 809ms/epoch - 101ms/step\n",
            "Epoch 30/200\n",
            "8/8 - 1s - loss: 1.2141 - accuracy: 0.5062 - val_loss: 1.1341 - val_accuracy: 0.5185 - 815ms/epoch - 102ms/step\n",
            "Epoch 31/200\n",
            "8/8 - 1s - loss: 1.2109 - accuracy: 0.4938 - val_loss: 1.1331 - val_accuracy: 0.5185 - 810ms/epoch - 101ms/step\n",
            "Epoch 32/200\n",
            "8/8 - 1s - loss: 1.2072 - accuracy: 0.5104 - val_loss: 1.1341 - val_accuracy: 0.5556 - 815ms/epoch - 102ms/step\n",
            "Epoch 33/200\n",
            "8/8 - 1s - loss: 1.2113 - accuracy: 0.4979 - val_loss: 1.1285 - val_accuracy: 0.5185 - 815ms/epoch - 102ms/step\n",
            "Epoch 34/200\n",
            "8/8 - 1s - loss: 1.2055 - accuracy: 0.5519 - val_loss: 1.1242 - val_accuracy: 0.5556 - 812ms/epoch - 101ms/step\n",
            "Epoch 35/200\n",
            "8/8 - 1s - loss: 1.2110 - accuracy: 0.5394 - val_loss: 1.1248 - val_accuracy: 0.5926 - 867ms/epoch - 108ms/step\n",
            "Epoch 36/200\n",
            "8/8 - 1s - loss: 1.1959 - accuracy: 0.5519 - val_loss: 1.1286 - val_accuracy: 0.5926 - 814ms/epoch - 102ms/step\n",
            "Epoch 37/200\n",
            "8/8 - 1s - loss: 1.2012 - accuracy: 0.5685 - val_loss: 1.1200 - val_accuracy: 0.5556 - 811ms/epoch - 101ms/step\n",
            "Epoch 38/200\n",
            "8/8 - 1s - loss: 1.2030 - accuracy: 0.5602 - val_loss: 1.1205 - val_accuracy: 0.5185 - 821ms/epoch - 103ms/step\n",
            "Epoch 39/200\n",
            "8/8 - 1s - loss: 1.1984 - accuracy: 0.5021 - val_loss: 1.1168 - val_accuracy: 0.5556 - 876ms/epoch - 109ms/step\n",
            "Epoch 40/200\n",
            "8/8 - 1s - loss: 1.1920 - accuracy: 0.5228 - val_loss: 1.1180 - val_accuracy: 0.5556 - 825ms/epoch - 103ms/step\n",
            "Epoch 41/200\n",
            "8/8 - 1s - loss: 1.1956 - accuracy: 0.5477 - val_loss: 1.1143 - val_accuracy: 0.5556 - 818ms/epoch - 102ms/step\n",
            "Epoch 42/200\n",
            "8/8 - 1s - loss: 1.1940 - accuracy: 0.5809 - val_loss: 1.1170 - val_accuracy: 0.5556 - 820ms/epoch - 102ms/step\n",
            "Epoch 43/200\n",
            "8/8 - 1s - loss: 1.1878 - accuracy: 0.5477 - val_loss: 1.1120 - val_accuracy: 0.5556 - 819ms/epoch - 102ms/step\n",
            "Epoch 44/200\n",
            "8/8 - 1s - loss: 1.1857 - accuracy: 0.5353 - val_loss: 1.1087 - val_accuracy: 0.5926 - 880ms/epoch - 110ms/step\n",
            "Epoch 45/200\n",
            "8/8 - 1s - loss: 1.2001 - accuracy: 0.4730 - val_loss: 1.1104 - val_accuracy: 0.5556 - 831ms/epoch - 104ms/step\n",
            "Epoch 46/200\n",
            "8/8 - 1s - loss: 1.1829 - accuracy: 0.5270 - val_loss: 1.1122 - val_accuracy: 0.5185 - 850ms/epoch - 106ms/step\n",
            "Epoch 47/200\n",
            "8/8 - 1s - loss: 1.1765 - accuracy: 0.4938 - val_loss: 1.1038 - val_accuracy: 0.5556 - 855ms/epoch - 107ms/step\n",
            "Epoch 48/200\n",
            "8/8 - 1s - loss: 1.1824 - accuracy: 0.5145 - val_loss: 1.1102 - val_accuracy: 0.5185 - 888ms/epoch - 111ms/step\n",
            "Epoch 49/200\n",
            "8/8 - 1s - loss: 1.1882 - accuracy: 0.5560 - val_loss: 1.1026 - val_accuracy: 0.5556 - 828ms/epoch - 103ms/step\n",
            "Epoch 50/200\n",
            "8/8 - 1s - loss: 1.1833 - accuracy: 0.5270 - val_loss: 1.1070 - val_accuracy: 0.5556 - 828ms/epoch - 103ms/step\n",
            "Epoch 51/200\n",
            "8/8 - 1s - loss: 1.1773 - accuracy: 0.5934 - val_loss: 1.1027 - val_accuracy: 0.5556 - 833ms/epoch - 104ms/step\n",
            "Epoch 52/200\n",
            "8/8 - 1s - loss: 1.1675 - accuracy: 0.5145 - val_loss: 1.0983 - val_accuracy: 0.5926 - 835ms/epoch - 104ms/step\n",
            "Epoch 53/200\n",
            "8/8 - 1s - loss: 1.1668 - accuracy: 0.5685 - val_loss: 1.0964 - val_accuracy: 0.5185 - 832ms/epoch - 104ms/step\n",
            "Epoch 54/200\n",
            "8/8 - 1s - loss: 1.1619 - accuracy: 0.5726 - val_loss: 1.0940 - val_accuracy: 0.5556 - 823ms/epoch - 103ms/step\n",
            "Epoch 55/200\n",
            "8/8 - 1s - loss: 1.1601 - accuracy: 0.5270 - val_loss: 1.0941 - val_accuracy: 0.5926 - 829ms/epoch - 104ms/step\n",
            "Epoch 56/200\n",
            "8/8 - 1s - loss: 1.1603 - accuracy: 0.5768 - val_loss: 1.0941 - val_accuracy: 0.5926 - 888ms/epoch - 111ms/step\n",
            "Epoch 57/200\n",
            "8/8 - 1s - loss: 1.1586 - accuracy: 0.5353 - val_loss: 1.0931 - val_accuracy: 0.5926 - 828ms/epoch - 104ms/step\n",
            "Epoch 58/200\n",
            "8/8 - 1s - loss: 1.1877 - accuracy: 0.4149 - val_loss: 1.0910 - val_accuracy: 0.5556 - 834ms/epoch - 104ms/step\n",
            "Epoch 59/200\n",
            "8/8 - 1s - loss: 1.1598 - accuracy: 0.5394 - val_loss: 1.0975 - val_accuracy: 0.6296 - 833ms/epoch - 104ms/step\n",
            "Epoch 60/200\n",
            "8/8 - 1s - loss: 1.1657 - accuracy: 0.5104 - val_loss: 1.0910 - val_accuracy: 0.5556 - 885ms/epoch - 111ms/step\n",
            "Epoch 61/200\n",
            "8/8 - 1s - loss: 1.1568 - accuracy: 0.5851 - val_loss: 1.0927 - val_accuracy: 0.5556 - 825ms/epoch - 103ms/step\n",
            "Epoch 62/200\n",
            "8/8 - 1s - loss: 1.1571 - accuracy: 0.5809 - val_loss: 1.0873 - val_accuracy: 0.5556 - 827ms/epoch - 103ms/step\n",
            "Epoch 63/200\n",
            "8/8 - 1s - loss: 1.1500 - accuracy: 0.5353 - val_loss: 1.0901 - val_accuracy: 0.6296 - 839ms/epoch - 105ms/step\n",
            "Epoch 64/200\n",
            "8/8 - 1s - loss: 1.1528 - accuracy: 0.5602 - val_loss: 1.0855 - val_accuracy: 0.5556 - 877ms/epoch - 110ms/step\n",
            "Epoch 65/200\n",
            "8/8 - 1s - loss: 1.1509 - accuracy: 0.5560 - val_loss: 1.0866 - val_accuracy: 0.5926 - 882ms/epoch - 110ms/step\n",
            "Epoch 66/200\n",
            "8/8 - 1s - loss: 1.1472 - accuracy: 0.5353 - val_loss: 1.0864 - val_accuracy: 0.5556 - 896ms/epoch - 112ms/step\n",
            "Epoch 67/200\n",
            "8/8 - 1s - loss: 1.1405 - accuracy: 0.5228 - val_loss: 1.0869 - val_accuracy: 0.5926 - 827ms/epoch - 103ms/step\n",
            "Epoch 68/200\n",
            "8/8 - 1s - loss: 1.1448 - accuracy: 0.6017 - val_loss: 1.0867 - val_accuracy: 0.5185 - 826ms/epoch - 103ms/step\n",
            "Epoch 69/200\n",
            "8/8 - 1s - loss: 1.1363 - accuracy: 0.5643 - val_loss: 1.0829 - val_accuracy: 0.5556 - 822ms/epoch - 103ms/step\n",
            "Epoch 70/200\n",
            "8/8 - 1s - loss: 1.1515 - accuracy: 0.5228 - val_loss: 1.0833 - val_accuracy: 0.5926 - 827ms/epoch - 103ms/step\n",
            "Epoch 71/200\n",
            "8/8 - 1s - loss: 1.1402 - accuracy: 0.5477 - val_loss: 1.0957 - val_accuracy: 0.6296 - 825ms/epoch - 103ms/step\n",
            "Epoch 72/200\n",
            "8/8 - 1s - loss: 1.1413 - accuracy: 0.5643 - val_loss: 1.0850 - val_accuracy: 0.5185 - 824ms/epoch - 103ms/step\n",
            "Epoch 73/200\n",
            "8/8 - 1s - loss: 1.1369 - accuracy: 0.5602 - val_loss: 1.0818 - val_accuracy: 0.5556 - 826ms/epoch - 103ms/step\n",
            "Epoch 74/200\n",
            "8/8 - 1s - loss: 1.1350 - accuracy: 0.5519 - val_loss: 1.0849 - val_accuracy: 0.6296 - 827ms/epoch - 103ms/step\n",
            "Epoch 75/200\n",
            "8/8 - 1s - loss: 1.1306 - accuracy: 0.5768 - val_loss: 1.0783 - val_accuracy: 0.5556 - 826ms/epoch - 103ms/step\n",
            "Epoch 76/200\n",
            "8/8 - 1s - loss: 1.1293 - accuracy: 0.5436 - val_loss: 1.0783 - val_accuracy: 0.5926 - 884ms/epoch - 110ms/step\n",
            "Epoch 77/200\n",
            "8/8 - 1s - loss: 1.1259 - accuracy: 0.5934 - val_loss: 1.0799 - val_accuracy: 0.5185 - 822ms/epoch - 103ms/step\n",
            "Epoch 78/200\n",
            "8/8 - 1s - loss: 1.1250 - accuracy: 0.5768 - val_loss: 1.0770 - val_accuracy: 0.5556 - 821ms/epoch - 103ms/step\n",
            "Epoch 79/200\n",
            "8/8 - 1s - loss: 1.1287 - accuracy: 0.5353 - val_loss: 1.0784 - val_accuracy: 0.5556 - 823ms/epoch - 103ms/step\n",
            "Epoch 80/200\n",
            "8/8 - 1s - loss: 1.1242 - accuracy: 0.5768 - val_loss: 1.0797 - val_accuracy: 0.5185 - 825ms/epoch - 103ms/step\n",
            "Epoch 81/200\n",
            "8/8 - 1s - loss: 1.1244 - accuracy: 0.5726 - val_loss: 1.0774 - val_accuracy: 0.5926 - 824ms/epoch - 103ms/step\n",
            "Epoch 82/200\n",
            "8/8 - 1s - loss: 1.1179 - accuracy: 0.5394 - val_loss: 1.0755 - val_accuracy: 0.5556 - 823ms/epoch - 103ms/step\n",
            "Epoch 83/200\n",
            "8/8 - 1s - loss: 1.1235 - accuracy: 0.5560 - val_loss: 1.0798 - val_accuracy: 0.5926 - 827ms/epoch - 103ms/step\n",
            "Epoch 84/200\n",
            "8/8 - 1s - loss: 1.1343 - accuracy: 0.5685 - val_loss: 1.0827 - val_accuracy: 0.5185 - 887ms/epoch - 111ms/step\n",
            "Epoch 85/200\n",
            "8/8 - 1s - loss: 1.1177 - accuracy: 0.5560 - val_loss: 1.0803 - val_accuracy: 0.5185 - 831ms/epoch - 104ms/step\n",
            "Epoch 86/200\n",
            "8/8 - 1s - loss: 1.1137 - accuracy: 0.5519 - val_loss: 1.0754 - val_accuracy: 0.5556 - 824ms/epoch - 103ms/step\n",
            "Epoch 87/200\n",
            "8/8 - 1s - loss: 1.1197 - accuracy: 0.5519 - val_loss: 1.0773 - val_accuracy: 0.5556 - 829ms/epoch - 104ms/step\n",
            "Epoch 88/200\n",
            "8/8 - 1s - loss: 1.1140 - accuracy: 0.6100 - val_loss: 1.0828 - val_accuracy: 0.6296 - 828ms/epoch - 103ms/step\n",
            "Epoch 89/200\n",
            "8/8 - 1s - loss: 1.1115 - accuracy: 0.5851 - val_loss: 1.0742 - val_accuracy: 0.5556 - 833ms/epoch - 104ms/step\n",
            "Epoch 90/200\n",
            "8/8 - 1s - loss: 1.1207 - accuracy: 0.5643 - val_loss: 1.0786 - val_accuracy: 0.5556 - 830ms/epoch - 104ms/step\n",
            "Epoch 91/200\n",
            "8/8 - 1s - loss: 1.1067 - accuracy: 0.5353 - val_loss: 1.0871 - val_accuracy: 0.6296 - 826ms/epoch - 103ms/step\n",
            "Epoch 92/200\n",
            "8/8 - 1s - loss: 1.1173 - accuracy: 0.5768 - val_loss: 1.0761 - val_accuracy: 0.5185 - 886ms/epoch - 111ms/step\n",
            "Epoch 93/200\n",
            "8/8 - 1s - loss: 1.1195 - accuracy: 0.5851 - val_loss: 1.0794 - val_accuracy: 0.5926 - 834ms/epoch - 104ms/step\n",
            "Epoch 94/200\n",
            "8/8 - 1s - loss: 1.1120 - accuracy: 0.5602 - val_loss: 1.0782 - val_accuracy: 0.5556 - 832ms/epoch - 104ms/step\n",
            "Epoch 95/200\n",
            "8/8 - 1s - loss: 1.1056 - accuracy: 0.5602 - val_loss: 1.0785 - val_accuracy: 0.5556 - 831ms/epoch - 104ms/step\n",
            "Epoch 96/200\n",
            "8/8 - 1s - loss: 1.1042 - accuracy: 0.5975 - val_loss: 1.0754 - val_accuracy: 0.5926 - 835ms/epoch - 104ms/step\n",
            "Epoch 97/200\n",
            "8/8 - 1s - loss: 1.1000 - accuracy: 0.5768 - val_loss: 1.0741 - val_accuracy: 0.5926 - 830ms/epoch - 104ms/step\n",
            "Epoch 98/200\n",
            "8/8 - 1s - loss: 1.1040 - accuracy: 0.5436 - val_loss: 1.0723 - val_accuracy: 0.5556 - 835ms/epoch - 104ms/step\n",
            "Epoch 99/200\n",
            "8/8 - 1s - loss: 1.1050 - accuracy: 0.5975 - val_loss: 1.0733 - val_accuracy: 0.5926 - 835ms/epoch - 104ms/step\n",
            "Epoch 100/200\n",
            "8/8 - 1s - loss: 1.0999 - accuracy: 0.5685 - val_loss: 1.0748 - val_accuracy: 0.5556 - 836ms/epoch - 105ms/step\n",
            "Epoch 101/200\n",
            "8/8 - 1s - loss: 1.0989 - accuracy: 0.5394 - val_loss: 1.0733 - val_accuracy: 0.5926 - 837ms/epoch - 105ms/step\n",
            "Epoch 102/200\n",
            "8/8 - 1s - loss: 1.0944 - accuracy: 0.5768 - val_loss: 1.0712 - val_accuracy: 0.5185 - 834ms/epoch - 104ms/step\n",
            "Epoch 103/200\n",
            "8/8 - 1s - loss: 1.0969 - accuracy: 0.5851 - val_loss: 1.0736 - val_accuracy: 0.6296 - 838ms/epoch - 105ms/step\n",
            "Epoch 104/200\n",
            "8/8 - 1s - loss: 1.0934 - accuracy: 0.5602 - val_loss: 1.0696 - val_accuracy: 0.5185 - 839ms/epoch - 105ms/step\n",
            "Epoch 105/200\n",
            "8/8 - 1s - loss: 1.0980 - accuracy: 0.5685 - val_loss: 1.0694 - val_accuracy: 0.5185 - 860ms/epoch - 107ms/step\n",
            "Epoch 106/200\n",
            "8/8 - 1s - loss: 1.0990 - accuracy: 0.5726 - val_loss: 1.0761 - val_accuracy: 0.6296 - 872ms/epoch - 109ms/step\n",
            "Epoch 107/200\n",
            "8/8 - 1s - loss: 1.0998 - accuracy: 0.5436 - val_loss: 1.0738 - val_accuracy: 0.5185 - 852ms/epoch - 107ms/step\n",
            "Epoch 108/200\n",
            "8/8 - 1s - loss: 1.0989 - accuracy: 0.5934 - val_loss: 1.0745 - val_accuracy: 0.5556 - 840ms/epoch - 105ms/step\n",
            "Epoch 109/200\n",
            "8/8 - 1s - loss: 1.0965 - accuracy: 0.5602 - val_loss: 1.0709 - val_accuracy: 0.5185 - 844ms/epoch - 106ms/step\n",
            "Epoch 110/200\n",
            "8/8 - 1s - loss: 1.0869 - accuracy: 0.5975 - val_loss: 1.0750 - val_accuracy: 0.5556 - 906ms/epoch - 113ms/step\n",
            "Epoch 111/200\n",
            "8/8 - 1s - loss: 1.0886 - accuracy: 0.5726 - val_loss: 1.0714 - val_accuracy: 0.5556 - 841ms/epoch - 105ms/step\n",
            "Epoch 112/200\n",
            "8/8 - 1s - loss: 1.0805 - accuracy: 0.5934 - val_loss: 1.0715 - val_accuracy: 0.5556 - 901ms/epoch - 113ms/step\n",
            "Epoch 113/200\n",
            "8/8 - 1s - loss: 1.0867 - accuracy: 0.5643 - val_loss: 1.0683 - val_accuracy: 0.5185 - 897ms/epoch - 112ms/step\n",
            "Epoch 114/200\n",
            "8/8 - 1s - loss: 1.0817 - accuracy: 0.5685 - val_loss: 1.0693 - val_accuracy: 0.5556 - 900ms/epoch - 113ms/step\n",
            "Epoch 115/200\n",
            "8/8 - 1s - loss: 1.0935 - accuracy: 0.5851 - val_loss: 1.0731 - val_accuracy: 0.5926 - 840ms/epoch - 105ms/step\n",
            "Epoch 116/200\n",
            "8/8 - 1s - loss: 1.0791 - accuracy: 0.5892 - val_loss: 1.0728 - val_accuracy: 0.5556 - 896ms/epoch - 112ms/step\n",
            "Epoch 117/200\n",
            "8/8 - 1s - loss: 1.0752 - accuracy: 0.5643 - val_loss: 1.0677 - val_accuracy: 0.5556 - 846ms/epoch - 106ms/step\n",
            "Epoch 118/200\n",
            "8/8 - 1s - loss: 1.0972 - accuracy: 0.5809 - val_loss: 1.0773 - val_accuracy: 0.5556 - 840ms/epoch - 105ms/step\n",
            "Epoch 119/200\n",
            "8/8 - 1s - loss: 1.0727 - accuracy: 0.5975 - val_loss: 1.0738 - val_accuracy: 0.5185 - 835ms/epoch - 104ms/step\n",
            "Epoch 120/200\n",
            "8/8 - 1s - loss: 1.0803 - accuracy: 0.5436 - val_loss: 1.0680 - val_accuracy: 0.5185 - 838ms/epoch - 105ms/step\n",
            "Epoch 121/200\n",
            "8/8 - 1s - loss: 1.0764 - accuracy: 0.5643 - val_loss: 1.0692 - val_accuracy: 0.5926 - 895ms/epoch - 112ms/step\n",
            "Epoch 122/200\n",
            "8/8 - 1s - loss: 1.0749 - accuracy: 0.5892 - val_loss: 1.0690 - val_accuracy: 0.5926 - 837ms/epoch - 105ms/step\n",
            "Epoch 123/200\n",
            "8/8 - 1s - loss: 1.0729 - accuracy: 0.5643 - val_loss: 1.0689 - val_accuracy: 0.5556 - 842ms/epoch - 105ms/step\n",
            "Epoch 124/200\n",
            "8/8 - 1s - loss: 1.0703 - accuracy: 0.5768 - val_loss: 1.0672 - val_accuracy: 0.5185 - 915ms/epoch - 114ms/step\n",
            "Epoch 125/200\n",
            "8/8 - 1s - loss: 1.0786 - accuracy: 0.5436 - val_loss: 1.0734 - val_accuracy: 0.5926 - 860ms/epoch - 108ms/step\n",
            "Epoch 126/200\n",
            "8/8 - 1s - loss: 1.0686 - accuracy: 0.5809 - val_loss: 1.0728 - val_accuracy: 0.4815 - 849ms/epoch - 106ms/step\n",
            "Epoch 127/200\n",
            "8/8 - 1s - loss: 1.0708 - accuracy: 0.6017 - val_loss: 1.0687 - val_accuracy: 0.5926 - 891ms/epoch - 111ms/step\n",
            "Epoch 128/200\n",
            "8/8 - 1s - loss: 1.0730 - accuracy: 0.5809 - val_loss: 1.0730 - val_accuracy: 0.5556 - 835ms/epoch - 104ms/step\n",
            "Epoch 129/200\n",
            "8/8 - 1s - loss: 1.0611 - accuracy: 0.5643 - val_loss: 1.0719 - val_accuracy: 0.5556 - 895ms/epoch - 112ms/step\n",
            "Epoch 130/200\n",
            "8/8 - 1s - loss: 1.0748 - accuracy: 0.5975 - val_loss: 1.0690 - val_accuracy: 0.5556 - 832ms/epoch - 104ms/step\n",
            "Epoch 131/200\n",
            "8/8 - 1s - loss: 1.0708 - accuracy: 0.5602 - val_loss: 1.0721 - val_accuracy: 0.5556 - 837ms/epoch - 105ms/step\n",
            "Epoch 132/200\n",
            "8/8 - 1s - loss: 1.0783 - accuracy: 0.5851 - val_loss: 1.0711 - val_accuracy: 0.4815 - 892ms/epoch - 112ms/step\n",
            "Epoch 133/200\n",
            "8/8 - 1s - loss: 1.0771 - accuracy: 0.5643 - val_loss: 1.0928 - val_accuracy: 0.5926 - 835ms/epoch - 104ms/step\n",
            "Epoch 134/200\n",
            "8/8 - 1s - loss: 1.0691 - accuracy: 0.5311 - val_loss: 1.0698 - val_accuracy: 0.5556 - 838ms/epoch - 105ms/step\n",
            "Epoch 135/200\n",
            "8/8 - 1s - loss: 1.0616 - accuracy: 0.5892 - val_loss: 1.0696 - val_accuracy: 0.5926 - 832ms/epoch - 104ms/step\n",
            "Epoch 136/200\n",
            "8/8 - 1s - loss: 1.0567 - accuracy: 0.6058 - val_loss: 1.0717 - val_accuracy: 0.5926 - 830ms/epoch - 104ms/step\n",
            "Epoch 137/200\n",
            "8/8 - 1s - loss: 1.0594 - accuracy: 0.5851 - val_loss: 1.0686 - val_accuracy: 0.5556 - 895ms/epoch - 112ms/step\n",
            "Epoch 138/200\n",
            "8/8 - 1s - loss: 1.0583 - accuracy: 0.5975 - val_loss: 1.0686 - val_accuracy: 0.5185 - 833ms/epoch - 104ms/step\n",
            "Epoch 139/200\n",
            "8/8 - 1s - loss: 1.0568 - accuracy: 0.5768 - val_loss: 1.0738 - val_accuracy: 0.5926 - 833ms/epoch - 104ms/step\n",
            "Epoch 140/200\n",
            "8/8 - 1s - loss: 1.0573 - accuracy: 0.5768 - val_loss: 1.0772 - val_accuracy: 0.6296 - 839ms/epoch - 105ms/step\n",
            "Epoch 141/200\n",
            "8/8 - 1s - loss: 1.0681 - accuracy: 0.6432 - val_loss: 1.0751 - val_accuracy: 0.5185 - 838ms/epoch - 105ms/step\n",
            "Epoch 142/200\n",
            "8/8 - 1s - loss: 1.0488 - accuracy: 0.5685 - val_loss: 1.0777 - val_accuracy: 0.5185 - 830ms/epoch - 104ms/step\n",
            "Epoch 143/200\n",
            "8/8 - 1s - loss: 1.0623 - accuracy: 0.5394 - val_loss: 1.0678 - val_accuracy: 0.5185 - 841ms/epoch - 105ms/step\n",
            "Epoch 144/200\n",
            "8/8 - 1s - loss: 1.0599 - accuracy: 0.6100 - val_loss: 1.0792 - val_accuracy: 0.5926 - 835ms/epoch - 104ms/step\n",
            "Epoch 145/200\n",
            "8/8 - 1s - loss: 1.0563 - accuracy: 0.6266 - val_loss: 1.0681 - val_accuracy: 0.5185 - 837ms/epoch - 105ms/step\n",
            "Epoch 146/200\n",
            "8/8 - 1s - loss: 1.0521 - accuracy: 0.5726 - val_loss: 1.0728 - val_accuracy: 0.5926 - 895ms/epoch - 112ms/step\n",
            "Epoch 147/200\n",
            "8/8 - 1s - loss: 1.0506 - accuracy: 0.5892 - val_loss: 1.0752 - val_accuracy: 0.5556 - 837ms/epoch - 105ms/step\n",
            "Epoch 148/200\n",
            "8/8 - 1s - loss: 1.0479 - accuracy: 0.5809 - val_loss: 1.0689 - val_accuracy: 0.5185 - 835ms/epoch - 104ms/step\n",
            "Epoch 149/200\n",
            "8/8 - 1s - loss: 1.0514 - accuracy: 0.5851 - val_loss: 1.0719 - val_accuracy: 0.5926 - 838ms/epoch - 105ms/step\n",
            "Epoch 150/200\n",
            "8/8 - 1s - loss: 1.0438 - accuracy: 0.6183 - val_loss: 1.0694 - val_accuracy: 0.4815 - 832ms/epoch - 104ms/step\n",
            "Epoch 151/200\n",
            "8/8 - 1s - loss: 1.0495 - accuracy: 0.6141 - val_loss: 1.0708 - val_accuracy: 0.5926 - 842ms/epoch - 105ms/step\n",
            "Epoch 152/200\n",
            "8/8 - 1s - loss: 1.0479 - accuracy: 0.6058 - val_loss: 1.0712 - val_accuracy: 0.5926 - 834ms/epoch - 104ms/step\n",
            "Epoch 153/200\n",
            "8/8 - 1s - loss: 1.0485 - accuracy: 0.5560 - val_loss: 1.0745 - val_accuracy: 0.5185 - 840ms/epoch - 105ms/step\n",
            "Epoch 154/200\n",
            "8/8 - 1s - loss: 1.0448 - accuracy: 0.5685 - val_loss: 1.0730 - val_accuracy: 0.5926 - 839ms/epoch - 105ms/step\n",
            "Epoch 155/200\n",
            "8/8 - 1s - loss: 1.0493 - accuracy: 0.6058 - val_loss: 1.0685 - val_accuracy: 0.5185 - 845ms/epoch - 106ms/step\n",
            "Epoch 156/200\n",
            "8/8 - 1s - loss: 1.0477 - accuracy: 0.5726 - val_loss: 1.0776 - val_accuracy: 0.5926 - 840ms/epoch - 105ms/step\n",
            "Epoch 157/200\n",
            "8/8 - 1s - loss: 1.0361 - accuracy: 0.6017 - val_loss: 1.0714 - val_accuracy: 0.4815 - 838ms/epoch - 105ms/step\n",
            "Epoch 158/200\n",
            "8/8 - 1s - loss: 1.0401 - accuracy: 0.6100 - val_loss: 1.0711 - val_accuracy: 0.5556 - 837ms/epoch - 105ms/step\n",
            "Epoch 159/200\n",
            "8/8 - 1s - loss: 1.0412 - accuracy: 0.6017 - val_loss: 1.0691 - val_accuracy: 0.5185 - 841ms/epoch - 105ms/step\n",
            "Epoch 160/200\n",
            "8/8 - 1s - loss: 1.0378 - accuracy: 0.6141 - val_loss: 1.0703 - val_accuracy: 0.4815 - 838ms/epoch - 105ms/step\n",
            "Epoch 161/200\n",
            "8/8 - 1s - loss: 1.0529 - accuracy: 0.6058 - val_loss: 1.0795 - val_accuracy: 0.6296 - 902ms/epoch - 113ms/step\n",
            "Epoch 162/200\n",
            "8/8 - 1s - loss: 1.0596 - accuracy: 0.5643 - val_loss: 1.0861 - val_accuracy: 0.6296 - 842ms/epoch - 105ms/step\n",
            "Epoch 163/200\n",
            "8/8 - 1s - loss: 1.0497 - accuracy: 0.6141 - val_loss: 1.0779 - val_accuracy: 0.5185 - 840ms/epoch - 105ms/step\n",
            "Epoch 164/200\n",
            "8/8 - 1s - loss: 1.0451 - accuracy: 0.5892 - val_loss: 1.0959 - val_accuracy: 0.6296 - 840ms/epoch - 105ms/step\n",
            "Epoch 165/200\n",
            "8/8 - 1s - loss: 1.0372 - accuracy: 0.5851 - val_loss: 1.0703 - val_accuracy: 0.5185 - 837ms/epoch - 105ms/step\n",
            "Epoch 166/200\n",
            "8/8 - 1s - loss: 1.0377 - accuracy: 0.5975 - val_loss: 1.0685 - val_accuracy: 0.5185 - 836ms/epoch - 104ms/step\n",
            "Epoch 167/200\n",
            "8/8 - 1s - loss: 1.0313 - accuracy: 0.6017 - val_loss: 1.0819 - val_accuracy: 0.6296 - 856ms/epoch - 107ms/step\n",
            "Epoch 168/200\n",
            "8/8 - 1s - loss: 1.0288 - accuracy: 0.6141 - val_loss: 1.0710 - val_accuracy: 0.5926 - 865ms/epoch - 108ms/step\n",
            "Epoch 169/200\n",
            "8/8 - 1s - loss: 1.0357 - accuracy: 0.6058 - val_loss: 1.0681 - val_accuracy: 0.5185 - 913ms/epoch - 114ms/step\n",
            "Epoch 170/200\n",
            "8/8 - 1s - loss: 1.0345 - accuracy: 0.5851 - val_loss: 1.0754 - val_accuracy: 0.6296 - 894ms/epoch - 112ms/step\n",
            "Epoch 171/200\n",
            "8/8 - 1s - loss: 1.0267 - accuracy: 0.6100 - val_loss: 1.0694 - val_accuracy: 0.4815 - 846ms/epoch - 106ms/step\n",
            "Epoch 172/200\n",
            "8/8 - 1s - loss: 1.0260 - accuracy: 0.5851 - val_loss: 1.0731 - val_accuracy: 0.6296 - 900ms/epoch - 113ms/step\n",
            "Epoch 173/200\n",
            "8/8 - 1s - loss: 1.0284 - accuracy: 0.5851 - val_loss: 1.0750 - val_accuracy: 0.5926 - 835ms/epoch - 104ms/step\n",
            "Epoch 174/200\n",
            "8/8 - 1s - loss: 1.0353 - accuracy: 0.6390 - val_loss: 1.0744 - val_accuracy: 0.5185 - 837ms/epoch - 105ms/step\n",
            "Epoch 175/200\n",
            "8/8 - 1s - loss: 1.0318 - accuracy: 0.5809 - val_loss: 1.0784 - val_accuracy: 0.5926 - 896ms/epoch - 112ms/step\n",
            "Epoch 176/200\n",
            "8/8 - 1s - loss: 1.0253 - accuracy: 0.5768 - val_loss: 1.0710 - val_accuracy: 0.5185 - 838ms/epoch - 105ms/step\n",
            "Epoch 177/200\n",
            "8/8 - 1s - loss: 1.0303 - accuracy: 0.6224 - val_loss: 1.0725 - val_accuracy: 0.5556 - 834ms/epoch - 104ms/step\n",
            "Epoch 178/200\n",
            "8/8 - 1s - loss: 1.0240 - accuracy: 0.5934 - val_loss: 1.0752 - val_accuracy: 0.5926 - 841ms/epoch - 105ms/step\n",
            "Epoch 179/200\n",
            "8/8 - 1s - loss: 1.0291 - accuracy: 0.5892 - val_loss: 1.0717 - val_accuracy: 0.5185 - 903ms/epoch - 113ms/step\n",
            "Epoch 180/200\n",
            "8/8 - 1s - loss: 1.0283 - accuracy: 0.6017 - val_loss: 1.0798 - val_accuracy: 0.5926 - 842ms/epoch - 105ms/step\n",
            "Epoch 181/200\n",
            "8/8 - 1s - loss: 1.0209 - accuracy: 0.6141 - val_loss: 1.0753 - val_accuracy: 0.5185 - 845ms/epoch - 106ms/step\n",
            "Epoch 182/200\n",
            "8/8 - 1s - loss: 1.0321 - accuracy: 0.6390 - val_loss: 1.0716 - val_accuracy: 0.5185 - 839ms/epoch - 105ms/step\n",
            "Epoch 183/200\n",
            "8/8 - 1s - loss: 1.0217 - accuracy: 0.5768 - val_loss: 1.0814 - val_accuracy: 0.5926 - 838ms/epoch - 105ms/step\n",
            "Epoch 184/200\n",
            "8/8 - 1s - loss: 1.0232 - accuracy: 0.6058 - val_loss: 1.0748 - val_accuracy: 0.4815 - 895ms/epoch - 112ms/step\n",
            "Epoch 185/200\n",
            "8/8 - 1s - loss: 1.0227 - accuracy: 0.6100 - val_loss: 1.0730 - val_accuracy: 0.5556 - 834ms/epoch - 104ms/step\n",
            "Epoch 186/200\n",
            "8/8 - 1s - loss: 1.0128 - accuracy: 0.6017 - val_loss: 1.0735 - val_accuracy: 0.5556 - 844ms/epoch - 105ms/step\n",
            "Epoch 187/200\n",
            "8/8 - 1s - loss: 1.0141 - accuracy: 0.6266 - val_loss: 1.0711 - val_accuracy: 0.5185 - 840ms/epoch - 105ms/step\n",
            "Epoch 188/200\n",
            "8/8 - 1s - loss: 1.0186 - accuracy: 0.5892 - val_loss: 1.0729 - val_accuracy: 0.5556 - 840ms/epoch - 105ms/step\n",
            "Epoch 189/200\n",
            "8/8 - 1s - loss: 1.0099 - accuracy: 0.6058 - val_loss: 1.0736 - val_accuracy: 0.5556 - 834ms/epoch - 104ms/step\n",
            "Epoch 190/200\n",
            "8/8 - 1s - loss: 1.0134 - accuracy: 0.6100 - val_loss: 1.0761 - val_accuracy: 0.5556 - 838ms/epoch - 105ms/step\n",
            "Epoch 191/200\n",
            "8/8 - 1s - loss: 1.0108 - accuracy: 0.6058 - val_loss: 1.0716 - val_accuracy: 0.5185 - 840ms/epoch - 105ms/step\n",
            "Epoch 192/200\n",
            "8/8 - 1s - loss: 1.0073 - accuracy: 0.6100 - val_loss: 1.0772 - val_accuracy: 0.6296 - 836ms/epoch - 105ms/step\n",
            "Epoch 193/200\n",
            "8/8 - 1s - loss: 1.0101 - accuracy: 0.5685 - val_loss: 1.0739 - val_accuracy: 0.5185 - 901ms/epoch - 113ms/step\n",
            "Epoch 194/200\n",
            "8/8 - 1s - loss: 1.0108 - accuracy: 0.6183 - val_loss: 1.0759 - val_accuracy: 0.5926 - 900ms/epoch - 112ms/step\n",
            "Epoch 195/200\n",
            "8/8 - 1s - loss: 1.0100 - accuracy: 0.6183 - val_loss: 1.0752 - val_accuracy: 0.5556 - 838ms/epoch - 105ms/step\n",
            "Epoch 196/200\n",
            "8/8 - 1s - loss: 1.0095 - accuracy: 0.6017 - val_loss: 1.0726 - val_accuracy: 0.5185 - 840ms/epoch - 105ms/step\n",
            "Epoch 197/200\n",
            "8/8 - 1s - loss: 1.0057 - accuracy: 0.6349 - val_loss: 1.0767 - val_accuracy: 0.6296 - 840ms/epoch - 105ms/step\n",
            "Epoch 198/200\n",
            "8/8 - 1s - loss: 1.0047 - accuracy: 0.6390 - val_loss: 1.0741 - val_accuracy: 0.5926 - 840ms/epoch - 105ms/step\n",
            "Epoch 199/200\n",
            "8/8 - 1s - loss: 1.0081 - accuracy: 0.6058 - val_loss: 1.0758 - val_accuracy: 0.5185 - 836ms/epoch - 105ms/step\n",
            "Epoch 200/200\n",
            "8/8 - 1s - loss: 1.0015 - accuracy: 0.6141 - val_loss: 1.0763 - val_accuracy: 0.6296 - 833ms/epoch - 104ms/step\n"
          ]
        }
      ]
    },
    {
      "cell_type": "code",
      "source": [
        "def retorna(y):\n",
        "  resp = []\n",
        "  for yi in y:\n",
        "    vmax =max(yi)\n",
        "    for idx, x in enumerate(yi):\n",
        "      if(x == vmax):\n",
        "        resp.append(idx)\n",
        "  return resp"
      ],
      "metadata": {
        "id": "sGsxwyVOCA8M"
      },
      "execution_count": null,
      "outputs": []
    },
    {
      "cell_type": "code",
      "source": [
        "test_loss, test_acc = model_new.evaluate(X_test,  y_test, verbose=2)"
      ],
      "metadata": {
        "colab": {
          "base_uri": "https://localhost:8080/"
        },
        "id": "ucyA5_4ACOZl",
        "outputId": "fcca21e2-4645-4290-ba7f-68d7781d1221"
      },
      "execution_count": null,
      "outputs": [
        {
          "output_type": "stream",
          "name": "stdout",
          "text": [
            "1/1 - 0s - loss: 1.0763 - accuracy: 0.6296 - 96ms/epoch - 96ms/step\n"
          ]
        }
      ]
    },
    {
      "cell_type": "code",
      "source": [
        "predict=model_new.predict(X_test)"
      ],
      "metadata": {
        "colab": {
          "base_uri": "https://localhost:8080/"
        },
        "id": "K71Fg5YPE_OE",
        "outputId": "a2ba7ea8-1fbe-4b00-f81c-a51d7f00b847"
      },
      "execution_count": null,
      "outputs": [
        {
          "output_type": "stream",
          "name": "stdout",
          "text": [
            "1/1 [==============================] - 1s 817ms/step\n"
          ]
        }
      ]
    },
    {
      "cell_type": "code",
      "source": [
        "y_calc = retorna(predict)\n",
        "y_test = retorna(np.array(y_test))"
      ],
      "metadata": {
        "id": "ujRx8ayTFCxr"
      },
      "execution_count": null,
      "outputs": []
    },
    {
      "cell_type": "code",
      "source": [
        "confusion_matrix(y_test, y_calc)"
      ],
      "metadata": {
        "colab": {
          "base_uri": "https://localhost:8080/"
        },
        "id": "vuC2nS9GFJDc",
        "outputId": "51bef649-2bc2-4167-fec9-9e632baba896"
      },
      "execution_count": null,
      "outputs": [
        {
          "output_type": "execute_result",
          "data": {
            "text/plain": [
              "array([[5, 0, 0, 1],\n",
              "       [1, 1, 3, 0],\n",
              "       [0, 1, 7, 0],\n",
              "       [2, 0, 2, 4]])"
            ]
          },
          "metadata": {},
          "execution_count": 56
        }
      ]
    },
    {
      "cell_type": "code",
      "source": [
        "# Classification Report\n",
        "print('\\n\\n', classification_report(y_test, y_calc, target_names=types))"
      ],
      "metadata": {
        "colab": {
          "base_uri": "https://localhost:8080/"
        },
        "id": "6nW-ta-MFNNs",
        "outputId": "f1b6e06c-fa63-48aa-c63f-f2fe7544313a"
      },
      "execution_count": null,
      "outputs": [
        {
          "output_type": "stream",
          "name": "stdout",
          "text": [
            "\n",
            "\n",
            "               precision    recall  f1-score   support\n",
            "\n",
            "     outside       0.62      0.83      0.71         6\n",
            "       frame       0.50      0.20      0.29         5\n",
            "       grain       0.58      0.88      0.70         8\n",
            "       stone       0.80      0.50      0.62         8\n",
            "\n",
            "    accuracy                           0.63        27\n",
            "   macro avg       0.63      0.60      0.58        27\n",
            "weighted avg       0.64      0.63      0.60        27\n",
            "\n"
          ]
        }
      ]
    },
    {
      "cell_type": "code",
      "source": [
        "plt.plot(r.history['accuracy'],label='accuracy')\n",
        "plt.plot(r.history['val_accuracy'],label='val_accuracy')\n",
        "plt.legend()"
      ],
      "metadata": {
        "colab": {
          "base_uri": "https://localhost:8080/",
          "height": 282
        },
        "id": "8l2bfbD1FS5T",
        "outputId": "29ad6298-4b97-4330-e481-ad917d041c8b"
      },
      "execution_count": null,
      "outputs": [
        {
          "output_type": "execute_result",
          "data": {
            "text/plain": [
              "<matplotlib.legend.Legend at 0x7f21155dc0d0>"
            ]
          },
          "metadata": {},
          "execution_count": 58
        },
        {
          "output_type": "display_data",
          "data": {
            "text/plain": [
              "<Figure size 432x288 with 1 Axes>"
            ],
            "image/png": "[encoded data removed]"
          },
          "metadata": {
            "needs_background": "light"
          }
        }
      ]
    },
    {
      "cell_type": "code",
      "source": [
        "plt.plot(r.history['loss'],label='loss')\n",
        "plt.plot(r.history['val_loss'],label='val_loss')\n",
        "plt.legend()"
      ],
      "metadata": {
        "colab": {
          "base_uri": "https://localhost:8080/",
          "height": 282
        },
        "id": "JzXII0ifFWZM",
        "outputId": "59a14ab0-fa41-4f1e-bd95-50939c268da8"
      },
      "execution_count": null,
      "outputs": [
        {
          "output_type": "execute_result",
          "data": {
            "text/plain": [
              "<matplotlib.legend.Legend at 0x7f21380fc3d0>"
            ]
          },
          "metadata": {},
          "execution_count": 59
        },
        {
          "output_type": "display_data",
          "data": {
            "text/plain": [
              "<Figure size 432x288 with 1 Axes>"
            ],
            "image/png": "[encoded data removed]"
          },
          "metadata": {
            "needs_background": "light"
          }
        }
      ]
    }
  ],
  "metadata": {
    "kernelspec": {
      "display_name": "Python 3",
      "language": "python",
      "name": "python3"
    },
    "language_info": {
      "codemirror_mode": {
        "name": "ipython",
        "version": 3
      },
      "file_extension": ".py",
      "mimetype": "text/x-python",
      "name": "python",
      "nbconvert_exporter": "python",
      "pygments_lexer": "ipython3",
      "version": "3.6.6"
    },
    "colab": {
      "provenance": [],
      "include_colab_link": true
    },
    "accelerator": "GPU",
    "gpuClass": "standard"
  },
  "nbformat": 4,
  "nbformat_minor": 0
}