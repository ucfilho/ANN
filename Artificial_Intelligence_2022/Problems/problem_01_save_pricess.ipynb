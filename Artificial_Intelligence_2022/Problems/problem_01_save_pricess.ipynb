{
  "nbformat": 4,
  "nbformat_minor": 0,
  "metadata": {
    "colab": {
      "name": "problem_01_save_pricess.ipynb",
      "provenance": [],
      "authorship_tag": "ABX9TyNr560pC8BFb/JYKi9Q8wZu",
      "include_colab_link": true
    },
    "kernelspec": {
      "name": "python3",
      "display_name": "Python 3"
    },
    "language_info": {
      "name": "python"
    }
  },
  "cells": [
    {
      "cell_type": "markdown",
      "metadata": {
        "id": "view-in-github",
        "colab_type": "text"
      },
      "source": [
        "<a href=\"https://colab.research.google.com/github/ucfilho/ANN/blob/master/Artificial_Intelligence_2022/Problems/problem_01_save_pricess.ipynb\" target=\"_parent\"><img src=\"https://colab.research.google.com/assets/colab-badge.svg\" alt=\"Open In Colab\"/></a>"
      ]
    },
    {
      "cell_type": "code",
      "source": [
        "'''\n",
        "Princess Peach is trapped in one of the four corners of a square grid. You are in the center of the \n",
        "grid and can move one step at a time in any of the four directions. Can you rescue the princess?\n",
        "\n",
        "Input format\n",
        "\n",
        "The first line contains an odd integer N (3 <= N < 100) denoting the size of the grid. \n",
        "This is followed by an NxN grid. Each cell is denoted by '-' (ascii value: 45). \n",
        "The bot position is denoted by 'm' and the princess position is denoted by 'p'.\n",
        "\n",
        "Grid is indexed using Matrix Convention\n",
        "\n",
        "Output format\n",
        "\n",
        "Print out the moves you will take to rescue the princess in one go. \n",
        "The moves must be separated by '\\n', a newline. The valid moves are LEFT or RIGHT or UP or DOWN.\n",
        "\n",
        "Sample input\n",
        "\n",
        "3\n",
        "---\n",
        "-m-\n",
        "p--\n",
        "Sample output\n",
        "\n",
        "DOWN\n",
        "LEFT\n",
        "\n",
        "'''"
      ],
      "metadata": {
        "colab": {
          "base_uri": "https://localhost:8080/",
          "height": 140
        },
        "id": "Z3brxHX-bkjs",
        "outputId": "46ab1d79-67aa-4151-ca0f-8f9335ea3c71"
      },
      "execution_count": 1,
      "outputs": [
        {
          "output_type": "execute_result",
          "data": {
            "text/plain": [
              "\"\\nPrincess Peach is trapped in one of the four corners of a square grid. You are in the center of the \\ngrid and can move one step at a time in any of the four directions. Can you rescue the princess?\\n\\nInput format\\n\\nThe first line contains an odd integer N (3 <= N < 100) denoting the size of the grid. \\nThis is followed by an NxN grid. Each cell is denoted by '-' (ascii value: 45). \\nThe bot position is denoted by 'm' and the princess position is denoted by 'p'.\\n\\nGrid is indexed using Matrix Convention\\n\\nOutput format\\n\\nPrint out the moves you will take to rescue the princess in one go. \\nThe moves must be separated by '\\n', a newline. The valid moves are LEFT or RIGHT or UP or DOWN.\\n\\nSample input\\n\\n3\\n---\\n-m-\\np--\\nSample output\\n\\nDOWN\\nLEFT\\n\\n\""
            ],
            "application/vnd.google.colaboratory.intrinsic+json": {
              "type": "string"
            }
          },
          "metadata": {},
          "execution_count": 1
        }
      ]
    },
    {
      "cell_type": "code",
      "execution_count": 2,
      "metadata": {
        "id": "K-TK0n-JPK30"
      },
      "outputs": [],
      "source": [
        "def displayPathToPrincess(n, grid):\n",
        "    #princess = 0\n",
        "    #mario = 0\n",
        "    # find princess and mario\n",
        "    for idx, row in enumerate(grid):\n",
        "        if 'p' in row:\n",
        "            princess = (idx, row.index('p'))\n",
        "        if 'm' in row:\n",
        "            mario = (idx, row.index('m'))\n",
        "\n",
        "  \n",
        "    # negative row difference implies UP\n",
        "    # negative col difference implies LEFT\n",
        "    drows = princess[0] - mario[0]\n",
        "    dcols = princess[1] - mario[1]\n",
        "\n",
        "    return ''.join([\n",
        "        'UP\\n' * abs(drows) if drows < 0 else 'DOWN\\n' * drows,\n",
        "        'LEFT\\n' * abs(dcols) if dcols < 0 else 'RIGHT\\n' * dcols])\n",
        "    \n"
      ]
    },
    {
      "cell_type": "code",
      "source": [
        "# org-babel variable check\n",
        "\n",
        "m = 3\n",
        "\n",
        "\n",
        "grid = ['---p-','-----','-----','m----']\n",
        "print(displayPathToPrincess(m, grid))"
      ],
      "metadata": {
        "colab": {
          "base_uri": "https://localhost:8080/"
        },
        "id": "YFOgu1RBP4-_",
        "outputId": "98913973-cd80-432c-b96b-d89d0945cca7"
      },
      "execution_count": 3,
      "outputs": [
        {
          "output_type": "stream",
          "name": "stdout",
          "text": [
            "UP\n",
            "UP\n",
            "UP\n",
            "RIGHT\n",
            "RIGHT\n",
            "RIGHT\n",
            "\n"
          ]
        }
      ]
    }
  ]
}