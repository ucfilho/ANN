{
  "nbformat": 4,
  "nbformat_minor": 0,
  "metadata": {
    "colab": {
      "name": "Chalange_04_rotate_array.ipynb",
      "provenance": [],
      "authorship_tag": "ABX9TyMjkrjY7iIKhRLBtiDzTm08",
      "include_colab_link": true
    },
    "kernelspec": {
      "name": "python3",
      "display_name": "Python 3"
    },
    "language_info": {
      "name": "python"
    }
  },
  "cells": [
    {
      "cell_type": "markdown",
      "metadata": {
        "id": "view-in-github",
        "colab_type": "text"
      },
      "source": [
        "<a href=\"https://colab.research.google.com/github/ucfilho/ANN/blob/master/Turing/Chalange_04_rotate_array.ipynb\" target=\"_parent\"><img src=\"https://colab.research.google.com/assets/colab-badge.svg\" alt=\"Open In Colab\"/></a>"
      ]
    },
    {
      "cell_type": "markdown",
      "source": [
        "Given an array, rotate the array to the right by k steps, where k is non-negative."
      ],
      "metadata": {
        "id": "aelnHHItPlP-"
      }
    },
    {
      "cell_type": "code",
      "execution_count": 1,
      "metadata": {
        "id": "qXvtKp-0OR3o"
      },
      "outputs": [],
      "source": [
        "# update an array/list in-place\n",
        "def rotate(nums, k):\n",
        "    # loop `k` amount of times\n",
        "    for i in range(k):\n",
        "        # set previous temp variable\n",
        "        # .. to the last item\n",
        "        prev = nums[-1]\n",
        "        # loop through the array/list\n",
        "        for j in range(len(nums)):\n",
        "            # swap the elements\n",
        "            nums[j], prev = prev, nums[j]\n",
        "    return nums"
      ]
    },
    {
      "cell_type": "code",
      "source": [
        "nums = [1,2,3,4,5,6,7]\n",
        "k = 3\n",
        "ans = rotate(nums,k)\n",
        "print(ans)"
      ],
      "metadata": {
        "colab": {
          "base_uri": "https://localhost:8080/"
        },
        "id": "_wzzhwvTOzbh",
        "outputId": "d0301458-9ff2-46a8-a942-c7290f588a8f"
      },
      "execution_count": 2,
      "outputs": [
        {
          "output_type": "stream",
          "name": "stdout",
          "text": [
            "[5, 6, 7, 1, 2, 3, 4]\n"
          ]
        }
      ]
    }
  ]
}